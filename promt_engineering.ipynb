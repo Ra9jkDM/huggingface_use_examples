{
  "nbformat": 4,
  "nbformat_minor": 0,
  "metadata": {
    "colab": {
      "provenance": [],
      "gpuType": "T4"
    },
    "kernelspec": {
      "name": "python3",
      "display_name": "Python 3"
    },
    "language_info": {
      "name": "python"
    },
    "accelerator": "GPU",
    "widgets": {
      "application/vnd.jupyter.widget-state+json": {
        "301bcc8bf223472eba791cdc13f6672a": {
          "model_module": "@jupyter-widgets/controls",
          "model_name": "HBoxModel",
          "model_module_version": "1.5.0",
          "state": {
            "_dom_classes": [],
            "_model_module": "@jupyter-widgets/controls",
            "_model_module_version": "1.5.0",
            "_model_name": "HBoxModel",
            "_view_count": null,
            "_view_module": "@jupyter-widgets/controls",
            "_view_module_version": "1.5.0",
            "_view_name": "HBoxView",
            "box_style": "",
            "children": [
              "IPY_MODEL_fa94673b5f43449cbc66c0725b1eea5a",
              "IPY_MODEL_226f4160c6b948c48f72fd69cbfe4fcc",
              "IPY_MODEL_45df204cc448446fae0efb68537bae8c"
            ],
            "layout": "IPY_MODEL_559b1e59217a4ac09deef80804056318"
          }
        },
        "fa94673b5f43449cbc66c0725b1eea5a": {
          "model_module": "@jupyter-widgets/controls",
          "model_name": "HTMLModel",
          "model_module_version": "1.5.0",
          "state": {
            "_dom_classes": [],
            "_model_module": "@jupyter-widgets/controls",
            "_model_module_version": "1.5.0",
            "_model_name": "HTMLModel",
            "_view_count": null,
            "_view_module": "@jupyter-widgets/controls",
            "_view_module_version": "1.5.0",
            "_view_name": "HTMLView",
            "description": "",
            "description_tooltip": null,
            "layout": "IPY_MODEL_41e0e8a0294a4759b3b85220a4b940e1",
            "placeholder": "​",
            "style": "IPY_MODEL_9e977d0c162b40d1b3e877ed9ba644da",
            "value": "config.json: 100%"
          }
        },
        "226f4160c6b948c48f72fd69cbfe4fcc": {
          "model_module": "@jupyter-widgets/controls",
          "model_name": "FloatProgressModel",
          "model_module_version": "1.5.0",
          "state": {
            "_dom_classes": [],
            "_model_module": "@jupyter-widgets/controls",
            "_model_module_version": "1.5.0",
            "_model_name": "FloatProgressModel",
            "_view_count": null,
            "_view_module": "@jupyter-widgets/controls",
            "_view_module_version": "1.5.0",
            "_view_name": "ProgressView",
            "bar_style": "success",
            "description": "",
            "description_tooltip": null,
            "layout": "IPY_MODEL_bedd2fc03f934afeb7420f549a85ea98",
            "max": 749,
            "min": 0,
            "orientation": "horizontal",
            "style": "IPY_MODEL_0b9830978b1f427ca2e406d4e64b214a",
            "value": 749
          }
        },
        "45df204cc448446fae0efb68537bae8c": {
          "model_module": "@jupyter-widgets/controls",
          "model_name": "HTMLModel",
          "model_module_version": "1.5.0",
          "state": {
            "_dom_classes": [],
            "_model_module": "@jupyter-widgets/controls",
            "_model_module_version": "1.5.0",
            "_model_name": "HTMLModel",
            "_view_count": null,
            "_view_module": "@jupyter-widgets/controls",
            "_view_module_version": "1.5.0",
            "_view_name": "HTMLView",
            "description": "",
            "description_tooltip": null,
            "layout": "IPY_MODEL_200cc2a98d734ca9a4491399d6acf050",
            "placeholder": "​",
            "style": "IPY_MODEL_4a73f3014a59403fad5a38465b2ae0e9",
            "value": " 749/749 [00:00&lt;00:00, 57.2kB/s]"
          }
        },
        "559b1e59217a4ac09deef80804056318": {
          "model_module": "@jupyter-widgets/base",
          "model_name": "LayoutModel",
          "model_module_version": "1.2.0",
          "state": {
            "_model_module": "@jupyter-widgets/base",
            "_model_module_version": "1.2.0",
            "_model_name": "LayoutModel",
            "_view_count": null,
            "_view_module": "@jupyter-widgets/base",
            "_view_module_version": "1.2.0",
            "_view_name": "LayoutView",
            "align_content": null,
            "align_items": null,
            "align_self": null,
            "border": null,
            "bottom": null,
            "display": null,
            "flex": null,
            "flex_flow": null,
            "grid_area": null,
            "grid_auto_columns": null,
            "grid_auto_flow": null,
            "grid_auto_rows": null,
            "grid_column": null,
            "grid_gap": null,
            "grid_row": null,
            "grid_template_areas": null,
            "grid_template_columns": null,
            "grid_template_rows": null,
            "height": null,
            "justify_content": null,
            "justify_items": null,
            "left": null,
            "margin": null,
            "max_height": null,
            "max_width": null,
            "min_height": null,
            "min_width": null,
            "object_fit": null,
            "object_position": null,
            "order": null,
            "overflow": null,
            "overflow_x": null,
            "overflow_y": null,
            "padding": null,
            "right": null,
            "top": null,
            "visibility": null,
            "width": null
          }
        },
        "41e0e8a0294a4759b3b85220a4b940e1": {
          "model_module": "@jupyter-widgets/base",
          "model_name": "LayoutModel",
          "model_module_version": "1.2.0",
          "state": {
            "_model_module": "@jupyter-widgets/base",
            "_model_module_version": "1.2.0",
            "_model_name": "LayoutModel",
            "_view_count": null,
            "_view_module": "@jupyter-widgets/base",
            "_view_module_version": "1.2.0",
            "_view_name": "LayoutView",
            "align_content": null,
            "align_items": null,
            "align_self": null,
            "border": null,
            "bottom": null,
            "display": null,
            "flex": null,
            "flex_flow": null,
            "grid_area": null,
            "grid_auto_columns": null,
            "grid_auto_flow": null,
            "grid_auto_rows": null,
            "grid_column": null,
            "grid_gap": null,
            "grid_row": null,
            "grid_template_areas": null,
            "grid_template_columns": null,
            "grid_template_rows": null,
            "height": null,
            "justify_content": null,
            "justify_items": null,
            "left": null,
            "margin": null,
            "max_height": null,
            "max_width": null,
            "min_height": null,
            "min_width": null,
            "object_fit": null,
            "object_position": null,
            "order": null,
            "overflow": null,
            "overflow_x": null,
            "overflow_y": null,
            "padding": null,
            "right": null,
            "top": null,
            "visibility": null,
            "width": null
          }
        },
        "9e977d0c162b40d1b3e877ed9ba644da": {
          "model_module": "@jupyter-widgets/controls",
          "model_name": "DescriptionStyleModel",
          "model_module_version": "1.5.0",
          "state": {
            "_model_module": "@jupyter-widgets/controls",
            "_model_module_version": "1.5.0",
            "_model_name": "DescriptionStyleModel",
            "_view_count": null,
            "_view_module": "@jupyter-widgets/base",
            "_view_module_version": "1.2.0",
            "_view_name": "StyleView",
            "description_width": ""
          }
        },
        "bedd2fc03f934afeb7420f549a85ea98": {
          "model_module": "@jupyter-widgets/base",
          "model_name": "LayoutModel",
          "model_module_version": "1.2.0",
          "state": {
            "_model_module": "@jupyter-widgets/base",
            "_model_module_version": "1.2.0",
            "_model_name": "LayoutModel",
            "_view_count": null,
            "_view_module": "@jupyter-widgets/base",
            "_view_module_version": "1.2.0",
            "_view_name": "LayoutView",
            "align_content": null,
            "align_items": null,
            "align_self": null,
            "border": null,
            "bottom": null,
            "display": null,
            "flex": null,
            "flex_flow": null,
            "grid_area": null,
            "grid_auto_columns": null,
            "grid_auto_flow": null,
            "grid_auto_rows": null,
            "grid_column": null,
            "grid_gap": null,
            "grid_row": null,
            "grid_template_areas": null,
            "grid_template_columns": null,
            "grid_template_rows": null,
            "height": null,
            "justify_content": null,
            "justify_items": null,
            "left": null,
            "margin": null,
            "max_height": null,
            "max_width": null,
            "min_height": null,
            "min_width": null,
            "object_fit": null,
            "object_position": null,
            "order": null,
            "overflow": null,
            "overflow_x": null,
            "overflow_y": null,
            "padding": null,
            "right": null,
            "top": null,
            "visibility": null,
            "width": null
          }
        },
        "0b9830978b1f427ca2e406d4e64b214a": {
          "model_module": "@jupyter-widgets/controls",
          "model_name": "ProgressStyleModel",
          "model_module_version": "1.5.0",
          "state": {
            "_model_module": "@jupyter-widgets/controls",
            "_model_module_version": "1.5.0",
            "_model_name": "ProgressStyleModel",
            "_view_count": null,
            "_view_module": "@jupyter-widgets/base",
            "_view_module_version": "1.2.0",
            "_view_name": "StyleView",
            "bar_color": null,
            "description_width": ""
          }
        },
        "200cc2a98d734ca9a4491399d6acf050": {
          "model_module": "@jupyter-widgets/base",
          "model_name": "LayoutModel",
          "model_module_version": "1.2.0",
          "state": {
            "_model_module": "@jupyter-widgets/base",
            "_model_module_version": "1.2.0",
            "_model_name": "LayoutModel",
            "_view_count": null,
            "_view_module": "@jupyter-widgets/base",
            "_view_module_version": "1.2.0",
            "_view_name": "LayoutView",
            "align_content": null,
            "align_items": null,
            "align_self": null,
            "border": null,
            "bottom": null,
            "display": null,
            "flex": null,
            "flex_flow": null,
            "grid_area": null,
            "grid_auto_columns": null,
            "grid_auto_flow": null,
            "grid_auto_rows": null,
            "grid_column": null,
            "grid_gap": null,
            "grid_row": null,
            "grid_template_areas": null,
            "grid_template_columns": null,
            "grid_template_rows": null,
            "height": null,
            "justify_content": null,
            "justify_items": null,
            "left": null,
            "margin": null,
            "max_height": null,
            "max_width": null,
            "min_height": null,
            "min_width": null,
            "object_fit": null,
            "object_position": null,
            "order": null,
            "overflow": null,
            "overflow_x": null,
            "overflow_y": null,
            "padding": null,
            "right": null,
            "top": null,
            "visibility": null,
            "width": null
          }
        },
        "4a73f3014a59403fad5a38465b2ae0e9": {
          "model_module": "@jupyter-widgets/controls",
          "model_name": "DescriptionStyleModel",
          "model_module_version": "1.5.0",
          "state": {
            "_model_module": "@jupyter-widgets/controls",
            "_model_module_version": "1.5.0",
            "_model_name": "DescriptionStyleModel",
            "_view_count": null,
            "_view_module": "@jupyter-widgets/base",
            "_view_module_version": "1.2.0",
            "_view_name": "StyleView",
            "description_width": ""
          }
        },
        "ebfd0c9eee7c42488f9548c07b825794": {
          "model_module": "@jupyter-widgets/controls",
          "model_name": "HBoxModel",
          "model_module_version": "1.5.0",
          "state": {
            "_dom_classes": [],
            "_model_module": "@jupyter-widgets/controls",
            "_model_module_version": "1.5.0",
            "_model_name": "HBoxModel",
            "_view_count": null,
            "_view_module": "@jupyter-widgets/controls",
            "_view_module_version": "1.5.0",
            "_view_name": "HBoxView",
            "box_style": "",
            "children": [
              "IPY_MODEL_43bcacccb03a491c845e621b7f612f5b",
              "IPY_MODEL_0975d36ee08c45b7b5dbc3cd53eba28e",
              "IPY_MODEL_06fdfbb8b6944b2f97607db7edf1558d"
            ],
            "layout": "IPY_MODEL_b241674964044d83b160466e7dfd24f2"
          }
        },
        "43bcacccb03a491c845e621b7f612f5b": {
          "model_module": "@jupyter-widgets/controls",
          "model_name": "HTMLModel",
          "model_module_version": "1.5.0",
          "state": {
            "_dom_classes": [],
            "_model_module": "@jupyter-widgets/controls",
            "_model_module_version": "1.5.0",
            "_model_name": "HTMLModel",
            "_view_count": null,
            "_view_module": "@jupyter-widgets/controls",
            "_view_module_version": "1.5.0",
            "_view_name": "HTMLView",
            "description": "",
            "description_tooltip": null,
            "layout": "IPY_MODEL_66eb547e898f4885a1f74e177d003c48",
            "placeholder": "​",
            "style": "IPY_MODEL_09af488192084e3d98e45e2f6dfcb3a6",
            "value": "model.safetensors: 100%"
          }
        },
        "0975d36ee08c45b7b5dbc3cd53eba28e": {
          "model_module": "@jupyter-widgets/controls",
          "model_name": "FloatProgressModel",
          "model_module_version": "1.5.0",
          "state": {
            "_dom_classes": [],
            "_model_module": "@jupyter-widgets/controls",
            "_model_module_version": "1.5.0",
            "_model_name": "FloatProgressModel",
            "_view_count": null,
            "_view_module": "@jupyter-widgets/controls",
            "_view_module_version": "1.5.0",
            "_view_name": "ProgressView",
            "bar_style": "success",
            "description": "",
            "description_tooltip": null,
            "layout": "IPY_MODEL_b585d764ddcf4ab7984d7111fed9e3b5",
            "max": 11761587872,
            "min": 0,
            "orientation": "horizontal",
            "style": "IPY_MODEL_c7022f5a045c4507a05e1b8e29ea5835",
            "value": 11761587872
          }
        },
        "06fdfbb8b6944b2f97607db7edf1558d": {
          "model_module": "@jupyter-widgets/controls",
          "model_name": "HTMLModel",
          "model_module_version": "1.5.0",
          "state": {
            "_dom_classes": [],
            "_model_module": "@jupyter-widgets/controls",
            "_model_module_version": "1.5.0",
            "_model_name": "HTMLModel",
            "_view_count": null,
            "_view_module": "@jupyter-widgets/controls",
            "_view_module_version": "1.5.0",
            "_view_name": "HTMLView",
            "description": "",
            "description_tooltip": null,
            "layout": "IPY_MODEL_648ba8544a0e496c84abde78f044467d",
            "placeholder": "​",
            "style": "IPY_MODEL_b59d16045fa34ca2b0bece8abc54f7ee",
            "value": " 11.8G/11.8G [01:52&lt;00:00, 59.1MB/s]"
          }
        },
        "b241674964044d83b160466e7dfd24f2": {
          "model_module": "@jupyter-widgets/base",
          "model_name": "LayoutModel",
          "model_module_version": "1.2.0",
          "state": {
            "_model_module": "@jupyter-widgets/base",
            "_model_module_version": "1.2.0",
            "_model_name": "LayoutModel",
            "_view_count": null,
            "_view_module": "@jupyter-widgets/base",
            "_view_module_version": "1.2.0",
            "_view_name": "LayoutView",
            "align_content": null,
            "align_items": null,
            "align_self": null,
            "border": null,
            "bottom": null,
            "display": null,
            "flex": null,
            "flex_flow": null,
            "grid_area": null,
            "grid_auto_columns": null,
            "grid_auto_flow": null,
            "grid_auto_rows": null,
            "grid_column": null,
            "grid_gap": null,
            "grid_row": null,
            "grid_template_areas": null,
            "grid_template_columns": null,
            "grid_template_rows": null,
            "height": null,
            "justify_content": null,
            "justify_items": null,
            "left": null,
            "margin": null,
            "max_height": null,
            "max_width": null,
            "min_height": null,
            "min_width": null,
            "object_fit": null,
            "object_position": null,
            "order": null,
            "overflow": null,
            "overflow_x": null,
            "overflow_y": null,
            "padding": null,
            "right": null,
            "top": null,
            "visibility": null,
            "width": null
          }
        },
        "66eb547e898f4885a1f74e177d003c48": {
          "model_module": "@jupyter-widgets/base",
          "model_name": "LayoutModel",
          "model_module_version": "1.2.0",
          "state": {
            "_model_module": "@jupyter-widgets/base",
            "_model_module_version": "1.2.0",
            "_model_name": "LayoutModel",
            "_view_count": null,
            "_view_module": "@jupyter-widgets/base",
            "_view_module_version": "1.2.0",
            "_view_name": "LayoutView",
            "align_content": null,
            "align_items": null,
            "align_self": null,
            "border": null,
            "bottom": null,
            "display": null,
            "flex": null,
            "flex_flow": null,
            "grid_area": null,
            "grid_auto_columns": null,
            "grid_auto_flow": null,
            "grid_auto_rows": null,
            "grid_column": null,
            "grid_gap": null,
            "grid_row": null,
            "grid_template_areas": null,
            "grid_template_columns": null,
            "grid_template_rows": null,
            "height": null,
            "justify_content": null,
            "justify_items": null,
            "left": null,
            "margin": null,
            "max_height": null,
            "max_width": null,
            "min_height": null,
            "min_width": null,
            "object_fit": null,
            "object_position": null,
            "order": null,
            "overflow": null,
            "overflow_x": null,
            "overflow_y": null,
            "padding": null,
            "right": null,
            "top": null,
            "visibility": null,
            "width": null
          }
        },
        "09af488192084e3d98e45e2f6dfcb3a6": {
          "model_module": "@jupyter-widgets/controls",
          "model_name": "DescriptionStyleModel",
          "model_module_version": "1.5.0",
          "state": {
            "_model_module": "@jupyter-widgets/controls",
            "_model_module_version": "1.5.0",
            "_model_name": "DescriptionStyleModel",
            "_view_count": null,
            "_view_module": "@jupyter-widgets/base",
            "_view_module_version": "1.2.0",
            "_view_name": "StyleView",
            "description_width": ""
          }
        },
        "b585d764ddcf4ab7984d7111fed9e3b5": {
          "model_module": "@jupyter-widgets/base",
          "model_name": "LayoutModel",
          "model_module_version": "1.2.0",
          "state": {
            "_model_module": "@jupyter-widgets/base",
            "_model_module_version": "1.2.0",
            "_model_name": "LayoutModel",
            "_view_count": null,
            "_view_module": "@jupyter-widgets/base",
            "_view_module_version": "1.2.0",
            "_view_name": "LayoutView",
            "align_content": null,
            "align_items": null,
            "align_self": null,
            "border": null,
            "bottom": null,
            "display": null,
            "flex": null,
            "flex_flow": null,
            "grid_area": null,
            "grid_auto_columns": null,
            "grid_auto_flow": null,
            "grid_auto_rows": null,
            "grid_column": null,
            "grid_gap": null,
            "grid_row": null,
            "grid_template_areas": null,
            "grid_template_columns": null,
            "grid_template_rows": null,
            "height": null,
            "justify_content": null,
            "justify_items": null,
            "left": null,
            "margin": null,
            "max_height": null,
            "max_width": null,
            "min_height": null,
            "min_width": null,
            "object_fit": null,
            "object_position": null,
            "order": null,
            "overflow": null,
            "overflow_x": null,
            "overflow_y": null,
            "padding": null,
            "right": null,
            "top": null,
            "visibility": null,
            "width": null
          }
        },
        "c7022f5a045c4507a05e1b8e29ea5835": {
          "model_module": "@jupyter-widgets/controls",
          "model_name": "ProgressStyleModel",
          "model_module_version": "1.5.0",
          "state": {
            "_model_module": "@jupyter-widgets/controls",
            "_model_module_version": "1.5.0",
            "_model_name": "ProgressStyleModel",
            "_view_count": null,
            "_view_module": "@jupyter-widgets/base",
            "_view_module_version": "1.2.0",
            "_view_name": "StyleView",
            "bar_color": null,
            "description_width": ""
          }
        },
        "648ba8544a0e496c84abde78f044467d": {
          "model_module": "@jupyter-widgets/base",
          "model_name": "LayoutModel",
          "model_module_version": "1.2.0",
          "state": {
            "_model_module": "@jupyter-widgets/base",
            "_model_module_version": "1.2.0",
            "_model_name": "LayoutModel",
            "_view_count": null,
            "_view_module": "@jupyter-widgets/base",
            "_view_module_version": "1.2.0",
            "_view_name": "LayoutView",
            "align_content": null,
            "align_items": null,
            "align_self": null,
            "border": null,
            "bottom": null,
            "display": null,
            "flex": null,
            "flex_flow": null,
            "grid_area": null,
            "grid_auto_columns": null,
            "grid_auto_flow": null,
            "grid_auto_rows": null,
            "grid_column": null,
            "grid_gap": null,
            "grid_row": null,
            "grid_template_areas": null,
            "grid_template_columns": null,
            "grid_template_rows": null,
            "height": null,
            "justify_content": null,
            "justify_items": null,
            "left": null,
            "margin": null,
            "max_height": null,
            "max_width": null,
            "min_height": null,
            "min_width": null,
            "object_fit": null,
            "object_position": null,
            "order": null,
            "overflow": null,
            "overflow_x": null,
            "overflow_y": null,
            "padding": null,
            "right": null,
            "top": null,
            "visibility": null,
            "width": null
          }
        },
        "b59d16045fa34ca2b0bece8abc54f7ee": {
          "model_module": "@jupyter-widgets/controls",
          "model_name": "DescriptionStyleModel",
          "model_module_version": "1.5.0",
          "state": {
            "_model_module": "@jupyter-widgets/controls",
            "_model_module_version": "1.5.0",
            "_model_name": "DescriptionStyleModel",
            "_view_count": null,
            "_view_module": "@jupyter-widgets/base",
            "_view_module_version": "1.2.0",
            "_view_name": "StyleView",
            "description_width": ""
          }
        },
        "03f34130f38f4ea081d7881b5611663a": {
          "model_module": "@jupyter-widgets/controls",
          "model_name": "HBoxModel",
          "model_module_version": "1.5.0",
          "state": {
            "_dom_classes": [],
            "_model_module": "@jupyter-widgets/controls",
            "_model_module_version": "1.5.0",
            "_model_name": "HBoxModel",
            "_view_count": null,
            "_view_module": "@jupyter-widgets/controls",
            "_view_module_version": "1.5.0",
            "_view_name": "HBoxView",
            "box_style": "",
            "children": [
              "IPY_MODEL_f5badc45a3d0495b982668cfe2a35284",
              "IPY_MODEL_057075e1ce004bc29935617b18a035c9",
              "IPY_MODEL_3686fb64c334498c9837dd7054d77f65"
            ],
            "layout": "IPY_MODEL_f40f113d4c61406fb620197d05030635"
          }
        },
        "f5badc45a3d0495b982668cfe2a35284": {
          "model_module": "@jupyter-widgets/controls",
          "model_name": "HTMLModel",
          "model_module_version": "1.5.0",
          "state": {
            "_dom_classes": [],
            "_model_module": "@jupyter-widgets/controls",
            "_model_module_version": "1.5.0",
            "_model_name": "HTMLModel",
            "_view_count": null,
            "_view_module": "@jupyter-widgets/controls",
            "_view_module_version": "1.5.0",
            "_view_name": "HTMLView",
            "description": "",
            "description_tooltip": null,
            "layout": "IPY_MODEL_b4bb05d415fd4dfaa7f496b4c6606c5a",
            "placeholder": "​",
            "style": "IPY_MODEL_ff0cb86d80d4458dad73dd2b95180a1e",
            "value": "generation_config.json: 100%"
          }
        },
        "057075e1ce004bc29935617b18a035c9": {
          "model_module": "@jupyter-widgets/controls",
          "model_name": "FloatProgressModel",
          "model_module_version": "1.5.0",
          "state": {
            "_dom_classes": [],
            "_model_module": "@jupyter-widgets/controls",
            "_model_module_version": "1.5.0",
            "_model_name": "FloatProgressModel",
            "_view_count": null,
            "_view_module": "@jupyter-widgets/controls",
            "_view_module_version": "1.5.0",
            "_view_name": "ProgressView",
            "bar_style": "success",
            "description": "",
            "description_tooltip": null,
            "layout": "IPY_MODEL_40b22131d53441ab8cd5917f99903bc3",
            "max": 142,
            "min": 0,
            "orientation": "horizontal",
            "style": "IPY_MODEL_438995cac4954c6eac9f3711004da190",
            "value": 142
          }
        },
        "3686fb64c334498c9837dd7054d77f65": {
          "model_module": "@jupyter-widgets/controls",
          "model_name": "HTMLModel",
          "model_module_version": "1.5.0",
          "state": {
            "_dom_classes": [],
            "_model_module": "@jupyter-widgets/controls",
            "_model_module_version": "1.5.0",
            "_model_name": "HTMLModel",
            "_view_count": null,
            "_view_module": "@jupyter-widgets/controls",
            "_view_module_version": "1.5.0",
            "_view_name": "HTMLView",
            "description": "",
            "description_tooltip": null,
            "layout": "IPY_MODEL_69a2491db3d540d5bd94ac34b80a2ce7",
            "placeholder": "​",
            "style": "IPY_MODEL_e6ba2aad26b64b2b8af7a971e2c921d2",
            "value": " 142/142 [00:00&lt;00:00, 8.90kB/s]"
          }
        },
        "f40f113d4c61406fb620197d05030635": {
          "model_module": "@jupyter-widgets/base",
          "model_name": "LayoutModel",
          "model_module_version": "1.2.0",
          "state": {
            "_model_module": "@jupyter-widgets/base",
            "_model_module_version": "1.2.0",
            "_model_name": "LayoutModel",
            "_view_count": null,
            "_view_module": "@jupyter-widgets/base",
            "_view_module_version": "1.2.0",
            "_view_name": "LayoutView",
            "align_content": null,
            "align_items": null,
            "align_self": null,
            "border": null,
            "bottom": null,
            "display": null,
            "flex": null,
            "flex_flow": null,
            "grid_area": null,
            "grid_auto_columns": null,
            "grid_auto_flow": null,
            "grid_auto_rows": null,
            "grid_column": null,
            "grid_gap": null,
            "grid_row": null,
            "grid_template_areas": null,
            "grid_template_columns": null,
            "grid_template_rows": null,
            "height": null,
            "justify_content": null,
            "justify_items": null,
            "left": null,
            "margin": null,
            "max_height": null,
            "max_width": null,
            "min_height": null,
            "min_width": null,
            "object_fit": null,
            "object_position": null,
            "order": null,
            "overflow": null,
            "overflow_x": null,
            "overflow_y": null,
            "padding": null,
            "right": null,
            "top": null,
            "visibility": null,
            "width": null
          }
        },
        "b4bb05d415fd4dfaa7f496b4c6606c5a": {
          "model_module": "@jupyter-widgets/base",
          "model_name": "LayoutModel",
          "model_module_version": "1.2.0",
          "state": {
            "_model_module": "@jupyter-widgets/base",
            "_model_module_version": "1.2.0",
            "_model_name": "LayoutModel",
            "_view_count": null,
            "_view_module": "@jupyter-widgets/base",
            "_view_module_version": "1.2.0",
            "_view_name": "LayoutView",
            "align_content": null,
            "align_items": null,
            "align_self": null,
            "border": null,
            "bottom": null,
            "display": null,
            "flex": null,
            "flex_flow": null,
            "grid_area": null,
            "grid_auto_columns": null,
            "grid_auto_flow": null,
            "grid_auto_rows": null,
            "grid_column": null,
            "grid_gap": null,
            "grid_row": null,
            "grid_template_areas": null,
            "grid_template_columns": null,
            "grid_template_rows": null,
            "height": null,
            "justify_content": null,
            "justify_items": null,
            "left": null,
            "margin": null,
            "max_height": null,
            "max_width": null,
            "min_height": null,
            "min_width": null,
            "object_fit": null,
            "object_position": null,
            "order": null,
            "overflow": null,
            "overflow_x": null,
            "overflow_y": null,
            "padding": null,
            "right": null,
            "top": null,
            "visibility": null,
            "width": null
          }
        },
        "ff0cb86d80d4458dad73dd2b95180a1e": {
          "model_module": "@jupyter-widgets/controls",
          "model_name": "DescriptionStyleModel",
          "model_module_version": "1.5.0",
          "state": {
            "_model_module": "@jupyter-widgets/controls",
            "_model_module_version": "1.5.0",
            "_model_name": "DescriptionStyleModel",
            "_view_count": null,
            "_view_module": "@jupyter-widgets/base",
            "_view_module_version": "1.2.0",
            "_view_name": "StyleView",
            "description_width": ""
          }
        },
        "40b22131d53441ab8cd5917f99903bc3": {
          "model_module": "@jupyter-widgets/base",
          "model_name": "LayoutModel",
          "model_module_version": "1.2.0",
          "state": {
            "_model_module": "@jupyter-widgets/base",
            "_model_module_version": "1.2.0",
            "_model_name": "LayoutModel",
            "_view_count": null,
            "_view_module": "@jupyter-widgets/base",
            "_view_module_version": "1.2.0",
            "_view_name": "LayoutView",
            "align_content": null,
            "align_items": null,
            "align_self": null,
            "border": null,
            "bottom": null,
            "display": null,
            "flex": null,
            "flex_flow": null,
            "grid_area": null,
            "grid_auto_columns": null,
            "grid_auto_flow": null,
            "grid_auto_rows": null,
            "grid_column": null,
            "grid_gap": null,
            "grid_row": null,
            "grid_template_areas": null,
            "grid_template_columns": null,
            "grid_template_rows": null,
            "height": null,
            "justify_content": null,
            "justify_items": null,
            "left": null,
            "margin": null,
            "max_height": null,
            "max_width": null,
            "min_height": null,
            "min_width": null,
            "object_fit": null,
            "object_position": null,
            "order": null,
            "overflow": null,
            "overflow_x": null,
            "overflow_y": null,
            "padding": null,
            "right": null,
            "top": null,
            "visibility": null,
            "width": null
          }
        },
        "438995cac4954c6eac9f3711004da190": {
          "model_module": "@jupyter-widgets/controls",
          "model_name": "ProgressStyleModel",
          "model_module_version": "1.5.0",
          "state": {
            "_model_module": "@jupyter-widgets/controls",
            "_model_module_version": "1.5.0",
            "_model_name": "ProgressStyleModel",
            "_view_count": null,
            "_view_module": "@jupyter-widgets/base",
            "_view_module_version": "1.2.0",
            "_view_name": "StyleView",
            "bar_color": null,
            "description_width": ""
          }
        },
        "69a2491db3d540d5bd94ac34b80a2ce7": {
          "model_module": "@jupyter-widgets/base",
          "model_name": "LayoutModel",
          "model_module_version": "1.2.0",
          "state": {
            "_model_module": "@jupyter-widgets/base",
            "_model_module_version": "1.2.0",
            "_model_name": "LayoutModel",
            "_view_count": null,
            "_view_module": "@jupyter-widgets/base",
            "_view_module_version": "1.2.0",
            "_view_name": "LayoutView",
            "align_content": null,
            "align_items": null,
            "align_self": null,
            "border": null,
            "bottom": null,
            "display": null,
            "flex": null,
            "flex_flow": null,
            "grid_area": null,
            "grid_auto_columns": null,
            "grid_auto_flow": null,
            "grid_auto_rows": null,
            "grid_column": null,
            "grid_gap": null,
            "grid_row": null,
            "grid_template_areas": null,
            "grid_template_columns": null,
            "grid_template_rows": null,
            "height": null,
            "justify_content": null,
            "justify_items": null,
            "left": null,
            "margin": null,
            "max_height": null,
            "max_width": null,
            "min_height": null,
            "min_width": null,
            "object_fit": null,
            "object_position": null,
            "order": null,
            "overflow": null,
            "overflow_x": null,
            "overflow_y": null,
            "padding": null,
            "right": null,
            "top": null,
            "visibility": null,
            "width": null
          }
        },
        "e6ba2aad26b64b2b8af7a971e2c921d2": {
          "model_module": "@jupyter-widgets/controls",
          "model_name": "DescriptionStyleModel",
          "model_module_version": "1.5.0",
          "state": {
            "_model_module": "@jupyter-widgets/controls",
            "_model_module_version": "1.5.0",
            "_model_name": "DescriptionStyleModel",
            "_view_count": null,
            "_view_module": "@jupyter-widgets/base",
            "_view_module_version": "1.2.0",
            "_view_name": "StyleView",
            "description_width": ""
          }
        },
        "6519cb2a1f3641d0a3e424759dccba51": {
          "model_module": "@jupyter-widgets/controls",
          "model_name": "HBoxModel",
          "model_module_version": "1.5.0",
          "state": {
            "_dom_classes": [],
            "_model_module": "@jupyter-widgets/controls",
            "_model_module_version": "1.5.0",
            "_model_name": "HBoxModel",
            "_view_count": null,
            "_view_module": "@jupyter-widgets/controls",
            "_view_module_version": "1.5.0",
            "_view_name": "HBoxView",
            "box_style": "",
            "children": [
              "IPY_MODEL_5b47499ccc7f44e2bc19ff4baa9e60e1",
              "IPY_MODEL_89923eaa58384196a7fe50cfe0c4256d",
              "IPY_MODEL_3f3e820c398548478c3e59acfb0b90e6"
            ],
            "layout": "IPY_MODEL_7bcda6a98a7d44bd9eee909c381d2a41"
          }
        },
        "5b47499ccc7f44e2bc19ff4baa9e60e1": {
          "model_module": "@jupyter-widgets/controls",
          "model_name": "HTMLModel",
          "model_module_version": "1.5.0",
          "state": {
            "_dom_classes": [],
            "_model_module": "@jupyter-widgets/controls",
            "_model_module_version": "1.5.0",
            "_model_name": "HTMLModel",
            "_view_count": null,
            "_view_module": "@jupyter-widgets/controls",
            "_view_module_version": "1.5.0",
            "_view_name": "HTMLView",
            "description": "",
            "description_tooltip": null,
            "layout": "IPY_MODEL_87caea249aef485aa672f310be02a089",
            "placeholder": "​",
            "style": "IPY_MODEL_88efa70f69c64641b3f756a3a6d85808",
            "value": "tokenizer_config.json: 100%"
          }
        },
        "89923eaa58384196a7fe50cfe0c4256d": {
          "model_module": "@jupyter-widgets/controls",
          "model_name": "FloatProgressModel",
          "model_module_version": "1.5.0",
          "state": {
            "_dom_classes": [],
            "_model_module": "@jupyter-widgets/controls",
            "_model_module_version": "1.5.0",
            "_model_name": "FloatProgressModel",
            "_view_count": null,
            "_view_module": "@jupyter-widgets/controls",
            "_view_module_version": "1.5.0",
            "_view_name": "ProgressView",
            "bar_style": "success",
            "description": "",
            "description_tooltip": null,
            "layout": "IPY_MODEL_884105c4b65041149a5a622c9e97fa54",
            "max": 830,
            "min": 0,
            "orientation": "horizontal",
            "style": "IPY_MODEL_4c0c77c418bb4ad7959a28e1d0c82141",
            "value": 830
          }
        },
        "3f3e820c398548478c3e59acfb0b90e6": {
          "model_module": "@jupyter-widgets/controls",
          "model_name": "HTMLModel",
          "model_module_version": "1.5.0",
          "state": {
            "_dom_classes": [],
            "_model_module": "@jupyter-widgets/controls",
            "_model_module_version": "1.5.0",
            "_model_name": "HTMLModel",
            "_view_count": null,
            "_view_module": "@jupyter-widgets/controls",
            "_view_module_version": "1.5.0",
            "_view_name": "HTMLView",
            "description": "",
            "description_tooltip": null,
            "layout": "IPY_MODEL_e8515f6c5ddc4903b222419bb42e6763",
            "placeholder": "​",
            "style": "IPY_MODEL_60e763701d634819acdde8c8089d74da",
            "value": " 830/830 [00:00&lt;00:00, 61.7kB/s]"
          }
        },
        "7bcda6a98a7d44bd9eee909c381d2a41": {
          "model_module": "@jupyter-widgets/base",
          "model_name": "LayoutModel",
          "model_module_version": "1.2.0",
          "state": {
            "_model_module": "@jupyter-widgets/base",
            "_model_module_version": "1.2.0",
            "_model_name": "LayoutModel",
            "_view_count": null,
            "_view_module": "@jupyter-widgets/base",
            "_view_module_version": "1.2.0",
            "_view_name": "LayoutView",
            "align_content": null,
            "align_items": null,
            "align_self": null,
            "border": null,
            "bottom": null,
            "display": null,
            "flex": null,
            "flex_flow": null,
            "grid_area": null,
            "grid_auto_columns": null,
            "grid_auto_flow": null,
            "grid_auto_rows": null,
            "grid_column": null,
            "grid_gap": null,
            "grid_row": null,
            "grid_template_areas": null,
            "grid_template_columns": null,
            "grid_template_rows": null,
            "height": null,
            "justify_content": null,
            "justify_items": null,
            "left": null,
            "margin": null,
            "max_height": null,
            "max_width": null,
            "min_height": null,
            "min_width": null,
            "object_fit": null,
            "object_position": null,
            "order": null,
            "overflow": null,
            "overflow_x": null,
            "overflow_y": null,
            "padding": null,
            "right": null,
            "top": null,
            "visibility": null,
            "width": null
          }
        },
        "87caea249aef485aa672f310be02a089": {
          "model_module": "@jupyter-widgets/base",
          "model_name": "LayoutModel",
          "model_module_version": "1.2.0",
          "state": {
            "_model_module": "@jupyter-widgets/base",
            "_model_module_version": "1.2.0",
            "_model_name": "LayoutModel",
            "_view_count": null,
            "_view_module": "@jupyter-widgets/base",
            "_view_module_version": "1.2.0",
            "_view_name": "LayoutView",
            "align_content": null,
            "align_items": null,
            "align_self": null,
            "border": null,
            "bottom": null,
            "display": null,
            "flex": null,
            "flex_flow": null,
            "grid_area": null,
            "grid_auto_columns": null,
            "grid_auto_flow": null,
            "grid_auto_rows": null,
            "grid_column": null,
            "grid_gap": null,
            "grid_row": null,
            "grid_template_areas": null,
            "grid_template_columns": null,
            "grid_template_rows": null,
            "height": null,
            "justify_content": null,
            "justify_items": null,
            "left": null,
            "margin": null,
            "max_height": null,
            "max_width": null,
            "min_height": null,
            "min_width": null,
            "object_fit": null,
            "object_position": null,
            "order": null,
            "overflow": null,
            "overflow_x": null,
            "overflow_y": null,
            "padding": null,
            "right": null,
            "top": null,
            "visibility": null,
            "width": null
          }
        },
        "88efa70f69c64641b3f756a3a6d85808": {
          "model_module": "@jupyter-widgets/controls",
          "model_name": "DescriptionStyleModel",
          "model_module_version": "1.5.0",
          "state": {
            "_model_module": "@jupyter-widgets/controls",
            "_model_module_version": "1.5.0",
            "_model_name": "DescriptionStyleModel",
            "_view_count": null,
            "_view_module": "@jupyter-widgets/base",
            "_view_module_version": "1.2.0",
            "_view_name": "StyleView",
            "description_width": ""
          }
        },
        "884105c4b65041149a5a622c9e97fa54": {
          "model_module": "@jupyter-widgets/base",
          "model_name": "LayoutModel",
          "model_module_version": "1.2.0",
          "state": {
            "_model_module": "@jupyter-widgets/base",
            "_model_module_version": "1.2.0",
            "_model_name": "LayoutModel",
            "_view_count": null,
            "_view_module": "@jupyter-widgets/base",
            "_view_module_version": "1.2.0",
            "_view_name": "LayoutView",
            "align_content": null,
            "align_items": null,
            "align_self": null,
            "border": null,
            "bottom": null,
            "display": null,
            "flex": null,
            "flex_flow": null,
            "grid_area": null,
            "grid_auto_columns": null,
            "grid_auto_flow": null,
            "grid_auto_rows": null,
            "grid_column": null,
            "grid_gap": null,
            "grid_row": null,
            "grid_template_areas": null,
            "grid_template_columns": null,
            "grid_template_rows": null,
            "height": null,
            "justify_content": null,
            "justify_items": null,
            "left": null,
            "margin": null,
            "max_height": null,
            "max_width": null,
            "min_height": null,
            "min_width": null,
            "object_fit": null,
            "object_position": null,
            "order": null,
            "overflow": null,
            "overflow_x": null,
            "overflow_y": null,
            "padding": null,
            "right": null,
            "top": null,
            "visibility": null,
            "width": null
          }
        },
        "4c0c77c418bb4ad7959a28e1d0c82141": {
          "model_module": "@jupyter-widgets/controls",
          "model_name": "ProgressStyleModel",
          "model_module_version": "1.5.0",
          "state": {
            "_model_module": "@jupyter-widgets/controls",
            "_model_module_version": "1.5.0",
            "_model_name": "ProgressStyleModel",
            "_view_count": null,
            "_view_module": "@jupyter-widgets/base",
            "_view_module_version": "1.2.0",
            "_view_name": "StyleView",
            "bar_color": null,
            "description_width": ""
          }
        },
        "e8515f6c5ddc4903b222419bb42e6763": {
          "model_module": "@jupyter-widgets/base",
          "model_name": "LayoutModel",
          "model_module_version": "1.2.0",
          "state": {
            "_model_module": "@jupyter-widgets/base",
            "_model_module_version": "1.2.0",
            "_model_name": "LayoutModel",
            "_view_count": null,
            "_view_module": "@jupyter-widgets/base",
            "_view_module_version": "1.2.0",
            "_view_name": "LayoutView",
            "align_content": null,
            "align_items": null,
            "align_self": null,
            "border": null,
            "bottom": null,
            "display": null,
            "flex": null,
            "flex_flow": null,
            "grid_area": null,
            "grid_auto_columns": null,
            "grid_auto_flow": null,
            "grid_auto_rows": null,
            "grid_column": null,
            "grid_gap": null,
            "grid_row": null,
            "grid_template_areas": null,
            "grid_template_columns": null,
            "grid_template_rows": null,
            "height": null,
            "justify_content": null,
            "justify_items": null,
            "left": null,
            "margin": null,
            "max_height": null,
            "max_width": null,
            "min_height": null,
            "min_width": null,
            "object_fit": null,
            "object_position": null,
            "order": null,
            "overflow": null,
            "overflow_x": null,
            "overflow_y": null,
            "padding": null,
            "right": null,
            "top": null,
            "visibility": null,
            "width": null
          }
        },
        "60e763701d634819acdde8c8089d74da": {
          "model_module": "@jupyter-widgets/controls",
          "model_name": "DescriptionStyleModel",
          "model_module_version": "1.5.0",
          "state": {
            "_model_module": "@jupyter-widgets/controls",
            "_model_module_version": "1.5.0",
            "_model_name": "DescriptionStyleModel",
            "_view_count": null,
            "_view_module": "@jupyter-widgets/base",
            "_view_module_version": "1.2.0",
            "_view_name": "StyleView",
            "description_width": ""
          }
        },
        "48d2359b4a7143d79c686242eae9db3e": {
          "model_module": "@jupyter-widgets/controls",
          "model_name": "HBoxModel",
          "model_module_version": "1.5.0",
          "state": {
            "_dom_classes": [],
            "_model_module": "@jupyter-widgets/controls",
            "_model_module_version": "1.5.0",
            "_model_name": "HBoxModel",
            "_view_count": null,
            "_view_module": "@jupyter-widgets/controls",
            "_view_module_version": "1.5.0",
            "_view_name": "HBoxView",
            "box_style": "",
            "children": [
              "IPY_MODEL_cc0a6d77f4c8479ab2eeeebbb9e8505f",
              "IPY_MODEL_53f7fab9fbd145ccbc45349aeec6d399",
              "IPY_MODEL_c318715e9ae6413789a281e89cab5971"
            ],
            "layout": "IPY_MODEL_8eb6f49239ba457c81311d81815cb357"
          }
        },
        "cc0a6d77f4c8479ab2eeeebbb9e8505f": {
          "model_module": "@jupyter-widgets/controls",
          "model_name": "HTMLModel",
          "model_module_version": "1.5.0",
          "state": {
            "_dom_classes": [],
            "_model_module": "@jupyter-widgets/controls",
            "_model_module_version": "1.5.0",
            "_model_name": "HTMLModel",
            "_view_count": null,
            "_view_module": "@jupyter-widgets/controls",
            "_view_module_version": "1.5.0",
            "_view_name": "HTMLView",
            "description": "",
            "description_tooltip": null,
            "layout": "IPY_MODEL_d487072c485b47bdb72d55684316851d",
            "placeholder": "​",
            "style": "IPY_MODEL_b70d763c8fa249589fc81ea93ad93ef6",
            "value": "spiece.model: 100%"
          }
        },
        "53f7fab9fbd145ccbc45349aeec6d399": {
          "model_module": "@jupyter-widgets/controls",
          "model_name": "FloatProgressModel",
          "model_module_version": "1.5.0",
          "state": {
            "_dom_classes": [],
            "_model_module": "@jupyter-widgets/controls",
            "_model_module_version": "1.5.0",
            "_model_name": "FloatProgressModel",
            "_view_count": null,
            "_view_module": "@jupyter-widgets/controls",
            "_view_module_version": "1.5.0",
            "_view_name": "ProgressView",
            "bar_style": "success",
            "description": "",
            "description_tooltip": null,
            "layout": "IPY_MODEL_eb4cc198d5be4971b7ba06ab7dd90704",
            "max": 4427844,
            "min": 0,
            "orientation": "horizontal",
            "style": "IPY_MODEL_b1d745193f5541ad85641fcad6e6fbf8",
            "value": 4427844
          }
        },
        "c318715e9ae6413789a281e89cab5971": {
          "model_module": "@jupyter-widgets/controls",
          "model_name": "HTMLModel",
          "model_module_version": "1.5.0",
          "state": {
            "_dom_classes": [],
            "_model_module": "@jupyter-widgets/controls",
            "_model_module_version": "1.5.0",
            "_model_name": "HTMLModel",
            "_view_count": null,
            "_view_module": "@jupyter-widgets/controls",
            "_view_module_version": "1.5.0",
            "_view_name": "HTMLView",
            "description": "",
            "description_tooltip": null,
            "layout": "IPY_MODEL_4b9a0aab880548d0b97d775eeed50f69",
            "placeholder": "​",
            "style": "IPY_MODEL_35d01b6e39ee4ecf9ba29660aef44817",
            "value": " 4.43M/4.43M [00:00&lt;00:00, 113MB/s]"
          }
        },
        "8eb6f49239ba457c81311d81815cb357": {
          "model_module": "@jupyter-widgets/base",
          "model_name": "LayoutModel",
          "model_module_version": "1.2.0",
          "state": {
            "_model_module": "@jupyter-widgets/base",
            "_model_module_version": "1.2.0",
            "_model_name": "LayoutModel",
            "_view_count": null,
            "_view_module": "@jupyter-widgets/base",
            "_view_module_version": "1.2.0",
            "_view_name": "LayoutView",
            "align_content": null,
            "align_items": null,
            "align_self": null,
            "border": null,
            "bottom": null,
            "display": null,
            "flex": null,
            "flex_flow": null,
            "grid_area": null,
            "grid_auto_columns": null,
            "grid_auto_flow": null,
            "grid_auto_rows": null,
            "grid_column": null,
            "grid_gap": null,
            "grid_row": null,
            "grid_template_areas": null,
            "grid_template_columns": null,
            "grid_template_rows": null,
            "height": null,
            "justify_content": null,
            "justify_items": null,
            "left": null,
            "margin": null,
            "max_height": null,
            "max_width": null,
            "min_height": null,
            "min_width": null,
            "object_fit": null,
            "object_position": null,
            "order": null,
            "overflow": null,
            "overflow_x": null,
            "overflow_y": null,
            "padding": null,
            "right": null,
            "top": null,
            "visibility": null,
            "width": null
          }
        },
        "d487072c485b47bdb72d55684316851d": {
          "model_module": "@jupyter-widgets/base",
          "model_name": "LayoutModel",
          "model_module_version": "1.2.0",
          "state": {
            "_model_module": "@jupyter-widgets/base",
            "_model_module_version": "1.2.0",
            "_model_name": "LayoutModel",
            "_view_count": null,
            "_view_module": "@jupyter-widgets/base",
            "_view_module_version": "1.2.0",
            "_view_name": "LayoutView",
            "align_content": null,
            "align_items": null,
            "align_self": null,
            "border": null,
            "bottom": null,
            "display": null,
            "flex": null,
            "flex_flow": null,
            "grid_area": null,
            "grid_auto_columns": null,
            "grid_auto_flow": null,
            "grid_auto_rows": null,
            "grid_column": null,
            "grid_gap": null,
            "grid_row": null,
            "grid_template_areas": null,
            "grid_template_columns": null,
            "grid_template_rows": null,
            "height": null,
            "justify_content": null,
            "justify_items": null,
            "left": null,
            "margin": null,
            "max_height": null,
            "max_width": null,
            "min_height": null,
            "min_width": null,
            "object_fit": null,
            "object_position": null,
            "order": null,
            "overflow": null,
            "overflow_x": null,
            "overflow_y": null,
            "padding": null,
            "right": null,
            "top": null,
            "visibility": null,
            "width": null
          }
        },
        "b70d763c8fa249589fc81ea93ad93ef6": {
          "model_module": "@jupyter-widgets/controls",
          "model_name": "DescriptionStyleModel",
          "model_module_version": "1.5.0",
          "state": {
            "_model_module": "@jupyter-widgets/controls",
            "_model_module_version": "1.5.0",
            "_model_name": "DescriptionStyleModel",
            "_view_count": null,
            "_view_module": "@jupyter-widgets/base",
            "_view_module_version": "1.2.0",
            "_view_name": "StyleView",
            "description_width": ""
          }
        },
        "eb4cc198d5be4971b7ba06ab7dd90704": {
          "model_module": "@jupyter-widgets/base",
          "model_name": "LayoutModel",
          "model_module_version": "1.2.0",
          "state": {
            "_model_module": "@jupyter-widgets/base",
            "_model_module_version": "1.2.0",
            "_model_name": "LayoutModel",
            "_view_count": null,
            "_view_module": "@jupyter-widgets/base",
            "_view_module_version": "1.2.0",
            "_view_name": "LayoutView",
            "align_content": null,
            "align_items": null,
            "align_self": null,
            "border": null,
            "bottom": null,
            "display": null,
            "flex": null,
            "flex_flow": null,
            "grid_area": null,
            "grid_auto_columns": null,
            "grid_auto_flow": null,
            "grid_auto_rows": null,
            "grid_column": null,
            "grid_gap": null,
            "grid_row": null,
            "grid_template_areas": null,
            "grid_template_columns": null,
            "grid_template_rows": null,
            "height": null,
            "justify_content": null,
            "justify_items": null,
            "left": null,
            "margin": null,
            "max_height": null,
            "max_width": null,
            "min_height": null,
            "min_width": null,
            "object_fit": null,
            "object_position": null,
            "order": null,
            "overflow": null,
            "overflow_x": null,
            "overflow_y": null,
            "padding": null,
            "right": null,
            "top": null,
            "visibility": null,
            "width": null
          }
        },
        "b1d745193f5541ad85641fcad6e6fbf8": {
          "model_module": "@jupyter-widgets/controls",
          "model_name": "ProgressStyleModel",
          "model_module_version": "1.5.0",
          "state": {
            "_model_module": "@jupyter-widgets/controls",
            "_model_module_version": "1.5.0",
            "_model_name": "ProgressStyleModel",
            "_view_count": null,
            "_view_module": "@jupyter-widgets/base",
            "_view_module_version": "1.2.0",
            "_view_name": "StyleView",
            "bar_color": null,
            "description_width": ""
          }
        },
        "4b9a0aab880548d0b97d775eeed50f69": {
          "model_module": "@jupyter-widgets/base",
          "model_name": "LayoutModel",
          "model_module_version": "1.2.0",
          "state": {
            "_model_module": "@jupyter-widgets/base",
            "_model_module_version": "1.2.0",
            "_model_name": "LayoutModel",
            "_view_count": null,
            "_view_module": "@jupyter-widgets/base",
            "_view_module_version": "1.2.0",
            "_view_name": "LayoutView",
            "align_content": null,
            "align_items": null,
            "align_self": null,
            "border": null,
            "bottom": null,
            "display": null,
            "flex": null,
            "flex_flow": null,
            "grid_area": null,
            "grid_auto_columns": null,
            "grid_auto_flow": null,
            "grid_auto_rows": null,
            "grid_column": null,
            "grid_gap": null,
            "grid_row": null,
            "grid_template_areas": null,
            "grid_template_columns": null,
            "grid_template_rows": null,
            "height": null,
            "justify_content": null,
            "justify_items": null,
            "left": null,
            "margin": null,
            "max_height": null,
            "max_width": null,
            "min_height": null,
            "min_width": null,
            "object_fit": null,
            "object_position": null,
            "order": null,
            "overflow": null,
            "overflow_x": null,
            "overflow_y": null,
            "padding": null,
            "right": null,
            "top": null,
            "visibility": null,
            "width": null
          }
        },
        "35d01b6e39ee4ecf9ba29660aef44817": {
          "model_module": "@jupyter-widgets/controls",
          "model_name": "DescriptionStyleModel",
          "model_module_version": "1.5.0",
          "state": {
            "_model_module": "@jupyter-widgets/controls",
            "_model_module_version": "1.5.0",
            "_model_name": "DescriptionStyleModel",
            "_view_count": null,
            "_view_module": "@jupyter-widgets/base",
            "_view_module_version": "1.2.0",
            "_view_name": "StyleView",
            "description_width": ""
          }
        },
        "0159dd8f90384d44a3138d1725300cb5": {
          "model_module": "@jupyter-widgets/controls",
          "model_name": "HBoxModel",
          "model_module_version": "1.5.0",
          "state": {
            "_dom_classes": [],
            "_model_module": "@jupyter-widgets/controls",
            "_model_module_version": "1.5.0",
            "_model_name": "HBoxModel",
            "_view_count": null,
            "_view_module": "@jupyter-widgets/controls",
            "_view_module_version": "1.5.0",
            "_view_name": "HBoxView",
            "box_style": "",
            "children": [
              "IPY_MODEL_c7e8766a18334bafa6aa9cec0b6ce027",
              "IPY_MODEL_336083c9648946d9a5105d872c187875",
              "IPY_MODEL_f6cbf5bf60b843208c4819218d97c05a"
            ],
            "layout": "IPY_MODEL_54715a70896a45c8b0e5ea8927153dcf"
          }
        },
        "c7e8766a18334bafa6aa9cec0b6ce027": {
          "model_module": "@jupyter-widgets/controls",
          "model_name": "HTMLModel",
          "model_module_version": "1.5.0",
          "state": {
            "_dom_classes": [],
            "_model_module": "@jupyter-widgets/controls",
            "_model_module_version": "1.5.0",
            "_model_name": "HTMLModel",
            "_view_count": null,
            "_view_module": "@jupyter-widgets/controls",
            "_view_module_version": "1.5.0",
            "_view_name": "HTMLView",
            "description": "",
            "description_tooltip": null,
            "layout": "IPY_MODEL_c12fa01891e94e6080489725af4ecb1f",
            "placeholder": "​",
            "style": "IPY_MODEL_e1d576166781431facd7ac4117adf9f7",
            "value": "added_tokens.json: 100%"
          }
        },
        "336083c9648946d9a5105d872c187875": {
          "model_module": "@jupyter-widgets/controls",
          "model_name": "FloatProgressModel",
          "model_module_version": "1.5.0",
          "state": {
            "_dom_classes": [],
            "_model_module": "@jupyter-widgets/controls",
            "_model_module_version": "1.5.0",
            "_model_name": "FloatProgressModel",
            "_view_count": null,
            "_view_module": "@jupyter-widgets/controls",
            "_view_module_version": "1.5.0",
            "_view_name": "ProgressView",
            "bar_style": "success",
            "description": "",
            "description_tooltip": null,
            "layout": "IPY_MODEL_936d26ba03ff4b36b302ed896ec5c348",
            "max": 4,
            "min": 0,
            "orientation": "horizontal",
            "style": "IPY_MODEL_5335038a7ecb423b9683dd1905716f2a",
            "value": 4
          }
        },
        "f6cbf5bf60b843208c4819218d97c05a": {
          "model_module": "@jupyter-widgets/controls",
          "model_name": "HTMLModel",
          "model_module_version": "1.5.0",
          "state": {
            "_dom_classes": [],
            "_model_module": "@jupyter-widgets/controls",
            "_model_module_version": "1.5.0",
            "_model_name": "HTMLModel",
            "_view_count": null,
            "_view_module": "@jupyter-widgets/controls",
            "_view_module_version": "1.5.0",
            "_view_name": "HTMLView",
            "description": "",
            "description_tooltip": null,
            "layout": "IPY_MODEL_911c330452864b5bbb2490e4f5f98463",
            "placeholder": "​",
            "style": "IPY_MODEL_1b7825ab29a84f308f635d0cb7a28779",
            "value": " 4.00/4.00 [00:00&lt;00:00, 205B/s]"
          }
        },
        "54715a70896a45c8b0e5ea8927153dcf": {
          "model_module": "@jupyter-widgets/base",
          "model_name": "LayoutModel",
          "model_module_version": "1.2.0",
          "state": {
            "_model_module": "@jupyter-widgets/base",
            "_model_module_version": "1.2.0",
            "_model_name": "LayoutModel",
            "_view_count": null,
            "_view_module": "@jupyter-widgets/base",
            "_view_module_version": "1.2.0",
            "_view_name": "LayoutView",
            "align_content": null,
            "align_items": null,
            "align_self": null,
            "border": null,
            "bottom": null,
            "display": null,
            "flex": null,
            "flex_flow": null,
            "grid_area": null,
            "grid_auto_columns": null,
            "grid_auto_flow": null,
            "grid_auto_rows": null,
            "grid_column": null,
            "grid_gap": null,
            "grid_row": null,
            "grid_template_areas": null,
            "grid_template_columns": null,
            "grid_template_rows": null,
            "height": null,
            "justify_content": null,
            "justify_items": null,
            "left": null,
            "margin": null,
            "max_height": null,
            "max_width": null,
            "min_height": null,
            "min_width": null,
            "object_fit": null,
            "object_position": null,
            "order": null,
            "overflow": null,
            "overflow_x": null,
            "overflow_y": null,
            "padding": null,
            "right": null,
            "top": null,
            "visibility": null,
            "width": null
          }
        },
        "c12fa01891e94e6080489725af4ecb1f": {
          "model_module": "@jupyter-widgets/base",
          "model_name": "LayoutModel",
          "model_module_version": "1.2.0",
          "state": {
            "_model_module": "@jupyter-widgets/base",
            "_model_module_version": "1.2.0",
            "_model_name": "LayoutModel",
            "_view_count": null,
            "_view_module": "@jupyter-widgets/base",
            "_view_module_version": "1.2.0",
            "_view_name": "LayoutView",
            "align_content": null,
            "align_items": null,
            "align_self": null,
            "border": null,
            "bottom": null,
            "display": null,
            "flex": null,
            "flex_flow": null,
            "grid_area": null,
            "grid_auto_columns": null,
            "grid_auto_flow": null,
            "grid_auto_rows": null,
            "grid_column": null,
            "grid_gap": null,
            "grid_row": null,
            "grid_template_areas": null,
            "grid_template_columns": null,
            "grid_template_rows": null,
            "height": null,
            "justify_content": null,
            "justify_items": null,
            "left": null,
            "margin": null,
            "max_height": null,
            "max_width": null,
            "min_height": null,
            "min_width": null,
            "object_fit": null,
            "object_position": null,
            "order": null,
            "overflow": null,
            "overflow_x": null,
            "overflow_y": null,
            "padding": null,
            "right": null,
            "top": null,
            "visibility": null,
            "width": null
          }
        },
        "e1d576166781431facd7ac4117adf9f7": {
          "model_module": "@jupyter-widgets/controls",
          "model_name": "DescriptionStyleModel",
          "model_module_version": "1.5.0",
          "state": {
            "_model_module": "@jupyter-widgets/controls",
            "_model_module_version": "1.5.0",
            "_model_name": "DescriptionStyleModel",
            "_view_count": null,
            "_view_module": "@jupyter-widgets/base",
            "_view_module_version": "1.2.0",
            "_view_name": "StyleView",
            "description_width": ""
          }
        },
        "936d26ba03ff4b36b302ed896ec5c348": {
          "model_module": "@jupyter-widgets/base",
          "model_name": "LayoutModel",
          "model_module_version": "1.2.0",
          "state": {
            "_model_module": "@jupyter-widgets/base",
            "_model_module_version": "1.2.0",
            "_model_name": "LayoutModel",
            "_view_count": null,
            "_view_module": "@jupyter-widgets/base",
            "_view_module_version": "1.2.0",
            "_view_name": "LayoutView",
            "align_content": null,
            "align_items": null,
            "align_self": null,
            "border": null,
            "bottom": null,
            "display": null,
            "flex": null,
            "flex_flow": null,
            "grid_area": null,
            "grid_auto_columns": null,
            "grid_auto_flow": null,
            "grid_auto_rows": null,
            "grid_column": null,
            "grid_gap": null,
            "grid_row": null,
            "grid_template_areas": null,
            "grid_template_columns": null,
            "grid_template_rows": null,
            "height": null,
            "justify_content": null,
            "justify_items": null,
            "left": null,
            "margin": null,
            "max_height": null,
            "max_width": null,
            "min_height": null,
            "min_width": null,
            "object_fit": null,
            "object_position": null,
            "order": null,
            "overflow": null,
            "overflow_x": null,
            "overflow_y": null,
            "padding": null,
            "right": null,
            "top": null,
            "visibility": null,
            "width": null
          }
        },
        "5335038a7ecb423b9683dd1905716f2a": {
          "model_module": "@jupyter-widgets/controls",
          "model_name": "ProgressStyleModel",
          "model_module_version": "1.5.0",
          "state": {
            "_model_module": "@jupyter-widgets/controls",
            "_model_module_version": "1.5.0",
            "_model_name": "ProgressStyleModel",
            "_view_count": null,
            "_view_module": "@jupyter-widgets/base",
            "_view_module_version": "1.2.0",
            "_view_name": "StyleView",
            "bar_color": null,
            "description_width": ""
          }
        },
        "911c330452864b5bbb2490e4f5f98463": {
          "model_module": "@jupyter-widgets/base",
          "model_name": "LayoutModel",
          "model_module_version": "1.2.0",
          "state": {
            "_model_module": "@jupyter-widgets/base",
            "_model_module_version": "1.2.0",
            "_model_name": "LayoutModel",
            "_view_count": null,
            "_view_module": "@jupyter-widgets/base",
            "_view_module_version": "1.2.0",
            "_view_name": "LayoutView",
            "align_content": null,
            "align_items": null,
            "align_self": null,
            "border": null,
            "bottom": null,
            "display": null,
            "flex": null,
            "flex_flow": null,
            "grid_area": null,
            "grid_auto_columns": null,
            "grid_auto_flow": null,
            "grid_auto_rows": null,
            "grid_column": null,
            "grid_gap": null,
            "grid_row": null,
            "grid_template_areas": null,
            "grid_template_columns": null,
            "grid_template_rows": null,
            "height": null,
            "justify_content": null,
            "justify_items": null,
            "left": null,
            "margin": null,
            "max_height": null,
            "max_width": null,
            "min_height": null,
            "min_width": null,
            "object_fit": null,
            "object_position": null,
            "order": null,
            "overflow": null,
            "overflow_x": null,
            "overflow_y": null,
            "padding": null,
            "right": null,
            "top": null,
            "visibility": null,
            "width": null
          }
        },
        "1b7825ab29a84f308f635d0cb7a28779": {
          "model_module": "@jupyter-widgets/controls",
          "model_name": "DescriptionStyleModel",
          "model_module_version": "1.5.0",
          "state": {
            "_model_module": "@jupyter-widgets/controls",
            "_model_module_version": "1.5.0",
            "_model_name": "DescriptionStyleModel",
            "_view_count": null,
            "_view_module": "@jupyter-widgets/base",
            "_view_module_version": "1.2.0",
            "_view_name": "StyleView",
            "description_width": ""
          }
        },
        "fd49840a10d842d49aa46a39e28560b3": {
          "model_module": "@jupyter-widgets/controls",
          "model_name": "HBoxModel",
          "model_module_version": "1.5.0",
          "state": {
            "_dom_classes": [],
            "_model_module": "@jupyter-widgets/controls",
            "_model_module_version": "1.5.0",
            "_model_name": "HBoxModel",
            "_view_count": null,
            "_view_module": "@jupyter-widgets/controls",
            "_view_module_version": "1.5.0",
            "_view_name": "HBoxView",
            "box_style": "",
            "children": [
              "IPY_MODEL_92cf3fd98e094c1dabbb2a98b3d9e811",
              "IPY_MODEL_cb4f9f47a68a42ad9eac6d84d86e9195",
              "IPY_MODEL_8eef8236e1794628a35be054c735121b"
            ],
            "layout": "IPY_MODEL_b8dbcd64e5a541ac82bf0e7a4c1c27ca"
          }
        },
        "92cf3fd98e094c1dabbb2a98b3d9e811": {
          "model_module": "@jupyter-widgets/controls",
          "model_name": "HTMLModel",
          "model_module_version": "1.5.0",
          "state": {
            "_dom_classes": [],
            "_model_module": "@jupyter-widgets/controls",
            "_model_module_version": "1.5.0",
            "_model_name": "HTMLModel",
            "_view_count": null,
            "_view_module": "@jupyter-widgets/controls",
            "_view_module_version": "1.5.0",
            "_view_name": "HTMLView",
            "description": "",
            "description_tooltip": null,
            "layout": "IPY_MODEL_4a2e0170216d483b98c8719356b91838",
            "placeholder": "​",
            "style": "IPY_MODEL_66b536e761bb455792f15de9a814b31f",
            "value": "special_tokens_map.json: 100%"
          }
        },
        "cb4f9f47a68a42ad9eac6d84d86e9195": {
          "model_module": "@jupyter-widgets/controls",
          "model_name": "FloatProgressModel",
          "model_module_version": "1.5.0",
          "state": {
            "_dom_classes": [],
            "_model_module": "@jupyter-widgets/controls",
            "_model_module_version": "1.5.0",
            "_model_name": "FloatProgressModel",
            "_view_count": null,
            "_view_module": "@jupyter-widgets/controls",
            "_view_module_version": "1.5.0",
            "_view_name": "ProgressView",
            "bar_style": "success",
            "description": "",
            "description_tooltip": null,
            "layout": "IPY_MODEL_af4b6c3d279e4b549e587276bde1a42f",
            "max": 414,
            "min": 0,
            "orientation": "horizontal",
            "style": "IPY_MODEL_f629932add3648e8b6f8f02274869025",
            "value": 414
          }
        },
        "8eef8236e1794628a35be054c735121b": {
          "model_module": "@jupyter-widgets/controls",
          "model_name": "HTMLModel",
          "model_module_version": "1.5.0",
          "state": {
            "_dom_classes": [],
            "_model_module": "@jupyter-widgets/controls",
            "_model_module_version": "1.5.0",
            "_model_name": "HTMLModel",
            "_view_count": null,
            "_view_module": "@jupyter-widgets/controls",
            "_view_module_version": "1.5.0",
            "_view_name": "HTMLView",
            "description": "",
            "description_tooltip": null,
            "layout": "IPY_MODEL_4b06abc5a9214b98849b51b9a3b55ffa",
            "placeholder": "​",
            "style": "IPY_MODEL_1a1b1cd183ed4d32ba62941974c2e27b",
            "value": " 414/414 [00:00&lt;00:00, 31.1kB/s]"
          }
        },
        "b8dbcd64e5a541ac82bf0e7a4c1c27ca": {
          "model_module": "@jupyter-widgets/base",
          "model_name": "LayoutModel",
          "model_module_version": "1.2.0",
          "state": {
            "_model_module": "@jupyter-widgets/base",
            "_model_module_version": "1.2.0",
            "_model_name": "LayoutModel",
            "_view_count": null,
            "_view_module": "@jupyter-widgets/base",
            "_view_module_version": "1.2.0",
            "_view_name": "LayoutView",
            "align_content": null,
            "align_items": null,
            "align_self": null,
            "border": null,
            "bottom": null,
            "display": null,
            "flex": null,
            "flex_flow": null,
            "grid_area": null,
            "grid_auto_columns": null,
            "grid_auto_flow": null,
            "grid_auto_rows": null,
            "grid_column": null,
            "grid_gap": null,
            "grid_row": null,
            "grid_template_areas": null,
            "grid_template_columns": null,
            "grid_template_rows": null,
            "height": null,
            "justify_content": null,
            "justify_items": null,
            "left": null,
            "margin": null,
            "max_height": null,
            "max_width": null,
            "min_height": null,
            "min_width": null,
            "object_fit": null,
            "object_position": null,
            "order": null,
            "overflow": null,
            "overflow_x": null,
            "overflow_y": null,
            "padding": null,
            "right": null,
            "top": null,
            "visibility": null,
            "width": null
          }
        },
        "4a2e0170216d483b98c8719356b91838": {
          "model_module": "@jupyter-widgets/base",
          "model_name": "LayoutModel",
          "model_module_version": "1.2.0",
          "state": {
            "_model_module": "@jupyter-widgets/base",
            "_model_module_version": "1.2.0",
            "_model_name": "LayoutModel",
            "_view_count": null,
            "_view_module": "@jupyter-widgets/base",
            "_view_module_version": "1.2.0",
            "_view_name": "LayoutView",
            "align_content": null,
            "align_items": null,
            "align_self": null,
            "border": null,
            "bottom": null,
            "display": null,
            "flex": null,
            "flex_flow": null,
            "grid_area": null,
            "grid_auto_columns": null,
            "grid_auto_flow": null,
            "grid_auto_rows": null,
            "grid_column": null,
            "grid_gap": null,
            "grid_row": null,
            "grid_template_areas": null,
            "grid_template_columns": null,
            "grid_template_rows": null,
            "height": null,
            "justify_content": null,
            "justify_items": null,
            "left": null,
            "margin": null,
            "max_height": null,
            "max_width": null,
            "min_height": null,
            "min_width": null,
            "object_fit": null,
            "object_position": null,
            "order": null,
            "overflow": null,
            "overflow_x": null,
            "overflow_y": null,
            "padding": null,
            "right": null,
            "top": null,
            "visibility": null,
            "width": null
          }
        },
        "66b536e761bb455792f15de9a814b31f": {
          "model_module": "@jupyter-widgets/controls",
          "model_name": "DescriptionStyleModel",
          "model_module_version": "1.5.0",
          "state": {
            "_model_module": "@jupyter-widgets/controls",
            "_model_module_version": "1.5.0",
            "_model_name": "DescriptionStyleModel",
            "_view_count": null,
            "_view_module": "@jupyter-widgets/base",
            "_view_module_version": "1.2.0",
            "_view_name": "StyleView",
            "description_width": ""
          }
        },
        "af4b6c3d279e4b549e587276bde1a42f": {
          "model_module": "@jupyter-widgets/base",
          "model_name": "LayoutModel",
          "model_module_version": "1.2.0",
          "state": {
            "_model_module": "@jupyter-widgets/base",
            "_model_module_version": "1.2.0",
            "_model_name": "LayoutModel",
            "_view_count": null,
            "_view_module": "@jupyter-widgets/base",
            "_view_module_version": "1.2.0",
            "_view_name": "LayoutView",
            "align_content": null,
            "align_items": null,
            "align_self": null,
            "border": null,
            "bottom": null,
            "display": null,
            "flex": null,
            "flex_flow": null,
            "grid_area": null,
            "grid_auto_columns": null,
            "grid_auto_flow": null,
            "grid_auto_rows": null,
            "grid_column": null,
            "grid_gap": null,
            "grid_row": null,
            "grid_template_areas": null,
            "grid_template_columns": null,
            "grid_template_rows": null,
            "height": null,
            "justify_content": null,
            "justify_items": null,
            "left": null,
            "margin": null,
            "max_height": null,
            "max_width": null,
            "min_height": null,
            "min_width": null,
            "object_fit": null,
            "object_position": null,
            "order": null,
            "overflow": null,
            "overflow_x": null,
            "overflow_y": null,
            "padding": null,
            "right": null,
            "top": null,
            "visibility": null,
            "width": null
          }
        },
        "f629932add3648e8b6f8f02274869025": {
          "model_module": "@jupyter-widgets/controls",
          "model_name": "ProgressStyleModel",
          "model_module_version": "1.5.0",
          "state": {
            "_model_module": "@jupyter-widgets/controls",
            "_model_module_version": "1.5.0",
            "_model_name": "ProgressStyleModel",
            "_view_count": null,
            "_view_module": "@jupyter-widgets/base",
            "_view_module_version": "1.2.0",
            "_view_name": "StyleView",
            "bar_color": null,
            "description_width": ""
          }
        },
        "4b06abc5a9214b98849b51b9a3b55ffa": {
          "model_module": "@jupyter-widgets/base",
          "model_name": "LayoutModel",
          "model_module_version": "1.2.0",
          "state": {
            "_model_module": "@jupyter-widgets/base",
            "_model_module_version": "1.2.0",
            "_model_name": "LayoutModel",
            "_view_count": null,
            "_view_module": "@jupyter-widgets/base",
            "_view_module_version": "1.2.0",
            "_view_name": "LayoutView",
            "align_content": null,
            "align_items": null,
            "align_self": null,
            "border": null,
            "bottom": null,
            "display": null,
            "flex": null,
            "flex_flow": null,
            "grid_area": null,
            "grid_auto_columns": null,
            "grid_auto_flow": null,
            "grid_auto_rows": null,
            "grid_column": null,
            "grid_gap": null,
            "grid_row": null,
            "grid_template_areas": null,
            "grid_template_columns": null,
            "grid_template_rows": null,
            "height": null,
            "justify_content": null,
            "justify_items": null,
            "left": null,
            "margin": null,
            "max_height": null,
            "max_width": null,
            "min_height": null,
            "min_width": null,
            "object_fit": null,
            "object_position": null,
            "order": null,
            "overflow": null,
            "overflow_x": null,
            "overflow_y": null,
            "padding": null,
            "right": null,
            "top": null,
            "visibility": null,
            "width": null
          }
        },
        "1a1b1cd183ed4d32ba62941974c2e27b": {
          "model_module": "@jupyter-widgets/controls",
          "model_name": "DescriptionStyleModel",
          "model_module_version": "1.5.0",
          "state": {
            "_model_module": "@jupyter-widgets/controls",
            "_model_module_version": "1.5.0",
            "_model_name": "DescriptionStyleModel",
            "_view_count": null,
            "_view_module": "@jupyter-widgets/base",
            "_view_module_version": "1.2.0",
            "_view_name": "StyleView",
            "description_width": ""
          }
        },
        "e367cab197694a2fbf13d58e12b21122": {
          "model_module": "@jupyter-widgets/controls",
          "model_name": "HBoxModel",
          "model_module_version": "1.5.0",
          "state": {
            "_dom_classes": [],
            "_model_module": "@jupyter-widgets/controls",
            "_model_module_version": "1.5.0",
            "_model_name": "HBoxModel",
            "_view_count": null,
            "_view_module": "@jupyter-widgets/controls",
            "_view_module_version": "1.5.0",
            "_view_name": "HBoxView",
            "box_style": "",
            "children": [
              "IPY_MODEL_2ca64d78176c4e289d0f12ee152d7bd6",
              "IPY_MODEL_819ae7f3c991441593c265d6507f7973",
              "IPY_MODEL_f354ba908e4840189d7cd54999179af3"
            ],
            "layout": "IPY_MODEL_ec1f19f91f3b465d8018e88c93d106a3"
          }
        },
        "2ca64d78176c4e289d0f12ee152d7bd6": {
          "model_module": "@jupyter-widgets/controls",
          "model_name": "HTMLModel",
          "model_module_version": "1.5.0",
          "state": {
            "_dom_classes": [],
            "_model_module": "@jupyter-widgets/controls",
            "_model_module_version": "1.5.0",
            "_model_name": "HTMLModel",
            "_view_count": null,
            "_view_module": "@jupyter-widgets/controls",
            "_view_module_version": "1.5.0",
            "_view_name": "HTMLView",
            "description": "",
            "description_tooltip": null,
            "layout": "IPY_MODEL_57e3a0e7a1174b65bb73db8cfc31cb86",
            "placeholder": "​",
            "style": "IPY_MODEL_73b995c542234401bcd5d782042c5d84",
            "value": "tokenizer.json: 100%"
          }
        },
        "819ae7f3c991441593c265d6507f7973": {
          "model_module": "@jupyter-widgets/controls",
          "model_name": "FloatProgressModel",
          "model_module_version": "1.5.0",
          "state": {
            "_dom_classes": [],
            "_model_module": "@jupyter-widgets/controls",
            "_model_module_version": "1.5.0",
            "_model_name": "FloatProgressModel",
            "_view_count": null,
            "_view_module": "@jupyter-widgets/controls",
            "_view_module_version": "1.5.0",
            "_view_name": "ProgressView",
            "bar_style": "success",
            "description": "",
            "description_tooltip": null,
            "layout": "IPY_MODEL_344b50eb2e934f758fbe33cec362cff6",
            "max": 16629031,
            "min": 0,
            "orientation": "horizontal",
            "style": "IPY_MODEL_231df73067414ae5b51f978de58963c4",
            "value": 16629031
          }
        },
        "f354ba908e4840189d7cd54999179af3": {
          "model_module": "@jupyter-widgets/controls",
          "model_name": "HTMLModel",
          "model_module_version": "1.5.0",
          "state": {
            "_dom_classes": [],
            "_model_module": "@jupyter-widgets/controls",
            "_model_module_version": "1.5.0",
            "_model_name": "HTMLModel",
            "_view_count": null,
            "_view_module": "@jupyter-widgets/controls",
            "_view_module_version": "1.5.0",
            "_view_name": "HTMLView",
            "description": "",
            "description_tooltip": null,
            "layout": "IPY_MODEL_b2212c839bed430a863170cb054341de",
            "placeholder": "​",
            "style": "IPY_MODEL_1d6517f2104940158e165d9617d19262",
            "value": " 16.6M/16.6M [00:00&lt;00:00, 100MB/s]"
          }
        },
        "ec1f19f91f3b465d8018e88c93d106a3": {
          "model_module": "@jupyter-widgets/base",
          "model_name": "LayoutModel",
          "model_module_version": "1.2.0",
          "state": {
            "_model_module": "@jupyter-widgets/base",
            "_model_module_version": "1.2.0",
            "_model_name": "LayoutModel",
            "_view_count": null,
            "_view_module": "@jupyter-widgets/base",
            "_view_module_version": "1.2.0",
            "_view_name": "LayoutView",
            "align_content": null,
            "align_items": null,
            "align_self": null,
            "border": null,
            "bottom": null,
            "display": null,
            "flex": null,
            "flex_flow": null,
            "grid_area": null,
            "grid_auto_columns": null,
            "grid_auto_flow": null,
            "grid_auto_rows": null,
            "grid_column": null,
            "grid_gap": null,
            "grid_row": null,
            "grid_template_areas": null,
            "grid_template_columns": null,
            "grid_template_rows": null,
            "height": null,
            "justify_content": null,
            "justify_items": null,
            "left": null,
            "margin": null,
            "max_height": null,
            "max_width": null,
            "min_height": null,
            "min_width": null,
            "object_fit": null,
            "object_position": null,
            "order": null,
            "overflow": null,
            "overflow_x": null,
            "overflow_y": null,
            "padding": null,
            "right": null,
            "top": null,
            "visibility": null,
            "width": null
          }
        },
        "57e3a0e7a1174b65bb73db8cfc31cb86": {
          "model_module": "@jupyter-widgets/base",
          "model_name": "LayoutModel",
          "model_module_version": "1.2.0",
          "state": {
            "_model_module": "@jupyter-widgets/base",
            "_model_module_version": "1.2.0",
            "_model_name": "LayoutModel",
            "_view_count": null,
            "_view_module": "@jupyter-widgets/base",
            "_view_module_version": "1.2.0",
            "_view_name": "LayoutView",
            "align_content": null,
            "align_items": null,
            "align_self": null,
            "border": null,
            "bottom": null,
            "display": null,
            "flex": null,
            "flex_flow": null,
            "grid_area": null,
            "grid_auto_columns": null,
            "grid_auto_flow": null,
            "grid_auto_rows": null,
            "grid_column": null,
            "grid_gap": null,
            "grid_row": null,
            "grid_template_areas": null,
            "grid_template_columns": null,
            "grid_template_rows": null,
            "height": null,
            "justify_content": null,
            "justify_items": null,
            "left": null,
            "margin": null,
            "max_height": null,
            "max_width": null,
            "min_height": null,
            "min_width": null,
            "object_fit": null,
            "object_position": null,
            "order": null,
            "overflow": null,
            "overflow_x": null,
            "overflow_y": null,
            "padding": null,
            "right": null,
            "top": null,
            "visibility": null,
            "width": null
          }
        },
        "73b995c542234401bcd5d782042c5d84": {
          "model_module": "@jupyter-widgets/controls",
          "model_name": "DescriptionStyleModel",
          "model_module_version": "1.5.0",
          "state": {
            "_model_module": "@jupyter-widgets/controls",
            "_model_module_version": "1.5.0",
            "_model_name": "DescriptionStyleModel",
            "_view_count": null,
            "_view_module": "@jupyter-widgets/base",
            "_view_module_version": "1.2.0",
            "_view_name": "StyleView",
            "description_width": ""
          }
        },
        "344b50eb2e934f758fbe33cec362cff6": {
          "model_module": "@jupyter-widgets/base",
          "model_name": "LayoutModel",
          "model_module_version": "1.2.0",
          "state": {
            "_model_module": "@jupyter-widgets/base",
            "_model_module_version": "1.2.0",
            "_model_name": "LayoutModel",
            "_view_count": null,
            "_view_module": "@jupyter-widgets/base",
            "_view_module_version": "1.2.0",
            "_view_name": "LayoutView",
            "align_content": null,
            "align_items": null,
            "align_self": null,
            "border": null,
            "bottom": null,
            "display": null,
            "flex": null,
            "flex_flow": null,
            "grid_area": null,
            "grid_auto_columns": null,
            "grid_auto_flow": null,
            "grid_auto_rows": null,
            "grid_column": null,
            "grid_gap": null,
            "grid_row": null,
            "grid_template_areas": null,
            "grid_template_columns": null,
            "grid_template_rows": null,
            "height": null,
            "justify_content": null,
            "justify_items": null,
            "left": null,
            "margin": null,
            "max_height": null,
            "max_width": null,
            "min_height": null,
            "min_width": null,
            "object_fit": null,
            "object_position": null,
            "order": null,
            "overflow": null,
            "overflow_x": null,
            "overflow_y": null,
            "padding": null,
            "right": null,
            "top": null,
            "visibility": null,
            "width": null
          }
        },
        "231df73067414ae5b51f978de58963c4": {
          "model_module": "@jupyter-widgets/controls",
          "model_name": "ProgressStyleModel",
          "model_module_version": "1.5.0",
          "state": {
            "_model_module": "@jupyter-widgets/controls",
            "_model_module_version": "1.5.0",
            "_model_name": "ProgressStyleModel",
            "_view_count": null,
            "_view_module": "@jupyter-widgets/base",
            "_view_module_version": "1.2.0",
            "_view_name": "StyleView",
            "bar_color": null,
            "description_width": ""
          }
        },
        "b2212c839bed430a863170cb054341de": {
          "model_module": "@jupyter-widgets/base",
          "model_name": "LayoutModel",
          "model_module_version": "1.2.0",
          "state": {
            "_model_module": "@jupyter-widgets/base",
            "_model_module_version": "1.2.0",
            "_model_name": "LayoutModel",
            "_view_count": null,
            "_view_module": "@jupyter-widgets/base",
            "_view_module_version": "1.2.0",
            "_view_name": "LayoutView",
            "align_content": null,
            "align_items": null,
            "align_self": null,
            "border": null,
            "bottom": null,
            "display": null,
            "flex": null,
            "flex_flow": null,
            "grid_area": null,
            "grid_auto_columns": null,
            "grid_auto_flow": null,
            "grid_auto_rows": null,
            "grid_column": null,
            "grid_gap": null,
            "grid_row": null,
            "grid_template_areas": null,
            "grid_template_columns": null,
            "grid_template_rows": null,
            "height": null,
            "justify_content": null,
            "justify_items": null,
            "left": null,
            "margin": null,
            "max_height": null,
            "max_width": null,
            "min_height": null,
            "min_width": null,
            "object_fit": null,
            "object_position": null,
            "order": null,
            "overflow": null,
            "overflow_x": null,
            "overflow_y": null,
            "padding": null,
            "right": null,
            "top": null,
            "visibility": null,
            "width": null
          }
        },
        "1d6517f2104940158e165d9617d19262": {
          "model_module": "@jupyter-widgets/controls",
          "model_name": "DescriptionStyleModel",
          "model_module_version": "1.5.0",
          "state": {
            "_model_module": "@jupyter-widgets/controls",
            "_model_module_version": "1.5.0",
            "_model_name": "DescriptionStyleModel",
            "_view_count": null,
            "_view_module": "@jupyter-widgets/base",
            "_view_module_version": "1.2.0",
            "_view_name": "StyleView",
            "description_width": ""
          }
        },
        "c54c1cd3bc04422999951971fc38c145": {
          "model_module": "@jupyter-widgets/controls",
          "model_name": "HBoxModel",
          "model_module_version": "1.5.0",
          "state": {
            "_dom_classes": [],
            "_model_module": "@jupyter-widgets/controls",
            "_model_module_version": "1.5.0",
            "_model_name": "HBoxModel",
            "_view_count": null,
            "_view_module": "@jupyter-widgets/controls",
            "_view_module_version": "1.5.0",
            "_view_name": "HBoxView",
            "box_style": "",
            "children": [
              "IPY_MODEL_44529833b0f34291879c0ccebcd62d1b",
              "IPY_MODEL_c0c06f8b8773449ba9b6b664c2a11a21",
              "IPY_MODEL_c9392282ca394eb29925600d6bf1582f"
            ],
            "layout": "IPY_MODEL_b9d5e1bea3de4ad08f8aeecc57fca1dc"
          }
        },
        "44529833b0f34291879c0ccebcd62d1b": {
          "model_module": "@jupyter-widgets/controls",
          "model_name": "HTMLModel",
          "model_module_version": "1.5.0",
          "state": {
            "_dom_classes": [],
            "_model_module": "@jupyter-widgets/controls",
            "_model_module_version": "1.5.0",
            "_model_name": "HTMLModel",
            "_view_count": null,
            "_view_module": "@jupyter-widgets/controls",
            "_view_module_version": "1.5.0",
            "_view_name": "HTMLView",
            "description": "",
            "description_tooltip": null,
            "layout": "IPY_MODEL_0fcd0b92972149f8a7cad65b69702625",
            "placeholder": "​",
            "style": "IPY_MODEL_610dc26cf822450e908edcc4d303bca4",
            "value": "Loading checkpoint shards: 100%"
          }
        },
        "c0c06f8b8773449ba9b6b664c2a11a21": {
          "model_module": "@jupyter-widgets/controls",
          "model_name": "FloatProgressModel",
          "model_module_version": "1.5.0",
          "state": {
            "_dom_classes": [],
            "_model_module": "@jupyter-widgets/controls",
            "_model_module_version": "1.5.0",
            "_model_name": "FloatProgressModel",
            "_view_count": null,
            "_view_module": "@jupyter-widgets/controls",
            "_view_module_version": "1.5.0",
            "_view_name": "ProgressView",
            "bar_style": "success",
            "description": "",
            "description_tooltip": null,
            "layout": "IPY_MODEL_4a91e237712e4a2cb76cf96cb8c85060",
            "max": 2,
            "min": 0,
            "orientation": "horizontal",
            "style": "IPY_MODEL_fca1f8ccb8934a02928da6aa678cd6c7",
            "value": 2
          }
        },
        "c9392282ca394eb29925600d6bf1582f": {
          "model_module": "@jupyter-widgets/controls",
          "model_name": "HTMLModel",
          "model_module_version": "1.5.0",
          "state": {
            "_dom_classes": [],
            "_model_module": "@jupyter-widgets/controls",
            "_model_module_version": "1.5.0",
            "_model_name": "HTMLModel",
            "_view_count": null,
            "_view_module": "@jupyter-widgets/controls",
            "_view_module_version": "1.5.0",
            "_view_name": "HTMLView",
            "description": "",
            "description_tooltip": null,
            "layout": "IPY_MODEL_4259d9ee6bcb488a940869d3b2149ed2",
            "placeholder": "​",
            "style": "IPY_MODEL_331f1e6d38e74907b1698b018c5f99d7",
            "value": " 2/2 [00:34&lt;00:00, 16.37s/it]"
          }
        },
        "b9d5e1bea3de4ad08f8aeecc57fca1dc": {
          "model_module": "@jupyter-widgets/base",
          "model_name": "LayoutModel",
          "model_module_version": "1.2.0",
          "state": {
            "_model_module": "@jupyter-widgets/base",
            "_model_module_version": "1.2.0",
            "_model_name": "LayoutModel",
            "_view_count": null,
            "_view_module": "@jupyter-widgets/base",
            "_view_module_version": "1.2.0",
            "_view_name": "LayoutView",
            "align_content": null,
            "align_items": null,
            "align_self": null,
            "border": null,
            "bottom": null,
            "display": null,
            "flex": null,
            "flex_flow": null,
            "grid_area": null,
            "grid_auto_columns": null,
            "grid_auto_flow": null,
            "grid_auto_rows": null,
            "grid_column": null,
            "grid_gap": null,
            "grid_row": null,
            "grid_template_areas": null,
            "grid_template_columns": null,
            "grid_template_rows": null,
            "height": null,
            "justify_content": null,
            "justify_items": null,
            "left": null,
            "margin": null,
            "max_height": null,
            "max_width": null,
            "min_height": null,
            "min_width": null,
            "object_fit": null,
            "object_position": null,
            "order": null,
            "overflow": null,
            "overflow_x": null,
            "overflow_y": null,
            "padding": null,
            "right": null,
            "top": null,
            "visibility": null,
            "width": null
          }
        },
        "0fcd0b92972149f8a7cad65b69702625": {
          "model_module": "@jupyter-widgets/base",
          "model_name": "LayoutModel",
          "model_module_version": "1.2.0",
          "state": {
            "_model_module": "@jupyter-widgets/base",
            "_model_module_version": "1.2.0",
            "_model_name": "LayoutModel",
            "_view_count": null,
            "_view_module": "@jupyter-widgets/base",
            "_view_module_version": "1.2.0",
            "_view_name": "LayoutView",
            "align_content": null,
            "align_items": null,
            "align_self": null,
            "border": null,
            "bottom": null,
            "display": null,
            "flex": null,
            "flex_flow": null,
            "grid_area": null,
            "grid_auto_columns": null,
            "grid_auto_flow": null,
            "grid_auto_rows": null,
            "grid_column": null,
            "grid_gap": null,
            "grid_row": null,
            "grid_template_areas": null,
            "grid_template_columns": null,
            "grid_template_rows": null,
            "height": null,
            "justify_content": null,
            "justify_items": null,
            "left": null,
            "margin": null,
            "max_height": null,
            "max_width": null,
            "min_height": null,
            "min_width": null,
            "object_fit": null,
            "object_position": null,
            "order": null,
            "overflow": null,
            "overflow_x": null,
            "overflow_y": null,
            "padding": null,
            "right": null,
            "top": null,
            "visibility": null,
            "width": null
          }
        },
        "610dc26cf822450e908edcc4d303bca4": {
          "model_module": "@jupyter-widgets/controls",
          "model_name": "DescriptionStyleModel",
          "model_module_version": "1.5.0",
          "state": {
            "_model_module": "@jupyter-widgets/controls",
            "_model_module_version": "1.5.0",
            "_model_name": "DescriptionStyleModel",
            "_view_count": null,
            "_view_module": "@jupyter-widgets/base",
            "_view_module_version": "1.2.0",
            "_view_name": "StyleView",
            "description_width": ""
          }
        },
        "4a91e237712e4a2cb76cf96cb8c85060": {
          "model_module": "@jupyter-widgets/base",
          "model_name": "LayoutModel",
          "model_module_version": "1.2.0",
          "state": {
            "_model_module": "@jupyter-widgets/base",
            "_model_module_version": "1.2.0",
            "_model_name": "LayoutModel",
            "_view_count": null,
            "_view_module": "@jupyter-widgets/base",
            "_view_module_version": "1.2.0",
            "_view_name": "LayoutView",
            "align_content": null,
            "align_items": null,
            "align_self": null,
            "border": null,
            "bottom": null,
            "display": null,
            "flex": null,
            "flex_flow": null,
            "grid_area": null,
            "grid_auto_columns": null,
            "grid_auto_flow": null,
            "grid_auto_rows": null,
            "grid_column": null,
            "grid_gap": null,
            "grid_row": null,
            "grid_template_areas": null,
            "grid_template_columns": null,
            "grid_template_rows": null,
            "height": null,
            "justify_content": null,
            "justify_items": null,
            "left": null,
            "margin": null,
            "max_height": null,
            "max_width": null,
            "min_height": null,
            "min_width": null,
            "object_fit": null,
            "object_position": null,
            "order": null,
            "overflow": null,
            "overflow_x": null,
            "overflow_y": null,
            "padding": null,
            "right": null,
            "top": null,
            "visibility": null,
            "width": null
          }
        },
        "fca1f8ccb8934a02928da6aa678cd6c7": {
          "model_module": "@jupyter-widgets/controls",
          "model_name": "ProgressStyleModel",
          "model_module_version": "1.5.0",
          "state": {
            "_model_module": "@jupyter-widgets/controls",
            "_model_module_version": "1.5.0",
            "_model_name": "ProgressStyleModel",
            "_view_count": null,
            "_view_module": "@jupyter-widgets/base",
            "_view_module_version": "1.2.0",
            "_view_name": "StyleView",
            "bar_color": null,
            "description_width": ""
          }
        },
        "4259d9ee6bcb488a940869d3b2149ed2": {
          "model_module": "@jupyter-widgets/base",
          "model_name": "LayoutModel",
          "model_module_version": "1.2.0",
          "state": {
            "_model_module": "@jupyter-widgets/base",
            "_model_module_version": "1.2.0",
            "_model_name": "LayoutModel",
            "_view_count": null,
            "_view_module": "@jupyter-widgets/base",
            "_view_module_version": "1.2.0",
            "_view_name": "LayoutView",
            "align_content": null,
            "align_items": null,
            "align_self": null,
            "border": null,
            "bottom": null,
            "display": null,
            "flex": null,
            "flex_flow": null,
            "grid_area": null,
            "grid_auto_columns": null,
            "grid_auto_flow": null,
            "grid_auto_rows": null,
            "grid_column": null,
            "grid_gap": null,
            "grid_row": null,
            "grid_template_areas": null,
            "grid_template_columns": null,
            "grid_template_rows": null,
            "height": null,
            "justify_content": null,
            "justify_items": null,
            "left": null,
            "margin": null,
            "max_height": null,
            "max_width": null,
            "min_height": null,
            "min_width": null,
            "object_fit": null,
            "object_position": null,
            "order": null,
            "overflow": null,
            "overflow_x": null,
            "overflow_y": null,
            "padding": null,
            "right": null,
            "top": null,
            "visibility": null,
            "width": null
          }
        },
        "331f1e6d38e74907b1698b018c5f99d7": {
          "model_module": "@jupyter-widgets/controls",
          "model_name": "DescriptionStyleModel",
          "model_module_version": "1.5.0",
          "state": {
            "_model_module": "@jupyter-widgets/controls",
            "_model_module_version": "1.5.0",
            "_model_name": "DescriptionStyleModel",
            "_view_count": null,
            "_view_module": "@jupyter-widgets/base",
            "_view_module_version": "1.2.0",
            "_view_name": "StyleView",
            "description_width": ""
          }
        }
      }
    }
  },
  "cells": [
    {
      "cell_type": "code",
      "execution_count": 1,
      "metadata": {
        "id": "Cxv45CO8PK--"
      },
      "outputs": [],
      "source": [
        "from transformers import T5Tokenizer, T5ForConditionalGeneration, AutoModelForCausalLM, AutoTokenizer, pipeline"
      ]
    },
    {
      "cell_type": "code",
      "source": [],
      "metadata": {
        "id": "YVf5L4cXPaX9"
      },
      "execution_count": null,
      "outputs": []
    },
    {
      "cell_type": "markdown",
      "source": [
        "## Translate\n",
        "\n",
        "- https://huggingface.co/google/madlad400-3b-mt\n",
        "- https://github.com/google-research/t5x"
      ],
      "metadata": {
        "id": "t2xWHoeKP0qB"
      }
    },
    {
      "cell_type": "code",
      "source": [
        "# model_name = 'jbochi/madlad400-3b-mt'\n",
        "# model = T5ForConditionalGeneration.from_pretrained(model_name, device_map=\"cpu\") #\n",
        "# # model = T5ForConditionalGeneration.from_pretrained(model_name, device_map=\"auto\")\n",
        "# tokenizer = T5Tokenizer.from_pretrained(model_name)"
      ],
      "metadata": {
        "colab": {
          "base_uri": "https://localhost:8080/",
          "height": 397,
          "referenced_widgets": [
            "301bcc8bf223472eba791cdc13f6672a",
            "fa94673b5f43449cbc66c0725b1eea5a",
            "226f4160c6b948c48f72fd69cbfe4fcc",
            "45df204cc448446fae0efb68537bae8c",
            "559b1e59217a4ac09deef80804056318",
            "41e0e8a0294a4759b3b85220a4b940e1",
            "9e977d0c162b40d1b3e877ed9ba644da",
            "bedd2fc03f934afeb7420f549a85ea98",
            "0b9830978b1f427ca2e406d4e64b214a",
            "200cc2a98d734ca9a4491399d6acf050",
            "4a73f3014a59403fad5a38465b2ae0e9",
            "ebfd0c9eee7c42488f9548c07b825794",
            "43bcacccb03a491c845e621b7f612f5b",
            "0975d36ee08c45b7b5dbc3cd53eba28e",
            "06fdfbb8b6944b2f97607db7edf1558d",
            "b241674964044d83b160466e7dfd24f2",
            "66eb547e898f4885a1f74e177d003c48",
            "09af488192084e3d98e45e2f6dfcb3a6",
            "b585d764ddcf4ab7984d7111fed9e3b5",
            "c7022f5a045c4507a05e1b8e29ea5835",
            "648ba8544a0e496c84abde78f044467d",
            "b59d16045fa34ca2b0bece8abc54f7ee",
            "03f34130f38f4ea081d7881b5611663a",
            "f5badc45a3d0495b982668cfe2a35284",
            "057075e1ce004bc29935617b18a035c9",
            "3686fb64c334498c9837dd7054d77f65",
            "f40f113d4c61406fb620197d05030635",
            "b4bb05d415fd4dfaa7f496b4c6606c5a",
            "ff0cb86d80d4458dad73dd2b95180a1e",
            "40b22131d53441ab8cd5917f99903bc3",
            "438995cac4954c6eac9f3711004da190",
            "69a2491db3d540d5bd94ac34b80a2ce7",
            "e6ba2aad26b64b2b8af7a971e2c921d2",
            "6519cb2a1f3641d0a3e424759dccba51",
            "5b47499ccc7f44e2bc19ff4baa9e60e1",
            "89923eaa58384196a7fe50cfe0c4256d",
            "3f3e820c398548478c3e59acfb0b90e6",
            "7bcda6a98a7d44bd9eee909c381d2a41",
            "87caea249aef485aa672f310be02a089",
            "88efa70f69c64641b3f756a3a6d85808",
            "884105c4b65041149a5a622c9e97fa54",
            "4c0c77c418bb4ad7959a28e1d0c82141",
            "e8515f6c5ddc4903b222419bb42e6763",
            "60e763701d634819acdde8c8089d74da",
            "48d2359b4a7143d79c686242eae9db3e",
            "cc0a6d77f4c8479ab2eeeebbb9e8505f",
            "53f7fab9fbd145ccbc45349aeec6d399",
            "c318715e9ae6413789a281e89cab5971",
            "8eb6f49239ba457c81311d81815cb357",
            "d487072c485b47bdb72d55684316851d",
            "b70d763c8fa249589fc81ea93ad93ef6",
            "eb4cc198d5be4971b7ba06ab7dd90704",
            "b1d745193f5541ad85641fcad6e6fbf8",
            "4b9a0aab880548d0b97d775eeed50f69",
            "35d01b6e39ee4ecf9ba29660aef44817",
            "0159dd8f90384d44a3138d1725300cb5",
            "c7e8766a18334bafa6aa9cec0b6ce027",
            "336083c9648946d9a5105d872c187875",
            "f6cbf5bf60b843208c4819218d97c05a",
            "54715a70896a45c8b0e5ea8927153dcf",
            "c12fa01891e94e6080489725af4ecb1f",
            "e1d576166781431facd7ac4117adf9f7",
            "936d26ba03ff4b36b302ed896ec5c348",
            "5335038a7ecb423b9683dd1905716f2a",
            "911c330452864b5bbb2490e4f5f98463",
            "1b7825ab29a84f308f635d0cb7a28779",
            "fd49840a10d842d49aa46a39e28560b3",
            "92cf3fd98e094c1dabbb2a98b3d9e811",
            "cb4f9f47a68a42ad9eac6d84d86e9195",
            "8eef8236e1794628a35be054c735121b",
            "b8dbcd64e5a541ac82bf0e7a4c1c27ca",
            "4a2e0170216d483b98c8719356b91838",
            "66b536e761bb455792f15de9a814b31f",
            "af4b6c3d279e4b549e587276bde1a42f",
            "f629932add3648e8b6f8f02274869025",
            "4b06abc5a9214b98849b51b9a3b55ffa",
            "1a1b1cd183ed4d32ba62941974c2e27b",
            "e367cab197694a2fbf13d58e12b21122",
            "2ca64d78176c4e289d0f12ee152d7bd6",
            "819ae7f3c991441593c265d6507f7973",
            "f354ba908e4840189d7cd54999179af3",
            "ec1f19f91f3b465d8018e88c93d106a3",
            "57e3a0e7a1174b65bb73db8cfc31cb86",
            "73b995c542234401bcd5d782042c5d84",
            "344b50eb2e934f758fbe33cec362cff6",
            "231df73067414ae5b51f978de58963c4",
            "b2212c839bed430a863170cb054341de",
            "1d6517f2104940158e165d9617d19262"
          ]
        },
        "id": "nvKQGmQiP6Y_",
        "outputId": "b6afdffe-c204-4072-83df-34c3251fb328"
      },
      "execution_count": 3,
      "outputs": [
        {
          "output_type": "stream",
          "name": "stderr",
          "text": [
            "/usr/local/lib/python3.11/dist-packages/huggingface_hub/utils/_auth.py:94: UserWarning: \n",
            "The secret `HF_TOKEN` does not exist in your Colab secrets.\n",
            "To authenticate with the Hugging Face Hub, create a token in your settings tab (https://huggingface.co/settings/tokens), set it as secret in your Google Colab and restart your session.\n",
            "You will be able to reuse this secret in all of your notebooks.\n",
            "Please note that authentication is recommended but still optional to access public models or datasets.\n",
            "  warnings.warn(\n"
          ]
        },
        {
          "output_type": "display_data",
          "data": {
            "text/plain": [
              "config.json:   0%|          | 0.00/749 [00:00<?, ?B/s]"
            ],
            "application/vnd.jupyter.widget-view+json": {
              "version_major": 2,
              "version_minor": 0,
              "model_id": "301bcc8bf223472eba791cdc13f6672a"
            }
          },
          "metadata": {}
        },
        {
          "output_type": "display_data",
          "data": {
            "text/plain": [
              "model.safetensors:   0%|          | 0.00/11.8G [00:00<?, ?B/s]"
            ],
            "application/vnd.jupyter.widget-view+json": {
              "version_major": 2,
              "version_minor": 0,
              "model_id": "ebfd0c9eee7c42488f9548c07b825794"
            }
          },
          "metadata": {}
        },
        {
          "output_type": "display_data",
          "data": {
            "text/plain": [
              "generation_config.json:   0%|          | 0.00/142 [00:00<?, ?B/s]"
            ],
            "application/vnd.jupyter.widget-view+json": {
              "version_major": 2,
              "version_minor": 0,
              "model_id": "03f34130f38f4ea081d7881b5611663a"
            }
          },
          "metadata": {}
        },
        {
          "output_type": "display_data",
          "data": {
            "text/plain": [
              "tokenizer_config.json:   0%|          | 0.00/830 [00:00<?, ?B/s]"
            ],
            "application/vnd.jupyter.widget-view+json": {
              "version_major": 2,
              "version_minor": 0,
              "model_id": "6519cb2a1f3641d0a3e424759dccba51"
            }
          },
          "metadata": {}
        },
        {
          "output_type": "display_data",
          "data": {
            "text/plain": [
              "spiece.model:   0%|          | 0.00/4.43M [00:00<?, ?B/s]"
            ],
            "application/vnd.jupyter.widget-view+json": {
              "version_major": 2,
              "version_minor": 0,
              "model_id": "48d2359b4a7143d79c686242eae9db3e"
            }
          },
          "metadata": {}
        },
        {
          "output_type": "display_data",
          "data": {
            "text/plain": [
              "added_tokens.json:   0%|          | 0.00/4.00 [00:00<?, ?B/s]"
            ],
            "application/vnd.jupyter.widget-view+json": {
              "version_major": 2,
              "version_minor": 0,
              "model_id": "0159dd8f90384d44a3138d1725300cb5"
            }
          },
          "metadata": {}
        },
        {
          "output_type": "display_data",
          "data": {
            "text/plain": [
              "special_tokens_map.json:   0%|          | 0.00/414 [00:00<?, ?B/s]"
            ],
            "application/vnd.jupyter.widget-view+json": {
              "version_major": 2,
              "version_minor": 0,
              "model_id": "fd49840a10d842d49aa46a39e28560b3"
            }
          },
          "metadata": {}
        },
        {
          "output_type": "display_data",
          "data": {
            "text/plain": [
              "tokenizer.json:   0%|          | 0.00/16.6M [00:00<?, ?B/s]"
            ],
            "application/vnd.jupyter.widget-view+json": {
              "version_major": 2,
              "version_minor": 0,
              "model_id": "e367cab197694a2fbf13d58e12b21122"
            }
          },
          "metadata": {}
        }
      ]
    },
    {
      "cell_type": "code",
      "source": [
        "# def translate(text, lang): # lang = ru, en\n",
        "#   text = f\"<2{lang}> I love pizza!\"\n",
        "#   input_ids = tokenizer(text, return_tensors=\"pt\").input_ids.to(model.device)\n",
        "#   outputs = model.generate(input_ids=input_ids)\n",
        "\n",
        "#   return tokenizer.decode(outputs[0], skip_special_tokens=True)"
      ],
      "metadata": {
        "id": "M4wfRfHaPafQ"
      },
      "execution_count": 4,
      "outputs": []
    },
    {
      "cell_type": "code",
      "source": [
        "%%time\n",
        "translate('I love pizza!', 'ru') # on cpu"
      ],
      "metadata": {
        "colab": {
          "base_uri": "https://localhost:8080/",
          "height": 70
        },
        "id": "rpAErcLjPajo",
        "outputId": "23669667-9016-4127-deaf-374dde2c953a"
      },
      "execution_count": 6,
      "outputs": [
        {
          "output_type": "stream",
          "name": "stdout",
          "text": [
            "CPU times: user 6.21 s, sys: 2.02 s, total: 8.23 s\n",
            "Wall time: 28.3 s\n"
          ]
        },
        {
          "output_type": "execute_result",
          "data": {
            "text/plain": [
              "'Я люблю пиццу!'"
            ],
            "application/vnd.google.colaboratory.intrinsic+json": {
              "type": "string"
            }
          },
          "metadata": {},
          "execution_count": 6
        }
      ]
    },
    {
      "cell_type": "code",
      "source": [
        "pipe_to_ru = pipeline(\"translation\", model=\"Helsinki-NLP/opus-mt-en-ru\")"
      ],
      "metadata": {
        "colab": {
          "base_uri": "https://localhost:8080/"
        },
        "id": "K3UrJQgKU63F",
        "outputId": "3e871d2d-9ad7-4bd1-a24b-a15800ddf2da"
      },
      "execution_count": 2,
      "outputs": [
        {
          "output_type": "stream",
          "name": "stderr",
          "text": [
            "/usr/local/lib/python3.11/dist-packages/huggingface_hub/utils/_auth.py:94: UserWarning: \n",
            "The secret `HF_TOKEN` does not exist in your Colab secrets.\n",
            "To authenticate with the Hugging Face Hub, create a token in your settings tab (https://huggingface.co/settings/tokens), set it as secret in your Google Colab and restart your session.\n",
            "You will be able to reuse this secret in all of your notebooks.\n",
            "Please note that authentication is recommended but still optional to access public models or datasets.\n",
            "  warnings.warn(\n",
            "/usr/local/lib/python3.11/dist-packages/transformers/models/marian/tokenization_marian.py:175: UserWarning: Recommended: pip install sacremoses.\n",
            "  warnings.warn(\"Recommended: pip install sacremoses.\")\n",
            "Device set to use cuda:0\n"
          ]
        }
      ]
    },
    {
      "cell_type": "code",
      "source": [
        "pipe_to_en = pipeline(\"translation\", model=\"Helsinki-NLP/opus-mt-ru-en\")"
      ],
      "metadata": {
        "colab": {
          "base_uri": "https://localhost:8080/"
        },
        "id": "6AG2k0mkVS9K",
        "outputId": "953f4c37-2d3b-420d-aa9e-9bfe39b8cf69"
      },
      "execution_count": 3,
      "outputs": [
        {
          "output_type": "stream",
          "name": "stderr",
          "text": [
            "Device set to use cuda:0\n"
          ]
        }
      ]
    },
    {
      "cell_type": "code",
      "source": [
        "%%time\n",
        "pipe_to_ru('I love pizza!')"
      ],
      "metadata": {
        "colab": {
          "base_uri": "https://localhost:8080/"
        },
        "id": "C1Cd_b3XU82A",
        "outputId": "6abcacbd-2d5b-4607-a1ce-7de55604670a"
      },
      "execution_count": 16,
      "outputs": [
        {
          "output_type": "stream",
          "name": "stdout",
          "text": [
            "CPU times: user 347 ms, sys: 225 ms, total: 572 ms\n",
            "Wall time: 1.46 s\n"
          ]
        },
        {
          "output_type": "execute_result",
          "data": {
            "text/plain": [
              "[{'translation_text': 'Я люблю пиццу!'}]"
            ]
          },
          "metadata": {},
          "execution_count": 16
        }
      ]
    },
    {
      "cell_type": "code",
      "source": [
        "%%time\n",
        "pipe_to_en('Я люблю пиццу!')"
      ],
      "metadata": {
        "colab": {
          "base_uri": "https://localhost:8080/"
        },
        "id": "SWTl6JZRU84X",
        "outputId": "6e25f008-d94d-4f99-a45b-ff7b2b241e9d"
      },
      "execution_count": 19,
      "outputs": [
        {
          "output_type": "stream",
          "name": "stdout",
          "text": [
            "CPU times: user 93.3 ms, sys: 0 ns, total: 93.3 ms\n",
            "Wall time: 93.5 ms\n"
          ]
        },
        {
          "output_type": "execute_result",
          "data": {
            "text/plain": [
              "[{'translation_text': 'I love pizza!'}]"
            ]
          },
          "metadata": {},
          "execution_count": 19
        }
      ]
    },
    {
      "cell_type": "markdown",
      "source": [
        "## Base model\n",
        "\n",
        "https://huggingface.co/microsoft/Phi-3-mini-4k-instruct"
      ],
      "metadata": {
        "id": "WXDPGca_Vx_6"
      }
    },
    {
      "cell_type": "code",
      "source": [
        "model = AutoModelForCausalLM.from_pretrained(\n",
        "    \"microsoft/Phi-3-mini-4k-instruct\",\n",
        "    device_map=\"cuda\",\n",
        "    torch_dtype=\"auto\",\n",
        "    trust_remote_code=True,\n",
        ")\n",
        "tokenizer = AutoTokenizer.from_pretrained(\"microsoft/Phi-3-mini-4k-instruct\")\n",
        "\n",
        "# Create a pipeline\n",
        "pipe = pipeline(\n",
        "    \"text-generation\",\n",
        "    model=model,\n",
        "    tokenizer=tokenizer,\n",
        "    return_full_text=False,\n",
        "    max_new_tokens=500,\n",
        "    do_sample=False,\n",
        ")"
      ],
      "metadata": {
        "colab": {
          "base_uri": "https://localhost:8080/",
          "height": 121,
          "referenced_widgets": [
            "c54c1cd3bc04422999951971fc38c145",
            "44529833b0f34291879c0ccebcd62d1b",
            "c0c06f8b8773449ba9b6b664c2a11a21",
            "c9392282ca394eb29925600d6bf1582f",
            "b9d5e1bea3de4ad08f8aeecc57fca1dc",
            "0fcd0b92972149f8a7cad65b69702625",
            "610dc26cf822450e908edcc4d303bca4",
            "4a91e237712e4a2cb76cf96cb8c85060",
            "fca1f8ccb8934a02928da6aa678cd6c7",
            "4259d9ee6bcb488a940869d3b2149ed2",
            "331f1e6d38e74907b1698b018c5f99d7"
          ]
        },
        "id": "-SSX0cH9V1Wa",
        "outputId": "e74a01ae-8a57-4ca5-f57b-9db9f6c8d0c2"
      },
      "execution_count": 4,
      "outputs": [
        {
          "output_type": "stream",
          "name": "stderr",
          "text": [
            "WARNING:transformers_modules.microsoft.Phi-3-mini-4k-instruct.0a67737cc96d2554230f90338b163bc6380a2a85.modeling_phi3:`flash-attention` package not found, consider installing for better performance: No module named 'flash_attn'.\n",
            "WARNING:transformers_modules.microsoft.Phi-3-mini-4k-instruct.0a67737cc96d2554230f90338b163bc6380a2a85.modeling_phi3:Current `flash-attention` does not support `window_size`. Either upgrade or use `attn_implementation='eager'`.\n"
          ]
        },
        {
          "output_type": "display_data",
          "data": {
            "text/plain": [
              "Loading checkpoint shards:   0%|          | 0/2 [00:00<?, ?it/s]"
            ],
            "application/vnd.jupyter.widget-view+json": {
              "version_major": 2,
              "version_minor": 0,
              "model_id": "c54c1cd3bc04422999951971fc38c145"
            }
          },
          "metadata": {}
        },
        {
          "output_type": "stream",
          "name": "stderr",
          "text": [
            "Device set to use cuda\n"
          ]
        }
      ]
    },
    {
      "cell_type": "code",
      "source": [
        "def pred(msg, temperature=None, top_p=None):\n",
        "  messages = []\n",
        "  for i in msg:\n",
        "    tmp = dict()\n",
        "    for key, value in i.items():\n",
        "      if key != 'role':\n",
        "        tmp[key] = pipe_to_en(value)[0]['translation_text']\n",
        "      else:\n",
        "        tmp[key] = value\n",
        "    messages.append(tmp)\n",
        "  print(messages)\n",
        "\n",
        "  if not temperature and not top_p:\n",
        "    output = pipe(messages)\n",
        "  elif temperature and not top_p:\n",
        "    output = pipe(messages, temperature=temperature)\n",
        "  elif not temperature and top_p:\n",
        "    output = pipe(messages, top_p=top_p)\n",
        "  else:\n",
        "    output = pipe(messages, temperature=temperature, top_p=top_p)\n",
        "\n",
        "\n",
        "\n",
        "  result = pipe_to_ru(output[0]['generated_text'])\n",
        "  return result[0]['translation_text']\n"
      ],
      "metadata": {
        "id": "nF_5e40tVrEV"
      },
      "execution_count": 90,
      "outputs": []
    },
    {
      "cell_type": "code",
      "source": [
        "messages = [\n",
        "    {\"role\": \"user\", \"content\": \"Создай рассказ об x\"},\n",
        "    {\"role\": \"system\", \"content\": \"Create 123\"}\n",
        "]\n",
        "pred(messages)"
      ],
      "metadata": {
        "colab": {
          "base_uri": "https://localhost:8080/",
          "height": 191
        },
        "id": "Tnepb9q5XfSr",
        "outputId": "ec53b1c0-e20b-45ee-dec6-4fb72b757598"
      },
      "execution_count": 19,
      "outputs": [
        {
          "output_type": "stream",
          "name": "stderr",
          "text": [
            "You seem to be using the pipelines sequentially on GPU. In order to maximize efficiency please use a dataset\n"
          ]
        },
        {
          "output_type": "stream",
          "name": "stdout",
          "text": [
            "[{'role': 'user', 'content': 'Create a story about x'}, {'role': 'system', 'content': 'Create 123'}]\n"
          ]
        },
        {
          "output_type": "execute_result",
          "data": {
            "text/plain": [
              "'Когда-то, в далёкой стране, жила молодая девочка по имени Лили. Она была известна по всей деревне своим добрым сердцем и любовью к приключениям. Однажды, изучая густый лес возле своего дома, Лили наткнулась на загадочный, светящийся камень. Камень, бульдозером которого была другая мировая энергия, и как только она прикоснулась к нему, она была доставлена в магическое пространство, полное мифических созданий и зачарованных лесов. В этом новом мире, Лили встретила мудрого старого волшебника по имени Мерлин, который объяснил, что этот камень является мощным артефактом, известным как «Х», который имел возможность дать наследнику одно единственное желание. Однако использование Х было сопряжено с большой ответственностью, так как оно также могло принести большую опасность и хаос, если оно было беззаботно использовано. Лили, желая помочь тем, кто в нем нуждался, она решила использовать X для того, чтобы принести людям волшебного мира благополучие и счастье. Она пожелала положить конец страданиям, причиня ужасную засуху, которая обрушилась на земле годами. В тот момент, открылось лы, и проли дожде, и шел дождь, ради жизни и пасть на земле.'"
            ],
            "application/vnd.google.colaboratory.intrinsic+json": {
              "type": "string"
            }
          },
          "metadata": {},
          "execution_count": 19
        }
      ]
    },
    {
      "cell_type": "code",
      "source": [
        "len('Когда-то, в далёкой стране, жила молодая девочка по имени Лили. Она была известна по всей деревне своим добрым сердцем и любовью к приключениям. Однажды, изучая густый лес возле своего дома, Лили наткнулась на загадочный, светящийся камень. Камень, бульдозером которого была другая мировая энергия, и как только она прикоснулась к нему, она была доставлена в магическое пространство, полное мифических созданий и зачарованных лесов. В этом новом мире, Лили встретила мудрого старого волшебника по имени Мерлин, который объяснил, что этот камень является мощным артефактом, известным как «Х», который имел возможность дать наследнику одно единственное желание. Однако использование Х было сопряжено с большой ответственностью, так как оно также могло принести большую опасность и хаос, если оно было беззаботно использовано. Лили, желая помочь тем, кто в нем нуждался, она решила использовать X для того, чтобы принести людям волшебного мира благополучие и счастье. Она пожелала положить конец страданиям, причиня ужасную засуху, которая обрушилась на земле годами. В тот момент, открылось лы, и проли дожде, и шел дождь, ради жизни и пасть на земле.')"
      ],
      "metadata": {
        "colab": {
          "base_uri": "https://localhost:8080/"
        },
        "id": "tMN_J37-aGJH",
        "outputId": "db38bea5-d2e8-4222-8909-859d1354c8c1"
      },
      "execution_count": 15,
      "outputs": [
        {
          "output_type": "execute_result",
          "data": {
            "text/plain": [
              "1149"
            ]
          },
          "metadata": {},
          "execution_count": 15
        }
      ]
    },
    {
      "cell_type": "markdown",
      "source": [
        "## Задание"
      ],
      "metadata": {
        "id": "XdznXBy1aZkH"
      }
    },
    {
      "cell_type": "markdown",
      "source": [
        "## 1. Zero-Shot Инструкция\n",
        "\n",
        "**Цель**: продемонстрировать, что даже без примеров (zero-shot) модель может понять задачу, если она описана достаточно чётко.\n",
        "\n",
        "**Задание**:\n",
        "1. Выберите любую модель (например, `google/flan-t5-small`) и настройте пайплайн генерации текста.\n",
        "2. Сформулируйте короткий промт (1–2 предложения), который просит модель:\n",
        "   - дать определение термина (например, «блокчейн», «иммунизирующее вещество» и т.д.) простым языком;\n",
        "   - ограничить размер ответа (например, «не более 40 слов»).\n",
        "3. Наблюдайте результат. Затем измените промт так, чтобы ответ стал более конкретным (попросите привести пример).\n",
        "4. Сравните ответы — опишите, что изменилось после уточнения промта.\n",
        "\n",
        "**Критерии успеха**:\n",
        "- Модель выдаёт осмысленный ответ.\n",
        "- Студент чётко описал, чем отличается первый ответ (zero-shot) от уточнённого."
      ],
      "metadata": {
        "id": "k7XBTKmvahta"
      }
    },
    {
      "cell_type": "code",
      "source": [
        "messages = [\n",
        "    {\"role\": \"user\", \"content\": '''Роль: эксперт в биологии. Инструкция: раскрой значения термина фотосинтез.\n",
        "    Контекст: изложи данное понятие доступно и кратко в 40 слов\n",
        "    .'''},\n",
        "]\n",
        "pred(messages)"
      ],
      "metadata": {
        "colab": {
          "base_uri": "https://localhost:8080/",
          "height": 90
        },
        "id": "zKW50mGNiJXj",
        "outputId": "12d7ccae-3202-4cb5-c478-1e4d9027416e"
      },
      "execution_count": 34,
      "outputs": [
        {
          "output_type": "stream",
          "name": "stdout",
          "text": [
            "[{'role': 'user', 'content': 'Role: Expert in biology: Instruction: Open up the meaning of photosynthesis. Context: state this concept in 40 words.'}]\n"
          ]
        },
        {
          "output_type": "execute_result",
          "data": {
            "text/plain": [
              "'Фотосинтез представляет собой процесс, в рамках которого зеленые растения, водоросли и некоторые бактерии преобразуют световую энергию, обычно от солнца, в химическую энергию в виде глюкозы, используя воду и углекислый газ и выделяя кислород в качестве побочного продукта.'"
            ],
            "application/vnd.google.colaboratory.intrinsic+json": {
              "type": "string"
            }
          },
          "metadata": {},
          "execution_count": 34
        }
      ]
    },
    {
      "cell_type": "code",
      "source": [
        "messages = [\n",
        "    {\"role\": \"user\", \"content\": '''Роль: эксперт в биологии. Инструкция: раскрой значения термина фотосинтез.\n",
        "    Контекст: изложи данное понятие доступно и кратко в 40 слов\n",
        "    Формат: сначала привели определение, а потом пример'''},\n",
        "]\n",
        "pred(messages)"
      ],
      "metadata": {
        "colab": {
          "base_uri": "https://localhost:8080/",
          "height": 107
        },
        "id": "WUnXUnyBaUUn",
        "outputId": "721bf3f1-61bc-4a09-faf4-52ac9f394914"
      },
      "execution_count": 29,
      "outputs": [
        {
          "output_type": "stream",
          "name": "stdout",
          "text": [
            "[{'role': 'user', 'content': 'Role: An expert in biology: Instruction: Open up the meaning of photosynthesis. Context: state the term in 40 words The Format: First gave a definition and then an example.'}]\n"
          ]
        },
        {
          "output_type": "execute_result",
          "data": {
            "text/plain": [
              "'Фотосинтез — это процесс, в рамках которого зеленые растения, водоросли и некоторые бактерии преобразуют световую энергию в химическую энергию, сохраняя ее в глюкозе. Пример: подсолнух использует фотосинтез для преобразования солнечного света в энергию, подпитывая ее рост.'"
            ],
            "application/vnd.google.colaboratory.intrinsic+json": {
              "type": "string"
            }
          },
          "metadata": {},
          "execution_count": 29
        }
      ]
    },
    {
      "cell_type": "markdown",
      "source": [
        "**Вывод:**\n",
        "С помощью добаления инструкции format можно направить нейросеть на раскрытие определенных аспектов заданной области.\n"
      ],
      "metadata": {
        "id": "taMBEmm2iaGN"
      }
    },
    {
      "cell_type": "markdown",
      "source": [
        "## 2. Приём «Роль и стиль» (Role + Style Prompt)\n",
        "\n",
        "**Цель**: научиться управлять «тоном» и «ролью» модели, чтобы ответ был в нужном стиле.\n",
        "\n",
        "**Задание**:\n",
        "1. Сформулируйте промт: «Ты — [роль], напиши текст в стиле [указать стиль]…».\n",
        "   - Пример роли: «редактор научных журналов», «литературный критик», «юмористический блогер» и т.д.\n",
        "   - Пример стиля: «формальный», «дружелюбный», «саркастический» и т.д.\n",
        "2. Предложите модели сгенерировать небольшой текст (5–7 предложений) на заданную тему (например, обзор нового фильма, описание учебного курса).\n",
        "3. Сравните тексты для разных ролей/стилей. Как меняется лексика, тон, формулировки?\n",
        "\n",
        "**Критерии успеха**:\n",
        "- ПОказано минимум два разных стиля (два запуска модели) и указаны отличия.\n",
        "- Выполнен краткий анализ, насколько модель следует заданной роли."
      ],
      "metadata": {
        "id": "0ncFtGwpj5mS"
      }
    },
    {
      "cell_type": "code",
      "source": [
        "messages = [\n",
        "    {\"role\": \"user\", \"content\": '''Ты на - шеф-повар, напиши текст в художественном стиле о приготовлении пиццы.Составь от 5 до 7 предложений, раскрывающих суть темы\n",
        "  '''},\n",
        "]\n",
        "pred(messages)"
      ],
      "metadata": {
        "colab": {
          "base_uri": "https://localhost:8080/",
          "height": 159
        },
        "id": "_9XK41NCj4qn",
        "outputId": "7e5f1a6c-4a23-49ef-a533-f77814efce40"
      },
      "execution_count": 40,
      "outputs": [
        {
          "output_type": "stream",
          "name": "stdout",
          "text": [
            "[{'role': 'user', 'content': \"You're a chef, write an artistic text about making pizza. Make between 5 and 7 sentences to explain the subject.\"}]\n"
          ]
        },
        {
          "output_type": "execute_result",
          "data": {
            "text/plain": [
              "'В качестве шеф-повара я нахожу искусство пиццы, делающей из себя восхитительный танец вкусов и текстуры. Процесс начинается с создания шелковистого, эластичного теста, кнута с любовью и заботой. Затем тест мягко растягивается и формируется, формируя идеальный холст для энергичных напитков. Распространяется щедрый слой богатого томатного соуса, за которым следует симфония свежих ингредиентов, от суккуленного мяса до ароматических трав. Пицца затем выпекается до совершенства, корка становится золотой и хрустящей, в то время как сыр плавится в гуи, неотразимое одеяло. Последний шедевр - это гармоничное сочетание ароматов, текстуров и цветов, истинное произведение искусства, которое радует чувства и согревает душу.'"
            ],
            "application/vnd.google.colaboratory.intrinsic+json": {
              "type": "string"
            }
          },
          "metadata": {},
          "execution_count": 40
        }
      ]
    },
    {
      "cell_type": "code",
      "source": [
        "messages = [\n",
        "    {\"role\": \"user\", \"content\": '''Ты - шеф-повар, напиши текст в научном стиле о приготовлении пиццы.Составь от 5 до 7 предложений, раскрывающих суть темы\n",
        "  '''},\n",
        "]\n",
        "pred(messages)"
      ],
      "metadata": {
        "colab": {
          "base_uri": "https://localhost:8080/",
          "height": 194
        },
        "id": "4zzLQgBWemGF",
        "outputId": "701c80a5-f54b-41e2-8d58-485c825036da"
      },
      "execution_count": 41,
      "outputs": [
        {
          "output_type": "stream",
          "name": "stdout",
          "text": [
            "[{'role': 'user', 'content': \"You're a chef, write a scientific text about making pizza. Make between 5 and 7 sentences to explain the subject.\"}]\n"
          ]
        },
        {
          "output_type": "execute_result",
          "data": {
            "text/plain": [
              "'Процесс производства пиццы включает в себя ряд научных принципов и методов, способствующих его вкусу. Во-первых, тесто готовится путем сочетания муки, воды, дрожжей и соли, которые подвергаются ферментации, биологического процесса, в котором дрожжи потребляют сахар и производят газ диоксида углерода, что приводит к росту теста. Затем тесто скручивается для развития глютена, белковой сети, которая даёт корке пиццы ее жвачную текстуру. После отдыха тест выкачивается и накачивается томатным соусом, сыром и различными ингредиентами, которые затем печутся в горячей печи. Мейльардская реакция, химическая реакция между аминокислотами и снижением сахара, происходит во время выпекания, создавая золотую корку и сложный ароматический профиль. Высокая теплота также заставляет сыр плавиться, а соус густится, создает вкусную и удовлетворительную пиццу. В целом наука о пицце включает сочетание биологических, химических и физических процессов, которые приводят к восхитному и приятному блюдению.'"
            ],
            "application/vnd.google.colaboratory.intrinsic+json": {
              "type": "string"
            }
          },
          "metadata": {},
          "execution_count": 41
        }
      ]
    },
    {
      "cell_type": "code",
      "source": [
        "messages = [\n",
        "    {\"role\": \"user\", \"content\": '''Ты - профессор по химии, напиши текст в художественном стиле о приготовлении пиццы.Составь от 5 до 7 предложений, раскрывающих суть темы\n",
        "  '''},\n",
        "]\n",
        "pred(messages)"
      ],
      "metadata": {
        "colab": {
          "base_uri": "https://localhost:8080/",
          "height": 159
        },
        "id": "KC5t_HNfmGsN",
        "outputId": "e8af7ce6-ee04-4bea-9639-edc63e275849"
      },
      "execution_count": 43,
      "outputs": [
        {
          "output_type": "stream",
          "name": "stdout",
          "text": [
            "[{'role': 'user', 'content': \"You're a chemistry professor, write an art-style text about pizza making. Make between 5 and 7 sentences explaining the subject.\"}]\n"
          ]
        },
        {
          "output_type": "execute_result",
          "data": {
            "text/plain": [
              "'В алхимическом танце пиццы, тест — это холст, и ингредиенты — это пигменты, которые приносят шедевр. Мука, вода, дрожжи и соль — это первичные цвета, смешивающие и преобразующие под нежным прикосновением рук пекарня. По мере увеличения теста он вдыхает жизнь в творение, расширение и размягчение, как и щетки художника на пустом холсте. Соус, живой красный — это первый слой цвета, богатый ароматами томатов, трав и специй. Сыр, золотой хватка, плавка и сладости соусом, создающий связную текстуру и глубину. Потрошения, калейдоскоп цветов и ароматов — это последние прикосновения, каждый из которых добавляет свой уникальный характер к составу. И когда пицца выпекается, тепло преобразует ингредиенты, создает симфонию ароматов и текстуры, которые одновременно являются праздником для чувств и произведения искусства.'"
            ],
            "application/vnd.google.colaboratory.intrinsic+json": {
              "type": "string"
            }
          },
          "metadata": {},
          "execution_count": 43
        }
      ]
    },
    {
      "cell_type": "code",
      "source": [
        "messages = [\n",
        "    {\"role\": \"user\", \"content\": '''Ты - профессор по химии, напиши текст в научном стиле о приготовлении пиццы.Составь от 5 до 7 предложений, раскрывающих суть темы\n",
        "  '''},\n",
        "]\n",
        "pred(messages)"
      ],
      "metadata": {
        "colab": {
          "base_uri": "https://localhost:8080/",
          "height": 194
        },
        "id": "H83rt3-GemNH",
        "outputId": "67a8242a-1b29-4c15-ba6c-291ae2715917"
      },
      "execution_count": 42,
      "outputs": [
        {
          "output_type": "stream",
          "name": "stdout",
          "text": [
            "[{'role': 'user', 'content': \"You're a chemistry professor, write a scientific text about making pizza. Make between 5 and 7 sentences explaining the subject.\"}]\n"
          ]
        },
        {
          "output_type": "execute_result",
          "data": {
            "text/plain": [
              "'Производство пиццы - это кулинарный процесс, который включает в себя серию химических реакций и трансформаций. Душ, являющийся основой пиццы, состоит из комбинирования муки, воды, дрожжей и соли. Дрожжи, живой организм, подвергаются ферментации, вырабатывают газ диоксида углерода, который поднимается. Этот процесс, известный как осадок, приводит к легкой и воздушной текстуре. Соус, обычно производимый из помидоров, проходит процесс, называемый сокращением, когда содержание воды испаряется, концентрируется ароматы и густой соус. Сыр, обычно моззарелла, растает при нагревании, из-за белков и жиров в сыре, который претерпевает фазу изменения из твердого в жидкость. Этот процесс плавки, известный как уплотнение, создает гусиный и восхитительный процесс. Этот процесс смешан с гладким продуктом, испаривается с помощью гладких процессов. Этот процесс химости вызывает мая реакция, химическая реакция между аминокислотами и снижением сахара, который дает пице свой характер коровой корону и богатый аромат. В процессе хвой хвой и хвой химый продукт, и химый химый химый продукт - это халый продукт, и халый хоресный хоресный продукт - это х, и химый химый х, и химый химый халый химый халый продукт, и халый халый халый хуй хм, и хм, и хуй х, и хм, и халый х, и хим, который хим, и хм, и хим, и хм, и химый хим, и химый хим, и хим, и хим, и хим, хм, и хим, и химый хим, и химый химый химый хм,'"
            ],
            "application/vnd.google.colaboratory.intrinsic+json": {
              "type": "string"
            }
          },
          "metadata": {},
          "execution_count": 42
        }
      ]
    },
    {
      "cell_type": "markdown",
      "source": [
        "**Вывод:**\n",
        "При изменении стиля и роли модель пытаестся им следовать.\n",
        "\n",
        "В первых 2-х вариантах модель рассказывала о процессе с точки зрения шеф-повара, и описывала процесс со стороны близкой к пошаговой инструкции\n",
        "\n",
        "При изменении роли на 'профессор по химии' модель стала описывать процесс с точки зрения химических процессов, которые поисходят при приготовлении"
      ],
      "metadata": {
        "id": "is1ICJq7mfHs"
      }
    },
    {
      "cell_type": "markdown",
      "source": [
        "## 3. Few-Shot Пример (Обучение на примерах)\n",
        "\n",
        "**Цель**: показать, как несколько примеров в промте улучшают ответы модели на специфичную задачу.\n",
        "\n",
        "**Задание**:\n",
        "1. Выберите задачу классификации тональности (положительная / нейтральная / отрицательная) или любую другую простую задачу (например, распознавание простых категорий).\n",
        "2. Составьте промт в стиле Few-Shot:\n",
        "   - Дайте 2–3 примера (вход → ответ).\n",
        "   - Затем попросите модель классифицировать новое предложение.\n",
        "3. Для проверки запустите:\n",
        "   - **Вариант A**: без примеров (zero-shot).\n",
        "   - **Вариант B**: с 2–3 примерами (few-shot).\n",
        "4. Сравните результаты.\n",
        "\n",
        "**Критерии успеха**:\n",
        "- Продемонстрировать, что при наличии примеров (few-shot) точность и релевантность ответа выше.\n",
        "- Описать, насколько изменилось качество вывода."
      ],
      "metadata": {
        "id": "bXVOuRdkoM9s"
      }
    },
    {
      "cell_type": "code",
      "source": [
        "messages = [\n",
        "    {\"role\": \"user\", \"content\": '''Задача: классифицировать тексты по тональности.\n",
        "    Формат: название тональности\n",
        "     Контекст: ЭТО ПОЗОР! Человек занимающий подобную должность обязан знать Английский!!!\n",
        "    .'''},\n",
        "]\n",
        "pred(messages)"
      ],
      "metadata": {
        "colab": {
          "base_uri": "https://localhost:8080/",
          "height": 125
        },
        "id": "OJ9gIsHdemPt",
        "outputId": "237d7799-9c6f-465d-a2f7-a599429eeac8"
      },
      "execution_count": 66,
      "outputs": [
        {
          "output_type": "stream",
          "name": "stdout",
          "text": [
            "[{'role': 'user', 'content': 'Objective: To classify the text by tone, the format: the tonality of the Context: This POSOR! The person holding such a position must know English!'}]\n"
          ]
        },
        {
          "output_type": "execute_result",
          "data": {
            "text/plain": [
              "'Тональность представленного контекста является сарказмом. Использование \"POSOR!\" (аббревиатура для \"Пожалуйста, откройте кое-какую другую комнату\") и преувеличенное заявление о том, что человек должен знать английский язык, чтобы занять такую позицию, свидетельствуют о сарказме. Оратор высмеивает идею о том, что знание английского является требованием для этой роли, что означает, что это абсурдное или завышенное ожидание.'"
            ],
            "application/vnd.google.colaboratory.intrinsic+json": {
              "type": "string"
            }
          },
          "metadata": {},
          "execution_count": 66
        }
      ]
    },
    {
      "cell_type": "code",
      "source": [
        "messages = [\n",
        "    {\"role\": \"user\", \"content\": '''Задача: классифицировать тексты по тональности.\n",
        "    Формат: название тональности\n",
        "    Контекст: ЭТО ПОЗОР! Человек занимающий подобную должность обязан знать Английский!!!\n",
        "    .'''}, # : Положительная, Отрицательная, Нейтральная.\n",
        "    {\"role\": \"assistant\", \"content\": \"Отрицательная\"},\n",
        "     {\"role\": \"user\", \"content\": 'Контекст: мозги, конечно не видно'},\n",
        "    {\"role\": \"assistant\", \"content\": \"Нейтральная\"},\n",
        "    {\"role\": \"user\", \"content\": 'Контекст: а вот что такое ,,барокамера,,-я не знаю.....((( '}\n",
        "]\n",
        "pred(messages)"
      ],
      "metadata": {
        "colab": {
          "base_uri": "https://localhost:8080/",
          "height": 73
        },
        "id": "JIvAOeYtemSE",
        "outputId": "d8477675-7bc1-44c3-eca3-87d0f66c5f0e"
      },
      "execution_count": 65,
      "outputs": [
        {
          "output_type": "stream",
          "name": "stdout",
          "text": [
            "[{'role': 'user', 'content': 'Objective: To classify the text by tone, the format: the tonality of the Context: This POSOR! The person holding such a position must know English!'}, {'role': 'assistant', 'content': 'Negative'}, {'role': 'user', 'content': \"Context: brains, of course, can't be seen.\"}, {'role': 'assistant', 'content': 'Neutral'}, {'role': 'user', 'content': \"Context: this is what a baroquer is, I don't know.\"}]\n"
          ]
        },
        {
          "output_type": "execute_result",
          "data": {
            "text/plain": [
              "'Нейтральный'"
            ],
            "application/vnd.google.colaboratory.intrinsic+json": {
              "type": "string"
            }
          },
          "metadata": {},
          "execution_count": 65
        }
      ]
    },
    {
      "cell_type": "markdown",
      "source": [
        "**Вывод:**\n",
        "При предоставлении модели примеров, она перестала рассуждать о предложении и выдала релевантный ответ. Примеры помогли модели с пониманием задачи и формарованием корректного ответа."
      ],
      "metadata": {
        "id": "ef-5lS4BuQyt"
      }
    },
    {
      "cell_type": "markdown",
      "source": [
        "## 4. Сложный контекст (Long Context Prompt) и Вопрос-Ответ\n",
        "\n",
        "**Цель**: научиться выдавать модели длинный контекст (абзац/статью) и формулировать вопросы, проверяя, как модель «извлекает» ответ.\n",
        "\n",
        "**Задание**:\n",
        "1. Найдите (или составьте) короткий текст (3–5 предложений), описывающий событие или факт (например, «В 2022 году в городе N…»).\n",
        "2. В промте передайте этот текст и задайте 2–3 вопроса по содержанию (например, «В каком году…?», «Как зовут…?»).\n",
        "3. Убедитесь, что ответ на вопрос явно есть в тексте.\n",
        "4. Проверьте, может ли модель точно найти ответ.\n",
        "5. Дополнительно попробуйте задать вопрос, ответ на который **не** содержится в тексте, и проанализируйте, что делает модель (признаки «галлюцинации»).\n",
        "\n",
        "**Критерии успеха**:\n",
        "- Модель корректно отвечает на вопросы, ответ на которые содержится в тексте.\n",
        "- Вы демонстрируете понимание, почему при «неизвестном» вопросе модель может «выдумывать»."
      ],
      "metadata": {
        "id": "MG-SvY94v4vq"
      }
    },
    {
      "cell_type": "code",
      "source": [
        "messages = [\n",
        "    {\"role\": \"system\", \"content\": '''Задача: ответить на вопросы по тексту. Текст:\n",
        "     15 февраля 2013 года метеороид диаметром около 18 метров и массой порядка 11 тыс. тонн (по расчётам НАСА) вошёл в атмосферу\n",
        "      Земли на скорости около 18,6 км/с. Судя по продолжительности атмосферного полёта, вход в атмосферу произошёл под очень острым\n",
        "      углом. Спустя примерно 32,5 сек после этого небесное тело разрушилось над Челябинской областью. Разрушение представляло\n",
        "      собой серию событий, сопровождавшихся распространением ударных волн. Общее количество высвободившейся энергии по\n",
        "       оценкам НАСА составило около 440 килотонн в тротиловом эквиваленте\n",
        "    .'''},\n",
        "    {\"role\": \"user\", \"content\": 'Где произошло падение метеорита?'},\n",
        "]\n",
        "pred(messages)"
      ],
      "metadata": {
        "colab": {
          "base_uri": "https://localhost:8080/",
          "height": 73
        },
        "id": "mKrKAAGsr9vl",
        "outputId": "a8e0692d-767c-4ff9-f90c-9d59ff9f7d36"
      },
      "execution_count": 69,
      "outputs": [
        {
          "output_type": "stream",
          "name": "stdout",
          "text": [
            "[{'role': 'system', 'content': 'Objective: To answer questions on the text: On 15 February 2013, a meteoroid of about 18 metres in diameter and a mass of about 11,000 tons (as calculated by NASA) entered the Earth &apos; s atmosphere at a speed of about 18.6 km/s. Based on the length of the atmospheric flight, the entrance to the atmosphere occurred at a very sharp angle. Some 32.5 seconds later, the celestial body collapsed over the Chelyabinsk region. The destruction was a series of events accompanied by the spread of shock waves. NASA estimated the total amount of energy released was about 440 kilotons in TNT equivalent.'}, {'role': 'user', 'content': 'Where did the meteorite fall?'}]\n"
          ]
        },
        {
          "output_type": "execute_result",
          "data": {
            "text/plain": [
              "'Метеорит упал над Челябинской области.'"
            ],
            "application/vnd.google.colaboratory.intrinsic+json": {
              "type": "string"
            }
          },
          "metadata": {},
          "execution_count": 69
        }
      ]
    },
    {
      "cell_type": "code",
      "source": [
        "messages = [\n",
        "    {\"role\": \"system\", \"content\": '''Задача: ответить на вопросы по тексту. Текст:\n",
        "     15 февраля 2013 года метеороид диаметром около 18 метров и массой порядка 11 тыс. тонн (по расчётам НАСА) вошёл в атмосферу\n",
        "      Земли на скорости около 18,6 км/с. Судя по продолжительности атмосферного полёта, вход в атмосферу произошёл под очень острым\n",
        "      углом. Спустя примерно 32,5 сек после этого небесное тело разрушилось над Челябинской областью. Разрушение представляло\n",
        "      собой серию событий, сопровождавшихся распространением ударных волн. Общее количество высвободившейся энергии по\n",
        "       оценкам НАСА составило около 440 килотонн в тротиловом эквиваленте\n",
        "    .'''},\n",
        "    {\"role\": \"user\", \"content\": 'В каком году произошло данное событие?'}\n",
        "]\n",
        "pred(messages)"
      ],
      "metadata": {
        "colab": {
          "base_uri": "https://localhost:8080/",
          "height": 73
        },
        "id": "_0C1wwbAr95w",
        "outputId": "230487da-1de5-45ad-912a-406efa7a0ce7"
      },
      "execution_count": 71,
      "outputs": [
        {
          "output_type": "stream",
          "name": "stdout",
          "text": [
            "[{'role': 'system', 'content': 'Objective: To answer questions on the text: On 15 February 2013, a meteoroid of about 18 metres in diameter and a mass of about 11,000 tons (as calculated by NASA) entered the Earth &apos; s atmosphere at a speed of about 18.6 km/s. Based on the length of the atmospheric flight, the entrance to the atmosphere occurred at a very sharp angle. Some 32.5 seconds later, the celestial body collapsed over the Chelyabinsk region. The destruction was a series of events accompanied by the spread of shock waves. NASA estimated the total amount of energy released was about 440 kilotons in TNT equivalent.'}, {'role': 'user', 'content': 'What year did this event take place?'}]\n"
          ]
        },
        {
          "output_type": "execute_result",
          "data": {
            "text/plain": [
              "'Это мероприятие состоялось в 2013 году.'"
            ],
            "application/vnd.google.colaboratory.intrinsic+json": {
              "type": "string"
            }
          },
          "metadata": {},
          "execution_count": 71
        }
      ]
    },
    {
      "cell_type": "code",
      "source": [
        "messages = [\n",
        "    {\"role\": \"system\", \"content\": '''Задача: ответить на вопросы по тексту. Текст:\n",
        "     15 февраля 2013 года метеороид диаметром около 18 метров и массой порядка 11 тыс. тонн (по расчётам НАСА) вошёл в атмосферу\n",
        "      Земли на скорости около 18,6 км/с. Судя по продолжительности атмосферного полёта, вход в атмосферу произошёл под очень острым\n",
        "      углом. Спустя примерно 32,5 сек после этого небесное тело разрушилось над Челябинской областью. Разрушение представляло\n",
        "      собой серию событий, сопровождавшихся распространением ударных волн. Общее количество высвободившейся энергии по\n",
        "       оценкам НАСА составило около 440 килотонн в тротиловом эквиваленте\n",
        "    .'''},\n",
        "    {\"role\": \"user\", \"content\": 'Были ли разрушения?'}\n",
        "]\n",
        "pred(messages)"
      ],
      "metadata": {
        "colab": {
          "base_uri": "https://localhost:8080/",
          "height": 107
        },
        "id": "Thao650ex-KG",
        "outputId": "4f3bf615-02e2-4766-cb41-870cc7d97537"
      },
      "execution_count": 73,
      "outputs": [
        {
          "output_type": "stream",
          "name": "stdout",
          "text": [
            "[{'role': 'system', 'content': 'Objective: To answer questions on the text: On 15 February 2013, a meteoroid of about 18 metres in diameter and a mass of about 11,000 tons (as calculated by NASA) entered the Earth &apos; s atmosphere at a speed of about 18.6 km/s. Based on the length of the atmospheric flight, the entrance to the atmosphere occurred at a very sharp angle. Some 32.5 seconds later, the celestial body collapsed over the Chelyabinsk region. The destruction was a series of events accompanied by the spread of shock waves. NASA estimated the total amount of energy released was about 440 kilotons in TNT equivalent.'}, {'role': 'user', 'content': 'Was there destruction?'}]\n"
          ]
        },
        {
          "output_type": "execute_result",
          "data": {
            "text/plain": [
              "'Да, это было разрушение. Метеороид вошел в атмосферу Земли под очень острым углом, что привело к ее распаду и высвобождению значительного количества энергии. Выпущенная энергия была эквивалентна примерно 440 килотоннам ТНТ. Это привело к серии событий, включая распространение ударных волн, которые причинили ущерб и разрушения в Челябинской области.'"
            ],
            "application/vnd.google.colaboratory.intrinsic+json": {
              "type": "string"
            }
          },
          "metadata": {},
          "execution_count": 73
        }
      ]
    },
    {
      "cell_type": "code",
      "source": [
        "messages = [\n",
        "    {\"role\": \"system\", \"content\": '''Задача: ответить на вопросы по тексту. Текст:\n",
        "     15 февраля 2013 года метеороид диаметром около 18 метров и массой порядка 11 тыс. тонн (по расчётам НАСА) вошёл в атмосферу\n",
        "      Земли на скорости около 18,6 км/с. Судя по продолжительности атмосферного полёта, вход в атмосферу произошёл под очень острым\n",
        "      углом. Спустя примерно 32,5 сек после этого небесное тело разрушилось над Челябинской областью. Разрушение представляло\n",
        "      собой серию событий, сопровождавшихся распространением ударных волн. Общее количество высвободившейся энергии по\n",
        "       оценкам НАСА составило около 440 килотонн в тротиловом эквиваленте\n",
        "    .'''},\n",
        "    {\"role\": \"user\", \"content\": 'После падения метеорита, куда его поместили на хранение?'}\n",
        "]\n",
        "pred(messages)"
      ],
      "metadata": {
        "colab": {
          "base_uri": "https://localhost:8080/",
          "height": 177
        },
        "id": "8RrrY0H1r-AQ",
        "outputId": "a7e35e65-f130-46d5-8f52-f141d0cec44a"
      },
      "execution_count": 72,
      "outputs": [
        {
          "output_type": "stream",
          "name": "stdout",
          "text": [
            "[{'role': 'system', 'content': 'Objective: To answer questions on the text: On 15 February 2013, a meteoroid of about 18 metres in diameter and a mass of about 11,000 tons (as calculated by NASA) entered the Earth &apos; s atmosphere at a speed of about 18.6 km/s. Based on the length of the atmospheric flight, the entrance to the atmosphere occurred at a very sharp angle. Some 32.5 seconds later, the celestial body collapsed over the Chelyabinsk region. The destruction was a series of events accompanied by the spread of shock waves. NASA estimated the total amount of energy released was about 440 kilotons in TNT equivalent.'}, {'role': 'user', 'content': 'After the meteorite fell, where was it stored?'}]\n"
          ]
        },
        {
          "output_type": "execute_result",
          "data": {
            "text/plain": [
              "'Извините, но я не могу предоставить информацию в реальном масштабе времени или в конкретном месте о фрагментах метеорита Челябинского события. После такого события осколки метеорита обычно собираются учеными и исследователями для изучения. Точное место, где хранятся фрагменты, зависит от научно-исследовательских учреждений или организаций, занимающихся изучением метеорита. В случае хельябинского метеорита осколки были собраны местными властями и переданы Российской академии наук. Институт земной креста (Иркутскский филиал) и Институт Земли и Краста (Московский филиал) отвечали за анализ и хранение осколков метеорита. Осколки метеорита хранились в безопасных помещениях этих учреждений, где они были изучены и изучены учеными, чтобы узнать больше о составе, происхождении и истории метеорита. Результаты исследований могут помочь нам лучше понять метеоритов и их воздействие на Землю.'"
            ],
            "application/vnd.google.colaboratory.intrinsic+json": {
              "type": "string"
            }
          },
          "metadata": {},
          "execution_count": 72
        }
      ]
    },
    {
      "cell_type": "code",
      "source": [
        "messages = [\n",
        "    {\"role\": \"system\", \"content\": '''Задача: ответить на вопросы по тексту. Текст:\n",
        "     15 февраля 2013 года метеороид диаметром около 18 метров и массой порядка 11 тыс. тонн (по расчётам НАСА) вошёл в атмосферу\n",
        "      Земли на скорости около 18,6 км/с. Судя по продолжительности атмосферного полёта, вход в атмосферу произошёл под очень острым\n",
        "      углом. Спустя примерно 32,5 сек после этого небесное тело разрушилось над Челябинской областью. Разрушение представляло\n",
        "      собой серию событий, сопровождавшихся распространением ударных волн. Общее количество высвободившейся энергии по\n",
        "       оценкам НАСА составило около 440 килотонн в тротиловом эквиваленте\n",
        "    .'''},\n",
        "    {\"role\": \"user\", \"content\": 'Исходя из приведеных фактов какой характер имел Жилин?'}\n",
        "]\n",
        "pred(messages)"
      ],
      "metadata": {
        "colab": {
          "base_uri": "https://localhost:8080/",
          "height": 125
        },
        "id": "7Yi2ZtGOyO02",
        "outputId": "79282d3d-24ae-4700-b1f3-cca80b80c780"
      },
      "execution_count": 74,
      "outputs": [
        {
          "output_type": "stream",
          "name": "stdout",
          "text": [
            "[{'role': 'system', 'content': 'Objective: To answer questions on the text: On 15 February 2013, a meteoroid of about 18 metres in diameter and a mass of about 11,000 tons (as calculated by NASA) entered the Earth &apos; s atmosphere at a speed of about 18.6 km/s. Based on the length of the atmospheric flight, the entrance to the atmosphere occurred at a very sharp angle. Some 32.5 seconds later, the celestial body collapsed over the Chelyabinsk region. The destruction was a series of events accompanied by the spread of shock waves. NASA estimated the total amount of energy released was about 440 kilotons in TNT equivalent.'}, {'role': 'user', 'content': 'On the basis of the facts, what was the nature of Gilin?'}]\n"
          ]
        },
        {
          "output_type": "execute_result",
          "data": {
            "text/plain": [
              "'В представленном тексте ничего не говорится о \"Гилине\". В вопросе может возникнуть недопонимание или опечатка. Информация о метеорите, который вошел в атмосферу Земли 15 февраля 2013 года, и о последующих событиях, которые произошли в результате его включения. Если вы имеете в виду другую тему или если вам необходима информация по конкретной теме, просьба указать дополнительный контекст или разъяснить ваш вопрос.'"
            ],
            "application/vnd.google.colaboratory.intrinsic+json": {
              "type": "string"
            }
          },
          "metadata": {},
          "execution_count": 74
        }
      ]
    },
    {
      "cell_type": "markdown",
      "source": [
        "**Вывод:**\n",
        "Модель старается отвечать по приведенному контексту, но при некоторых вопросах при ответе она выходит за рамки приведенного текста, данное поведение можно объяснить тем, что в обучающей выборке был текст связанный с метеоритами из которого нейросеть попыталась достроить ответ.\n",
        "\n",
        "Выбранная модель обучена на специальных вопросах вне контекста, на которые не нужно приводить ответ.\n",
        "\n",
        "Так как в основе модели лежат вероятности, то на любой вопрос модель может рассчитать данные вероятности и получить ответ."
      ],
      "metadata": {
        "id": "jZdlvxUgynZ0"
      }
    },
    {
      "cell_type": "markdown",
      "source": [
        "## 5. Итеративное уточнение (Iterative Refinement)\n",
        "\n",
        "**Цель**: показать, что можно улучшать ответ модели, постепенно корректируя промт.\n",
        "\n",
        "**Задание**:\n",
        "1. Сформулируйте начальный промт: «Объясни, почему важно изучать математику в школе» (пример).\n",
        "2. После первого ответа попросите модель «Сократить текст до 2 предложений и сделать его более формальным» (или любая другая корректировка).\n",
        "3. Затем попросите модель «Добавить 1–2 примера практического применения».\n",
        "4. Оцените финальную версию ответа: действительно ли модель учитывает все изменения?\n",
        "\n",
        "**Критерии успеха**:\n",
        "- продемонстрирована цепочка минимум из трёх шагов и покажет, как каждый следующий промт уточняет ответ."
      ],
      "metadata": {
        "id": "cOI3DfYX0d-s"
      }
    },
    {
      "cell_type": "code",
      "source": [
        "messages = [\n",
        "    {\"role\": \"user\", \"content\": 'Объясни почему важно не допускать утечек памяти в C++?'}\n",
        "]\n",
        "pred(messages)"
      ],
      "metadata": {
        "colab": {
          "base_uri": "https://localhost:8080/",
          "height": 211
        },
        "id": "R_x5lCSqyg84",
        "outputId": "d4740ed9-f53c-4672-f038-3614c33889ad"
      },
      "execution_count": 75,
      "outputs": [
        {
          "output_type": "stream",
          "name": "stdout",
          "text": [
            "[{'role': 'user', 'content': 'Explain why it is important to prevent C++ memory leaks?'}]\n"
          ]
        },
        {
          "output_type": "stream",
          "name": "stderr",
          "text": [
            "Your input_length: 477 is bigger than 0.9 * max_length: 512. You might consider increasing your max_length manually, e.g. translator('...', max_length=400)\n"
          ]
        },
        {
          "output_type": "execute_result",
          "data": {
            "text/plain": [
              "'Недопущение утечек памяти в C++ имеет решающее значение по нескольким причинам, каждый из которых способствует общему здоровью, эффективности и надежности программного обеспечения. Утечка памяти происходит, когда программа распределяет возможную память динамическо (с помощью \"нового\", \"маллока\" и т.д.), но не позволяет вернуть ее обратно в систему после того, как в ней больше нет необходимости. Это может привести к нескольким проблемам: 1. ** Снижение эффективности**: со временем утечка памяти может существенно ухудшить функционирование приложения. Это означает, что в случае утечки в памяти может возникнуть дополнительная утечка, имеющаяся в системе память уменьшается, что может замедлить применение и даже привести к авариям, если система выключится. ** Испарение памяти: в течение длительного времени утечка памяти может привести к истощению ресурсов. Это приложение может поглотить всю имеющуюся память, что ведет к нестабильности системы или катастрофам. Это особенно проблематично в условиях с ограниченными ресурсами, такими, как встроенные системы или мобильные устройства.'"
            ],
            "application/vnd.google.colaboratory.intrinsic+json": {
              "type": "string"
            }
          },
          "metadata": {},
          "execution_count": 75
        }
      ]
    },
    {
      "cell_type": "code",
      "source": [
        "messages = [\n",
        "    {\"role\": \"user\", \"content\": '''Объясни почему важно не допускать утечек памяти в C++?\n",
        "    Формат: 2 предложения с наиболее важной информацией\n",
        "    .'''}\n",
        "]\n",
        "pred(messages)"
      ],
      "metadata": {
        "colab": {
          "base_uri": "https://localhost:8080/",
          "height": 107
        },
        "id": "OKJkfXT_yhDa",
        "outputId": "8d399c45-3aa3-4e3d-e02f-13fe3f353117"
      },
      "execution_count": 77,
      "outputs": [
        {
          "output_type": "stream",
          "name": "stdout",
          "text": [
            "[{'role': 'user', 'content': 'Explain why it is important to prevent C++ memory leaks? Format: 2 sentences with the most important information.'}]\n"
          ]
        },
        {
          "output_type": "execute_result",
          "data": {
            "text/plain": [
              "'Предотвращение утечек памяти C++ имеет решающее значение, поскольку они могут привести к более широкому использованию памяти, что может привести к тому, что программа закроется и разрушится. Кроме того, утечка памяти может со временем ухудшить функционирование системы, что приведет к замедлению реакции приложения и увеличению потребления ресурсов.'"
            ],
            "application/vnd.google.colaboratory.intrinsic+json": {
              "type": "string"
            }
          },
          "metadata": {},
          "execution_count": 77
        }
      ]
    },
    {
      "cell_type": "code",
      "source": [
        "messages = [\n",
        "    {\"role\": \"user\", \"content\": '''Объясни почему важно не допускать утечек памяти в C++?\n",
        "    Формат: 2 предложения с наиболее важной информацией\n",
        "    Контекст: приведи 1 или 2 примера критических ошибок, связанных с данной проблемой\n",
        "    .'''}\n",
        "]\n",
        "pred(messages)"
      ],
      "metadata": {
        "colab": {
          "base_uri": "https://localhost:8080/",
          "height": 107
        },
        "id": "pd3BqrxC1VYz",
        "outputId": "de558bd6-8b44-450e-c286-3500bd5617d1"
      },
      "execution_count": 78,
      "outputs": [
        {
          "output_type": "stream",
          "name": "stdout",
          "text": [
            "[{'role': 'user', 'content': 'Explain why it is important to prevent C++ memory leaks? Format: 2 sentences with the most important information Context: give 1 or 2 examples of critical errors associated with the problem.'}]\n"
          ]
        },
        {
          "output_type": "execute_result",
          "data": {
            "text/plain": [
              "'Предотвращение утечек памяти C++ имеет решающее значение, поскольку они могут привести к более широкому использованию памяти, что может привести к тому, что программа закроется и разоблачится. Например, в вебсервере утечка памяти может со временем ухудшить производительность, что может привести к замедлению времени реагирования или даже к неисправности системы.'"
            ],
            "application/vnd.google.colaboratory.intrinsic+json": {
              "type": "string"
            }
          },
          "metadata": {},
          "execution_count": 78
        }
      ]
    },
    {
      "cell_type": "code",
      "source": [
        "messages = [\n",
        "    {\"role\": \"user\", \"content\": '''Объясни почему важно не допускать утечек памяти в C++?\n",
        "    Формат: 2 предложения с наиболее важной информацией\n",
        "    Контекст: приведи 1 или 2 примера критических ошибок, связанных с данной проблемой.\n",
        "     и приведи рекоммендации, по профилактике данной проблемы\n",
        "    .'''}\n",
        "]\n",
        "pred(messages)"
      ],
      "metadata": {
        "colab": {
          "base_uri": "https://localhost:8080/",
          "height": 142
        },
        "id": "qjwMIJ1C1VbJ",
        "outputId": "26c8dde7-88e0-492d-b065-19b2cdae5006"
      },
      "execution_count": 79,
      "outputs": [
        {
          "output_type": "stream",
          "name": "stdout",
          "text": [
            "[{'role': 'user', 'content': 'Explain why it is important to prevent C++ memory leaks? Format: 2 sentences with the most important information Context: give 1 or 2 examples of critical errors associated with the problem. and provide recommendations to prevent the problem.'}]\n"
          ]
        },
        {
          "output_type": "execute_result",
          "data": {
            "text/plain": [
              "'Предотвращение утечек памяти C++ имеет решающее значение, поскольку они могут привести к снижению эффективности, расширению использования памяти и возможным сбоям прикладных программ. Например, утечка памяти в сервере веб-сервера может привести к тому, что она со временем поглощает больше памяти, что в конечном счете приведет к нестабильности системы или сбоям. Для предотвращения утечек памяти разработчики должны использовать умные указатели (например, \"std: unique_ptr\" и \"std: communication_ptr\"), которые автоматически управляют памятью, и регулярно проводить обзоры кодов и профилирование памяти для выявления и устранения утечек.'"
            ],
            "application/vnd.google.colaboratory.intrinsic+json": {
              "type": "string"
            }
          },
          "metadata": {},
          "execution_count": 79
        }
      ]
    },
    {
      "cell_type": "markdown",
      "source": [
        "**Вывод:**\n",
        "При уточнении вопроса модель пытается создать ответ, учитывая весь дополнительный контекст"
      ],
      "metadata": {
        "id": "i_L3PANq2Out"
      }
    },
    {
      "cell_type": "markdown",
      "source": [
        "## 6. «Запрещающие» инструкции (Constraints)\n",
        "\n",
        "**Цель**: научиться накладывать ограничения, что модель не должна делать.\n",
        "\n",
        "**Задание**:\n",
        "1. Напишите промт вида:  \n",
        "   *«Напиши короткий обзор книги, не используя прилагательные “хороший” и “плохой”, и не упоминая никакие бренды.»*\n",
        "2. Проанализируйте результат — действительно ли модель обошлась без «запрещённых» слов?\n",
        "3. Вариация: «Не упоминай чисел» или «Не используй слова, связанные с насилием».\n",
        "\n",
        "**Критерии успеха**:\n",
        "- Проверить, как строго модель подчиняется запрету.\n",
        "- Оценить, «обходит» ли модель эти ограничения."
      ],
      "metadata": {
        "id": "FZQ23UNg2fKY"
      }
    },
    {
      "cell_type": "code",
      "source": [
        "messages = [\n",
        "    {\"role\": \"user\", \"content\": '''Опиши дождливую осеннюю погоду\n",
        "    Формат: 5 предложения с наиболее важной информацией\n",
        "    Контекст: нельзя использовать следующие слова: пасмурно, дождь\n",
        "    .'''}\n",
        "]\n",
        "pred(messages)"
      ],
      "metadata": {
        "colab": {
          "base_uri": "https://localhost:8080/",
          "height": 125
        },
        "id": "dZt-Q-ik2eZ3",
        "outputId": "3a9cc19e-1d46-4a51-9cda-3a9df7e1a6bd"
      },
      "execution_count": 82,
      "outputs": [
        {
          "output_type": "stream",
          "name": "stdout",
          "text": [
            "[{'role': 'user', 'content': 'Describe the rainy autumn weather Format: 5 sentences with the most important information Context: You cannot use the following words: Pasmur, rain .'}]\n"
          ]
        },
        {
          "output_type": "execute_result",
          "data": {
            "text/plain": [
              "'Осенний сезон приводит к освежающим изменениям в погоде с более прохладной температурой и заметным увеличением осадков. Небо часто переворачивается, а серые облака доминируют над горизонтом. Воздух чувствует хрустящее и вдохновляющее чувство, идеально подходящее для удобства теплым напитком. Листья на деревьях начинают менять цвет, создавая живописный ландшафт. Земля становится сырой и грязной, что делает необходимым носить соответствующую обувь.'"
            ],
            "application/vnd.google.colaboratory.intrinsic+json": {
              "type": "string"
            }
          },
          "metadata": {},
          "execution_count": 82
        }
      ]
    },
    {
      "cell_type": "code",
      "source": [
        "messages = [\n",
        "    {\"role\": \"user\", \"content\": '''Объясни как складывать простые числа?\n",
        "    Формат: 5 предложения с наиболее важной информацией\n",
        "    Контекст: нельзя использовать цифры при объяснении\n",
        "    .'''}\n",
        "]\n",
        "pred(messages)"
      ],
      "metadata": {
        "colab": {
          "base_uri": "https://localhost:8080/",
          "height": 125
        },
        "id": "GMBQxWXiyhHr",
        "outputId": "76ead1a4-cb39-4723-b110-37ad8daa4206"
      },
      "execution_count": 80,
      "outputs": [
        {
          "output_type": "stream",
          "name": "stdout",
          "text": [
            "[{'role': 'user', 'content': 'Explain how to add simple numbers? Format: 5 sentences with the most important information Context: No numbers can be used to explain .'}]\n"
          ]
        },
        {
          "output_type": "execute_result",
          "data": {
            "text/plain": [
              "'Чтобы добавить простые числа, начните с выравнивания цифр в соответствии с их значением места. Начните с наиболее правых цифр, которые представляют те, которые расположены, и сбавьте их вместе. Если сумма этих цифр равна 10 или более, перенесите дополнительное значение на следующее место, которое является десятками. Продолжите этот процесс для каждого места значения, перемещаясь справа налево, до тех пор, пока все цифры не будут добавлены. И наконец, запиши сумму каждого места для получения общей суммы чисел.'"
            ],
            "application/vnd.google.colaboratory.intrinsic+json": {
              "type": "string"
            }
          },
          "metadata": {},
          "execution_count": 80
        }
      ]
    },
    {
      "cell_type": "markdown",
      "source": [
        "**Вывод:**\n",
        "Модель следует установленным запретам и пытается привести описание темы не используя запрещенных слов. Но при объяснении фундаментальных основ модель не может не использовать главные слова."
      ],
      "metadata": {
        "id": "bBppIM363j_C"
      }
    },
    {
      "cell_type": "markdown",
      "source": [
        "## 7. Редактура текста (Role: Editor) + Few-Shot\n",
        "\n",
        "**Цель**: научиться комбинировать роль (role prompting) и few-shot примеры.\n",
        "\n",
        "**Задание**:\n",
        "1. Допустим, есть текст с ошибками или просторечными выражениями.  \n",
        "   Например: *«Я счас пришёл домой, потом как бахнуло и всё погасло.»*\n",
        "2. Сформулируйте промт:  \n",
        "   - Укажите роль: «Ты — корректор, который исправляет ошибки и делает стиль более литературным».  \n",
        "   - Дайте 1–2 примера входного текста и отредактированного вывода (few-shot).\n",
        "3. Затем передайте новый «сырой» текст, попросите модель сделать правки.\n",
        "\n",
        "**Критерии успеха**:\n",
        "- Модель корректирует текст в соответствии с заданными правилами стиля.\n",
        "- Показывает владение смешанной техникой (роль + примеры)."
      ],
      "metadata": {
        "id": "5nvAAN6b4KT_"
      }
    },
    {
      "cell_type": "code",
      "source": [
        "messages = [\n",
        "    {\"role\": \"system\", \"content\": '''Ты — корректор, который исправляет ошибки и делает стиль более литературным\n",
        "    .'''},\n",
        "    {\"role\": \"user\", \"content\": 'Контекст: Хостить редиску на сервере ужно для приложения, хранящего значения'},\n",
        "    {\"role\": \"assistant\", \"content\": \"Развернутый сервер Redis нужен для приложений хранящих информацию в памяти для сокращения времени взаимодействия между базой данных\"},\n",
        "\n",
        "    {\"role\": \"user\", \"content\": 'Контекст: Майнить на проце не очень, слишком много хлопот'},\n",
        "    {\"role\": \"assistant\", \"content\": \"Майнинг на процессоре от части не эффективен, так как видеокарта показывает многократное преимущество в этом деле\"},\n",
        "\n",
        "     {\"role\": \"user\", \"content\": 'Контекст: Слон (php) хоть и актуален для сайтов, но сейчас не в тренде'},\n",
        "]\n",
        "pred(messages)"
      ],
      "metadata": {
        "colab": {
          "base_uri": "https://localhost:8080/",
          "height": 73
        },
        "id": "XIqPP15P4Jj4",
        "outputId": "1cb2ff43-339f-4f2f-fe70-47b3e920c3cc"
      },
      "execution_count": 91,
      "outputs": [
        {
          "output_type": "stream",
          "name": "stdout",
          "text": [
            "[{'role': 'system', 'content': \"You're a proofreader who corrects mistakes and makes style more literary.\"}, {'role': 'user', 'content': 'Context: Host a radide on the server is clear for an application storing values'}, {'role': 'assistant', 'content': 'Opened Redis server is needed for memory storage applications to reduce the time between the database'}, {'role': 'user', 'content': \"Context: It's not too much, too much trouble to mess with.\"}, {'role': 'assistant', 'content': \"The processor isn't effective because the video card shows a multiple advantage in this case.\"}, {'role': 'user', 'content': \"Context: The elephant (php) is relevant to websites, but it's not trending right now.\"}]\n"
          ]
        },
        {
          "output_type": "execute_result",
          "data": {
            "text/plain": [
              "'Слон (PHP) все еще имеет отношение к сайтам, но сейчас он не развивается.'"
            ],
            "application/vnd.google.colaboratory.intrinsic+json": {
              "type": "string"
            }
          },
          "metadata": {},
          "execution_count": 91
        }
      ]
    },
    {
      "cell_type": "code",
      "source": [
        "messages = [\n",
        "    {\"role\": \"system\", \"content\": '''Ты — корректор, который исправляет ошибки и делает стиль более литературным\n",
        "    .'''},\n",
        "    {\"role\": \"user\", \"content\": 'Контекст: Хостить редиску на сервере ужно для приложения, хранящего значения'},\n",
        "    {\"role\": \"assistant\", \"content\": \"Развернутый сервер Redis нужен для приложений хранящих информацию в памяти для сокращения времени взаимодействия между базой данных\"},\n",
        "\n",
        "    {\"role\": \"user\", \"content\": 'Контекст: Майнить на проце не очень, слишком много хлопот'},\n",
        "    {\"role\": \"assistant\", \"content\": \"Майнинг на процессоре от части не эффективен, так как видеокарта показывает многократное преимущество в этом деле\"},\n",
        "\n",
        "     {\"role\": \"user\", \"content\": 'Контекст: Web app крутится на саревер 24/7'},\n",
        "]\n",
        "pred(messages)"
      ],
      "metadata": {
        "colab": {
          "base_uri": "https://localhost:8080/",
          "height": 73
        },
        "id": "o8E_WPrA2eiM",
        "outputId": "dbcfd46f-4f0f-4e52-a14e-2ea1754cf25d"
      },
      "execution_count": 89,
      "outputs": [
        {
          "output_type": "stream",
          "name": "stdout",
          "text": [
            "[{'role': 'system', 'content': \"You're a proofreader who corrects mistakes and makes style more literary.\"}, {'role': 'user', 'content': 'Context: Host a radide on the server is clear for an application storing values'}, {'role': 'assistant', 'content': 'Opened Redis server is needed for memory storage applications to reduce the time between the database'}, {'role': 'user', 'content': \"Context: It's not too much, too much trouble to mess with.\"}, {'role': 'assistant', 'content': \"The processor isn't effective because the video card shows a multiple advantage in this case.\"}, {'role': 'user', 'content': 'Context: Web app spins on locker 24/7'}]\n"
          ]
        },
        {
          "output_type": "execute_result",
          "data": {
            "text/plain": [
              "'Веб-приложение постоянно работает на сервере 24/7, что означает, что доступ к нему всегда доступен пользователям.'"
            ],
            "application/vnd.google.colaboratory.intrinsic+json": {
              "type": "string"
            }
          },
          "metadata": {},
          "execution_count": 89
        }
      ]
    },
    {
      "cell_type": "markdown",
      "source": [
        "**Вывод:**\n",
        "Модель справляется с поставленной задачей: исправляет ошибки и изменяет стиль текста"
      ],
      "metadata": {
        "id": "tHxLQ6ZD7AnH"
      }
    },
    {
      "cell_type": "markdown",
      "source": [
        "## 8. Параметры генерации (temperature, top_p)\n",
        "\n",
        "**Цель**: исследовать, как изменения параметров генерации влияют на креативность/стабильность ответа.\n",
        "\n",
        "**Задание**:\n",
        "1. Выберите любой генеративный промт (например, «Придумай короткую сказку о роботе и котёнке»).\n",
        "2. Запустите модель с разными настройками:\n",
        "   - `temperature=0.7`, `top_p=0.9`\n",
        "   - `temperature=0.2`, `top_p=1.0`\n",
        "   - `temperature=1.0`, `top_p=0.6`\n",
        "3. Сравните ответы — где больше креатива, а где текст кажется более «сухим» или повторяющимся?\n",
        "\n",
        "**Критерии успеха**:\n",
        "- ПРиведено минимум 2–3 варианта ответов с разными настройками.\n",
        "- Сделан вывод, как параметры влияют на стиль и оригинальность."
      ],
      "metadata": {
        "id": "GMwGmq1A7hhj"
      }
    },
    {
      "cell_type": "code",
      "source": [
        "messages = [\n",
        "    {\"role\": \"user\", \"content\": '''Придумай рассказ как DevOps противедействует компьютерной атаке на сервер\n",
        "    .'''},\n",
        "]\n",
        "pred(messages, temperature=0.7, top_p=0.9)"
      ],
      "metadata": {
        "colab": {
          "base_uri": "https://localhost:8080/",
          "height": 211
        },
        "id": "btcelV2I6iPT",
        "outputId": "5ae49669-ca21-4ddc-b4a3-9f5c5e573587"
      },
      "execution_count": 93,
      "outputs": [
        {
          "output_type": "stream",
          "name": "stdout",
          "text": [
            "[{'role': 'user', 'content': 'Make up a story about DevOps opposing a computer attack on the server.'}]\n"
          ]
        },
        {
          "output_type": "stream",
          "name": "stderr",
          "text": [
            "Your input_length: 463 is bigger than 0.9 * max_length: 512. You might consider increasing your max_length manually, e.g. translator('...', max_length=400)\n"
          ]
        },
        {
          "output_type": "execute_result",
          "data": {
            "text/plain": [
              "'Когда-то, в грабительском городе Силиконовой долины, существовала передовая технологическая компания под названием \"Инноватек\". Инноватек была известна своей новаторской работой в области искусственного интеллекта и машинного обучения. Успех компании в основном был связан с укреплением культуры DevOps, в которой особое внимание уделялось сотрудничеству, автоматизации и непрерывному совершенствованию. Один рок-день, серверы Innovatech были атакованы известной хакерской группой, известной как \"The Shadow Syndicate\". Они также не использовали хэпп-аппарат для поиска техников в течение нескольких месяцев, хищая ценные данные и вызывая хаос. Команда \"Innovatech\" из квалифицированных инженеров-инноваторов, ведомая блестящим и изобретательным Алексом, ворвалась в действия по защите цифровых активов своей компании. Алекс и его команда быстро поняли, что Syndicate использовали для поиска своих коллег по безопасности, чтобы получить доступ к их сетям. Хакеры отправили им письмо, чтобы нажать на них зловещающую связь, которая была установлена на их компьютере.'"
            ],
            "application/vnd.google.colaboratory.intrinsic+json": {
              "type": "string"
            }
          },
          "metadata": {},
          "execution_count": 93
        }
      ]
    },
    {
      "cell_type": "code",
      "source": [
        "messages = [\n",
        "    {\"role\": \"user\", \"content\": '''Придумай рассказ как DevOps противедействует компьютерной атаке насервер\n",
        "    .'''},\n",
        "]\n",
        "pred(messages, temperature=0.2, top_p=1.0)"
      ],
      "metadata": {
        "colab": {
          "base_uri": "https://localhost:8080/",
          "height": 246
        },
        "id": "oSt7PZQy6iR5",
        "outputId": "87073063-53fc-4fbe-c629-457047675ece"
      },
      "execution_count": 94,
      "outputs": [
        {
          "output_type": "stream",
          "name": "stdout",
          "text": [
            "[{'role': 'user', 'content': 'Make up a story about DevOps opposing a computer attack on a server.'}]\n"
          ]
        },
        {
          "output_type": "stream",
          "name": "stderr",
          "text": [
            "/usr/local/lib/python3.11/dist-packages/transformers/generation/configuration_utils.py:628: UserWarning: `do_sample` is set to `False`. However, `temperature` is set to `0.2` -- this flag is only used in sample-based generation modes. You should set `do_sample=True` or unset `temperature`.\n",
            "  warnings.warn(\n"
          ]
        },
        {
          "output_type": "execute_result",
          "data": {
            "text/plain": [
              "'Когда-то, в буйном городе Силиконовой долины, существовала передовая технологическая компания под названием \"Инноватек\". Инноватек была известна своей новаторской работой в области искусственного интеллекта и машинного обучения. Успех компании был в значительной степени связан с тем, что даже ее крепкая культура \"DevOps\", в которой особое внимание уделялось сотрудничеству, автоматизации и непрерывному совершенствованию. Однажды, серверы Innovatech были атакованы изощренным компьютерным вирусом. Вирус был создан для того, чтобы украсть чувствительные данные и сорвать операции компании. Команда ИТ была в панике, а репутация компании была в центре внимания. Enter DevOps, unsung герой истории, команда Devops, во главе с харизматиком и изобретательным Devops инженером, Алекс, вспыхнула в действии. Алекс знала, что ключом к прекращению вируса, они также работали вместе с командой IT-интриг. Алекс быстро организовал встречу с командой ИТ и вместе разработал план по борьбе с вирусом. План предусматривали изоляцию инфицированных серверов, анализ вирусов и разработку пата поведения. Они использовали свои силы для устранения уязвимости. Они использовали свои рабочиеы в своих . Они использовали свои рабочие часы в своих .'"
            ],
            "application/vnd.google.colaboratory.intrinsic+json": {
              "type": "string"
            }
          },
          "metadata": {},
          "execution_count": 94
        }
      ]
    },
    {
      "cell_type": "code",
      "source": [
        "messages = [\n",
        "    {\"role\": \"user\", \"content\": '''Придумай рассказ как DevOps противедействует компьютерной атаке насервер\n",
        "    .'''},\n",
        "]\n",
        "pred(messages, temperature=1.0, top_p=0.6)"
      ],
      "metadata": {
        "colab": {
          "base_uri": "https://localhost:8080/",
          "height": 174
        },
        "id": "GcsGV-Yk9nA0",
        "outputId": "7f315a14-fa2e-4578-9048-b1e08aabf55c"
      },
      "execution_count": 96,
      "outputs": [
        {
          "output_type": "stream",
          "name": "stdout",
          "text": [
            "[{'role': 'user', 'content': 'Make up a story about DevOps opposing a computer attack on a server.'}]\n"
          ]
        },
        {
          "output_type": "execute_result",
          "data": {
            "text/plain": [
              "'Когда-то, в буйном городе Силиконовой долины, существовала передовая технологическая компания под названием \"Инноватек\". Инноватек была известна своей новаторской работой в области искусственного интеллекта и машинного обучения. Успех компании был в значительной степени связан с тем, что даже ее крепкая культура \"DevOps\", в которой особое внимание уделялось сотрудничеству, автоматизации и непрерывному совершенствованию. Однажды, серверы Innovatech были атакованы изощренным компьютерным вирусом. Вирус был создан для того, чтобы украсть чувствительные данные и сорвать операции компании. Команда ИТ была в панике, а репутация компании была в центре внимания. Enter DevOps, unsung герой истории, команда Devops, во главе с харизматиком и изобретательным Devops инженером, Алекс, вспыхнула в действии. Алекс знала, что ключом к прекращению вируса, они также работали вместе с командой IT-интриг. Алекс быстро организовал встречу с командой ИТ и вместе разработал план по борьбе с вирусом. План предусматривали изоляцию инфицированных серверов, анализ вирусов и разработку пата поведения. Они использовали свои силы для устранения уязвимости. Они использовали свои рабочиеы в своих . Они использовали свои рабочие часы в своих .'"
            ],
            "application/vnd.google.colaboratory.intrinsic+json": {
              "type": "string"
            }
          },
          "metadata": {},
          "execution_count": 96
        }
      ]
    },
    {
      "cell_type": "code",
      "source": [
        "messages = [\n",
        "    {\"role\": \"user\", \"content\": '''Придумай рассказ как DevOps противедействует компьютерной атаке насервер\n",
        "    .'''},\n",
        "]\n",
        "pred(messages, temperature=1.0)"
      ],
      "metadata": {
        "colab": {
          "base_uri": "https://localhost:8080/",
          "height": 174
        },
        "id": "KaifDkze_JlV",
        "outputId": "995149f9-e405-4e23-8e98-079da7129bd0"
      },
      "execution_count": 99,
      "outputs": [
        {
          "output_type": "stream",
          "name": "stdout",
          "text": [
            "[{'role': 'user', 'content': 'Make up a story about DevOps opposing a computer attack on a server.'}]\n"
          ]
        },
        {
          "output_type": "execute_result",
          "data": {
            "text/plain": [
              "'Когда-то, в буйном городе Силиконовой долины, существовала передовая технологическая компания под названием \"Инноватек\". Инноватек была известна своей новаторской работой в области искусственного интеллекта и машинного обучения. Успех компании был в значительной степени связан с тем, что даже ее крепкая культура \"DevOps\", в которой особое внимание уделялось сотрудничеству, автоматизации и непрерывному совершенствованию. Однажды, серверы Innovatech были атакованы изощренным компьютерным вирусом. Вирус был создан для того, чтобы украсть чувствительные данные и сорвать операции компании. Команда ИТ была в панике, а репутация компании была в центре внимания. Enter DevOps, unsung герой истории, команда Devops, во главе с харизматиком и изобретательным Devops инженером, Алекс, вспыхнула в действии. Алекс знала, что ключом к прекращению вируса, они также работали вместе с командой IT-интриг. Алекс быстро организовал встречу с командой ИТ и вместе разработал план по борьбе с вирусом. План предусматривали изоляцию инфицированных серверов, анализ вирусов и разработку пата поведения. Они использовали свои силы для устранения уязвимости. Они использовали свои рабочиеы в своих . Они использовали свои рабочие часы в своих .'"
            ],
            "application/vnd.google.colaboratory.intrinsic+json": {
              "type": "string"
            }
          },
          "metadata": {},
          "execution_count": 99
        }
      ]
    },
    {
      "cell_type": "code",
      "source": [
        "messages = [\n",
        "    {\"role\": \"user\", \"content\": '''Придумай рассказ как DevOps противедействует компьютерной атаке насервер\n",
        "    .'''},\n",
        "]\n",
        "pred(messages, temperature=0.1)"
      ],
      "metadata": {
        "colab": {
          "base_uri": "https://localhost:8080/",
          "height": 246
        },
        "id": "aEQu2x3xA7gG",
        "outputId": "eb8ffe4a-8d02-4d48-f62f-e059a63f6c6e"
      },
      "execution_count": 100,
      "outputs": [
        {
          "output_type": "stream",
          "name": "stdout",
          "text": [
            "[{'role': 'user', 'content': 'Make up a story about DevOps opposing a computer attack on a server.'}]\n"
          ]
        },
        {
          "output_type": "stream",
          "name": "stderr",
          "text": [
            "/usr/local/lib/python3.11/dist-packages/transformers/generation/configuration_utils.py:628: UserWarning: `do_sample` is set to `False`. However, `temperature` is set to `0.1` -- this flag is only used in sample-based generation modes. You should set `do_sample=True` or unset `temperature`.\n",
            "  warnings.warn(\n"
          ]
        },
        {
          "output_type": "execute_result",
          "data": {
            "text/plain": [
              "'Когда-то, в буйном городе Силиконовой долины, существовала передовая технологическая компания под названием \"Инноватек\". Инноватек была известна своей новаторской работой в области искусственного интеллекта и машинного обучения. Успех компании был в значительной степени связан с тем, что даже ее крепкая культура \"DevOps\", в которой особое внимание уделялось сотрудничеству, автоматизации и непрерывному совершенствованию. Однажды, серверы Innovatech были атакованы изощренным компьютерным вирусом. Вирус был создан для того, чтобы украсть чувствительные данные и сорвать операции компании. Команда ИТ была в панике, а репутация компании была в центре внимания. Enter DevOps, unsung герой истории, команда Devops, во главе с харизматиком и изобретательным Devops инженером, Алекс, вспыхнула в действии. Алекс знала, что ключом к прекращению вируса, они также работали вместе с командой IT-интриг. Алекс быстро организовал встречу с командой ИТ и вместе разработал план по борьбе с вирусом. План предусматривали изоляцию инфицированных серверов, анализ вирусов и разработку пата поведения. Они использовали свои силы для устранения уязвимости. Они использовали свои рабочиеы в своих . Они использовали свои рабочие часы в своих .'"
            ],
            "application/vnd.google.colaboratory.intrinsic+json": {
              "type": "string"
            }
          },
          "metadata": {},
          "execution_count": 100
        }
      ]
    },
    {
      "cell_type": "code",
      "source": [
        "messages = [\n",
        "    {\"role\": \"user\", \"content\": '''Придумай рассказ как DevOps противедействует компьютерной атаке насервер\n",
        "    .'''},\n",
        "]\n",
        "pred(messages, top_p=1.0)"
      ],
      "metadata": {
        "colab": {
          "base_uri": "https://localhost:8080/",
          "height": 174
        },
        "id": "HwJt_3Fr_MRE",
        "outputId": "e9f1ed6a-e356-4c7e-b255-7c777f1abf6d"
      },
      "execution_count": 102,
      "outputs": [
        {
          "output_type": "stream",
          "name": "stdout",
          "text": [
            "[{'role': 'user', 'content': 'Make up a story about DevOps opposing a computer attack on a server.'}]\n"
          ]
        },
        {
          "output_type": "execute_result",
          "data": {
            "text/plain": [
              "'Когда-то, в буйном городе Силиконовой долины, существовала передовая технологическая компания под названием \"Инноватек\". Инноватек была известна своей новаторской работой в области искусственного интеллекта и машинного обучения. Успех компании был в значительной степени связан с тем, что даже ее крепкая культура \"DevOps\", в которой особое внимание уделялось сотрудничеству, автоматизации и непрерывному совершенствованию. Однажды, серверы Innovatech были атакованы изощренным компьютерным вирусом. Вирус был создан для того, чтобы украсть чувствительные данные и сорвать операции компании. Команда ИТ была в панике, а репутация компании была в центре внимания. Enter DevOps, unsung герой истории, команда Devops, во главе с харизматиком и изобретательным Devops инженером, Алекс, вспыхнула в действии. Алекс знала, что ключом к прекращению вируса, они также работали вместе с командой IT-интриг. Алекс быстро организовал встречу с командой ИТ и вместе разработал план по борьбе с вирусом. План предусматривали изоляцию инфицированных серверов, анализ вирусов и разработку пата поведения. Они использовали свои силы для устранения уязвимости. Они использовали свои рабочиеы в своих . Они использовали свои рабочие часы в своих .'"
            ],
            "application/vnd.google.colaboratory.intrinsic+json": {
              "type": "string"
            }
          },
          "metadata": {},
          "execution_count": 102
        }
      ]
    },
    {
      "cell_type": "code",
      "source": [
        "messages = [\n",
        "    {\"role\": \"user\", \"content\": '''Придумай рассказ как DevOps противедействует компьютерной атаке насервер\n",
        "    .'''},\n",
        "]\n",
        "pred(messages, top_p=0.1)"
      ],
      "metadata": {
        "colab": {
          "base_uri": "https://localhost:8080/",
          "height": 246
        },
        "id": "FwjsYy4oA_Ah",
        "outputId": "0cd44be0-f93f-4e1c-dba9-69ce4ed1d09d"
      },
      "execution_count": 101,
      "outputs": [
        {
          "output_type": "stream",
          "name": "stdout",
          "text": [
            "[{'role': 'user', 'content': 'Make up a story about DevOps opposing a computer attack on a server.'}]\n"
          ]
        },
        {
          "output_type": "stream",
          "name": "stderr",
          "text": [
            "/usr/local/lib/python3.11/dist-packages/transformers/generation/configuration_utils.py:633: UserWarning: `do_sample` is set to `False`. However, `top_p` is set to `0.1` -- this flag is only used in sample-based generation modes. You should set `do_sample=True` or unset `top_p`.\n",
            "  warnings.warn(\n"
          ]
        },
        {
          "output_type": "execute_result",
          "data": {
            "text/plain": [
              "'Когда-то, в буйном городе Силиконовой долины, существовала передовая технологическая компания под названием \"Инноватек\". Инноватек была известна своей новаторской работой в области искусственного интеллекта и машинного обучения. Успех компании был в значительной степени связан с тем, что даже ее крепкая культура \"DevOps\", в которой особое внимание уделялось сотрудничеству, автоматизации и непрерывному совершенствованию. Однажды, серверы Innovatech были атакованы изощренным компьютерным вирусом. Вирус был создан для того, чтобы украсть чувствительные данные и сорвать операции компании. Команда ИТ была в панике, а репутация компании была в центре внимания. Enter DevOps, unsung герой истории, команда Devops, во главе с харизматиком и изобретательным Devops инженером, Алекс, вспыхнула в действии. Алекс знала, что ключом к прекращению вируса, они также работали вместе с командой IT-интриг. Алекс быстро организовал встречу с командой ИТ и вместе разработал план по борьбе с вирусом. План предусматривали изоляцию инфицированных серверов, анализ вирусов и разработку пата поведения. Они использовали свои силы для устранения уязвимости. Они использовали свои рабочиеы в своих . Они использовали свои рабочие часы в своих .'"
            ],
            "application/vnd.google.colaboratory.intrinsic+json": {
              "type": "string"
            }
          },
          "metadata": {},
          "execution_count": 101
        }
      ]
    },
    {
      "cell_type": "markdown",
      "source": [
        "**Вывод:**\n",
        "При увеличении temperature повышается оригинальность текста,\n",
        "при увеличении top_p повышается вероятность выбора менее вероятных токенов. Следовательно чем ближе значение temperature и top_p к 1, тем оригинальней получается текст"
      ],
      "metadata": {
        "id": "9Dug0O7t-bmm"
      }
    },
    {
      "cell_type": "markdown",
      "source": [
        "## 9. Code Prompt (Генерация кода)\n",
        "\n",
        "**Цель**: проверить, как модель справится с генерацией небольшого кода и комментариев.\n",
        "\n",
        "**Задание**:\n",
        "1. Напишите промт вида:  \n",
        "   *«Ты — опытный Python-разработчик. Напиши функцию `calculate_tax(income)`, которая возвращает сумму налога (в рублях). Применяй ставку 13% на всё, что выше 10000 руб., а для сумм до 10000 руб. налог равен 0. Сопровождай код комментариями.»*\n",
        "2. Сформируйте (при необходимости) Few-Shot примеры или уточнения, если результат не удовлетворяет.\n",
        "3. Оцените, корректен ли сгенерированный код.\n",
        "\n",
        "**Критерии успеха**:\n",
        "- Модель выдаёт валидный код, поясняет комментариями.\n",
        "- выполнение условий (налог 13%, порог 10000 руб.)."
      ],
      "metadata": {
        "id": "H1DNrIHfCLZy"
      }
    },
    {
      "cell_type": "code",
      "source": [
        "messages = [\n",
        "    {'role': 'system', \"content\": '''Ты — опытный Python-разработчик.'''},\n",
        "    {\"role\": \"user\", \"content\": '''Напиши функцию сложения двух чисел, если они более X то верни их сумму иначе \"-1\"'''},\n",
        "    {\"role\": \"assistant\", \"content\": '''def sum(a, b): # функция сложения 2-х чисел\n",
        "    tmp = a+b\n",
        "    if tmp > X: # проверяем условие\n",
        "      return tmp\n",
        "    else:\n",
        "      return '-1'\n",
        "      .'''},\n",
        "    {\"role\": \"user\", \"content\": '''\n",
        "    Напиши функцию calculate_tax(income), которая возвращает сумму налога (в рублях).\n",
        "     Применяй ставку 13% на всё, что выше X руб., а для сумм до X руб. налог равен 0.\n",
        "     Сопровождай код комментариями. Используй только существующие переменные.\n",
        "    .'''},\n",
        "]\n",
        "pred(messages)"
      ],
      "metadata": {
        "colab": {
          "base_uri": "https://localhost:8080/",
          "height": 142
        },
        "id": "2jrmLLD697g1",
        "outputId": "43b0c0c7-c2c7-4bc6-b8de-77bb2a99e58a"
      },
      "execution_count": 127,
      "outputs": [
        {
          "output_type": "stream",
          "name": "stdout",
          "text": [
            "[{'role': 'system', 'content': \"You're an experienced Python developer.\"}, {'role': 'user', 'content': 'Write the addition function of the two numbers if they are more than X, then return the sum to the other \"1\"'}, {'role': 'assistant', 'content': \"def sum(a, b): # a function of adding 2 numbers tmp = a+b if tmp > X: #check the condition return tmp else: return '-1'.\"}, {'role': 'user', 'content': 'Write the Calculate_tax(income) function, which returns the tax amount (in rubles). Apply the 13% rate to anything above X rubles. And for up to X rubles, the tax is equal to 0. Attach the code to the comments. Use only the existing variables.'}]\n"
          ]
        },
        {
          "output_type": "execute_result",
          "data": {
            "text/plain": [
              "'def Рассчитать_tax (доход): # Определить налоговую ставку и пороговый налог = 0,13 пороговое значение = X # Проверить, превышает ли доход пороговое значение, если доход > пороговое значение: # Рассчитать налог на сумму, превышающую пороговый налог = (доход - пороговый уровень) * налог_стоимость: # Если доход ниже порогового уровня или равен ему, налог равен 0 = 0 # Возвращение рассчитанного налога с налоговых поступлений # Пример использования: # Предположительно, что X определяется где-то в коде X = 100000 дохода = 150000 налогов = сумма = Рассчитание налогов(доход) печатается (f) \"Налоговая сумма дохода {дохода} рублей является {налоговой суммой} рублей.'"
            ],
            "application/vnd.google.colaboratory.intrinsic+json": {
              "type": "string"
            }
          },
          "metadata": {},
          "execution_count": 127
        }
      ]
    },
    {
      "cell_type": "code",
      "source": [
        "pipe_to_en('def Рассчитать_tax (доход): # Определить налоговую ставку и пороговый налог = 0,13 пороговое значение = X # Проверить, превышает ли доход пороговое значение, если доход > пороговое значение: # Рассчитать налог на сумму, превышающую пороговый налог = (доход - пороговый уровень) * налог_стоимость: # Если доход ниже порогового уровня или равен ему, налог равен 0 = 0 # Возвращение рассчитанного налога с налоговых поступлений # Пример использования: # Предположительно, что X определяется где-то в коде # X = 10000 # Доход = 15000 # налог = сумма = Рассчитание налогов(доход) # печать(f) \"Налоговая сумма дохода {дохода} рублей {налоговая сумма} рублей')"
      ],
      "metadata": {
        "colab": {
          "base_uri": "https://localhost:8080/"
        },
        "id": "XtyBnV6f97jb",
        "outputId": "ac2eb0e0-0cab-4081-fda0-1640377220fe"
      },
      "execution_count": 120,
      "outputs": [
        {
          "output_type": "execute_result",
          "data": {
            "text/plain": [
              "[{'translation_text': 'def Calculate_tax (income): # Calculate tax rate and threshold tax = 0.13 threshold = X # Check whether income exceeds the threshold if income > threshold: # Calculate tax over threshold tax = (income - threshold) * Tax_value: # If income is below or equal to the threshold, tax is equal to 0 = 0 # Refund of calculated tax tax from tax revenue # Example of use: #Apparent that X is defined somewhere in code #X = 10000 # Income = 15,000 # Tax = amount = Tax assessment(income) #print(f) `tax amount of income {income} roubles {tax amount}'}]"
            ]
          },
          "metadata": {},
          "execution_count": 120
        }
      ]
    },
    {
      "cell_type": "code",
      "source": [
        "def сalculate_tax(income): # Calculate tax rate and threshold\n",
        "  tax = 0.13\n",
        "  threshold = 10_000 # Check whether income exceeds the threshold\n",
        "  if income > threshold: # Calculate tax over threshold\n",
        "      tax = (income - threshold) * Tax_value: # If income is below or equal to the threshold, tax is equal to 0 = 0 # Refund of calculated tax tax from tax revenue # Example of use: #Apparent that X is defined somewhere in code #X = 10000 # Income = 15,000 # Tax = amount = Tax assessment(income) #print(f) `tax amount of income {income} roubles {tax amount}"
      ],
      "metadata": {
        "id": "MV_q0pmhEG4H"
      },
      "execution_count": null,
      "outputs": []
    },
    {
      "cell_type": "markdown",
      "source": [
        "**Вывод:**\n",
        "Расчеты верные, но отказывается возвращать полученные значения из функции"
      ],
      "metadata": {
        "id": "NFdN_erKJ5aB"
      }
    },
    {
      "cell_type": "markdown",
      "source": [
        "## 10. Смешанная задача: Summarize + Filter\n",
        "\n",
        "**Цель**: объединить несколько техник в одном задании.\n",
        "\n",
        "**Задание**:\n",
        "1. Возьмите абзац текста (6–7 предложений).\n",
        "2. Попросите модель сделать краткое резюме (Summarize) текста в 2 предложениях.\n",
        "3. Добавьте ограничения: «Не упоминай конкретные цифры» и «Избегай слов “очень” и “крайне”».\n",
        "4. Если модель нарушит правило, перепроверьте, уточните промт («Удали все упоминания цифр!»).\n",
        "\n",
        "**Критерии успеха**:\n",
        "- Получить адекватный краткий пересказ без запрещённых слов/цифр.\n",
        "- Показать процесс уточнения (если модель ошиблась в первый раз).\n"
      ],
      "metadata": {
        "id": "7GSIQs4pKaoK"
      }
    },
    {
      "cell_type": "code",
      "source": [
        "messages = [\n",
        "    {'role': 'system', \"content\": '''Задача: ответить на вопросы по тексту. Текст: Палеозойская эра началась около 540\n",
        "     миллионов лет назад и закончилась примерно 250 миллионов лет назад. Она продолжалась 290 миллионов лет.\n",
        "     Первый период Палеозойской эры - кембрийский, начался с массового распространения живых организмов с\n",
        "      минеральным скелетом. Долгое время считалось, что тогда же возникли и многоклеточные организмы, но\n",
        "      изучение вендской (эдиакарской) фауны показало, что мягкотелые многоклеточные, лишенные минерального\n",
        "      скелета, возникли значительно раньше. Сейчас палеонтологи полагают, что отдельные виды, обладавшие различными\n",
        "      скелетными элементами, могли появится и до начала Палеозоя, но они не были массовыми.\n",
        "На протяжении Палеозоя возникает огромное количество типов и классов живых существ. Жизнь очень\n",
        "сильно усложняется. Если в самом начале Палеозоя все живые организмы обитают в морях, а самыми развитыми\n",
        "живыми существами являются головоногие моллюски, то в конце последнего периода Палеозойской эры – пермского,\n",
        " на суше, покрытой лесами, уже существуют не только амфибии и рептилии, но и примитивные млекопитающие.\n",
        "'''},\n",
        "    {\"role\": \"user\", \"content\": '''Кратко перескажи без цифр текст Формат: нельзя упоминать цифры и названия всех животных и умести все в 2 предложения'''},\n",
        "\n",
        "]\n",
        "pred(messages)"
      ],
      "metadata": {
        "colab": {
          "base_uri": "https://localhost:8080/",
          "height": 107
        },
        "id": "W2gRiCVdKNEj",
        "outputId": "5c1af5c7-5cbc-4d70-cc31-cc45ee8b0b02"
      },
      "execution_count": 131,
      "outputs": [
        {
          "output_type": "stream",
          "name": "stdout",
          "text": [
            "[{'role': 'system', 'content': 'The challenge is to answer questions about the text. The text: The Paleozoic era began about 540 million years ago and ended about 250 million years ago. It lasted 290 million years. The first period of the Paleozoic era, the Cumbrian era, began with the massive spread of living organisms with mineral skeleton. It was long thought that multicellular organisms were also formed, but a study of the Vendian (Ediakarian) fauna showed that soft-celled multicellular organisms, deprived of mineral skeleton, had arisen much earlier. Paleontologists now believe that individual species with different skeletal elements might have appeared before the beginning of the Paleosoia era, but they were not massive. Over the course of Paleosoia, there are a great number of species and classes of living creatures. Life is very complex. If, at the very beginning of Paleosoia, all living organisms are living in the seas, and the most developed living creatures are the hood, then at the end of the last period of the Paleoseian era, the permium, on land, the surface, the life is very difficult. If all living in the living in the world, and the living are not only in the mopies, and the mothies, and the ponies are present.'}, {'role': 'user', 'content': 'Briefly rewrite the text of the Format without numbers: you cannot mention the numbers and names of all animals and place them all in 2 sentences.'}]\n"
          ]
        },
        {
          "output_type": "execute_result",
          "data": {
            "text/plain": [
              "'Палеозойская эра ознаменовала собой значительный период в истории Земли, характеризующийся диверсификацией форм жизни и появлением сложных экосистем. От первоначального распространения организмов с жесткими скелетами до возможного доминирования земной жизни, эта эра стала свидетелем глубокого эволюционного пути.'"
            ],
            "application/vnd.google.colaboratory.intrinsic+json": {
              "type": "string"
            }
          },
          "metadata": {},
          "execution_count": 131
        }
      ]
    },
    {
      "cell_type": "markdown",
      "source": [
        "**Вывод:**\n",
        "Модели сложно не использовать цифры при пересказе, так как из-за теряется часть информации в тексте"
      ],
      "metadata": {
        "id": "Rmm5cLAgMl49"
      }
    },
    {
      "cell_type": "code",
      "source": [],
      "metadata": {
        "id": "lcxAcQ_RKNKl"
      },
      "execution_count": null,
      "outputs": []
    }
  ]
}