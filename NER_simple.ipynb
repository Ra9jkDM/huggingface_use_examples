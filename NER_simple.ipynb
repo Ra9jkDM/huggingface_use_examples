{
 "cells": [
  {
   "cell_type": "code",
   "execution_count": 45,
   "id": "82906f6e-7605-42a9-9ac4-e2f81e12e271",
   "metadata": {},
   "outputs": [
    {
     "name": "stdout",
     "output_type": "stream",
     "text": [
      "Collecting levenshtein\n",
      "  Downloading levenshtein-0.27.1-cp310-cp310-manylinux_2_17_x86_64.manylinux2014_x86_64.whl (161 kB)\n",
      "\u001b[2K     \u001b[38;2;114;156;31m━━━━━━━━━━━━━━━━━━━━━━━━━━━━━━━━━━━━━━━\u001b[0m \u001b[32m161.5/161.5 KB\u001b[0m \u001b[31m1.7 MB/s\u001b[0m eta \u001b[36m0:00:00\u001b[0m[31m1.5 MB/s\u001b[0m eta \u001b[36m0:00:01\u001b[0m\n",
      "\u001b[?25hCollecting rapidfuzz<4.0.0,>=3.9.0\n",
      "  Downloading rapidfuzz-3.12.2-cp310-cp310-manylinux_2_17_x86_64.manylinux2014_x86_64.whl (3.1 MB)\n",
      "\u001b[2K     \u001b[38;2;114;156;31m━━━━━━━━━━━━━━━━━━━━━━━━━━━━━━━━━━━━━━━━\u001b[0m \u001b[32m3.1/3.1 MB\u001b[0m \u001b[31m9.9 MB/s\u001b[0m eta \u001b[36m0:00:00\u001b[0m0m eta \u001b[36m0:00:01\u001b[0m[36m0:00:01\u001b[0m\n",
      "\u001b[?25hInstalling collected packages: rapidfuzz, levenshtein\n",
      "Successfully installed levenshtein-0.27.1 rapidfuzz-3.12.2\n"
     ]
    }
   ],
   "source": [
    "!pip install levenshtein"
   ]
  },
  {
   "cell_type": "code",
   "execution_count": 239,
   "id": "9795429c-979a-4e35-ab7b-fd0e06816c9c",
   "metadata": {},
   "outputs": [],
   "source": [
    "import pymorphy2\n",
    "import re\n",
    "from nltk.corpus import stopwords\n",
    "import Levenshtein\n",
    "from pyvis.network import Network\n",
    "from IPython.display import HTML\n",
    "from PIL import Image\n",
    "import matplotlib.pyplot as plt"
   ]
  },
  {
   "cell_type": "code",
   "execution_count": 1,
   "id": "initial_id",
   "metadata": {
    "ExecuteTime": {
     "end_time": "2025-03-12T03:47:18.859258Z",
     "start_time": "2025-03-12T03:46:20.688371Z"
    },
    "colab": {
     "base_uri": "https://localhost:8080/",
     "height": 368,
     "referenced_widgets": [
      "2737c3f94e2f437593bce90032a9a89c",
      "a73874cfe13f4a8ab50293804329d281",
      "34c24c694d2a4833bd33917ff80cc4ae",
      "201588b1dc10452880d96730fad3c5c1",
      "94948075d4914c17a1c48d0bddc74d8b",
      "e107e44189c941de83771d154bd519c1",
      "fb61942591634f72bb47a4c724c328d0",
      "d4d9088122ba4b1ba32cecbe216f678f",
      "63a2c8587f8d41b689e9143fa8e7c609",
      "825bfed7b5fe43a6810ce476c8746fd7",
      "ebe3a045dacb467d87813024db250c78",
      "81bfa80480c04565acd0ddd179c57a87",
      "a1d2a158f7f7490d9cab4a7ffde1d2d7",
      "9854b7fd0e654659b472f2e544f2fd2c",
      "d74c28837adb470aa04789c9372fa7fd",
      "49f5a5ef2b8449c8a95af3762fa9fdee",
      "22c6c7ed71834821b0d8b057455917e4",
      "10aa48ff47ac4976b20734dc2252f867",
      "3c978c22409c44e8afab741afd2d5839",
      "084fbeed61164578ae16d519698710bf",
      "b43be042625743ebab6203eb698d7686",
      "658d8d9dd1664d0dbed959a720713851",
      "a2eb636897ea4c369070d568cd5038e2",
      "2dc5461e461946d59724d615375c418f",
      "ba659d7966e64a4da7fdeb6f6b3603de",
      "1c9d06643e5a439fb30c16a6f02d99d0",
      "800d717b490b40f6851cac26e989bec2",
      "202cefae96ed410597d8422176df6bf5",
      "60fdba895cfe4e1689f764c253825bef",
      "7d41513d05e748a580ebf236dcd998ff",
      "90d94f4d62174d1f933ffdc9d5f44dd5",
      "c6fb6f39a6c745be8b8857023565228f",
      "b569d2d4861e46419af35a6b7084d0d6",
      "15d0f2d8ad134653a3e1ce0f81e2fdd5",
      "ead4b27a9dca40c5bb659cdc78997d82",
      "da836275891e49259fbe5b09ebb3b290",
      "554b0c7ff1bf42449d4a10e227c38122",
      "57853e18768c4bb785acc03d1b50b557",
      "53edaa8ccb5d46f2b357cbccab3fc7d3",
      "daed793790b74cacafa085a1d68b961d",
      "8b41c867b22843728c27ba4fc59fa936",
      "e0296a8402844ec5af228defb95f65ed",
      "2d3d74ee1972457ea46f90fcec0d8a28",
      "79adc9bd954c4877aab236ecf1f57c13",
      "dec78ac0ff1446149fb0d751e317f618",
      "0db6b179d5be451d8f497511c74786cb",
      "78f2538981e1456584c34864f1d5015e",
      "6679bbf803404ee5b3d16a47aaf1f938",
      "c09e9c95ba8243b18bd41bc4727d8f6f",
      "26473265a6224e97b978019c6472675b",
      "fbc91f8e62e74926be23185af308d842",
      "60635fb062b2468e95b958141afaa134",
      "165dfb553da44c58b4a0b4fdfe51d6db",
      "7239b8c1ea9a4ac1b09e41040a82fb17",
      "c258cc4804bb4f4287fbe1b2eb78fe3a",
      "47ba0fcc36bb4e2ab96022072f524b94",
      "8e61af37bd084d1e9ab6efdcfbc03f49",
      "491fafc273f24b528ac7a33c7dde5c87",
      "023dfb92352a4a668779d3be16311810",
      "690bf01cd3574f34a723425fdbc865b2",
      "fdeb719b564542cab90fedd460c51932",
      "341ea900efae468ab3990acb2f7e7f5c",
      "4f1a30bbe1ea45e8bf4aff78451afd3f",
      "5ef19949f35d49a08e22d7fc8a0f3648",
      "1d265d506c8442638380fb62cc68bdd8",
      "3dd2b049d9e849ad9ab6a973de1a682a"
     ]
    },
    "id": "initial_id",
    "outputId": "70a0d059-b220-4add-e683-5646982b8b40"
   },
   "outputs": [
    {
     "data": {
      "application/vnd.jupyter.widget-view+json": {
       "model_id": "5d6e01f66979442bac40d87a7f1c5bf6",
       "version_major": 2,
       "version_minor": 0
      },
      "text/plain": [
       "config.json:   0%|          | 0.00/1.14k [00:00<?, ?B/s]"
      ]
     },
     "metadata": {},
     "output_type": "display_data"
    },
    {
     "data": {
      "application/vnd.jupyter.widget-view+json": {
       "model_id": "0722c084cfc9413f9f7d247cdfcb5c00",
       "version_major": 2,
       "version_minor": 0
      },
      "text/plain": [
       "model.safetensors:   0%|          | 0.00/2.24G [00:00<?, ?B/s]"
      ]
     },
     "metadata": {},
     "output_type": "display_data"
    },
    {
     "data": {
      "application/vnd.jupyter.widget-view+json": {
       "model_id": "ab3a5ddcb6ae47239a9601edbe28ed39",
       "version_major": 2,
       "version_minor": 0
      },
      "text/plain": [
       "tokenizer_config.json:   0%|          | 0.00/25.0 [00:00<?, ?B/s]"
      ]
     },
     "metadata": {},
     "output_type": "display_data"
    },
    {
     "data": {
      "application/vnd.jupyter.widget-view+json": {
       "model_id": "804dea75dbfe416dbac58474f3dd9a20",
       "version_major": 2,
       "version_minor": 0
      },
      "text/plain": [
       "sentencepiece.bpe.model:   0%|          | 0.00/5.07M [00:00<?, ?B/s]"
      ]
     },
     "metadata": {},
     "output_type": "display_data"
    },
    {
     "data": {
      "application/vnd.jupyter.widget-view+json": {
       "model_id": "05b6ff88d47d4aa8b5e195f32103767d",
       "version_major": 2,
       "version_minor": 0
      },
      "text/plain": [
       "tokenizer.json:   0%|          | 0.00/9.10M [00:00<?, ?B/s]"
      ]
     },
     "metadata": {},
     "output_type": "display_data"
    },
    {
     "data": {
      "application/vnd.jupyter.widget-view+json": {
       "model_id": "d773dfac7777451ab0408ec1f9e93e9d",
       "version_major": 2,
       "version_minor": 0
      },
      "text/plain": [
       "special_tokens_map.json:   0%|          | 0.00/280 [00:00<?, ?B/s]"
      ]
     },
     "metadata": {},
     "output_type": "display_data"
    },
    {
     "name": "stderr",
     "output_type": "stream",
     "text": [
      "Device set to use cuda:0\n"
     ]
    },
    {
     "name": "stdout",
     "output_type": "stream",
     "text": [
      "[{'entity_group': 'PER', 'score': 0.9787045, 'word': 'Иван Петров', 'start': 0, 'end': 11}, {'entity_group': 'ORG', 'score': 0.95901304, 'word': '', 'start': 32, 'end': 33}, {'entity_group': 'ORG', 'score': 0.97429854, 'word': 'Яндекс', 'start': 32, 'end': 38}, {'entity_group': 'LOC', 'score': 0.98756105, 'word': 'Москве', 'start': 41, 'end': 47}]\n"
     ]
    }
   ],
   "source": [
    "# Импорт библиотеки transformers и загрузка pipeline для задачи NER\n",
    "from transformers import pipeline\n",
    "\n",
    "# Инициализация NER пайплайна с моделью RuBERT\n",
    "# ner_pipeline = pipeline('ner', model='DeepPavlov/rubert-base-cased-ner', aggregation_strategy=\"simple\")\n",
    "ner_pipeline = pipeline('ner', model='SlavicNLP/slavicner-ner-cross-topic-large', aggregation_strategy=\"simple\")\n",
    "\n",
    "\n",
    "# Текст для извлечения сущностей\n",
    "text = \"Иван Петров работает в компании Яндекс в Москве.\"\n",
    "\n",
    "# Извлечение сущностей\n",
    "ner_results = ner_pipeline(text)\n",
    "\n",
    "# Вывод результатов\n",
    "print(ner_results)"
   ]
  },
  {
   "cell_type": "code",
   "execution_count": 2,
   "id": "6F3WZMZ7pxCG",
   "metadata": {
    "colab": {
     "base_uri": "https://localhost:8080/",
     "height": 293,
     "referenced_widgets": [
      "3a58e05fd4314cfa9597fc3a1b064d64",
      "43e73cf065e544d18b2e36a9b7e9a336",
      "f6440185f1104535bdd5ee686346f9c4",
      "bb1ad20866a2477288cd4178c65b2540",
      "2b37c057896d4febb6c1d23da12cc535",
      "8a4c4504400e471298864da8b5831812",
      "a8891a9db9ce4337b037211cdfe09c59",
      "8415b1b5ad7d49bda37ea7988ee79de5",
      "8edd2a5b34a442a5ab807fc9f8bf8535",
      "2539925b0d4b4957bc541ad39a50e8e0",
      "b286ebb5b2cb4727b3f56b60dd8f6051",
      "30fd76bb2f4d4239b36a7441505b94c1",
      "17e11a0104784031a17d70dd6ece7d7d",
      "6e81f914c12f4d2eb6119358d0e8992c",
      "783d1d38ddf647c1a70243f8ecb8c4dc",
      "a5659f078c914fb1ba82a0ad29af9044",
      "8d6b1897d79e46afad77e88a2950ffeb",
      "9e28705de8df44fc9cb563f93dcb77e5",
      "233c4a0789e4413783bed25affdc695e",
      "730bb7ef8fbe4d0bb6a7886c22b0abe0",
      "05e25d9d7a3b4a73951ddde601091ec9",
      "564eb289b2d948c3b4a888d86e3592f8",
      "4a82511242fc476b92066872c7628cce",
      "10b4fe8d44a440e0aa2c63b9e7209586",
      "4cfabfbaa3fc4d88bf1e82fa8b3a20f1",
      "efa1374bbbe04c359e042f8c2d3cb136",
      "4c19fbe636ca41cf86aa71e8251d4d41",
      "831463ba5eb946dabc9012ebda20e149",
      "9ad485b172664a82ad2a5f7bddc29deb",
      "d93dc49a6ce8444e9ced7a2ba0c027de",
      "02a151eed51e404e82617c4602213b6e",
      "1c3e3674078a433983c634543e170572",
      "5c67123176244eb38b31691a1a573388",
      "a1adce17c52649a98a81f849f41b52e7",
      "e92b351cc05345ed8a8c6de5195c28b2",
      "49f5a91dfb9f435588587ac360d1b2d5",
      "cb82cdc93b3a44b890b038c34dd13c2b",
      "d33a50af2fd744c3b2ea28d61bf31622",
      "015b63022faa4c64ad65485f4fdee2a0",
      "9ac6af687406440082cfc93d52312ca8",
      "367651c9d38145d2898aa30d8250ca99",
      "11ec97ec33734245870ca399627c1c15",
      "daee51c02141449985885d5203def123",
      "974ef8d186784af1b816c91ba08c22c6",
      "75ad8667318b4410866e36da467ac4f1",
      "98c008524b7344cc9f42ac5eded95a6d",
      "a6d3cb9eb1ba452aac148da964add06f",
      "c74c2c640d354c319d4dbeb712dbb87d",
      "60bb1ff263aa4546a192288ed9669d08",
      "cc291d5319be42c7ba3a7854b1d419c8",
      "5dbc069a6b8c4cc0be3b6e468ff0644d",
      "9f7ec5c0d657481db9c9ee4a42905d17",
      "2e83af88158e451096820778cd1a2182",
      "8d3d1dca04a04ef291166a3b916e8a81",
      "67599609f5e14a9e8276e4ff70b0442d",
      "03b07ce3940a48b780c4c96b6e9f6c02",
      "7cca074430134e208652a37b2afd6185",
      "55600a3efaf04ebab8d4cf469b24996f",
      "692a98c8f94c49cf83cfc0d75a460a31",
      "79237eddc7fc4dbc84d2025d866c3ea5",
      "ddb51b6e5120408b8fbbf655dbc26439",
      "55e9ebdfd0a54e8b95c0a648dbe91629",
      "fd6af065155b4762960b90207ba86152",
      "45ceefcee71d44c7acdf11f1446a4544",
      "46dc5e9edd9b4e01925d7c3574f35ac7",
      "6ddf22be60ef42dd90cb946862b27505",
      "6f8ced6f0dbf48e897d4c4d5269deb38",
      "ad029704319946329dfce3fe82f63256",
      "2f193249aaa146aca8a368e9641f7ff0",
      "5177ce3e2a75472fad94482f0475c2cc",
      "a28b5e0c807a4e1ca29d5ef0b32e7bf9",
      "8f56025e000f4adbb8795e0b0a029d93",
      "5740812740ae49538f1016043901aa64",
      "9789b1090e2c409ba12640981ed54027",
      "5d5acee5222d4be385312cc3181978d2",
      "7bba9fc0707a44cbaf8268a8b4a0b6be",
      "3531660ffe4c40af91151af6860615dc"
     ]
    },
    "id": "6F3WZMZ7pxCG",
    "outputId": "21401a13-3fa4-4de1-e7b1-231daac40f63"
   },
   "outputs": [
    {
     "data": {
      "application/vnd.jupyter.widget-view+json": {
       "model_id": "92a81dd920084dcf86be9fc4b561197a",
       "version_major": 2,
       "version_minor": 0
      },
      "text/plain": [
       "config.json:   0%|          | 0.00/1.07k [00:00<?, ?B/s]"
      ]
     },
     "metadata": {},
     "output_type": "display_data"
    },
    {
     "data": {
      "application/vnd.jupyter.widget-view+json": {
       "model_id": "ef2d29cecae44c4ab4f68396fa3ce08a",
       "version_major": 2,
       "version_minor": 0
      },
      "text/plain": [
       "model.safetensors:   0%|          | 0.00/558M [00:00<?, ?B/s]"
      ]
     },
     "metadata": {},
     "output_type": "display_data"
    },
    {
     "data": {
      "application/vnd.jupyter.widget-view+json": {
       "model_id": "ab2425c7dfe042499ead9e846033c81b",
       "version_major": 2,
       "version_minor": 0
      },
      "text/plain": [
       "tokenizer_config.json:   0%|          | 0.00/1.26k [00:00<?, ?B/s]"
      ]
     },
     "metadata": {},
     "output_type": "display_data"
    },
    {
     "data": {
      "application/vnd.jupyter.widget-view+json": {
       "model_id": "30e651c8526040cab94d69d649dd096e",
       "version_major": 2,
       "version_minor": 0
      },
      "text/plain": [
       "spm.model:   0%|          | 0.00/4.31M [00:00<?, ?B/s]"
      ]
     },
     "metadata": {},
     "output_type": "display_data"
    },
    {
     "data": {
      "application/vnd.jupyter.widget-view+json": {
       "model_id": "438c23f63c22450faa2d86ad4c4e9731",
       "version_major": 2,
       "version_minor": 0
      },
      "text/plain": [
       "tokenizer.json:   0%|          | 0.00/16.3M [00:00<?, ?B/s]"
      ]
     },
     "metadata": {},
     "output_type": "display_data"
    },
    {
     "data": {
      "application/vnd.jupyter.widget-view+json": {
       "model_id": "6795eacae16f42a989692a7be7d3d50f",
       "version_major": 2,
       "version_minor": 0
      },
      "text/plain": [
       "added_tokens.json:   0%|          | 0.00/23.0 [00:00<?, ?B/s]"
      ]
     },
     "metadata": {},
     "output_type": "display_data"
    },
    {
     "data": {
      "application/vnd.jupyter.widget-view+json": {
       "model_id": "f29f96ccb1934fd0a7043e12b38e0676",
       "version_major": 2,
       "version_minor": 0
      },
      "text/plain": [
       "special_tokens_map.json:   0%|          | 0.00/286 [00:00<?, ?B/s]"
      ]
     },
     "metadata": {},
     "output_type": "display_data"
    },
    {
     "name": "stderr",
     "output_type": "stream",
     "text": [
      "Device set to use cuda:0\n"
     ]
    },
    {
     "name": "stdout",
     "output_type": "stream",
     "text": [
      "Иван Иванов -> работает в -> Яндекс, уверенность: 0.88\n",
      "Яндекс -> работает в -> Москва, уверенность: 0.88\n"
     ]
    }
   ],
   "source": [
    "from transformers import pipeline\n",
    "\n",
    "relation_extractor = pipeline('zero-shot-classification', model='MoritzLaurer/mDeBERTa-v3-base-mnli-xnli')\n",
    "\n",
    "text = \"Иван Иванов работает в компании Яндекс, расположенной в Москве.\"\n",
    "candidate_labels = [\"работает в\", \"родился в\", \"учится в\"]\n",
    "\n",
    "entities_pairs = [(\"Иван Иванов\", \"Яндекс\"), (\"Яндекс\", \"Москва\")]\n",
    "\n",
    "for entity1, entity2 in entities_pairs:\n",
    "    results = relation_extractor(text, candidate_labels)\n",
    "    best_label = results['labels'][0]\n",
    "    confidence = results['scores'][0]\n",
    "    print(f\"{entity1} -> {best_label} -> {entity2}, уверенность: {confidence:.2f}\")"
   ]
  },
  {
   "cell_type": "code",
   "execution_count": 3,
   "id": "cabbf4210e30fb1a",
   "metadata": {
    "colab": {
     "base_uri": "https://localhost:8080/"
    },
    "id": "cabbf4210e30fb1a",
    "outputId": "86eec23f-5f12-40da-b499-d4bfa13ddb5a"
   },
   "outputs": [
    {
     "name": "stderr",
     "output_type": "stream",
     "text": [
      "Device set to use cuda:0\n"
     ]
    },
    {
     "name": "stdout",
     "output_type": "stream",
     "text": [
      "[('Иван Петров', ''), ('Иван Петров', 'Яндекс'), ('Иван Петров', 'Москве'), ('', 'Москве'), ('Яндекс', 'Москве')]\n"
     ]
    }
   ],
   "source": [
    "# Функция извлечения пар сущностей из текста\n",
    "from transformers import pipeline\n",
    "\n",
    "# NER-пайплайн для извлечения сущностей\n",
    "# ner_pipeline = pipeline('ner', model='DeepPavlov/rubert-base-cased-ner', aggregation_strategy=\"simple\")\n",
    "ner_pipeline = pipeline('ner', model='SlavicNLP/slavicner-ner-cross-topic-large', aggregation_strategy=\"simple\")\n",
    "\n",
    "text = \"Иван Петров работает в компании Яндекс в Москве.\"\n",
    "ner_results = ner_pipeline(text)\n",
    "\n",
    "# Автоматическое извлечение пар сущностей (например, PERSON-ORG)\n",
    "def extract_entity_pairs(ner_results):\n",
    "    entities = [(res['entity_group'], res['word']) for res in ner_results]\n",
    "    pairs = []\n",
    "    for i, (type1, ent1) in enumerate(entities):\n",
    "        for type2, ent2 in entities[i+1:]:\n",
    "            if type1 != type2:\n",
    "                pairs.append((ent1, ent2))\n",
    "    return pairs\n",
    "\n",
    "entity_pairs = extract_entity_pairs(ner_results)\n",
    "print(entity_pairs)\n"
   ]
  },
  {
   "cell_type": "code",
   "execution_count": 4,
   "id": "6fc03aba939122c9",
   "metadata": {
    "colab": {
     "base_uri": "https://localhost:8080/",
     "height": 659
    },
    "id": "6fc03aba939122c9",
    "outputId": "cd8c6d59-c9ca-49d1-8870-098865e48540"
   },
   "outputs": [
    {
     "data": {
      "image/png": "[encoded data removed]",
      "text/plain": [
       "<Figure size 800x600 with 1 Axes>"
      ]
     },
     "metadata": {},
     "output_type": "display_data"
    }
   ],
   "source": [
    "import networkx as nx\n",
    "import matplotlib.pyplot as plt\n",
    "\n",
    "# Создание пустого графа\n",
    "G = nx.Graph()\n",
    "\n",
    "# Добавление сущностей и связей между ними\n",
    "entity_pairs = [(\"Иван Петров\", \"Яндекс\"), (\"Иван Петров\", \"Москва\"), (\"Яндекс\", \"Москва\")]\n",
    "\n",
    "for ent1, ent2 in entity_pairs:\n",
    "    G.add_edge(ent1, ent2)\n",
    "\n",
    "# Визуализация графа\n",
    "plt.figure(figsize=(8, 6))\n",
    "pos = nx.spring_layout(G)\n",
    "nx.draw(G, pos, with_labels=True, node_size=2500, node_color='lightgreen', font_size=12, font_weight='bold')\n",
    "plt.title('Граф сущностей и их связей')\n",
    "plt.show()"
   ]
  },
  {
   "cell_type": "markdown",
   "id": "109b5b9bab03bd2e",
   "metadata": {
    "id": "109b5b9bab03bd2e"
   },
   "source": [
    "### Задания для самостоятельной работы:\n",
    "    1. Найдите текст объемом 100-200 слов, извлеките сущности и визуализируйте граф связей.\n",
    "    2. Используя результаты извлечения сущностей, составьте пары для анализа отношений и выделите наиболее частые.\n",
    "    3. Примените альтернативную модель (например, cointegrated/rubert-tiny2), сравните её результаты с RuBERT.\n",
    "    4. Реализуйте автоматизированное извлечение связей из большого текста и визуализируйте в виде графа.\n",
    "    5. Проведите анализ связей на новостной статье и опишите, какие сущности и связи преобладают.\n",
    "    6. Составьте краткий отчет о применении NER и извлечения отношений в реальных задачах бизнеса."
   ]
  },
  {
   "cell_type": "code",
   "execution_count": null,
   "id": "QSzYU-OV30VY",
   "metadata": {
    "colab": {
     "base_uri": "https://localhost:8080/"
    },
    "id": "QSzYU-OV30VY",
    "outputId": "910dbd93-09bf-41b5-c333-6ccd5caec633"
   },
   "outputs": [],
   "source": []
  },
  {
   "cell_type": "code",
   "execution_count": 237,
   "id": "yZPlkB3p6CEj",
   "metadata": {
    "id": "yZPlkB3p6CEj"
   },
   "outputs": [
    {
     "data": {
      "text/plain": [
       "413"
      ]
     },
     "execution_count": 237,
     "metadata": {},
     "output_type": "execute_result"
    }
   ],
   "source": [
    "story = ''' Необъятная размахом Россия пленяет красотой просторов, щедростью души, уважением к своей истории, культуре, бережным отношением к несметным богатствам, дарованным природой. Не счесть в огромной стране заповедных уголков, городов и деревень, памятников природных и рукотворных. Самые известные достопримечательности России известны во всем мире. Знакомиться с ними – интереснейшее занятие, к которому мы вас приглашаем. Пока только в этой статье, но, надеемся, виртуальное знакомство превратится в реальные путешествия. Компания «ВодоходЪ» всегда к вашим услугам!\n",
    "\n",
    "В городах России сосредоточены главные исторические достопримечательности страны, объекты культуры, научные, промышленные центры. В них проживает основная часть населения Российской Федерации. Самыми известными и посещаемыми городами являются столицы – Москва и Санкт-Петербург.\n",
    "Достопримечательности Москвы\n",
    "\n",
    "В древнем русском городе, основанном Юрием Долгоруким в 1147 году, сохранилось множество исторических памятников, архитектурных шедевров, старинных особняков. Современная Москва не менее прекрасна. Поднялись к небу башни делового центра «Москва-Сити», украсили город великолепные строения комфортных жилых комплексов, появились новые, удобные виды транспорта, зазеленели парки и скверы. Сердцем Москвы, да и всей России остается главная площадь страны.\n",
    "Красная площадь\n",
    "\n",
    "С ее главными достопримечательностями каждый россиянин знаком хотя бы по картинкам. Для всех близки и узнаваемы:\n",
    "\n",
    "    Московский Кремль – монументальная крепость, возведенная в XV веке во времена правления Ивана III. Это самая крупная сохранившаяся и действующая крепость в мире. Длина ее стен составляет 2 км 235 м.\n",
    "    Собор Василия Блаженного – красивейший храм построен в честь победы Руси над Казанским ханством.\n",
    "    Памятник Минину и Пожарскому – установлен перед Собором Василия Блаженного в ознаменование изгнания из столицы польских интервентов в 1612 году.\n",
    "    Некрополь у Кремлевской стены – хранит вечный покой выдающихся полководцев, политических деятелей, известных и уважаемых людей России.\n",
    "    Мавзолей В.И.Ленина – в гранитном сооружении находится прах вождя мирового пролетариата, интерес к нему не ослабевают, в очереди к Мавзолею выстраиваются тысячи людей.\n",
    "    Исторический музей – расположен на противоположной от Собора Василия Блаженного стороне обширного пространства, покрытого брусчаткой. Красивое кирпичное сооружение является украшением главной площади России.\n",
    "    Здание ГУМа – государственный универсальный магазин прекрасно вписался в ансамбль Красной площади, он протянулся напротив Кремлевской стены.\n",
    "\n",
    "Это самые важные места центра столицы. Знаковыми и активно посещаемыми являются Большой Театр, Третьяковская галерея, ВДНХ. Прокатиться на поезде знаменитого московского метро, погулять по паркам и проспектам, побывать в музеях, почувствовать ритм жизни огромного мегаполиса необычайно интересно.\n",
    "\n",
    "Отдохнуть в покое и тишине приятно в живописных пригородах Москвы. Наиболее популярными из них можно назвать Царицыно – бывшую царскую резиденцию династии Романовых, усадьбу князей Голицыных Дубровицы недалеко от подмосковного Подольска, восхитительный архитектурный ансамбль «Архангельское». '''\n",
    "\n",
    "len(story.split(' '))"
   ]
  },
  {
   "cell_type": "code",
   "execution_count": 39,
   "id": "162525d2-73d6-4f32-9c83-bf9b85dada54",
   "metadata": {},
   "outputs": [],
   "source": [
    "stop_list = stopwords.words(\"russian\")\n",
    "def clear_text(text):\n",
    "    text = re.sub('((www\\.[^\\s]+)|(https?://[^\\s]+))', 'URL', text) # Удаление ссылок\n",
    "    text = re.sub('\"[\\S]+\"', '', text) # Удаление названий. Пример: \"ООО ...\"\n",
    "    # text = text.lower().replace(\"ё\", \"е\")\n",
    "\n",
    "    for i in list('.?!()') + ['...']:\n",
    "        text = text.replace(i, ' ') # В конце строки часто не ставят пробелов\n",
    "        # из-за этого после обработки два слова склеиваются и перестают нести смысловую нагрузку для сети\n",
    "    \n",
    "    # symbols = re.findall(\"[а-я\\s]\", text) # Оставляем только буквы\n",
    "    # text = ''.join(symbols)\n",
    "    text = re.sub(' +', ' ', text) # Оставляем между словами 1 пробел\n",
    "    return text.strip()\n",
    "\n",
    "morph = pymorphy2.MorphAnalyzer(lang='ru')\n",
    "\n",
    "def stemming(text):\n",
    "    text = text.split()\n",
    "    new_text = []\n",
    "\n",
    "    for i in text:\n",
    "        tmp = morph.parse(i)[0]\n",
    "        if tmp.normal_form in stop_list:\n",
    "            continue\n",
    "        if not 'UNKN' in tmp.tag: # Если слово написано с ошибкой или несуществующее слово\n",
    "            word = tmp.normal_form\n",
    "            if  i[0].isupper():\n",
    "                word = word.capitalize()\n",
    "            new_text.append(word)\n",
    "    \n",
    "    return ' '.join(new_text)\n",
    "\n",
    "def preprocess_text(text):\n",
    "    text = clear_text(text)\n",
    "    text = stemming(text)\n",
    "    return text"
   ]
  },
  {
   "cell_type": "code",
   "execution_count": 40,
   "id": "2747aa58-b8b7-436d-abf7-d6cdf8d4f824",
   "metadata": {},
   "outputs": [
    {
     "data": {
      "text/plain": [
       "'Необъятный размах Россия пленять красота щедрость уважение свой бережный отношение несметный даровать природа счесть огромный страна заповедный город памятник природный рукотворный Самый известный достопримечательность Россия известный весь мир Знакомиться – интересный который приглашать Пока виртуальный знакомство превратиться реальный путешествие Компания ваш услуга город Россия сосредоточить главный исторический достопримечательность объект промышленный центр проживать основный часть население Российский Федерация Самый известный посещать город являться столица – Москва Санкт-петербург Достопримечательность Москва древний русский основать Юрий Долгорукий 1147 сохраниться множество исторический архитектурный старинный особняк Современный Москва менее прекрасный Подняться небо башня деловой центр украсить город великолепный строение комфортный жилой появиться удобный вид зазеленеть парка сквер Сердце весь Россия оставаться главный площадь страна Красный площадь главный достопримечательность каждый россиянин знак хотя картинка весь близкий Московский Кремль – монументальный возвести Xv век время правление Иван Iii Это самый крупный сохраниться действовать крепость мир Длина стена составлять 2 км 235 м Собор Василий Блаженный – красивый храм построить честь победа Русь Казанский ханство Памятник Минин Пожарский – установить Собор Василий Блаженный ознаменование изгнание столица польский интервент 1612 год Некрополь Кремлёвский стена – хранить вечный покой выдающийся политический известный уважаемый человек Россия Мавзолей Ленин – гранитный сооружение находиться прах вождь мировой интерес очередь Мавзолей выстраиваться тысяча человек Исторический музей – расположить противоположный Собор Василий Блаженный сторона обширный покрыть брусчатка Красивый кирпичный сооружение являться украшение главный площадь Россия Здание Гум – государственный универсальный магазин прекрасно вписаться ансамбль Красный протянуться напротив Кремлёвский стена Это самый важный место центр столица Знаковый активно посещать являться Большой Третьяковский Вднх Прокатиться поезд знаменитый московский погулять парка побывать почувствовать ритм жизнь огромный мегаполис необычайно интересно Отдохнуть покой тишина приятно живописный пригород Москва Наиболее популярный назвать Царицыно – бывший царский резиденция династия усадьба князь Голицын Дубровица недалеко подмосковный восхитительный архитектурный ансамбль'"
      ]
     },
     "execution_count": 40,
     "metadata": {},
     "output_type": "execute_result"
    }
   ],
   "source": [
    "text = preprocess_text(story)\n",
    "text"
   ]
  },
  {
   "cell_type": "code",
   "execution_count": 81,
   "id": "09d27b84-70c7-4ada-8461-30e0413c41ca",
   "metadata": {},
   "outputs": [
    {
     "name": "stdout",
     "output_type": "stream",
     "text": [
      "[('Россия', '«ВодоходЪ»'), ('Россия', 'Юрием Долгоруким'), ('Россия', 'россиян'), ('Россия', 'Ивана III'), ('Россия', 'Минину'), ('Россия', 'Пожарскому'), ('России', '«ВодоходЪ»'), ('России', 'Юрием Долгоруким'), ('России', 'россиян'), ('России', 'Ивана III'), ('России', 'Минину'), ('России', 'Пожарскому'), ('«ВодоходЪ»', 'России'), ('«ВодоходЪ»', 'Российской Федерации'), ('«ВодоходЪ»', 'Москва'), ('«ВодоходЪ»', 'Санкт-Петербург'), ('«ВодоходЪ»', 'Москвы'), ('«ВодоходЪ»', 'Юрием Долгоруким'), ('«ВодоходЪ»', 'Москва'), ('«ВодоходЪ»', 'Москва-Сити'), ('«ВодоходЪ»', 'Москвы'), ('«ВодоходЪ»', 'России'), ('«ВодоходЪ»', 'Красная площадь'), ('«ВодоходЪ»', 'россиян'), ('«ВодоходЪ»', 'Московский Кремль'), ('«ВодоходЪ»', 'Ивана III'), ('«ВодоходЪ»', 'Собор Василия Блажен'), ('«ВодоходЪ»', 'Руси'), ('«ВодоходЪ»', 'Казанским ханством'), ('«ВодоходЪ»', 'Минину'), ('«ВодоходЪ»', 'Пожарскому'), ('«ВодоходЪ»', 'Собором Василия Блажен'), ('«ВодоходЪ»', 'Кремлевской стены'), ('«ВодоходЪ»', 'России'), ('«ВодоходЪ»', 'Ма'), ('России', 'Юрием Долгоруким'), ('России', 'россиян'), ('России', 'Ивана III'), ('России', 'Минину'), ('России', 'Пожарскому'), ('Российской Федерации', 'Юрием Долгоруким'), ('Российской Федерации', 'россиян'), ('Российской Федерации', 'Ивана III'), ('Российской Федерации', 'Минину'), ('Российской Федерации', 'Пожарскому'), ('Москва', 'Юрием Долгоруким'), ('Москва', 'россиян'), ('Москва', 'Ивана III'), ('Москва', 'Минину'), ('Москва', 'Пожарскому'), ('Санкт-Петербург', 'Юрием Долгоруким'), ('Санкт-Петербург', 'россиян'), ('Санкт-Петербург', 'Ивана III'), ('Санкт-Петербург', 'Минину'), ('Санкт-Петербург', 'Пожарскому'), ('Москвы', 'Юрием Долгоруким'), ('Москвы', 'россиян'), ('Москвы', 'Ивана III'), ('Москвы', 'Минину'), ('Москвы', 'Пожарскому'), ('Юрием Долгоруким', 'Москва'), ('Юрием Долгоруким', 'Москва-Сити'), ('Юрием Долгоруким', 'Москвы'), ('Юрием Долгоруким', 'России'), ('Юрием Долгоруким', 'Красная площадь'), ('Юрием Долгоруким', 'Московский Кремль'), ('Юрием Долгоруким', 'Собор Василия Блажен'), ('Юрием Долгоруким', 'Руси'), ('Юрием Долгоруким', 'Казанским ханством'), ('Юрием Долгоруким', 'Собором Василия Блажен'), ('Юрием Долгоруким', 'Кремлевской стены'), ('Юрием Долгоруким', 'России'), ('Юрием Долгоруким', 'Ма'), ('Москва', 'россиян'), ('Москва', 'Ивана III'), ('Москва', 'Минину'), ('Москва', 'Пожарскому'), ('Москва-Сити', 'россиян'), ('Москва-Сити', 'Ивана III'), ('Москва-Сити', 'Минину'), ('Москва-Сити', 'Пожарскому'), ('Москвы', 'россиян'), ('Москвы', 'Ивана III'), ('Москвы', 'Минину'), ('Москвы', 'Пожарскому'), ('России', 'россиян'), ('России', 'Ивана III'), ('России', 'Минину'), ('России', 'Пожарскому'), ('Красная площадь', 'россиян'), ('Красная площадь', 'Ивана III'), ('Красная площадь', 'Минину'), ('Красная площадь', 'Пожарскому'), ('россиян', 'Московский Кремль'), ('россиян', 'Собор Василия Блажен'), ('россиян', 'Руси'), ('россиян', 'Казанским ханством'), ('россиян', 'Собором Василия Блажен'), ('россиян', 'Кремлевской стены'), ('россиян', 'России'), ('россиян', 'Ма'), ('Московский Кремль', 'Ивана III'), ('Московский Кремль', 'Минину'), ('Московский Кремль', 'Пожарскому'), ('Ивана III', 'Собор Василия Блажен'), ('Ивана III', 'Руси'), ('Ивана III', 'Казанским ханством'), ('Ивана III', 'Собором Василия Блажен'), ('Ивана III', 'Кремлевской стены'), ('Ивана III', 'России'), ('Ивана III', 'Ма'), ('Собор Василия Блажен', 'Минину'), ('Собор Василия Блажен', 'Пожарскому'), ('Руси', 'Минину'), ('Руси', 'Пожарскому'), ('Казанским ханством', 'Минину'), ('Казанским ханством', 'Пожарскому'), ('Минину', 'Собором Василия Блажен'), ('Минину', 'Кремлевской стены'), ('Минину', 'России'), ('Минину', 'Ма'), ('Пожарскому', 'Собором Василия Блажен'), ('Пожарскому', 'Кремлевской стены'), ('Пожарскому', 'России'), ('Пожарскому', 'Ма')]\n"
     ]
    }
   ],
   "source": [
    "ner_results = ner_pipeline(story)\n",
    "entity_pairs = extract_entity_pairs(ner_results)\n",
    "print(entity_pairs)"
   ]
  },
  {
   "cell_type": "code",
   "execution_count": 82,
   "id": "e7eb8ccf-fa96-49bb-a68b-8f8627d7155f",
   "metadata": {},
   "outputs": [
    {
     "data": {
      "text/plain": [
       "{'«ВодоходЪ»',\n",
       " 'Ивана III',\n",
       " 'Казанским ханством',\n",
       " 'Красная площадь',\n",
       " 'Кремлевской стены',\n",
       " 'Ма',\n",
       " 'Минину',\n",
       " 'Москва',\n",
       " 'Москва-Сити',\n",
       " 'Москвы',\n",
       " 'Московский Кремль',\n",
       " 'Пожарскому',\n",
       " 'России',\n",
       " 'Российской Федерации',\n",
       " 'Россия',\n",
       " 'Руси',\n",
       " 'Санкт-Петербург',\n",
       " 'Собор Василия Блажен',\n",
       " 'Собором Василия Блажен',\n",
       " 'Юрием Долгоруким',\n",
       " 'россиян'}"
      ]
     },
     "execution_count": 82,
     "metadata": {},
     "output_type": "execute_result"
    }
   ],
   "source": [
    "all_ner = []\n",
    "for i in entity_pairs:\n",
    "  all_ner.extend(i)\n",
    "all_ner = set(sorted(all_ner))\n",
    "all_ner"
   ]
  },
  {
   "cell_type": "code",
   "execution_count": 48,
   "id": "03af0903-5b3d-4831-b784-1e6ac4579400",
   "metadata": {},
   "outputs": [
    {
     "data": {
      "text/plain": [
       "5"
      ]
     },
     "execution_count": 48,
     "metadata": {},
     "output_type": "execute_result"
    }
   ],
   "source": [
    "Levenshtein.distance('Москва', 'Минину')"
   ]
  },
  {
   "cell_type": "code",
   "execution_count": 54,
   "id": "8abba9f0-87a4-461d-aca0-7eba1213bf8b",
   "metadata": {},
   "outputs": [],
   "source": [
    "# def word_union(unique_words, distance = 3):\n",
    "#     words = {}\n",
    "\n",
    "#     for i, word in enumerate(unique_words):\n",
    "#         words[word] = []\n",
    "#         for j in unique_words[i+1:]:\n",
    "#             if Levenshtein.distance(word, j) < distance:\n",
    "#                 words[word].append(j)\n",
    "#     return words"
   ]
  },
  {
   "cell_type": "code",
   "execution_count": 69,
   "id": "ed146cd1-a84c-454d-9b74-cbea749e4f1a",
   "metadata": {},
   "outputs": [],
   "source": [
    "# from queue import Queue\n",
    "\n",
    "# def word_union(unique_words, distance = 3):\n",
    "#     words = {}\n",
    "#     # print(unique_words.pop('Ма'))\n",
    "#     for i in range(len(unique_words)):\n",
    "#         word = unique_words[i]\n",
    "#         words[word] = []\n",
    "        \n",
    "#         for j, word2 in enumerate(unique_words[i+1:]):\n",
    "#             if Levenshtein.distance(word, word2) < distance:\n",
    "#                 words[word].append(word2)\n",
    "#                 unique_words.remove(word2)\n",
    "#     return words"
   ]
  },
  {
   "cell_type": "code",
   "execution_count": 71,
   "id": "774e1c4f-d18c-496f-945c-366de1f6f70d",
   "metadata": {},
   "outputs": [],
   "source": [
    "def word_union(unique_words, distance = 3):\n",
    "    words = {}\n",
    "\n",
    "    while len(unique_words) != 0:\n",
    "        word = unique_words[0]\n",
    "        unique_words.remove(word)\n",
    "        words[word] = []\n",
    "\n",
    "        for j, word2 in enumerate(unique_words):\n",
    "            if Levenshtein.distance(word, word2) < distance:\n",
    "                words[word].append(word2)\n",
    "                unique_words.remove(word2)\n",
    "    return words"
   ]
  },
  {
   "cell_type": "code",
   "execution_count": 83,
   "id": "608339ef-0997-43d7-9b88-1f0dac9c28de",
   "metadata": {},
   "outputs": [
    {
     "data": {
      "text/plain": [
       "{'Собором Василия Блажен': ['Собор Василия Блажен'],\n",
       " 'Ивана III': [],\n",
       " 'России': ['россиян', 'Руси', 'Россия'],\n",
       " 'Ма': [],\n",
       " '«ВодоходЪ»': [],\n",
       " 'Санкт-Петербург': [],\n",
       " 'Юрием Долгоруким': [],\n",
       " 'Московский Кремль': [],\n",
       " 'Москвы': ['Москва'],\n",
       " 'Российской Федерации': [],\n",
       " 'Красная площадь': [],\n",
       " 'Минину': [],\n",
       " 'Пожарскому': [],\n",
       " 'Казанским ханством': [],\n",
       " 'Кремлевской стены': [],\n",
       " 'Москва-Сити': []}"
      ]
     },
     "execution_count": 83,
     "metadata": {},
     "output_type": "execute_result"
    }
   ],
   "source": [
    "similar_words = word_union(list(all_ner), distance = 4)\n",
    "similar_words"
   ]
  },
  {
   "cell_type": "code",
   "execution_count": 84,
   "id": "f474774e-e443-44a0-af5f-799fa3018b72",
   "metadata": {},
   "outputs": [],
   "source": [
    "def replace_similar_words(text, similar_words):\n",
    "    for key, values in similar_words.items():\n",
    "        for i in values:\n",
    "            text.replace(i, key)\n",
    "    return text"
   ]
  },
  {
   "cell_type": "code",
   "execution_count": 85,
   "id": "4ec14aa7-0fb3-4a4c-8862-59fb00d8ee46",
   "metadata": {},
   "outputs": [
    {
     "data": {
      "text/plain": [
       "'Необъятный размах Россия пленять красота щедрость уважение свой бережный отношение несметный даровать природа счесть огромный страна заповедный город памятник природный рукотворный Самый известный достопримечательность Россия известный весь мир Знакомиться – интересный который приглашать Пока виртуальный знакомство превратиться реальный путешествие Компания ваш услуга город Россия сосредоточить главный исторический достопримечательность объект промышленный центр проживать основный часть население Российский Федерация Самый известный посещать город являться столица – Москва Санкт-петербург Достопримечательность Москва древний русский основать Юрий Долгорукий 1147 сохраниться множество исторический архитектурный старинный особняк Современный Москва менее прекрасный Подняться небо башня деловой центр украсить город великолепный строение комфортный жилой появиться удобный вид зазеленеть парка сквер Сердце весь Россия оставаться главный площадь страна Красный площадь главный достопримечательность каждый россиянин знак хотя картинка весь близкий Московский Кремль – монументальный возвести Xv век время правление Иван Iii Это самый крупный сохраниться действовать крепость мир Длина стена составлять 2 км 235 м Собор Василий Блаженный – красивый храм построить честь победа Русь Казанский ханство Памятник Минин Пожарский – установить Собор Василий Блаженный ознаменование изгнание столица польский интервент 1612 год Некрополь Кремлёвский стена – хранить вечный покой выдающийся политический известный уважаемый человек Россия Мавзолей Ленин – гранитный сооружение находиться прах вождь мировой интерес очередь Мавзолей выстраиваться тысяча человек Исторический музей – расположить противоположный Собор Василий Блаженный сторона обширный покрыть брусчатка Красивый кирпичный сооружение являться украшение главный площадь Россия Здание Гум – государственный универсальный магазин прекрасно вписаться ансамбль Красный протянуться напротив Кремлёвский стена Это самый важный место центр столица Знаковый активно посещать являться Большой Третьяковский Вднх Прокатиться поезд знаменитый московский погулять парка побывать почувствовать ритм жизнь огромный мегаполис необычайно интересно Отдохнуть покой тишина приятно живописный пригород Москва Наиболее популярный назвать Царицыно – бывший царский резиденция династия усадьба князь Голицын Дубровица недалеко подмосковный восхитительный архитектурный ансамбль'"
      ]
     },
     "execution_count": 85,
     "metadata": {},
     "output_type": "execute_result"
    }
   ],
   "source": [
    "new_text = replace_similar_words(text, similar_words)\n",
    "new_text"
   ]
  },
  {
   "cell_type": "code",
   "execution_count": 87,
   "id": "4220f670-63f6-4717-bb85-b100cc2fe44a",
   "metadata": {},
   "outputs": [],
   "source": [
    "def replace_word(similar_words, word):\n",
    "    if word in similar_words.keys():\n",
    "        return word\n",
    "    else:\n",
    "        for key, values in similar_words.items():\n",
    "            if word in  values:\n",
    "                return key\n",
    "        else:\n",
    "            return 'UNKNOWN'\n",
    "\n",
    "def replace_entity_pairs(entity_pairs, similar_words):\n",
    "    pairs = []\n",
    "\n",
    "    for i in entity_pairs:\n",
    "        x = replace_word(similar_words, i[0])\n",
    "        y = replace_word(similar_words, i[1])\n",
    "        pairs.append((x, y))\n",
    "    return pairs"
   ]
  },
  {
   "cell_type": "code",
   "execution_count": 175,
   "id": "282e4d7d-4d7c-4346-87a4-67d63134b67a",
   "metadata": {
    "scrolled": true
   },
   "outputs": [
    {
     "data": {
      "text/plain": [
       "[('России', '«ВодоходЪ»'),\n",
       " ('России', 'Юрием Долгоруким'),\n",
       " ('России', 'России'),\n",
       " ('России', 'Ивана III'),\n",
       " ('России', 'Минину'),\n",
       " ('России', 'Пожарскому'),\n",
       " ('России', '«ВодоходЪ»'),\n",
       " ('России', 'Юрием Долгоруким'),\n",
       " ('России', 'России'),\n",
       " ('России', 'Ивана III'),\n",
       " ('России', 'Минину'),\n",
       " ('России', 'Пожарскому'),\n",
       " ('«ВодоходЪ»', 'России'),\n",
       " ('«ВодоходЪ»', 'Российской Федерации'),\n",
       " ('«ВодоходЪ»', 'Москвы'),\n",
       " ('«ВодоходЪ»', 'Санкт-Петербург'),\n",
       " ('«ВодоходЪ»', 'Москвы'),\n",
       " ('«ВодоходЪ»', 'Юрием Долгоруким'),\n",
       " ('«ВодоходЪ»', 'Москвы'),\n",
       " ('«ВодоходЪ»', 'Москва-Сити'),\n",
       " ('«ВодоходЪ»', 'Москвы'),\n",
       " ('«ВодоходЪ»', 'России'),\n",
       " ('«ВодоходЪ»', 'Красная площадь'),\n",
       " ('«ВодоходЪ»', 'России'),\n",
       " ('«ВодоходЪ»', 'Московский Кремль'),\n",
       " ('«ВодоходЪ»', 'Ивана III'),\n",
       " ('«ВодоходЪ»', 'Собором Василия Блажен'),\n",
       " ('«ВодоходЪ»', 'России'),\n",
       " ('«ВодоходЪ»', 'Казанским ханством'),\n",
       " ('«ВодоходЪ»', 'Минину'),\n",
       " ('«ВодоходЪ»', 'Пожарскому'),\n",
       " ('«ВодоходЪ»', 'Собором Василия Блажен'),\n",
       " ('«ВодоходЪ»', 'Кремлевской стены'),\n",
       " ('«ВодоходЪ»', 'России'),\n",
       " ('«ВодоходЪ»', 'Ма'),\n",
       " ('России', 'Юрием Долгоруким'),\n",
       " ('России', 'России'),\n",
       " ('России', 'Ивана III'),\n",
       " ('России', 'Минину'),\n",
       " ('России', 'Пожарскому'),\n",
       " ('Российской Федерации', 'Юрием Долгоруким'),\n",
       " ('Российской Федерации', 'России'),\n",
       " ('Российской Федерации', 'Ивана III'),\n",
       " ('Российской Федерации', 'Минину'),\n",
       " ('Российской Федерации', 'Пожарскому'),\n",
       " ('Москвы', 'Юрием Долгоруким'),\n",
       " ('Москвы', 'России'),\n",
       " ('Москвы', 'Ивана III'),\n",
       " ('Москвы', 'Минину'),\n",
       " ('Москвы', 'Пожарскому'),\n",
       " ('Санкт-Петербург', 'Юрием Долгоруким'),\n",
       " ('Санкт-Петербург', 'России'),\n",
       " ('Санкт-Петербург', 'Ивана III'),\n",
       " ('Санкт-Петербург', 'Минину'),\n",
       " ('Санкт-Петербург', 'Пожарскому'),\n",
       " ('Москвы', 'Юрием Долгоруким'),\n",
       " ('Москвы', 'России'),\n",
       " ('Москвы', 'Ивана III'),\n",
       " ('Москвы', 'Минину'),\n",
       " ('Москвы', 'Пожарскому'),\n",
       " ('Юрием Долгоруким', 'Москвы'),\n",
       " ('Юрием Долгоруким', 'Москва-Сити'),\n",
       " ('Юрием Долгоруким', 'Москвы'),\n",
       " ('Юрием Долгоруким', 'России'),\n",
       " ('Юрием Долгоруким', 'Красная площадь'),\n",
       " ('Юрием Долгоруким', 'Московский Кремль'),\n",
       " ('Юрием Долгоруким', 'Собором Василия Блажен'),\n",
       " ('Юрием Долгоруким', 'России'),\n",
       " ('Юрием Долгоруким', 'Казанским ханством'),\n",
       " ('Юрием Долгоруким', 'Собором Василия Блажен'),\n",
       " ('Юрием Долгоруким', 'Кремлевской стены'),\n",
       " ('Юрием Долгоруким', 'России'),\n",
       " ('Юрием Долгоруким', 'Ма'),\n",
       " ('Москвы', 'России'),\n",
       " ('Москвы', 'Ивана III'),\n",
       " ('Москвы', 'Минину'),\n",
       " ('Москвы', 'Пожарскому'),\n",
       " ('Москва-Сити', 'России'),\n",
       " ('Москва-Сити', 'Ивана III'),\n",
       " ('Москва-Сити', 'Минину'),\n",
       " ('Москва-Сити', 'Пожарскому'),\n",
       " ('Москвы', 'России'),\n",
       " ('Москвы', 'Ивана III'),\n",
       " ('Москвы', 'Минину'),\n",
       " ('Москвы', 'Пожарскому'),\n",
       " ('России', 'России'),\n",
       " ('России', 'Ивана III'),\n",
       " ('России', 'Минину'),\n",
       " ('России', 'Пожарскому'),\n",
       " ('Красная площадь', 'России'),\n",
       " ('Красная площадь', 'Ивана III'),\n",
       " ('Красная площадь', 'Минину'),\n",
       " ('Красная площадь', 'Пожарскому'),\n",
       " ('России', 'Московский Кремль'),\n",
       " ('России', 'Собором Василия Блажен'),\n",
       " ('России', 'России'),\n",
       " ('России', 'Казанским ханством'),\n",
       " ('России', 'Собором Василия Блажен'),\n",
       " ('России', 'Кремлевской стены'),\n",
       " ('России', 'России'),\n",
       " ('России', 'Ма'),\n",
       " ('Московский Кремль', 'Ивана III'),\n",
       " ('Московский Кремль', 'Минину'),\n",
       " ('Московский Кремль', 'Пожарскому'),\n",
       " ('Ивана III', 'Собором Василия Блажен'),\n",
       " ('Ивана III', 'России'),\n",
       " ('Ивана III', 'Казанским ханством'),\n",
       " ('Ивана III', 'Собором Василия Блажен'),\n",
       " ('Ивана III', 'Кремлевской стены'),\n",
       " ('Ивана III', 'России'),\n",
       " ('Ивана III', 'Ма'),\n",
       " ('Собором Василия Блажен', 'Минину'),\n",
       " ('Собором Василия Блажен', 'Пожарскому'),\n",
       " ('России', 'Минину'),\n",
       " ('России', 'Пожарскому'),\n",
       " ('Казанским ханством', 'Минину'),\n",
       " ('Казанским ханством', 'Пожарскому'),\n",
       " ('Минину', 'Собором Василия Блажен'),\n",
       " ('Минину', 'Кремлевской стены'),\n",
       " ('Минину', 'России'),\n",
       " ('Минину', 'Ма'),\n",
       " ('Пожарскому', 'Собором Василия Блажен'),\n",
       " ('Пожарскому', 'Кремлевской стены'),\n",
       " ('Пожарскому', 'России'),\n",
       " ('Пожарскому', 'Ма')]"
      ]
     },
     "execution_count": 175,
     "metadata": {},
     "output_type": "execute_result"
    }
   ],
   "source": [
    "pairs = replace_entity_pairs(entity_pairs, similar_words)\n",
    "pairs"
   ]
  },
  {
   "cell_type": "code",
   "execution_count": 91,
   "id": "d94863b3-d455-4daa-90f4-501a66323d06",
   "metadata": {},
   "outputs": [],
   "source": [
    "def draw_graph(entity_pairs):\n",
    "    G = nx.Graph()\n",
    "\n",
    "    for ent1, ent2 in entity_pairs:\n",
    "        G.add_edge(ent1, ent2)\n",
    "    \n",
    "    # Визуализация графа\n",
    "    plt.figure(figsize=(8, 6))\n",
    "    pos = nx.spring_layout(G)\n",
    "    nx.draw(G, pos, with_labels=True, node_size=2500, node_color='lightgreen', font_size=12, font_weight='bold')\n",
    "    plt.title('Граф сущностей и их связей')\n",
    "    plt.show()"
   ]
  },
  {
   "cell_type": "code",
   "execution_count": 92,
   "id": "9e3d533c-6cc1-4495-9f40-3b3675c54d8d",
   "metadata": {},
   "outputs": [
    {
     "data": {
      "image/png": "[encoded data removed]",
      "text/plain": [
       "<Figure size 800x600 with 1 Axes>"
      ]
     },
     "metadata": {},
     "output_type": "display_data"
    }
   ],
   "source": [
    "draw_graph(pairs)"
   ]
  },
  {
   "cell_type": "code",
   "execution_count": 218,
   "id": "96e335c5-bfc9-4267-9640-8e1e17fa9b12",
   "metadata": {},
   "outputs": [],
   "source": [
    "def draw_graph2(entity_pairs, unique_words, node_distance=150, spring_length=50):\n",
    "    net = Network(notebook=True)\n",
    "    unique_words = {word:i for i, word in enumerate(unique_words)}\n",
    "    point_list = list(range(len(unique_words)))\n",
    "    \n",
    "    net.add_nodes(list(unique_words.values()), label = list(unique_words.keys()))\n",
    "\n",
    "    edges = []\n",
    "    for i in entity_pairs:\n",
    "        x = unique_words[i[0]]\n",
    "        y = unique_words[i[1]]\n",
    "        edges.append((x, y))\n",
    "\n",
    "    net.add_edges(edges)\n",
    "    net.repulsion(node_distance=node_distance, spring_length=spring_length)\n",
    "    net.show(\"ner_graph.html\")"
   ]
  },
  {
   "cell_type": "code",
   "execution_count": 136,
   "id": "b734eee1-591e-4fe6-afd4-bdef7717f9f4",
   "metadata": {},
   "outputs": [
    {
     "name": "stdout",
     "output_type": "stream",
     "text": [
      "Warning: When  cdn_resources is 'local' jupyter notebook has issues displaying graphics on chrome/safari. Use cdn_resources='in_line' or cdn_resources='remote' if you have issues viewing graphics in a notebook.\n",
      "ner_graph.html\n"
     ]
    },
    {
     "data": {
      "text/html": [
       "<html>\n",
       "    <head>\n",
       "        <meta charset=\"utf-8\">\n",
       "        \n",
       "            <script src=\"lib/bindings/utils.js\"></script>\n",
       "            <link rel=\"stylesheet\" href=\"https://cdnjs.cloudflare.com/ajax/libs/vis-network/9.1.2/dist/dist/vis-network.min.css\" integrity=\"sha512-WgxfT5LWjfszlPHXRmBWHkV2eceiWTOBvrKCNbdgDYTHrT2AeLCGbF4sZlZw3UMN3WtL0tGUoIAKsu8mllg/XA==\" crossorigin=\"anonymous\" referrerpolicy=\"no-referrer\" />\n",
       "            <script src=\"https://cdnjs.cloudflare.com/ajax/libs/vis-network/9.1.2/dist/vis-network.min.js\" integrity=\"sha512-LnvoEWDFrqGHlHmDD2101OrLcbsfkrzoSpvtSQtxK3RMnRV0eOkhhBN2dXHKRrUU8p2DGRTk35n4O8nWSVe1mQ==\" crossorigin=\"anonymous\" referrerpolicy=\"no-referrer\"></script>\n",
       "            \n",
       "        \n",
       "<center>\n",
       "<h1></h1>\n",
       "</center>\n",
       "\n",
       "<!-- <link rel=\"stylesheet\" href=\"../node_modules/vis/dist/vis.min.css\" type=\"text/css\" />\n",
       "<script type=\"text/javascript\" src=\"../node_modules/vis/dist/vis.js\"> </script>-->\n",
       "        <link\n",
       "          href=\"https://cdn.jsdelivr.net/npm/bootstrap@5.0.0-beta3/dist/css/bootstrap.min.css\"\n",
       "          rel=\"stylesheet\"\n",
       "          integrity=\"sha384-eOJMYsd53ii+scO/bJGFsiCZc+5NDVN2yr8+0RDqr0Ql0h+rP48ckxlpbzKgwra6\"\n",
       "          crossorigin=\"anonymous\"\n",
       "        />\n",
       "        <script\n",
       "          src=\"https://cdn.jsdelivr.net/npm/bootstrap@5.0.0-beta3/dist/js/bootstrap.bundle.min.js\"\n",
       "          integrity=\"sha384-JEW9xMcG8R+pH31jmWH6WWP0WintQrMb4s7ZOdauHnUtxwoG2vI5DkLtS3qm9Ekf\"\n",
       "          crossorigin=\"anonymous\"\n",
       "        ></script>\n",
       "\n",
       "\n",
       "        <center>\n",
       "          <h1></h1>\n",
       "        </center>\n",
       "        <style type=\"text/css\">\n",
       "\n",
       "             #mynetwork {\n",
       "                 width: 100%;\n",
       "                 height: 600px;\n",
       "                 background-color: #ffffff;\n",
       "                 border: 1px solid lightgray;\n",
       "                 position: relative;\n",
       "                 float: left;\n",
       "             }\n",
       "\n",
       "             \n",
       "\n",
       "             \n",
       "\n",
       "             \n",
       "        </style>\n",
       "    </head>\n",
       "\n",
       "\n",
       "    <body>\n",
       "        <div class=\"card\" style=\"width: 100%\">\n",
       "            \n",
       "            \n",
       "            <div id=\"mynetwork\" class=\"card-body\"></div>\n",
       "        </div>\n",
       "\n",
       "        \n",
       "        \n",
       "\n",
       "        <script type=\"text/javascript\">\n",
       "\n",
       "              // initialize global variables.\n",
       "              var edges;\n",
       "              var nodes;\n",
       "              var allNodes;\n",
       "              var allEdges;\n",
       "              var nodeColors;\n",
       "              var originalNodes;\n",
       "              var network;\n",
       "              var container;\n",
       "              var options, data;\n",
       "              var filter = {\n",
       "                  item : '',\n",
       "                  property : '',\n",
       "                  value : []\n",
       "              };\n",
       "\n",
       "              \n",
       "\n",
       "              \n",
       "\n",
       "              // This method is responsible for drawing the graph, returns the drawn network\n",
       "              function drawGraph() {\n",
       "                  var container = document.getElementById('mynetwork');\n",
       "\n",
       "                  \n",
       "\n",
       "                  // parsing and collecting nodes and edges from the python\n",
       "                  nodes = new vis.DataSet([{\"color\": \"#97c2fc\", \"id\": 0, \"label\": \"\\u041f\\u043e\\u0436\\u0430\\u0440\\u0441\\u043a\\u043e\\u043c\\u0443\", \"shape\": \"dot\"}, {\"color\": \"#97c2fc\", \"id\": 1, \"label\": \"\\u041c\\u043e\\u0441\\u043a\\u0432\\u044b\", \"shape\": \"dot\"}, {\"color\": \"#97c2fc\", \"id\": 2, \"label\": \"\\u0420\\u043e\\u0441\\u0441\\u0438\\u0439\\u0441\\u043a\\u043e\\u0439 \\u0424\\u0435\\u0434\\u0435\\u0440\\u0430\\u0446\\u0438\\u0438\", \"shape\": \"dot\"}, {\"color\": \"#97c2fc\", \"id\": 3, \"label\": \"\\u041a\\u0430\\u0437\\u0430\\u043d\\u0441\\u043a\\u0438\\u043c \\u0445\\u0430\\u043d\\u0441\\u0442\\u0432\\u043e\\u043c\", \"shape\": \"dot\"}, {\"color\": \"#97c2fc\", \"id\": 4, \"label\": \"\\u041c\\u0430\", \"shape\": \"dot\"}, {\"color\": \"#97c2fc\", \"id\": 5, \"label\": \"\\u00ab\\u0412\\u043e\\u0434\\u043e\\u0445\\u043e\\u0434\\u042a\\u00bb\", \"shape\": \"dot\"}, {\"color\": \"#97c2fc\", \"id\": 6, \"label\": \"\\u0421\\u043e\\u0431\\u043e\\u0440\\u043e\\u043c \\u0412\\u0430\\u0441\\u0438\\u043b\\u0438\\u044f \\u0411\\u043b\\u0430\\u0436\\u0435\\u043d\", \"shape\": \"dot\"}, {\"color\": \"#97c2fc\", \"id\": 7, \"label\": \"\\u0421\\u0430\\u043d\\u043a\\u0442-\\u041f\\u0435\\u0442\\u0435\\u0440\\u0431\\u0443\\u0440\\u0433\", \"shape\": \"dot\"}, {\"color\": \"#97c2fc\", \"id\": 8, \"label\": \"\\u0418\\u0432\\u0430\\u043d\\u0430 III\", \"shape\": \"dot\"}, {\"color\": \"#97c2fc\", \"id\": 9, \"label\": \"\\u042e\\u0440\\u0438\\u0435\\u043c \\u0414\\u043e\\u043b\\u0433\\u043e\\u0440\\u0443\\u043a\\u0438\\u043c\", \"shape\": \"dot\"}, {\"color\": \"#97c2fc\", \"id\": 10, \"label\": \"\\u041c\\u043e\\u0441\\u043a\\u043e\\u0432\\u0441\\u043a\\u0438\\u0439 \\u041a\\u0440\\u0435\\u043c\\u043b\\u044c\", \"shape\": \"dot\"}, {\"color\": \"#97c2fc\", \"id\": 11, \"label\": \"\\u041a\\u0440\\u0430\\u0441\\u043d\\u0430\\u044f \\u043f\\u043b\\u043e\\u0449\\u0430\\u0434\\u044c\", \"shape\": \"dot\"}, {\"color\": \"#97c2fc\", \"id\": 12, \"label\": \"\\u041a\\u0440\\u0435\\u043c\\u043b\\u0435\\u0432\\u0441\\u043a\\u043e\\u0439 \\u0441\\u0442\\u0435\\u043d\\u044b\", \"shape\": \"dot\"}, {\"color\": \"#97c2fc\", \"id\": 13, \"label\": \"\\u041c\\u043e\\u0441\\u043a\\u0432\\u0430-\\u0421\\u0438\\u0442\\u0438\", \"shape\": \"dot\"}, {\"color\": \"#97c2fc\", \"id\": 14, \"label\": \"\\u0420\\u043e\\u0441\\u0441\\u0438\\u0438\", \"shape\": \"dot\"}, {\"color\": \"#97c2fc\", \"id\": 15, \"label\": \"\\u041c\\u0438\\u043d\\u0438\\u043d\\u0443\", \"shape\": \"dot\"}]);\n",
       "                  edges = new vis.DataSet([{\"from\": 14, \"to\": 5}, {\"from\": 14, \"to\": 9}, {\"from\": 14, \"to\": 14}, {\"from\": 14, \"to\": 8}, {\"from\": 14, \"to\": 15}, {\"from\": 14, \"to\": 0}, {\"from\": 5, \"to\": 2}, {\"from\": 5, \"to\": 1}, {\"from\": 5, \"to\": 7}, {\"from\": 5, \"to\": 9}, {\"from\": 5, \"to\": 13}, {\"from\": 5, \"to\": 11}, {\"from\": 5, \"to\": 10}, {\"from\": 5, \"to\": 8}, {\"from\": 5, \"to\": 6}, {\"from\": 5, \"to\": 3}, {\"from\": 5, \"to\": 15}, {\"from\": 5, \"to\": 0}, {\"from\": 5, \"to\": 12}, {\"from\": 5, \"to\": 4}, {\"from\": 2, \"to\": 9}, {\"from\": 2, \"to\": 14}, {\"from\": 2, \"to\": 8}, {\"from\": 2, \"to\": 15}, {\"from\": 2, \"to\": 0}, {\"from\": 1, \"to\": 9}, {\"from\": 1, \"to\": 14}, {\"from\": 1, \"to\": 8}, {\"from\": 1, \"to\": 15}, {\"from\": 1, \"to\": 0}, {\"from\": 7, \"to\": 9}, {\"from\": 7, \"to\": 14}, {\"from\": 7, \"to\": 8}, {\"from\": 7, \"to\": 15}, {\"from\": 7, \"to\": 0}, {\"from\": 9, \"to\": 13}, {\"from\": 9, \"to\": 11}, {\"from\": 9, \"to\": 10}, {\"from\": 9, \"to\": 6}, {\"from\": 9, \"to\": 3}, {\"from\": 9, \"to\": 12}, {\"from\": 9, \"to\": 4}, {\"from\": 13, \"to\": 14}, {\"from\": 13, \"to\": 8}, {\"from\": 13, \"to\": 15}, {\"from\": 13, \"to\": 0}, {\"from\": 11, \"to\": 14}, {\"from\": 11, \"to\": 8}, {\"from\": 11, \"to\": 15}, {\"from\": 11, \"to\": 0}, {\"from\": 14, \"to\": 10}, {\"from\": 14, \"to\": 6}, {\"from\": 14, \"to\": 3}, {\"from\": 14, \"to\": 12}, {\"from\": 14, \"to\": 4}, {\"from\": 10, \"to\": 8}, {\"from\": 10, \"to\": 15}, {\"from\": 10, \"to\": 0}, {\"from\": 8, \"to\": 6}, {\"from\": 8, \"to\": 3}, {\"from\": 8, \"to\": 12}, {\"from\": 8, \"to\": 4}, {\"from\": 6, \"to\": 15}, {\"from\": 6, \"to\": 0}, {\"from\": 3, \"to\": 15}, {\"from\": 3, \"to\": 0}, {\"from\": 15, \"to\": 12}, {\"from\": 15, \"to\": 4}, {\"from\": 0, \"to\": 12}, {\"from\": 0, \"to\": 4}]);\n",
       "\n",
       "                  nodeColors = {};\n",
       "                  allNodes = nodes.get({ returnType: \"Object\" });\n",
       "                  for (nodeId in allNodes) {\n",
       "                    nodeColors[nodeId] = allNodes[nodeId].color;\n",
       "                  }\n",
       "                  allEdges = edges.get({ returnType: \"Object\" });\n",
       "                  // adding nodes and edges to the graph\n",
       "                  data = {nodes: nodes, edges: edges};\n",
       "\n",
       "                  var options = {\n",
       "    \"configure\": {\n",
       "        \"enabled\": false\n",
       "    },\n",
       "    \"edges\": {\n",
       "        \"color\": {\n",
       "            \"inherit\": true\n",
       "        },\n",
       "        \"smooth\": {\n",
       "            \"enabled\": true,\n",
       "            \"type\": \"dynamic\"\n",
       "        }\n",
       "    },\n",
       "    \"interaction\": {\n",
       "        \"dragNodes\": true,\n",
       "        \"hideEdgesOnDrag\": false,\n",
       "        \"hideNodesOnDrag\": false\n",
       "    },\n",
       "    \"physics\": {\n",
       "        \"enabled\": true,\n",
       "        \"repulsion\": {\n",
       "            \"centralGravity\": 0.2,\n",
       "            \"damping\": 0.09,\n",
       "            \"nodeDistance\": 150,\n",
       "            \"springConstant\": 0.05,\n",
       "            \"springLength\": 50\n",
       "        },\n",
       "        \"solver\": \"repulsion\",\n",
       "        \"stabilization\": {\n",
       "            \"enabled\": true,\n",
       "            \"fit\": true,\n",
       "            \"iterations\": 1000,\n",
       "            \"onlyDynamicEdges\": false,\n",
       "            \"updateInterval\": 50\n",
       "        }\n",
       "    }\n",
       "};\n",
       "\n",
       "                  \n",
       "\n",
       "\n",
       "                  \n",
       "\n",
       "                  network = new vis.Network(container, data, options);\n",
       "\n",
       "                  \n",
       "\n",
       "                  \n",
       "\n",
       "                  \n",
       "\n",
       "\n",
       "                  \n",
       "\n",
       "                  return network;\n",
       "\n",
       "              }\n",
       "              drawGraph();\n",
       "        </script>\n",
       "    </body>\n",
       "</html>"
      ],
      "text/plain": [
       "<IPython.core.display.HTML object>"
      ]
     },
     "execution_count": 136,
     "metadata": {},
     "output_type": "execute_result"
    }
   ],
   "source": [
    "draw_graph2(pairs, set(similar_words.keys()))\n",
    "HTML(filename=\"ner_graph.html\")"
   ]
  },
  {
   "cell_type": "code",
   "execution_count": 243,
   "id": "a71acc7d-e13f-40e1-95bb-2c8e6d79ad7b",
   "metadata": {},
   "outputs": [
    {
     "data": {
      "text/plain": [
       "<matplotlib.image.AxesImage at 0x7f04facb0490>"
      ]
     },
     "execution_count": 243,
     "metadata": {},
     "output_type": "execute_result"
    },
    {
     "data": {
      "image/png": "[encoded data removed]",
      "text/plain": [
       "<Figure size 640x480 with 1 Axes>"
      ]
     },
     "metadata": {},
     "output_type": "display_data"
    }
   ],
   "source": [
    "plt.imshow(Image.open('small_text.png'))"
   ]
  },
  {
   "cell_type": "code",
   "execution_count": 172,
   "id": "2dc63195-3ff3-43a2-b93b-611a7fe8a55e",
   "metadata": {},
   "outputs": [],
   "source": [
    "def most_frequent_pairs(entity_pairs):\n",
    "    top = {}\n",
    "\n",
    "    while len(entity_pairs) != 0:\n",
    "        words = entity_pairs[0]\n",
    "        entity_pairs.remove(words)\n",
    "        key = '_'.join(words)\n",
    "        top[key] = 1\n",
    "        \n",
    "        for i in entity_pairs:\n",
    "            if words[0] in i and words[1] in i:\n",
    "                top[key] += 1\n",
    "                entity_pairs.remove(i)\n",
    "    return top"
   ]
  },
  {
   "cell_type": "code",
   "execution_count": 186,
   "id": "e016bd0f-c3ed-45d8-8b6c-a98459957131",
   "metadata": {
    "scrolled": true
   },
   "outputs": [],
   "source": [
    "freq_words = most_frequent_pairs(pairs)"
   ]
  },
  {
   "cell_type": "code",
   "execution_count": 182,
   "id": "6d2103b1-a97d-4d1b-a464-7be5b79be0b9",
   "metadata": {},
   "outputs": [],
   "source": [
    "freq_words = [(i[0], i[1]) for i in freq_words.items()]"
   ]
  },
  {
   "cell_type": "code",
   "execution_count": 185,
   "id": "73a0560c-52a8-4505-9aac-f31950dbe6aa",
   "metadata": {
    "scrolled": true
   },
   "outputs": [
    {
     "data": {
      "text/plain": [
       "[('России_«ВодоходЪ»', 7),\n",
       " ('России_Юрием Долгоруким', 6),\n",
       " ('«ВодоходЪ»_Москвы', 4),\n",
       " ('Москвы_Юрием Долгоруким', 4),\n",
       " ('Москвы_Ивана III', 4),\n",
       " ('Москвы_Минину', 4),\n",
       " ('Москвы_Пожарскому', 4),\n",
       " ('России_Пожарскому', 3),\n",
       " ('России_России', 2),\n",
       " ('«ВодоходЪ»_Собором Василия Блажен', 2),\n",
       " ('России_Ивана III', 2),\n",
       " ('Юрием Долгоруким_Собором Василия Блажен', 2),\n",
       " ('России_Минину', 2),\n",
       " ('Ивана III_Собором Василия Блажен', 2),\n",
       " ('Собором Василия Блажен_Минину', 2),\n",
       " ('Собором Василия Блажен_Пожарскому', 2),\n",
       " ('«ВодоходЪ»_Российской Федерации', 1),\n",
       " ('«ВодоходЪ»_Санкт-Петербург', 1),\n",
       " ('«ВодоходЪ»_Юрием Долгоруким', 1),\n",
       " ('«ВодоходЪ»_Москва-Сити', 1),\n",
       " ('«ВодоходЪ»_Красная площадь', 1),\n",
       " ('«ВодоходЪ»_Московский Кремль', 1),\n",
       " ('«ВодоходЪ»_Ивана III', 1),\n",
       " ('«ВодоходЪ»_Казанским ханством', 1),\n",
       " ('«ВодоходЪ»_Минину', 1),\n",
       " ('«ВодоходЪ»_Пожарскому', 1),\n",
       " ('«ВодоходЪ»_Кремлевской стены', 1),\n",
       " ('«ВодоходЪ»_Ма', 1),\n",
       " ('Российской Федерации_Юрием Долгоруким', 1),\n",
       " ('Российской Федерации_Ивана III', 1),\n",
       " ('Российской Федерации_Минину', 1),\n",
       " ('Российской Федерации_Пожарскому', 1),\n",
       " ('Санкт-Петербург_Юрием Долгоруким', 1),\n",
       " ('Санкт-Петербург_Ивана III', 1),\n",
       " ('Санкт-Петербург_Минину', 1),\n",
       " ('Санкт-Петербург_Пожарскому', 1),\n",
       " ('Юрием Долгоруким_Москва-Сити', 1),\n",
       " ('Юрием Долгоруким_Красная площадь', 1),\n",
       " ('Юрием Долгоруким_Московский Кремль', 1),\n",
       " ('Юрием Долгоруким_Казанским ханством', 1),\n",
       " ('Юрием Долгоруким_Кремлевской стены', 1),\n",
       " ('Юрием Долгоруким_Ма', 1),\n",
       " ('Москва-Сити_Ивана III', 1),\n",
       " ('Москва-Сити_Минину', 1),\n",
       " ('Москва-Сити_Пожарскому', 1),\n",
       " ('Красная площадь_Ивана III', 1),\n",
       " ('Красная площадь_Минину', 1),\n",
       " ('Красная площадь_Пожарскому', 1),\n",
       " ('России_Казанским ханством', 1),\n",
       " ('России_Собором Василия Блажен', 1),\n",
       " ('России_Кремлевской стены', 1),\n",
       " ('Московский Кремль_Ивана III', 1),\n",
       " ('Московский Кремль_Минину', 1),\n",
       " ('Московский Кремль_Пожарскому', 1),\n",
       " ('Ивана III_Казанским ханством', 1),\n",
       " ('Ивана III_Кремлевской стены', 1),\n",
       " ('Ивана III_Ма', 1),\n",
       " ('Казанским ханством_Минину', 1),\n",
       " ('Казанским ханством_Пожарскому', 1),\n",
       " ('Минину_Кремлевской стены', 1),\n",
       " ('Минину_Ма', 1),\n",
       " ('Пожарскому_Кремлевской стены', 1),\n",
       " ('Пожарскому_Ма', 1)]"
      ]
     },
     "execution_count": 185,
     "metadata": {},
     "output_type": "execute_result"
    }
   ],
   "source": [
    "sorted(freq_words, key=lambda x: x[1], reverse=True)"
   ]
  },
  {
   "cell_type": "markdown",
   "id": "90853df7-1476-4efd-b845-42e8dfc7c29d",
   "metadata": {},
   "source": [
    "### Сравнение моделей tesemnikov-av/NER-RUBERT-Per-Loc-Org и SlavicNLP/slavicner-ner-cross-topic-large"
   ]
  },
  {
   "cell_type": "code",
   "execution_count": 190,
   "id": "feb998e9-e6b9-4a00-b5ff-38be4fa86918",
   "metadata": {},
   "outputs": [
    {
     "data": {
      "application/vnd.jupyter.widget-view+json": {
       "model_id": "be8f287b1a614870bc7464fa0af824cb",
       "version_major": 2,
       "version_minor": 0
      },
      "text/plain": [
       "config.json:   0%|          | 0.00/855 [00:00<?, ?B/s]"
      ]
     },
     "metadata": {},
     "output_type": "display_data"
    },
    {
     "data": {
      "application/vnd.jupyter.widget-view+json": {
       "model_id": "021daf1f556c4b688ba13ff858b2c43f",
       "version_major": 2,
       "version_minor": 0
      },
      "text/plain": [
       "pytorch_model.bin:   0%|          | 0.00/46.8M [00:00<?, ?B/s]"
      ]
     },
     "metadata": {},
     "output_type": "display_data"
    },
    {
     "data": {
      "application/vnd.jupyter.widget-view+json": {
       "model_id": "df087df6435f4cf7afc278d8f41f52e3",
       "version_major": 2,
       "version_minor": 0
      },
      "text/plain": [
       "tokenizer_config.json:   0%|          | 0.00/377 [00:00<?, ?B/s]"
      ]
     },
     "metadata": {},
     "output_type": "display_data"
    },
    {
     "data": {
      "application/vnd.jupyter.widget-view+json": {
       "model_id": "89ba190b68534a3da4945428eec7009f",
       "version_major": 2,
       "version_minor": 0
      },
      "text/plain": [
       "vocab.txt:   0%|          | 0.00/241k [00:00<?, ?B/s]"
      ]
     },
     "metadata": {},
     "output_type": "display_data"
    },
    {
     "data": {
      "application/vnd.jupyter.widget-view+json": {
       "model_id": "288a4e45f3a84f0fbb28fc5ea251b5e8",
       "version_major": 2,
       "version_minor": 0
      },
      "text/plain": [
       "tokenizer.json:   0%|          | 0.00/706k [00:00<?, ?B/s]"
      ]
     },
     "metadata": {},
     "output_type": "display_data"
    },
    {
     "data": {
      "application/vnd.jupyter.widget-view+json": {
       "model_id": "e765b7be62ac4aa09ceeb4d4729b4747",
       "version_major": 2,
       "version_minor": 0
      },
      "text/plain": [
       "model.safetensors:   0%|          | 0.00/46.8M [00:00<?, ?B/s]"
      ]
     },
     "metadata": {},
     "output_type": "display_data"
    },
    {
     "data": {
      "application/vnd.jupyter.widget-view+json": {
       "model_id": "ed6ce5597b4a4516a186aa0838ae9e8e",
       "version_major": 2,
       "version_minor": 0
      },
      "text/plain": [
       "special_tokens_map.json:   0%|          | 0.00/112 [00:00<?, ?B/s]"
      ]
     },
     "metadata": {},
     "output_type": "display_data"
    },
    {
     "name": "stderr",
     "output_type": "stream",
     "text": [
      "Device set to use cuda:0\n"
     ]
    }
   ],
   "source": [
    "rubert_pipeline = pipeline('ner', model='tesemnikov-av/NER-RUBERT-Per-Loc-Org', aggregation_strategy=\"simple\")"
   ]
  },
  {
   "cell_type": "code",
   "execution_count": 192,
   "id": "0a4e7cdb-1ca8-46bb-b89c-3c5ae4ae0c51",
   "metadata": {},
   "outputs": [],
   "source": [
    "def rubert(text):\n",
    "    res = rubert_pipeline(text)\n",
    "    return [i['word'] for i in res]"
   ]
  },
  {
   "cell_type": "code",
   "execution_count": 193,
   "id": "32c11ef5-9f2b-4c43-b067-13b8992bf2d4",
   "metadata": {},
   "outputs": [
    {
     "data": {
      "text/plain": [
       "['Иван Петров', 'Ян', '##де', '##кс', 'Москве']"
      ]
     },
     "execution_count": 193,
     "metadata": {},
     "output_type": "execute_result"
    }
   ],
   "source": [
    "rubert('Иван Петров работает в компании Яндекс в Москве.')"
   ]
  },
  {
   "cell_type": "code",
   "execution_count": 198,
   "id": "41a1fd9a-1061-49b0-b2a4-cbe60f2feaf0",
   "metadata": {},
   "outputs": [
    {
     "name": "stdout",
     "output_type": "stream",
     "text": [
      "[('Россия', 'Юрий До'), ('Россия', 'Iii'), ('##сть', 'Юрий До'), ('##сть', 'Iii'), ('Самый', 'Юрий До'), ('Самый', 'Iii'), ('Россия', 'Юрий До'), ('Россия', 'Iii'), ('Пока вирту', 'Юрий До'), ('Пока вирту', 'Iii'), ('Компания ваш', 'Юрий До'), ('Компания ваш', 'Iii'), ('Россия', 'Юрий До'), ('Россия', 'Iii'), ('Российский Федерация Самый', 'Юрий До'), ('Российский Федерация Самый', 'Iii'), ('Москва Санкт - петербург Достоприме', 'Юрий До'), ('Москва Санкт - петербург Достоприме', 'Iii'), ('Москва древний русский', 'Юрий До'), ('Москва древний русский', 'Iii'), ('Юрий До', '##лгорукий 1147'), ('Юрий До', 'Совр'), ('Юрий До', 'Москва'), ('Юрий До', 'Под'), ('Юрий До', '##епный'), ('Юрий До', 'ком'), ('Юрий До', '##ой'), ('Юрий До', 'Се'), ('Юрий До', 'весь Россия'), ('Юрий До', 'площадь'), ('Юрий До', 'Красный'), ('Юрий До', '##чат'), ('Юрий До', '##сиянин'), ('Юрий До', 'Московский К'), ('Юрий До', '##льный'), ('Юрий До', '##ести Xv'), ('Юрий До', 'Иван'), ('Юрий До', 'Это'), ('Юрий До', 'Длина'), ('Юрий До', 'Со'), ('Юрий До', 'Василий Б'), ('Юрий До', '##рас'), ('Юрий До', 'храм'), ('Юрий До', 'Р'), ('Юрий До', 'Казан'), ('Юрий До', 'хан'), ('Юрий До', 'Памятник Ми'), ('Юрий До', 'По'), ('Юрий До', '##станови'), ('Юрий До', 'Со'), ('Юрий До', 'Василий Б'), ('Юрий До', '1612'), ('Юрий До', 'Некрополь К'), ('Юрий До', '##ёв'), ('Юрий До', '##ва'), ('Юрий До', 'Россия М'), ('Юрий До', '##лей Ленин'), ('Юрий До', '##ж'), ('Юрий До', 'М'), ('Юрий До', '##лей'), ('Юрий До', 'Исто'), ('Юрий До', 'музей'), ('Юрий До', '##аспо'), ('Юрий До', '##оп'), ('Юрий До', 'Со'), ('Юрий До', 'Василий Б'), ('Юрий До', 'К'), ('Юрий До', '##пи'), ('Юрий До', '##аш'), ('Юрий До', 'площадь Россия З'), ('Юрий До', 'Гум'), ('Юрий До', 'Красный'), ('##лгорукий 1147', 'Iii'), ('Совр', 'Iii'), ('Москва', 'Iii'), ('Под', 'Iii'), ('##епный', 'Iii'), ('ком', 'Iii'), ('##ой', 'Iii'), ('Се', 'Iii'), ('весь Россия', 'Iii'), ('площадь', 'Iii'), ('Красный', 'Iii'), ('##чат', 'Iii'), ('##сиянин', 'Iii'), ('Московский К', 'Iii'), ('##льный', 'Iii'), ('##ести Xv', 'Iii'), ('Иван', 'Iii'), ('Iii', 'Это'), ('Iii', 'Длина'), ('Iii', 'Со'), ('Iii', 'Василий Б'), ('Iii', '##рас'), ('Iii', 'храм'), ('Iii', 'Р'), ('Iii', 'Казан'), ('Iii', 'хан'), ('Iii', 'Памятник Ми'), ('Iii', 'По'), ('Iii', '##станови'), ('Iii', 'Со'), ('Iii', 'Василий Б'), ('Iii', '1612'), ('Iii', 'Некрополь К'), ('Iii', '##ёв'), ('Iii', '##ва'), ('Iii', 'Россия М'), ('Iii', '##лей Ленин'), ('Iii', '##ж'), ('Iii', 'М'), ('Iii', '##лей'), ('Iii', 'Исто'), ('Iii', 'музей'), ('Iii', '##аспо'), ('Iii', '##оп'), ('Iii', 'Со'), ('Iii', 'Василий Б'), ('Iii', 'К'), ('Iii', '##пи'), ('Iii', '##аш'), ('Iii', 'площадь Россия З'), ('Iii', 'Гум'), ('Iii', 'Красный')]\n"
     ]
    }
   ],
   "source": [
    "ner_results = rubert_pipeline(text)\n",
    "entity_pairs = extract_entity_pairs(ner_results)\n",
    "print(entity_pairs)"
   ]
  },
  {
   "cell_type": "markdown",
   "id": "6caddfb8-9c74-4cd1-9fcb-7041c1490467",
   "metadata": {},
   "source": [
    "### Вывод\n",
    "\n",
    "Модель tesemnikov-av/NER-RUBERT-Per-Loc-Org это дообученная cointegrated/rubert-tiny способная выделять PER, LOC, ORG tags.\n",
    "Модель плохо справилось со своей задачей относительно предыдущей модели\n",
    "\n",
    "- Выходит за границы сущностей и выделяет оканчания как названия организаций\n",
    "\n",
    "Дальнейшее построение графиков бессмысленно, так как значение слов потеряно"
   ]
  },
  {
   "cell_type": "markdown",
   "id": "b4696baf-544c-42df-8119-e90109a4b035",
   "metadata": {},
   "source": [
    "### Анализ большого текста"
   ]
  },
  {
   "cell_type": "code",
   "execution_count": null,
   "id": "9dc7f285-39c7-4294-98ae-17a529475452",
   "metadata": {},
   "outputs": [],
   "source": []
  },
  {
   "cell_type": "code",
   "execution_count": 235,
   "id": "a5d4a159-eee2-42ba-a57a-5991aa180ffc",
   "metadata": {
    "jupyter": {
     "source_hidden": true
    }
   },
   "outputs": [
    {
     "data": {
      "text/plain": [
       "3791"
      ]
     },
     "execution_count": 235,
     "metadata": {},
     "output_type": "execute_result"
    }
   ],
   "source": [
    "story = ''' \n",
    "Москва помнит массу событий из истории нашей страны и хранит множество тайн. Кто населял эти земли в незапамятные времена и почему несколько столетий из истории столицы называют «Тёмными веками»? Откуда взялось прозвище Белокаменная, если Кремль красный? И кто учинил пожар 1812 года? Вспоминаем главные загадки и вехи в истории Москвы.\n",
    "Содержание\n",
    "Что было на месте Москвы до её основания\n",
    "В каком году и кем была основана Москва\n",
    "Укрепление Москвы\n",
    "Кремль\n",
    "Становление Москвы: от Василия Тёмного до Ивана Грозного\n",
    "Смутное время\n",
    "Первые цари из династии Романовых\n",
    "Москва при Петре I\n",
    "XVIII и XIX века\n",
    "Советская Москва\n",
    "Москва в военные и послевоенные годы\n",
    "Оттепель и период застоя\n",
    "Перестройка, 90‑е и нулевые\n",
    "Современная Москва\n",
    "Краткая хронология\n",
    "Заключение\n",
    "Содержание\n",
    "Что было на месте Москвы до её основания\n",
    "\n",
    "Два тысячелетия назад болотистые земли, где сегодня расположена Москва, покрывали дремучие леса. А первые поселения неизвестных племён появились на Боровицком холме (там, где сейчас стоит храм Василия Блаженного) ещё 4000 лет назад.\n",
    "III тысячелетие до н. э. Каменный молоток‑топорик, обнаруженный на месте 14‑го корпуса Кремля • IV-III тысячелетие до н. э. Скребок, найденный под Архангельским собором • Фото: сайт музея «Московский Кремль»\n",
    "\n",
    "В эпоху раннего железа (в VIII веке до н. э.) здесь поселились дьяконовцы — загадочная цивилизация, о происхождении которой спорят современные историки. Одни считают их прародителями славян, другие — финно‑угорским народом. Достоверно известно лишь, что они были охотниками, разводили коров и лошадей. Также установлено, что дьяконовцы кремировали умерших соплеменников, собирая прах в «домики мёртвых». Есть мнение, что эти сооружения стали прообразом избушки на курьих ножках в славянской мифологии.\n",
    "\n",
    "В VII веке н. э. дьяконовская культура перестала существовать. Тайна её исчезновения до сих пор не разгадана. Племена восточных славян пришли сюда лишь три столетия спустя. Времена до появления на московских землях вятичей и кривичей историки называют «Тёмными веками».\n",
    "В каком году и кем была основана Москва\n",
    "\n",
    "Впервые Москва упоминается в Ипатьевском летописном своде. В нём говорится, что в 1147 году удельный князь Юрий Долгорукий (один из сыновей легендарного Владимира Мономаха) пригласил своего военного единомышленника, новгородского правителя Святослава Ольговича, на пиршество «в Москов». Возможно, город на этом месте существовал и раньше, но точно это установить невозможно. Поэтому датой основания города решили считать его первое упоминание.\n",
    "Страница из Ипатьевского летописного свода с первым упоминанием Москвы • Фрагмент списка Тверской летописи\n",
    "\n",
    "Второй раз о Москве в письменных источниках говорится (на этот раз в Тверской летописи), что в 1156 году это было уже не маленькое селение, а крепость. Позднее археологи установили, что деревянные стены с бойницами времён Долгорукого находились на юго‑западе современного Кремля.\n",
    "\n",
    "Историки считают, что город получил название от реки, на берегах которой построен. У слова древнеславянское происхождение, оно означает «сырость, влажность». Также есть гипотезы, что это слияние марийских слов «медведь» и «мать» либо балтийский топоним со значением «топкий, слякотный».\n",
    "История Москвы\n",
    "Основание Москвы Юрием Долгоруким в 1156 году. Художник: А. М. Васнецов, 1917 год\n",
    "Укрепление Москвы\n",
    "\n",
    "В первые столетия существования на Москву обрушились многие напасти: войны, пожары и эпидемии. В 1177 году крепость разрушил рязанский князь Глеб Ростиславич. Дома отстроили, но уже в 1238 году город вновь был разорён — на этот раз войсками хана Батыя. Потом последовали нападения Тохтамыша, а затем и Девлет‑Гирея. Зимой 1353 года в Москву пришла «чёрная смерть» — пандемия лёгочной чумы, распространившаяся тогда по всей Европе. Погибло до четверти населения города. В 1365 году в знойный день в городе случился страшный пожар, в результате которого не уцелело ни одного здания. Несмотря на многочисленные невзгоды, Москва раз за разом восставала из пепла.\n",
    "Москва в XIII веке\n",
    "XIII век. Москва при Юрии Долгоруком. Историческая реконструкция: Г. Лозинский\n",
    "\n",
    "Во времена монгольского владычества люди искали спасения от захватчиков на спокойных перифериях княжеств. В небольшую Москву устремились переселенцы из Владимира, Суздаля и Ростова — крупнейших городов Северо‑Восточной Руси тех времён. Также сюда съезжались выходцы из Полоцка, Чернигова, Смоленска, которые страдали от нападений литовцев. Москва постепенно разрасталась и начинала укреплять позиции среди других развитых городов.\n",
    "\n",
    "Долгое время Москва входила в состав Владимирского княжества. К XIV столетию город стал центром самостоятельного государственного образования. Здесь правил Иван I Данилович. Князь договорился с правителями Орды, что сам будет собирать дань со всех русских территорий и привозить в Сарай‑Бату. Сокровища стали стекаться в Москву, а князь Иван решал, что можно оставить у себя. Казна росла, а правителя даже прозвали Калитой, что означает «денежный мешок».\n",
    "История Москвы\n",
    "Московский Кремль при Иване Калите. Художник: А. М. Васнецов, 1921 год\n",
    "\n",
    "Главным экономическим и политическим противником Москвы того времени была Тверь. Борьба городов за влияние длилась около двух столетий. История вполне могла повернуться таким образом, что именно Тверь стала бы центром Руси. Но дело решил случай. В 1327 году в Твери вспыхнуло восстание против монголо‑татарских завоевателей. Орда жестоко подавила мятеж: город был разорён и сожжён. В карательном походе на стороне ханов принял участие и правитель Москвы Иван Калита. За исключительную лояльность его наделили статусом великого князя.\n",
    "Кремль\n",
    "\n",
    "Яркая фигура в древней российской истории — князь Дмитрий Иванович, которого прозвали Донским в честь триумфа на Куликовом поле. При Дмитрии Москву неоднократно осаждали — то литовцы, то ордынцы. Поэтому правитель повелел создать мощную каменную крепость на месте существовавших деревянных укреплений.\n",
    "\n",
    "Камни с месторождения белого известняка начали свозить в Москву в 1366 году. Точная дата окончания строительства теряется в истории. Однако судя по тому, что, взяв в окружение Москву в конце ноября 1368 года, литовский князь Ольгерд покорить город не смог, к тому времени цитадель уже была построена.\n",
    "Московский Кремль в XIV веке\n",
    "XIV век. Кремль Дмитрия Донского. Историческая реконструкция: Г. Лозинский\n",
    "\n",
    "Кремль Дмитрия Донского просуществовал 123 года. В XV веке крепость кардинально перестроили: стены разобрали и воздвигли заново, но уже из красного кирпича. Но прежние мощные стены остались в народной памяти, и даже спустя столетия Москву продолжали называть Белокаменной.\n",
    "\n",
    "В конце XV столетия князь Иван III повелел построить новый Кремль: каменные стены нужны были не столько для обороны, сколько для демонстрации величия города и его правителя. В 1485 году итальянский зодчий Антонио Джиларди, которого на русский лад прозвали Антоном Фрязиным, заложил первую башню новой цитадели. Позднее к возведению стен присоединились другие заморские специалисты — Марко Руффо, Алоизио да Каркано и Пьетро Антонио Солари. Окончательно крепость построили уже при князе Василии III в начале XVI столетия.\n",
    "История Москвы в XV веке\n",
    "XV век. Московский Кремль при Иване III. Историческая реконструкция: А. М. Васнецов\n",
    "\n",
    "В XVIII веке твердыню решили оштукатурить, строение вновь стало белым. Со временем известковый слой стал осыпаться, стены приобрели «облезлый» вид. Привычный для нас красный цвет Кремль получил лишь в 1947 году, после реставрации.\n",
    "Становление Москвы: от Василия Тёмного до Ивана Грозного\n",
    "\n",
    "Самое древнее сохранившееся до наших дней московское здание — каменный Спасский собор Спасо‑Андроникова монастыря. Историки считают, что его возвели в 1427 году во время правления князя Василия Тёмного. Церковь несколько раз перестраивали и реставрировали, но основной объём остался неизменным. Внутри сохранились, как предполагают специалисты, фрески иконописца Андрея Рублёва.\n",
    "\n",
    "Со времён Ивана III в Москве появляются знакомые нам названия улиц и районов. В 1475 году в летописях начинают упоминать Арбат — часть города, где, вероятно, останавливались татарские послы и купцы. Они дали этой территории Москвы привычное для себя название — «рабат» (с арабского переводится как «постоялый двор»). Это слово со временем трансформировалось в Арбат.\n",
    "Ещё по теме\n",
    "Андрей Рублёв: где увидеть шедевры легендарного мастера  Музеи, монастыри и храмы, хранящие наследие иконописца\n",
    "Читать 7 мин\n",
    "Миниатюры из Лицевого свода: Возвращение Ивана III в Москву из похода • Начало строительства Успенского собора\n",
    "\n",
    "При князе Василии III (годы правления: 1505-1533) Москва обзавелась знаковыми строениями, которые по сей день украшают город. В селе Коломенском (сейчас это часть города, а в то время была далёкая окраина) в честь рождения сына правитель повелел возвести церковь Вознесения. Это было первое каменное шатровое сооружение в стране (его крыша выглядит как вытянутая пирамида). Сегодня эта церковь — один из самых узнаваемых символов российской столицы.\n",
    "\n",
    "В середине XVI столетия Москва приобрела новый статус. Князь Иван IV Грозный венчался на царство. Центр его вотчины официально стал «царствующим градом», то есть столицей государства.\n",
    "Миниатюры из Лицевого свода: закладка церкви Иоанна Предтечи • Венчание Ивана Грозного на царство\n",
    "\n",
    "Во время правления Ивана Грозного в 1555–1561 годах рядом с Кремлём воздвигли собор с луковичными главами, который впоследствии станет самым известным архитектурным символом России всех времён. Храм состоит из 11 отдельных церквей на общем фундаменте. Каждое из сооружений посвящено святым, которых особо почитал царь, либо ключевым моментам войны против Казанского ханства. В народе собор назвали по имени канонизированного московского юродивого Василия Блаженного.\n",
    "Смутное время\n",
    "\n",
    "Современники отмечали, что Москва конца XVI столетия была многолюднее и больше, чем в начале XVII века, во время Смуты. Город пришёл в упадок из‑за частой смены власти, польской интервенции и многочисленных сражений, которые сопровождались грабежами и пожарами. Особенно тяжело пришлось москвичам зимой 1612–1613 годов, когда в разграбленном городе не хватало еды и многие умирали от голода.\n",
    "Москва в XVII веке\n",
    "1606–1610 годы. Посланники Сигизмунда III, польского Короля, в Грановитой палате Кремля\n",
    "\n",
    "Поляки, состоящие в войске Лжедмитрия II, взимали огромные налоги с местного населения. Это полностью разорило москвичей и привело к многочисленным протестам. В результате горожанам запретили пользоваться саблями и топорами, нельзя было даже продавать колотые дрова. Временные власти опасались, что поленья станут грозным оружием в руках недовольных москвичей.\n",
    "\n",
    "В 1613 году Земский собор, созванный после освобождения Москвы нижегородским ополчением, избрал царём 16‑летнего Михаила Романова. Времена Смуты закончились, но потребовалось ещё 20 лет, чтобы Москва оправилась от разорения.\n",
    "Первые цари из династии Романовых\n",
    "\n",
    "Историки считают, что к середине XVII века в городе проживало уже 150-200 тысяч человек. По средневековым меркам это был огромный европейский мегаполис.\n",
    "\n",
    "Город делился на четыре части:\n",
    "\n",
    "    Кремль;\n",
    "    Китай‑город (включал территорию современных улиц Никольской, Ильинки, Варварки и района Зарядья);\n",
    "    Белый город (граничил с Китай‑городом с одной стороны и современным Бульварным кольцом с другой);\n",
    "    Земляной город (большая территория, примерно совпадающая с радиусом нынешнего Садового кольца).\n",
    "\n",
    "Реконструкция Москвы в XVI веке: вид на центр с Красного холма • панорама Замоскворечья • Большая Никитская • Художник: М. П. Кудрявцев\n",
    "\n",
    "Вблизи Кремля жили дворяне и другие обеспеченные горожане, внутри Китайгородских стен и в Белом городе — купцы, в Земляном городе — стрельцы, ремесленники, крестьяне и рабочие.\n",
    "\n",
    "В городе появлялось всё больше каменных зданий — они принадлежали боярам и купцам. Но основная часть застройки оставалась деревянной. Строить дома из дерева было дешевле, к тому же зимой и осенью в них было не так холодно, как в кирпичных.\n",
    "\n",
    "Здания строили близко друг к другу, это становилось проблемой при пожарах: огонь быстро перекидывался с одного дома на другой. Несмотря на частые возгорания, Москва быстро восстанавливалась. В городе даже существовал востребованный рынок, где можно было купить готовые деревянные срубы и всё, что могло понадобиться погорельцам.\n",
    "1661 год. Посольский двор в Китай‑городе • 1673–1674 годы. Успенская звонница Кремля, подъём колоколов • 1672 год. Сретенские ворота. Прибытие Михаила Фёдоровича на царствование\n",
    "\n",
    "Буквально на каждом шагу в Москве велась торговля: от Китай‑города до любого окраинного переулка в Земляном городе. Рынки делились по типу товара: на одних продавали хлеб, на других — мясные изделия, на третьих — мебель. Были и необычные в современном понимании торги: например, недалеко от Кремля располагался Вшивый рынок. Это своего рода большой салон красоты, где цирюльники под открытым небом стригли и брили. По неубранным волосам здесь гуляли как по ковру!\n",
    "\n",
    "Необычная до­сто­при­ме­ча­тель­но­сть средневековой Москвы — ров у северо‑восточной части Кремля. В былые времена он был заполнен водой, а при царе Алексее Михайловиче ров осушили и использовали в качестве зверинца. Горожане приходили сюда, чтобы посмотреть на львов, привезённых из Англии, и слона с верблюдами — подарок русскому царю от иранского шаха.\n",
    "История Москвы\n",
    "1662 год. Торжественное шествие царя. Рисунок барона Мейерберга\n",
    "\n",
    "В числе знаковых построек того времени — деревянный летний дворец Алексея Михайловича в Коломенском. Приезжих иностранцев резиденция поражала своим подчёркнуто русским архитектурным стилем. Дворец разобрали в XVIII веке, но воссоздали по чертежам уже в наше время.\n",
    "Москва при Петре I\n",
    "\n",
    "Глобальные перемены в истории Москвы наступили во время правления Петра I. Царь с характерной для него настойчивостью начал внедрять в древней российской столице западный быт. В 1698 году он вернулся из Европы и уже в первые дни пребывания в родном городе лично остриг боярам бороды и приказал им отныне носить европейские кафтаны. Новые наряды у москвичей приживались медленно, люди одевались, как тогда говорили, «по‑немецкому» только на людях, а в кругу семьи предпочитали традиционный русский костюм.\n",
    "1707 год. Торжественные похороны Ф. А. Головина. Процессия в Симонов монастырь. Художник: П. Пикарт • 1712 год. Свадьба Петра I и Екатерины I в Лефортовском дворце. Художник: А. Ф. Зубов\n",
    "\n",
    "Постепенно менялся и архитектурный облик города. Чтобы минимизировать число пожаров, государь повелел возводить в Кремле и Китай‑городе только каменные здания. Впрочем, этот указ вскоре был отменён, так как камень понадобился для постройки нового города на Неве.\n",
    "\n",
    "Также государь повелел наблюдать за чистотой московских улиц, а мусор свозить в определённые для этого места, а не сбрасывать в пруды и реки. В 1703 году власти очистили Поганые пруды — с этого момента и до наших дней они известны как Чистые. Москвичи стали свободнее дышать, так как зловонного запаха от засорённых водоёмов стало меньше.\n",
    "\n",
    "В 1712 году столицу новообразованной Российской империи перенесли в Санкт‑Петербург. Москва стала вторым по значению городом страны, но сохранила негласный статус экономического центра.\n",
    "1707–1720 годы. Московский Кремль. Художник: Я. Бликланд • 1707–1709 годы. Новодевичий монастырь. Художник: П. Пикар или И. фон Бликландт • 1707 год. Каменный мост. Художник: П. Пикар\n",
    "\n",
    "XVIII и XIX века\n",
    "\n",
    "Главной проблемой города на протяжении веков оставались пожары. Их регулярность даже породила поговорку «От копеечной свечки Москва сгорела». По легенде, в 1737 году страшный пожар действительно начался из‑за свечки, которую в своём чулане перед иконой поставила одна женщина.\n",
    "\n",
    "Самый известный в истории Москвы пожар случился в 1812 году, когда в город с войсками вошёл Наполеон. Неизвестно, было ли это случайностью, стратегическим решением покинувших город властей или самих местных жителей. Так или иначе, деревянные дома вспыхивали, как спички. Пламя охватило Арбат, Моховую, Тверскую, Замоскворечье, Солянку, Немецкую слободу. Сгорело две третьих всей столичной застройки: около 6,5 тысячи домов!\n",
    "\n",
    "После войны город застраивали практически с нуля. С этого момента в центре разрешалось возводить только каменные здания. Строительство из дерева допускалось на окраине, но лишь при условии, что у домов будут железные крыши и оштукатуренные фасады. В это время был благоустроен Александровский сад, реорганизована территория Красной площади, появился Манеж и были установлены Триумфальные ворота у Тверской заставы (ныне на площади Победы).\n",
    "1812 год. Наполеон в Кремле наблюдает за Московским пожаром. Художник: Джордж Крукшанк • 1813 год. Китай‑город. Художник: Джон Томас Джеймс\n",
    "\n",
    "Москва издревле считалась купеческим городом, а в XVIII-XIX веках стала ещё и центром российской промышленности и ремесла. Тут располагались монетные дворы, государственные оружейные заводы и частные текстильные мануфактуры.\n",
    "\n",
    "С отменой крепостного права в 1861 году наступила новая эпоха. В Москву на заработки потянулись крестьяне — они устраивались на заводы. Во второй половине XIX века рабочего люда в древней столице стало так много, что её даже называли «мужицко‑купеческим» городом.\n",
    "Ещё по теме\n",
    "Хитровка: история и современность старинного района Москвы  От элитной застройки до мрачных притонов — и обратно\n",
    "Читать 13 мин\n",
    "+2\n",
    "1842 год. Старейшее из известных фото (точнее, дорисованный дагеротип) Москвы • 1842 год. Москва зимой • 1860–1865 годы. Вид с Вшивой Горки • 1890–1899 годы. Товарищество Прохоровской Трёхгорной мануфактуры • 1890 год. Дом бесплатных квартир на Большой Якиманке\n",
    "\n",
    "Миграция из деревень породила спрос на жильё, какого Москва не знала раньше. Начали застраиваться окраины. Значительно изменился и центр города: вместо маленьких усадеб на улицах вырастали доходные дома — многоэтажки, где квартиры сдавались постояльцам на долгий срок.\n",
    "\n",
    "В 1900 году по населению Москва занимала второе место в Российской империи после Петербурга, в Европе — шестое. Во время переписи в городе насчитали 1 миллион жителей!\n",
    "Советская Москва\n",
    "\n",
    "12 марта 1918 года столицу России вновь перенесли в Москву. С 1922 года она, оставаясь столицей РСФСР, стала одновременно и главным городом СССР. Сюда переехали представители государственной власти. Из купеческого патриархального города Москва начала стремительно превращаться в мультикультурный деловой мегаполис.\n",
    "\n",
    "1920–1930 годы ознаменовались небывалым развитием общественного транспорта. В 1924 году в городе запустили автобусные маршруты, а в 1933‑м начали курсировать первые троллейбусы. Ещё через десятилетие открылась линия метро от станций «Сокольники» до «Парка культуры» с ответвлением от «Охотного ряда» до «Смоленской».\n",
    "1918 год. Празднование первой годовщины революции на Красной площади • 1933–1934 годы. Строительство станции метро Комсомольская • 1934–1935 годы. Красная площадь\n",
    "\n",
    "Архитектура развивалась в первую очередь под знаком конструктивизма. Среди образцов этого стиля — Клуб союза коммунальников (позднее — Дом культуры им. И. В. Русакова), Шуховская башня, Клуб профсоюзов коммунальников имени Зуева. Зодчие проводили удивительные опыты в области строительства: они создавали жильё нового типа — дома‑коммуны. Самый яркий пример этого явления — дом Наркомфина на Новинском бульваре.\n",
    "Ещё по теме\n",
    "Конструктивизм: где смотреть памятники архитектуры эпохи авангарда  Гид по знаковым постройкам в Москве и Санкт‑Петербурге\n",
    "Читать 12 мин\n",
    "1927 год. Универмаг на Красной Пресне • 1936 год. Разборка Казанского собора на Красной площади • 1934 год. Дом культуры имени И. В. Русакова. Фото: В. А. Васин\n",
    "\n",
    "Рядом с Кремлём построили парадные и монументальные здания: гостиницу «Москва», дом Совета труда и обороны (ныне Государственная дума), библиотеку им. В. И. Ленина.\n",
    "\n",
    "В то же время по всему городу разбирали храмы. Из 278 церквей разрушили 141. В 1931 году взорвали храм Христа Спасителя. Вместо него планировали построить символ новой Москвы — исполинский Дворец Советов высотой 420 метров (что даже больше, чем башня «Восток» комплекса «Федерация», самое высокое здание современной Москвы). Но строение так и не было возведено: началась Великая Отечественная война, и сталь, выплавленная для каркаса дворца, понадобилась для производства танков и другого вооружения.\n",
    "Москва в военные и послевоенные годы\n",
    "\n",
    "Во время наступления германских войск столица подверглась многочисленным бомбардировкам. Пик налётов пришёлся на лето и осень 1941 года. Историческое наследие пытались укрыть от врагов. Планировку улиц меняли с помощью фальшивых зданий из фанеры, стены Кремля замаскировали под жилые дома.\n",
    "1941 год. Маскировка Мавзолея • 1941 год. Истребители ПВО • 1941 год. Замаскированный Большой театр\n",
    "\n",
    "В годы войны было разрушено более шести тысяч строений: жилых и административных зданий, заводских корпусов, складов и временных построек. Был уничтожен театр имени Вахтангова на Арбате. Ещё один снаряд взорвался в фойе Большого театра. Также, несмотря на маскировку, пострадали несколько зданий в Кремле: снаряды пробили крышу Большого Кремлёвского дворца и Арсенала.\n",
    "\n",
    "В ноябре 1946 года депутаты Моссовета утвердили пятилетний план по восстановлению города. Проектировщики предлагали строить в центре невысокие дома в три, четыре и пять этажей, чтобы сохранить исторический облик. Однако власти инициативу не поддержали и дали распоряжение возводить монументальные дома по 8-10 этажей и выше.\n",
    "9 мая 1945 года. В ожидании салюта в честь победы. Фото: Мария Калашникова • 24 июня 1945 года. Парад Победы • 1951 год. Строительство главного здания МГУ\n",
    "\n",
    "Символом эпохи стали семь сталинских высоток — первые советские небоскрёбы. Самые известные здания серии — МГУ на Воробьёвых горах, МИД, высотка на Котельнической набережной — были возведены в 1952–1954 годах. Величественные строения со шпилями определили современный образ столицы государства, победившего в войне.\n",
    "Оттепель и период застоя\n",
    "\n",
    "После смерти И. В. Сталина в 1950‑е архитектурное наследие его эпохи раскритиковали за монументальность и помпезность. Из‑за обилия декоративных элементов дома в стиле так называемого сталинского ампира прозвали образцами «архитектуры свадебных тортов». Новый глава государства Н. С. Хрущёв призвал к борьбе с излишествами и провозгласил господство простоты и функциональности. Это отразилось на облике Москвы во второй половине 1950‑х — середины 1960‑х: здания строили в духе рационализма.\n",
    "\n",
    "Эпоха Хрущёва стала временем прощания с московскими бараками, полуподвалами и коммуналками. До этого в столице не успевали возводить жилые дома, так как население города росло небывалыми темпами. В 1950‑е годы сначала в столице, а потом и по всей стране развернулось скоростное строительство типовых блочных пятиэтажек (в народе эти дома прозвали хрущёвками).\n",
    "1964 год. Строительство проспекта Калинина • 1960–1963 годы. Строительство хрущёвок на Щелковском шоссе • 1965–1966 годы. Новоселье. Дома на улице Академика Павлова • Фото: И. М. Филатов, shamzai, В. И. Иванов\n",
    "\n",
    "В 1964 году главой СССР стал Л. И. Брежнев. И хотя этот период называют эпохой застоя в экономике и в социальной сфере, города продолжали активно застраиваться. В это время началась перестройка проспекта Калинина (ныне — Новый Арбат) с целью связать центр города с Кутузовским проспектом и Можайским шоссе. Были снесены несколько старых улочек, на их месте построили пять жилых домов‑башен — «открытых книг». Новая улица вызвала шквал критики и даже получила прозвище «вставные челюсти Москвы». Спустя десятилетия споры поутихли, и сегодня Новый Арбат воспринимается как один из главных символов города.\n",
    "Перестройка, 90‑е и нулевые\n",
    "\n",
    "С середины 1980‑х столица стала центром перемен, которые происходили по всей стране. На улицах Москвы проходили митинги, манифестации, шествия, съезды. Создавались новые политические партии и движения. Начали обостряться социальные конфликты.\n",
    "\n",
    "Это время отмечено многоэтажной застройкой окраин. Активнее всего работы велись в таких районах, как Митино, Братеево, Марьино, Строгино. Дом образца той поры — панельный, многоквартирный и многоэтажный, с балконами и тонкими стенами.\n",
    "1991 год. Митинг на Манежной площади. Фото: Dominique Mollard AP • 1980‑е годы. Жилые дома в Строгино • 1990–1992 годы. Здание Президиума РАН\n",
    "\n",
    "В перестройку заканчивалось возведение монументальных зданий по проектам предыдущих эпох. Была сдана первая очередь здания Президиума РАН на Ленинском проспекте — огромного комплекса с двумя массивными 22‑этажными башнями. Строение венчает модернистская конструкция золотистого цвета, из‑за которой в народе сооружение получило прозвище «золотые мозги».\n",
    "\n",
    "С 1992 по 2010 год мэром Москвы был Ю. М. Лужков. Архитектурное наследие его эпохи оказалось, пожалуй, одним из самых противоречивых за всю многовековую историю российской столицы: сегодня здания этого периода всё чаще критикуют эксперты и сами горожане.\n",
    "\n",
    "При Лужкове была реконструирована Манежная площадь, воздвигнут театр Et Cetera на Мясницкой улице, снесена и возведена заново гостиница «Москва» рядом с Красной площадью. Началось строительство комплекса «Москва‑Сити» (сейчас это обширный деловой район со стеклянными небоскрёбами).\n",
    "1995 год. Реконструкция Манежной площади • Строительство храма Христа Спасителя • 2000 год. Строительство Делового центра • Фото: seakonst, Netsvetaev, журнал «Архитектура и строительство Москвы»\n",
    "\n",
    "В 2000‑х в Москве начали строить стилизованные под старину здания. Например, в 2010 году в Коломенском воссоздали деревянный дворец царя Алексея Михайловича на основе подробных планов и чертежей, составленных в XVII веке при разборке здания. В парке «Царицыно» реконструировали Большой царский дворец. На берегу Москвы‑реки по проекту Зураба Церетели возвели новый храм Христа Спасителя. Наконец, был сооружён Измайловский кремль в духе традиционного русского зодчества.\n",
    "Современная Москва\n",
    "\n",
    "В наши дни российская столица — один из самых больших городов Европы наряду со Стамбулом, Лондоном и Парижем. По официальным данным, в Москве прописано 13 миллионов человек!\n",
    "\n",
    "Сегодня большое внимание в городе уделяют развитию транспортной системы. Ежегодно в столице строится по 100 километров новых дорог. Параллельно развивается общественный транспорт: за десятилетие открыто больше 60 станций метро, автобусы постепенно заменяют экологичными электробусами.\n",
    "\n",
    "Крупнейшими архитектурными проектами последних лет стало «Зарядье», построенное на месте снесённой гостиницы «Россия» вблизи Кремля, и ВДНХ, где отреставрировали павильоны, фонтаны и памятники, открыли музей космонавтики и самый большой в стране океанариум.\n",
    "Парк Зарядье • ВДНХ • Фото: Shutterstock\n",
    "\n",
    "Краткая хронология\n",
    "\n",
    "1147 — город впервые упоминается в летописи, Юрий Долгорукий приглашает в свою вотчину дружественных князей;\n",
    "1156 — в Тверской летописи сообщается об укреплении города крепостной стеной;\n",
    "1238 — войска хана Батыя полностью разоряют город, но вскоре Москву вновь отстраивают;\n",
    "1263 — образуется Московское княжество (до этого город подчинялся Владимиру);\n",
    "1326 — Москва становится церковным центром страны;\n",
    "1382 — происходит разорительный поход ордынского хана Тохтамыша на Московское княжество;\n",
    "1547 — 16‑летний князь Иван IV венчается на царство, Москва становится столицей государства;\n",
    "1560 — воздвигнут храм Василия Блаженного;\n",
    "1613 — в России заканчивается Смутное время, новым царём избран Михаил Романов;\n",
    "1712 — Москва теряет статус столицы;\n",
    "1812 — город, захваченный французскими войсками, терпит чудовищные разрушения во время пожара;\n",
    "1918 — Москва становится главным городом РСФСР, а уже с 1922 года — столицей СССР;\n",
    "1924 — пущен первый автобусный маршрут;\n",
    "1935 — открывается метро;\n",
    "1941 — Битва за Москву — одно из решающих сражений Великой Отечественной войны;\n",
    "1991 — распад СССР; Москва становится столицей Российской Федерации;\n",
    "2012 — территория Москвы вырастает более чем в два раза после присоединения Троицка, Щербинки и 19 городских и сельских поселений.\n",
    "История Москвы\n",
    "Москва‑сити. Фото: Shutterstock\n",
    "Заключение\n",
    "\n",
    "История Москвы насчитывает почти девять веков. Несмотря на многочисленные пожары и перестройки, городу удалось сохранить архитектурное наследие разных эпох. Познакомиться с ним ближе, углубиться в историю российской столицы и узнать ещё больше интересных фактов о её до­сто­при­ме­ча­тель­но­стях помогут местные гиды.\n",
    "'''\n",
    "len(story.split(' '))"
   ]
  },
  {
   "cell_type": "code",
   "execution_count": 233,
   "id": "27651d06-01b6-44e4-84fb-89ba22ae96e2",
   "metadata": {},
   "outputs": [],
   "source": [
    "def analis_text(story, distance = 4):\n",
    "    text = preprocess_text(story)\n",
    "    ner_results = ner_pipeline(story)\n",
    "    entity_pairs = extract_entity_pairs(ner_results)\n",
    "\n",
    "    all_ner_words = [i['word'] for i in ner_results]\n",
    "    similar_words = word_union(list(all_ner_words), distance = distance)\n",
    "    similar_words['UNKNOWN'] = []\n",
    "    print(similar_words)\n",
    "\n",
    "    pairs = replace_entity_pairs(entity_pairs, similar_words)\n",
    "\n",
    "    draw_graph2(pairs, set(similar_words.keys()))\n",
    "    \n",
    "    freq_words = most_frequent_pairs(pairs)\n",
    "    freq_words = [(i[0], i[1]) for i in freq_words.items()]\n",
    "    print(sorted(freq_words, key=lambda x: x[1], reverse=True))"
   ]
  },
  {
   "cell_type": "code",
   "execution_count": 236,
   "id": "7b0a6b32-d2be-4e4c-9868-99d38d822c0a",
   "metadata": {},
   "outputs": [
    {
     "name": "stdout",
     "output_type": "stream",
     "text": [
      "{'Москва': [], 'Кремль': ['Кремль', 'Кремля'], 'Москвы': ['Москвы', 'Москвы'], 'Василия Тёмного': [], 'Ивана Грозного': [], 'Романовых': [], 'Петре I': [], 'Совет': [], 'Боровицком холме': [], 'храм Василия Блажен': [], 'Архангельским собором': [], 'Московский Кремль': [], 'UNKNOWN': []}\n",
      "Warning: When  cdn_resources is 'local' jupyter notebook has issues displaying graphics on chrome/safari. Use cdn_resources='in_line' or cdn_resources='remote' if you have issues viewing graphics in a notebook.\n",
      "ner_graph.html\n",
      "[('Москва_UNKNOWN', 6), ('Москва_Василия Тёмного', 6), ('Москва_Ивана Грозного', 6), ('Москва_Романовых', 6), ('Москва_Петре I', 6), ('Москвы_Василия Тёмного', 5), ('Москвы_Ивана Грозного', 5), ('Москвы_Романовых', 5), ('UNKNOWN_Кремль', 3), ('Кремль_Василия Тёмного', 3), ('Кремль_Ивана Грозного', 3), ('Кремль_Романовых', 3), ('Кремль_Петре I', 3), ('UNKNOWN_Москвы', 1), ('UNKNOWN_Совет', 1), ('UNKNOWN_Москва', 1), ('UNKNOWN_Боровицком холме', 1), ('UNKNOWN_храм Василия Блажен', 1), ('UNKNOWN_Архангельским собором', 1), ('UNKNOWN_Московский Кремль', 1), ('Москвы_Петре I', 1), ('Василия Тёмного_Совет', 1), ('Василия Тёмного_Москва', 1), ('Василия Тёмного_Боровицком холме', 1), ('Василия Тёмного_храм Василия Блажен', 1), ('Василия Тёмного_Архангельским собором', 1), ('Василия Тёмного_Московский Кремль', 1), ('Ивана Грозного_Совет', 1), ('Ивана Грозного_Москва', 1), ('Ивана Грозного_Боровицком холме', 1), ('Ивана Грозного_храм Василия Блажен', 1), ('Ивана Грозного_Архангельским собором', 1), ('Ивана Грозного_Московский Кремль', 1), ('Романовых_Совет', 1), ('Романовых_Москва', 1), ('Романовых_Боровицком холме', 1), ('Романовых_храм Василия Блажен', 1), ('Романовых_Архангельским собором', 1), ('Романовых_Московский Кремль', 1), ('Петре I_Совет', 1), ('Петре I_Москва', 1), ('Петре I_Боровицком холме', 1), ('Петре I_храм Василия Блажен', 1), ('Петре I_Архангельским собором', 1), ('Петре I_Московский Кремль', 1)]\n"
     ]
    },
    {
     "data": {
      "text/html": [
       "<html>\n",
       "    <head>\n",
       "        <meta charset=\"utf-8\">\n",
       "        \n",
       "            <script src=\"lib/bindings/utils.js\"></script>\n",
       "            <link rel=\"stylesheet\" href=\"https://cdnjs.cloudflare.com/ajax/libs/vis-network/9.1.2/dist/dist/vis-network.min.css\" integrity=\"sha512-WgxfT5LWjfszlPHXRmBWHkV2eceiWTOBvrKCNbdgDYTHrT2AeLCGbF4sZlZw3UMN3WtL0tGUoIAKsu8mllg/XA==\" crossorigin=\"anonymous\" referrerpolicy=\"no-referrer\" />\n",
       "            <script src=\"https://cdnjs.cloudflare.com/ajax/libs/vis-network/9.1.2/dist/vis-network.min.js\" integrity=\"sha512-LnvoEWDFrqGHlHmDD2101OrLcbsfkrzoSpvtSQtxK3RMnRV0eOkhhBN2dXHKRrUU8p2DGRTk35n4O8nWSVe1mQ==\" crossorigin=\"anonymous\" referrerpolicy=\"no-referrer\"></script>\n",
       "            \n",
       "        \n",
       "<center>\n",
       "<h1></h1>\n",
       "</center>\n",
       "\n",
       "<!-- <link rel=\"stylesheet\" href=\"../node_modules/vis/dist/vis.min.css\" type=\"text/css\" />\n",
       "<script type=\"text/javascript\" src=\"../node_modules/vis/dist/vis.js\"> </script>-->\n",
       "        <link\n",
       "          href=\"https://cdn.jsdelivr.net/npm/bootstrap@5.0.0-beta3/dist/css/bootstrap.min.css\"\n",
       "          rel=\"stylesheet\"\n",
       "          integrity=\"sha384-eOJMYsd53ii+scO/bJGFsiCZc+5NDVN2yr8+0RDqr0Ql0h+rP48ckxlpbzKgwra6\"\n",
       "          crossorigin=\"anonymous\"\n",
       "        />\n",
       "        <script\n",
       "          src=\"https://cdn.jsdelivr.net/npm/bootstrap@5.0.0-beta3/dist/js/bootstrap.bundle.min.js\"\n",
       "          integrity=\"sha384-JEW9xMcG8R+pH31jmWH6WWP0WintQrMb4s7ZOdauHnUtxwoG2vI5DkLtS3qm9Ekf\"\n",
       "          crossorigin=\"anonymous\"\n",
       "        ></script>\n",
       "\n",
       "\n",
       "        <center>\n",
       "          <h1></h1>\n",
       "        </center>\n",
       "        <style type=\"text/css\">\n",
       "\n",
       "             #mynetwork {\n",
       "                 width: 100%;\n",
       "                 height: 600px;\n",
       "                 background-color: #ffffff;\n",
       "                 border: 1px solid lightgray;\n",
       "                 position: relative;\n",
       "                 float: left;\n",
       "             }\n",
       "\n",
       "             \n",
       "\n",
       "             \n",
       "\n",
       "             \n",
       "        </style>\n",
       "    </head>\n",
       "\n",
       "\n",
       "    <body>\n",
       "        <div class=\"card\" style=\"width: 100%\">\n",
       "            \n",
       "            \n",
       "            <div id=\"mynetwork\" class=\"card-body\"></div>\n",
       "        </div>\n",
       "\n",
       "        \n",
       "        \n",
       "\n",
       "        <script type=\"text/javascript\">\n",
       "\n",
       "              // initialize global variables.\n",
       "              var edges;\n",
       "              var nodes;\n",
       "              var allNodes;\n",
       "              var allEdges;\n",
       "              var nodeColors;\n",
       "              var originalNodes;\n",
       "              var network;\n",
       "              var container;\n",
       "              var options, data;\n",
       "              var filter = {\n",
       "                  item : '',\n",
       "                  property : '',\n",
       "                  value : []\n",
       "              };\n",
       "\n",
       "              \n",
       "\n",
       "              \n",
       "\n",
       "              // This method is responsible for drawing the graph, returns the drawn network\n",
       "              function drawGraph() {\n",
       "                  var container = document.getElementById('mynetwork');\n",
       "\n",
       "                  \n",
       "\n",
       "                  // parsing and collecting nodes and edges from the python\n",
       "                  nodes = new vis.DataSet([{\"color\": \"#97c2fc\", \"id\": 0, \"label\": \"\\u041c\\u043e\\u0441\\u043a\\u0432\\u044b\", \"shape\": \"dot\"}, {\"color\": \"#97c2fc\", \"id\": 1, \"label\": \"\\u0411\\u043e\\u0440\\u043e\\u0432\\u0438\\u0446\\u043a\\u043e\\u043c \\u0445\\u043e\\u043b\\u043c\\u0435\", \"shape\": \"dot\"}, {\"color\": \"#97c2fc\", \"id\": 2, \"label\": \"\\u041f\\u0435\\u0442\\u0440\\u0435 I\", \"shape\": \"dot\"}, {\"color\": \"#97c2fc\", \"id\": 3, \"label\": \"UNKNOWN\", \"shape\": \"dot\"}, {\"color\": \"#97c2fc\", \"id\": 4, \"label\": \"\\u0420\\u043e\\u043c\\u0430\\u043d\\u043e\\u0432\\u044b\\u0445\", \"shape\": \"dot\"}, {\"color\": \"#97c2fc\", \"id\": 5, \"label\": \"\\u0412\\u0430\\u0441\\u0438\\u043b\\u0438\\u044f \\u0422\\u0451\\u043c\\u043d\\u043e\\u0433\\u043e\", \"shape\": \"dot\"}, {\"color\": \"#97c2fc\", \"id\": 6, \"label\": \"\\u041c\\u043e\\u0441\\u043a\\u043e\\u0432\\u0441\\u043a\\u0438\\u0439 \\u041a\\u0440\\u0435\\u043c\\u043b\\u044c\", \"shape\": \"dot\"}, {\"color\": \"#97c2fc\", \"id\": 7, \"label\": \"\\u041a\\u0440\\u0435\\u043c\\u043b\\u044c\", \"shape\": \"dot\"}, {\"color\": \"#97c2fc\", \"id\": 8, \"label\": \"\\u0410\\u0440\\u0445\\u0430\\u043d\\u0433\\u0435\\u043b\\u044c\\u0441\\u043a\\u0438\\u043c \\u0441\\u043e\\u0431\\u043e\\u0440\\u043e\\u043c\", \"shape\": \"dot\"}, {\"color\": \"#97c2fc\", \"id\": 9, \"label\": \"\\u0421\\u043e\\u0432\\u0435\\u0442\", \"shape\": \"dot\"}, {\"color\": \"#97c2fc\", \"id\": 10, \"label\": \"\\u0445\\u0440\\u0430\\u043c \\u0412\\u0430\\u0441\\u0438\\u043b\\u0438\\u044f \\u0411\\u043b\\u0430\\u0436\\u0435\\u043d\", \"shape\": \"dot\"}, {\"color\": \"#97c2fc\", \"id\": 11, \"label\": \"\\u041c\\u043e\\u0441\\u043a\\u0432\\u0430\", \"shape\": \"dot\"}, {\"color\": \"#97c2fc\", \"id\": 12, \"label\": \"\\u0418\\u0432\\u0430\\u043d\\u0430 \\u0413\\u0440\\u043e\\u0437\\u043d\\u043e\\u0433\\u043e\", \"shape\": \"dot\"}]);\n",
       "                  edges = new vis.DataSet([{\"from\": 11, \"to\": 3}, {\"from\": 11, \"to\": 5}, {\"from\": 11, \"to\": 12}, {\"from\": 11, \"to\": 4}, {\"from\": 11, \"to\": 2}, {\"from\": 3, \"to\": 7}, {\"from\": 3, \"to\": 0}, {\"from\": 3, \"to\": 9}, {\"from\": 3, \"to\": 1}, {\"from\": 3, \"to\": 10}, {\"from\": 3, \"to\": 8}, {\"from\": 3, \"to\": 6}, {\"from\": 7, \"to\": 5}, {\"from\": 7, \"to\": 12}, {\"from\": 7, \"to\": 4}, {\"from\": 7, \"to\": 2}, {\"from\": 0, \"to\": 5}, {\"from\": 0, \"to\": 12}, {\"from\": 0, \"to\": 4}, {\"from\": 0, \"to\": 2}, {\"from\": 5, \"to\": 9}, {\"from\": 5, \"to\": 1}, {\"from\": 5, \"to\": 10}, {\"from\": 5, \"to\": 8}, {\"from\": 5, \"to\": 6}, {\"from\": 12, \"to\": 9}, {\"from\": 12, \"to\": 1}, {\"from\": 12, \"to\": 10}, {\"from\": 12, \"to\": 8}, {\"from\": 12, \"to\": 6}, {\"from\": 4, \"to\": 9}, {\"from\": 4, \"to\": 1}, {\"from\": 4, \"to\": 10}, {\"from\": 4, \"to\": 8}, {\"from\": 4, \"to\": 6}, {\"from\": 2, \"to\": 9}, {\"from\": 2, \"to\": 1}, {\"from\": 2, \"to\": 10}, {\"from\": 2, \"to\": 8}, {\"from\": 2, \"to\": 6}]);\n",
       "\n",
       "                  nodeColors = {};\n",
       "                  allNodes = nodes.get({ returnType: \"Object\" });\n",
       "                  for (nodeId in allNodes) {\n",
       "                    nodeColors[nodeId] = allNodes[nodeId].color;\n",
       "                  }\n",
       "                  allEdges = edges.get({ returnType: \"Object\" });\n",
       "                  // adding nodes and edges to the graph\n",
       "                  data = {nodes: nodes, edges: edges};\n",
       "\n",
       "                  var options = {\n",
       "    \"configure\": {\n",
       "        \"enabled\": false\n",
       "    },\n",
       "    \"edges\": {\n",
       "        \"color\": {\n",
       "            \"inherit\": true\n",
       "        },\n",
       "        \"smooth\": {\n",
       "            \"enabled\": true,\n",
       "            \"type\": \"dynamic\"\n",
       "        }\n",
       "    },\n",
       "    \"interaction\": {\n",
       "        \"dragNodes\": true,\n",
       "        \"hideEdgesOnDrag\": false,\n",
       "        \"hideNodesOnDrag\": false\n",
       "    },\n",
       "    \"physics\": {\n",
       "        \"enabled\": true,\n",
       "        \"repulsion\": {\n",
       "            \"centralGravity\": 0.2,\n",
       "            \"damping\": 0.09,\n",
       "            \"nodeDistance\": 150,\n",
       "            \"springConstant\": 0.05,\n",
       "            \"springLength\": 50\n",
       "        },\n",
       "        \"solver\": \"repulsion\",\n",
       "        \"stabilization\": {\n",
       "            \"enabled\": true,\n",
       "            \"fit\": true,\n",
       "            \"iterations\": 1000,\n",
       "            \"onlyDynamicEdges\": false,\n",
       "            \"updateInterval\": 50\n",
       "        }\n",
       "    }\n",
       "};\n",
       "\n",
       "                  \n",
       "\n",
       "\n",
       "                  \n",
       "\n",
       "                  network = new vis.Network(container, data, options);\n",
       "\n",
       "                  \n",
       "\n",
       "                  \n",
       "\n",
       "                  \n",
       "\n",
       "\n",
       "                  \n",
       "\n",
       "                  return network;\n",
       "\n",
       "              }\n",
       "              drawGraph();\n",
       "        </script>\n",
       "    </body>\n",
       "</html>"
      ],
      "text/plain": [
       "<IPython.core.display.HTML object>"
      ]
     },
     "execution_count": 236,
     "metadata": {},
     "output_type": "execute_result"
    }
   ],
   "source": [
    "analis_text(story)\n",
    "HTML(filename=\"ner_graph.html\")"
   ]
  },
  {
   "cell_type": "code",
   "execution_count": 242,
   "id": "0470d2d1-cc4c-4009-bb6f-9ffacd70e2ec",
   "metadata": {},
   "outputs": [
    {
     "data": {
      "text/plain": [
       "<matplotlib.image.AxesImage at 0x7f04fa37c370>"
      ]
     },
     "execution_count": 242,
     "metadata": {},
     "output_type": "execute_result"
    },
    {
     "data": {
      "image/png": "[encoded data removed]",
      "text/plain": [
       "<Figure size 640x480 with 1 Axes>"
      ]
     },
     "metadata": {},
     "output_type": "display_data"
    }
   ],
   "source": [
    "plt.imshow(Image.open('big_text.png'))"
   ]
  },
  {
   "cell_type": "code",
   "execution_count": null,
   "id": "db751f36-6f11-4c2b-8bb2-bcb1f92078af",
   "metadata": {},
   "outputs": [],
   "source": []
  },
  {
   "cell_type": "markdown",
   "id": "bc7b8789-54e2-4666-9497-ac4e4022e4fa",
   "metadata": {},
   "source": [
    "### Новостная статья"
   ]
  },
  {
   "cell_type": "code",
   "execution_count": 246,
   "id": "e85ac43f-47b7-44a1-98c0-ba7cd74a3857",
   "metadata": {},
   "outputs": [],
   "source": [
    "story = '''\n",
    "\n",
    "Какие популярные чат-боты собирают данные о пользователях и передают их третьим лицам\n",
    "3 мин\n",
    "70\n",
    "Блог компании BotHubИскусственный интеллектИнформационная безопасность*\n",
    "\n",
    "На фоне растущей обеспокоенности по поводу китайских моделей ИИ, таких как DeepSeek, новое исследование показывает, что страхи могут быть преувеличены — по крайней мере, когда речь идёт о конфиденциальности данных. На самом деле, некоторые популярные американские чат-боты с искусственным интеллектом могут собирать ещё больше личной информации.\n",
    "\n",
    "Когда DeepSeek в январе представила свою флагманскую модель ИИ с открытым исходным кодом, американская технологическая индустрия впала в истерику. Некоторые поддержали конкуренцию, заявив, что это «момент, когда ИИ стал спутником».Тем не менее около 12 миллионов пользователей по всему миру загрузили чат-бота с ИИ через два дня после его запуска. Вскоре возникли многочисленные проблемы с конфиденциальностью и безопасностью, что побудило частные и государственные организации запретить использование DeepSeek в США и за рубежом.\n",
    "\n",
    "Но вот в чём загвоздка: несмотря на весь этот ажиотаж, DeepSeek не является самым большим нарушителем конфиденциальности. Недавние данные от Surfshark, известного VPN-провайдера, показали, что Google Gemini является приложением с искусственным интеллектом, потребляющим больше всего данных. \n",
    "\n",
    "Исследователи проанализировали сведения о конфиденциальности следующих чат-ботов, наиболее популярных в Apple App Store: ChatGPT, Gemini, Copilot, Perplexity, DeepSeek, Grok, Jasper, Poe, Claude и Pi. Затем они сравнили типы данных, которые собирает каждое приложение, а также то, собирает ли оно какие-либо данные, связанные с пользователями, и есть ли в приложении сторонние рекламодатели.\n",
    "\n",
    "Проведенное расследование привело исследователей к выводу, что Google Gemini собирает значительно больше персональных данных: 22 из 35 типов пользовательских данных, включая высокочувствительные, такие как местоположение, пользовательский контент, список контактов устройства и историю посещенных страниц. В конечном счете, это намного превосходит данные, собранные другими популярными чат-ботами, включенными в исследование.\n",
    "\n",
    "Только три компании — Gemini, Copilot и Perplexity — предоставляют точные сведения о местоположении пользователей. Однако около 30% чат-ботов передают третьим лицам, таким как брокеры данных, конфиденциальную информацию о пользователях, включая данные о местоположении и историю просмотров.\n",
    "\n",
    "30% чат-ботов, упомянутых в статье, также собирают информацию о пользователях. В частности, Copilot, Poe и Jasper собирают данные о своих пользователях для использования в своих целях. Это означает, что информация, собранная в приложении, может быть связана с другими данными для персонализированной рекламы или анализа рекламных кампаний.\n",
    "\n",
    "Кроме того, Copilot и Poe собирают идентификаторы устройств для этой цели, а Jasper собирает еще и данные о взаимодействии с продуктом, рекламные данные и «любые другие данные об активности пользователей в приложении», согласно экспертам Surfshark.\n",
    "\n",
    "Спорная модель DeepSeek R1 занимает промежуточное положение, так что она не лучшая, но и не худшая. Она собирает в среднем 11 уникальных типов данных и преимущественно контактную информацию, пользовательский контент и диагностические данные.\n",
    "\n",
    "Аналогичным образом, ChatGPT собирает 10 уникальных типов данных, включая контактную информацию, пользовательский контент, идентификаторы, данные об использовании и диагностику. Важно отметить, что ChatGPT также собирает историю чата, но пользователи могут вместо этого использовать «временный чат».\n",
    "\n",
    "В то же время в политике конфиденциальности DeepSeek указано, что пользователи могут управлять историей своих чатов и удалять её в настройках.\n",
    "\n",
    "Жалобы на нарушение конфиденциальности поступали в чат-бот DeepSeek по разным причинам, но в первую очередь они связаны с тем, что американская общественность подвергается повышенному риску слежки, кибервойн и других угроз национальной безопасности.\n",
    "\n",
    "В политике конфиденциальности DeepSeek говорится: «Личная информация, которую мы собираем, может храниться на сервере, расположенном за пределами страны, в которой вы живёте. Мы храним собранную информацию на безопасных серверах, расположенных в Китайской Народной Республике».\n",
    "\n",
    "'''"
   ]
  },
  {
   "cell_type": "code",
   "execution_count": 247,
   "id": "8dad15d5-229c-438b-9ca9-eed76c5d782f",
   "metadata": {},
   "outputs": [
    {
     "name": "stdout",
     "output_type": "stream",
     "text": [
      "{'Bot': ['Hub', '', 'США', 'Grok', 'Poe', 'Pi'], 'китайски': [], 'DeepSeek': [], 'американски': ['американ'], 'Surf': [], 'shark': [], 'Google Gemini': ['Google Gemini'], 'Apple App Store': [], 'ChatGPT': [], 'Gemini': [], 'Copilot': [], 'Perplexity': [], 'Jasper': [], '': [], 'Claude': [], 'UNKNOWN': []}\n",
      "Warning: When  cdn_resources is 'local' jupyter notebook has issues displaying graphics on chrome/safari. Use cdn_resources='in_line' or cdn_resources='remote' if you have issues viewing graphics in a notebook.\n",
      "ner_graph.html\n",
      "[('DeepSeek_американски', 8), ('Bot_DeepSeek', 5), ('американски_', 4), ('американски_Google Gemini', 4), ('Bot_Bot', 2), ('Bot_ChatGPT', 2), ('Bot_Copilot', 2), ('Bot_Jasper', 2), ('Bot_', 2), ('китайски_', 2), ('китайски_Google Gemini', 2), ('DeepSeek_DeepSeek', 2), ('американски_Surf', 2), ('американски_shark', 2), ('американски_Apple App Store', 2), ('американски_ChatGPT', 2), ('американски_Gemini', 2), ('американски_Copilot', 2), ('американски_Perplexity', 2), ('американски_Jasper', 2), ('американски_Claude', 2), ('_shark', 2), ('Bot_Google Gemini', 2), ('shark_Google Gemini', 2), ('Bot_американски', 1), ('китайски_DeepSeek', 1), ('китайски_Surf', 1), ('китайски_shark', 1), ('китайски_Apple App Store', 1), ('китайски_ChatGPT', 1), ('китайски_Gemini', 1), ('китайски_Copilot', 1), ('китайски_Perplexity', 1), ('китайски_Jasper', 1), ('китайски_Claude', 1), ('DeepSeek_Surf', 1), ('DeepSeek_Apple App Store', 1), ('DeepSeek_Gemini', 1), ('DeepSeek_Perplexity', 1), ('DeepSeek_Claude', 1), ('Bot_Surf', 1), ('Bot_shark', 1), ('Surf_shark', 1), ('shark_Apple App Store', 1), ('shark_ChatGPT', 1), ('shark_Gemini', 1), ('shark_Copilot', 1), ('shark_Perplexity', 1), ('shark_Jasper', 1), ('shark_Claude', 1)]\n"
     ]
    },
    {
     "data": {
      "text/html": [
       "<html>\n",
       "    <head>\n",
       "        <meta charset=\"utf-8\">\n",
       "        \n",
       "            <script src=\"lib/bindings/utils.js\"></script>\n",
       "            <link rel=\"stylesheet\" href=\"https://cdnjs.cloudflare.com/ajax/libs/vis-network/9.1.2/dist/dist/vis-network.min.css\" integrity=\"sha512-WgxfT5LWjfszlPHXRmBWHkV2eceiWTOBvrKCNbdgDYTHrT2AeLCGbF4sZlZw3UMN3WtL0tGUoIAKsu8mllg/XA==\" crossorigin=\"anonymous\" referrerpolicy=\"no-referrer\" />\n",
       "            <script src=\"https://cdnjs.cloudflare.com/ajax/libs/vis-network/9.1.2/dist/vis-network.min.js\" integrity=\"sha512-LnvoEWDFrqGHlHmDD2101OrLcbsfkrzoSpvtSQtxK3RMnRV0eOkhhBN2dXHKRrUU8p2DGRTk35n4O8nWSVe1mQ==\" crossorigin=\"anonymous\" referrerpolicy=\"no-referrer\"></script>\n",
       "            \n",
       "        \n",
       "<center>\n",
       "<h1></h1>\n",
       "</center>\n",
       "\n",
       "<!-- <link rel=\"stylesheet\" href=\"../node_modules/vis/dist/vis.min.css\" type=\"text/css\" />\n",
       "<script type=\"text/javascript\" src=\"../node_modules/vis/dist/vis.js\"> </script>-->\n",
       "        <link\n",
       "          href=\"https://cdn.jsdelivr.net/npm/bootstrap@5.0.0-beta3/dist/css/bootstrap.min.css\"\n",
       "          rel=\"stylesheet\"\n",
       "          integrity=\"sha384-eOJMYsd53ii+scO/bJGFsiCZc+5NDVN2yr8+0RDqr0Ql0h+rP48ckxlpbzKgwra6\"\n",
       "          crossorigin=\"anonymous\"\n",
       "        />\n",
       "        <script\n",
       "          src=\"https://cdn.jsdelivr.net/npm/bootstrap@5.0.0-beta3/dist/js/bootstrap.bundle.min.js\"\n",
       "          integrity=\"sha384-JEW9xMcG8R+pH31jmWH6WWP0WintQrMb4s7ZOdauHnUtxwoG2vI5DkLtS3qm9Ekf\"\n",
       "          crossorigin=\"anonymous\"\n",
       "        ></script>\n",
       "\n",
       "\n",
       "        <center>\n",
       "          <h1></h1>\n",
       "        </center>\n",
       "        <style type=\"text/css\">\n",
       "\n",
       "             #mynetwork {\n",
       "                 width: 100%;\n",
       "                 height: 600px;\n",
       "                 background-color: #ffffff;\n",
       "                 border: 1px solid lightgray;\n",
       "                 position: relative;\n",
       "                 float: left;\n",
       "             }\n",
       "\n",
       "             \n",
       "\n",
       "             \n",
       "\n",
       "             \n",
       "        </style>\n",
       "    </head>\n",
       "\n",
       "\n",
       "    <body>\n",
       "        <div class=\"card\" style=\"width: 100%\">\n",
       "            \n",
       "            \n",
       "            <div id=\"mynetwork\" class=\"card-body\"></div>\n",
       "        </div>\n",
       "\n",
       "        \n",
       "        \n",
       "\n",
       "        <script type=\"text/javascript\">\n",
       "\n",
       "              // initialize global variables.\n",
       "              var edges;\n",
       "              var nodes;\n",
       "              var allNodes;\n",
       "              var allEdges;\n",
       "              var nodeColors;\n",
       "              var originalNodes;\n",
       "              var network;\n",
       "              var container;\n",
       "              var options, data;\n",
       "              var filter = {\n",
       "                  item : '',\n",
       "                  property : '',\n",
       "                  value : []\n",
       "              };\n",
       "\n",
       "              \n",
       "\n",
       "              \n",
       "\n",
       "              // This method is responsible for drawing the graph, returns the drawn network\n",
       "              function drawGraph() {\n",
       "                  var container = document.getElementById('mynetwork');\n",
       "\n",
       "                  \n",
       "\n",
       "                  // parsing and collecting nodes and edges from the python\n",
       "                  nodes = new vis.DataSet([{\"color\": \"#97c2fc\", \"id\": 0, \"label\": 0, \"shape\": \"dot\"}, {\"color\": \"#97c2fc\", \"id\": 1, \"label\": \"\\u043a\\u0438\\u0442\\u0430\\u0439\\u0441\\u043a\\u0438\", \"shape\": \"dot\"}, {\"color\": \"#97c2fc\", \"id\": 2, \"label\": \"Jasper\", \"shape\": \"dot\"}, {\"color\": \"#97c2fc\", \"id\": 3, \"label\": \"\\u0430\\u043c\\u0435\\u0440\\u0438\\u043a\\u0430\\u043d\\u0441\\u043a\\u0438\", \"shape\": \"dot\"}, {\"color\": \"#97c2fc\", \"id\": 4, \"label\": \"DeepSeek\", \"shape\": \"dot\"}, {\"color\": \"#97c2fc\", \"id\": 5, \"label\": \"shark\", \"shape\": \"dot\"}, {\"color\": \"#97c2fc\", \"id\": 6, \"label\": \"ChatGPT\", \"shape\": \"dot\"}, {\"color\": \"#97c2fc\", \"id\": 7, \"label\": \"UNKNOWN\", \"shape\": \"dot\"}, {\"color\": \"#97c2fc\", \"id\": 8, \"label\": \"Copilot\", \"shape\": \"dot\"}, {\"color\": \"#97c2fc\", \"id\": 9, \"label\": \"Claude\", \"shape\": \"dot\"}, {\"color\": \"#97c2fc\", \"id\": 10, \"label\": \"Apple App Store\", \"shape\": \"dot\"}, {\"color\": \"#97c2fc\", \"id\": 11, \"label\": \"Gemini\", \"shape\": \"dot\"}, {\"color\": \"#97c2fc\", \"id\": 12, \"label\": \"Surf\", \"shape\": \"dot\"}, {\"color\": \"#97c2fc\", \"id\": 13, \"label\": \"Google Gemini\", \"shape\": \"dot\"}, {\"color\": \"#97c2fc\", \"id\": 14, \"label\": \"Perplexity\", \"shape\": \"dot\"}, {\"color\": \"#97c2fc\", \"id\": 15, \"label\": \"Bot\", \"shape\": \"dot\"}]);\n",
       "                  edges = new vis.DataSet([{\"from\": 15, \"to\": 15}, {\"from\": 15, \"to\": 1}, {\"from\": 15, \"to\": 3}, {\"from\": 15, \"to\": 4}, {\"from\": 15, \"to\": 5}, {\"from\": 15, \"to\": 0}, {\"from\": 15, \"to\": 12}, {\"from\": 15, \"to\": 13}, {\"from\": 15, \"to\": 10}, {\"from\": 15, \"to\": 6}, {\"from\": 15, \"to\": 11}, {\"from\": 15, \"to\": 8}, {\"from\": 15, \"to\": 14}, {\"from\": 15, \"to\": 2}, {\"from\": 15, \"to\": 9}, {\"from\": 1, \"to\": 4}, {\"from\": 1, \"to\": 0}, {\"from\": 1, \"to\": 12}, {\"from\": 1, \"to\": 5}, {\"from\": 1, \"to\": 13}, {\"from\": 1, \"to\": 10}, {\"from\": 1, \"to\": 6}, {\"from\": 1, \"to\": 11}, {\"from\": 1, \"to\": 8}, {\"from\": 1, \"to\": 14}, {\"from\": 1, \"to\": 2}, {\"from\": 1, \"to\": 9}, {\"from\": 4, \"to\": 3}, {\"from\": 4, \"to\": 4}, {\"from\": 4, \"to\": 5}, {\"from\": 3, \"to\": 0}, {\"from\": 3, \"to\": 12}, {\"from\": 3, \"to\": 5}, {\"from\": 3, \"to\": 13}, {\"from\": 3, \"to\": 10}, {\"from\": 3, \"to\": 6}, {\"from\": 3, \"to\": 11}, {\"from\": 3, \"to\": 8}, {\"from\": 3, \"to\": 14}, {\"from\": 3, \"to\": 2}, {\"from\": 3, \"to\": 9}, {\"from\": 4, \"to\": 0}, {\"from\": 4, \"to\": 12}, {\"from\": 4, \"to\": 13}, {\"from\": 4, \"to\": 10}, {\"from\": 4, \"to\": 6}, {\"from\": 4, \"to\": 11}, {\"from\": 4, \"to\": 8}, {\"from\": 4, \"to\": 14}, {\"from\": 4, \"to\": 2}, {\"from\": 4, \"to\": 9}, {\"from\": 0, \"to\": 5}, {\"from\": 12, \"to\": 5}, {\"from\": 5, \"to\": 13}, {\"from\": 5, \"to\": 10}, {\"from\": 5, \"to\": 6}, {\"from\": 5, \"to\": 11}, {\"from\": 5, \"to\": 8}, {\"from\": 5, \"to\": 14}, {\"from\": 5, \"to\": 2}, {\"from\": 5, \"to\": 9}]);\n",
       "\n",
       "                  nodeColors = {};\n",
       "                  allNodes = nodes.get({ returnType: \"Object\" });\n",
       "                  for (nodeId in allNodes) {\n",
       "                    nodeColors[nodeId] = allNodes[nodeId].color;\n",
       "                  }\n",
       "                  allEdges = edges.get({ returnType: \"Object\" });\n",
       "                  // adding nodes and edges to the graph\n",
       "                  data = {nodes: nodes, edges: edges};\n",
       "\n",
       "                  var options = {\n",
       "    \"configure\": {\n",
       "        \"enabled\": false\n",
       "    },\n",
       "    \"edges\": {\n",
       "        \"color\": {\n",
       "            \"inherit\": true\n",
       "        },\n",
       "        \"smooth\": {\n",
       "            \"enabled\": true,\n",
       "            \"type\": \"dynamic\"\n",
       "        }\n",
       "    },\n",
       "    \"interaction\": {\n",
       "        \"dragNodes\": true,\n",
       "        \"hideEdgesOnDrag\": false,\n",
       "        \"hideNodesOnDrag\": false\n",
       "    },\n",
       "    \"physics\": {\n",
       "        \"enabled\": true,\n",
       "        \"repulsion\": {\n",
       "            \"centralGravity\": 0.2,\n",
       "            \"damping\": 0.09,\n",
       "            \"nodeDistance\": 150,\n",
       "            \"springConstant\": 0.05,\n",
       "            \"springLength\": 50\n",
       "        },\n",
       "        \"solver\": \"repulsion\",\n",
       "        \"stabilization\": {\n",
       "            \"enabled\": true,\n",
       "            \"fit\": true,\n",
       "            \"iterations\": 1000,\n",
       "            \"onlyDynamicEdges\": false,\n",
       "            \"updateInterval\": 50\n",
       "        }\n",
       "    }\n",
       "};\n",
       "\n",
       "                  \n",
       "\n",
       "\n",
       "                  \n",
       "\n",
       "                  network = new vis.Network(container, data, options);\n",
       "\n",
       "                  \n",
       "\n",
       "                  \n",
       "\n",
       "                  \n",
       "\n",
       "\n",
       "                  \n",
       "\n",
       "                  return network;\n",
       "\n",
       "              }\n",
       "              drawGraph();\n",
       "        </script>\n",
       "    </body>\n",
       "</html>"
      ],
      "text/plain": [
       "<IPython.core.display.HTML object>"
      ]
     },
     "execution_count": 247,
     "metadata": {},
     "output_type": "execute_result"
    }
   ],
   "source": [
    "analis_text(story)\n",
    "HTML(filename=\"ner_graph.html\")"
   ]
  },
  {
   "cell_type": "code",
   "execution_count": 248,
   "id": "17a85337-7b13-4b3e-97dc-16f27a9306ca",
   "metadata": {},
   "outputs": [
    {
     "data": {
      "text/plain": [
       "<matplotlib.image.AxesImage at 0x7f04fa0e6890>"
      ]
     },
     "execution_count": 248,
     "metadata": {},
     "output_type": "execute_result"
    },
    {
     "data": {
      "image/png": "[encoded data removed]",
      "text/plain": [
       "<Figure size 640x480 with 1 Axes>"
      ]
     },
     "metadata": {},
     "output_type": "display_data"
    }
   ],
   "source": [
    "plt.imshow(Image.open('news_text.png'))"
   ]
  },
  {
   "cell_type": "markdown",
   "id": "cd84bf11-a618-45d1-9cb8-1e810a6c5380",
   "metadata": {},
   "source": [
    "### Вывод\n",
    "\n",
    "- С помощью NER можно извлекать имена сущностей, с помощью которых можно кластеризировать документы, которые связанны с конкретными лицами\n",
    "- Можно автоматически отслеживать появляющуюся информаую об организации и за счет этого следить за отношением пользователей"
   ]
  },
  {
   "cell_type": "code",
   "execution_count": null,
   "id": "1e626848-3b30-44f6-9a87-df00ad302f57",
   "metadata": {},
   "outputs": [],
   "source": []
  },
  {
   "cell_type": "code",
   "execution_count": null,
   "id": "0ace4c1a-5dc6-48ba-816d-3194ca76f8a8",
   "metadata": {},
   "outputs": [],
   "source": []
  },
  {
   "cell_type": "code",
   "execution_count": null,
   "id": "4e9c4625-cb07-41cd-a453-7b74899675fe",
   "metadata": {},
   "outputs": [],
   "source": []
  }
 ],
 "metadata": {
  "accelerator": "GPU",
  "colab": {
   "gpuType": "T4",
   "provenance": []
  },
  "kernelspec": {
   "display_name": "Python 3 (ipykernel)",
   "language": "python",
   "name": "python3"
  },
  "language_info": {
   "codemirror_mode": {
    "name": "ipython",
    "version": 3
   },
   "file_extension": ".py",
   "mimetype": "text/x-python",
   "name": "python",
   "nbconvert_exporter": "python",
   "pygments_lexer": "ipython3",
   "version": "3.10.12"
  },
  "widgets": {
   "application/vnd.jupyter.widget-state+json": {
    "state": {
     "021daf1f556c4b688ba13ff858b2c43f": {
      "model_module": "@jupyter-widgets/controls",
      "model_module_version": "2.0.0",
      "model_name": "HBoxModel",
      "state": {
       "children": [
        "IPY_MODEL_256d38c01ad7420c9b48111f97ea2615",
        "IPY_MODEL_926109dae38e4aeabd8734bcc8db6397",
        "IPY_MODEL_2d640a9616ac44daa580b8ca53c66492"
       ],
       "layout": "IPY_MODEL_d8703a723ab949ceb8900bd1a94b66a2"
      }
     },
     "03e2cb5c930a4eaeade9e7e5d3f38960": {
      "model_module": "@jupyter-widgets/controls",
      "model_module_version": "2.0.0",
      "model_name": "HTMLModel",
      "state": {
       "layout": "IPY_MODEL_c69483f641074cc1ae0e15f848e48de8",
       "style": "IPY_MODEL_595de58781ed4bedbbc55199afd189d8",
       "value": "tokenizer.json: 100%"
      }
     },
     "05b6ff88d47d4aa8b5e195f32103767d": {
      "model_module": "@jupyter-widgets/controls",
      "model_module_version": "2.0.0",
      "model_name": "HBoxModel",
      "state": {
       "children": [
        "IPY_MODEL_d19514838bc2448c99f907b73b510a8e",
        "IPY_MODEL_c1b0401bd0fd4ae7a397bb4f1ae76a57",
        "IPY_MODEL_854c03db618b40ccb6fa0690e66b0635"
       ],
       "layout": "IPY_MODEL_f27297dbd63e4686b57acc5337b73f6f"
      }
     },
     "06be2c2ae72c49fb8cdd8bbe11626af4": {
      "model_module": "@jupyter-widgets/base",
      "model_module_version": "2.0.0",
      "model_name": "LayoutModel",
      "state": {}
     },
     "0722c084cfc9413f9f7d247cdfcb5c00": {
      "model_module": "@jupyter-widgets/controls",
      "model_module_version": "2.0.0",
      "model_name": "HBoxModel",
      "state": {
       "children": [
        "IPY_MODEL_ac14c406ce4c488fa1afcd948b898c37",
        "IPY_MODEL_3fa1586c1ca44e988961757f4c2d448a",
        "IPY_MODEL_a7a77539507345bfae7a650df452f703"
       ],
       "layout": "IPY_MODEL_fd4e9b83a61144dcb24af13c62aadf3f"
      }
     },
     "07810a0c68ed4fed9456e5d47fbcfe11": {
      "model_module": "@jupyter-widgets/controls",
      "model_module_version": "2.0.0",
      "model_name": "FloatProgressModel",
      "state": {
       "bar_style": "success",
       "layout": "IPY_MODEL_8b66e8e1a016424d88562118084aa16f",
       "max": 1256,
       "style": "IPY_MODEL_fa8f66f8841c425496b10ad4466930c0",
       "value": 1256
      }
     },
     "086e15a54a5b48d0b0331a43a9c51f35": {
      "model_module": "@jupyter-widgets/base",
      "model_module_version": "2.0.0",
      "model_name": "LayoutModel",
      "state": {}
     },
     "0d030116f4dc46b784d1e744e5d25fdf": {
      "model_module": "@jupyter-widgets/base",
      "model_module_version": "2.0.0",
      "model_name": "LayoutModel",
      "state": {}
     },
     "0e5621c7ed874400b9de83082fae637c": {
      "model_module": "@jupyter-widgets/controls",
      "model_module_version": "2.0.0",
      "model_name": "FloatProgressModel",
      "state": {
       "bar_style": "success",
       "layout": "IPY_MODEL_35f07baa7903492caaa1ddd07ccf8374",
       "max": 241082,
       "style": "IPY_MODEL_ad224200bae54c6dae11291723e39feb",
       "value": 241082
      }
     },
     "0e5de58cc8934775bdcdc9fad4ee66f4": {
      "model_module": "@jupyter-widgets/base",
      "model_module_version": "2.0.0",
      "model_name": "LayoutModel",
      "state": {}
     },
     "102172a6b23849d0a161aabee7d0f9af": {
      "model_module": "@jupyter-widgets/controls",
      "model_module_version": "2.0.0",
      "model_name": "HTMLStyleModel",
      "state": {
       "description_width": "",
       "font_size": null,
       "text_color": null
      }
     },
     "11533324ce0049a1bc8219d5cd17de48": {
      "model_module": "@jupyter-widgets/controls",
      "model_module_version": "2.0.0",
      "model_name": "HTMLStyleModel",
      "state": {
       "description_width": "",
       "font_size": null,
       "text_color": null
      }
     },
     "118d8accf5d1491c987b6cc28e85d111": {
      "model_module": "@jupyter-widgets/controls",
      "model_module_version": "2.0.0",
      "model_name": "HTMLModel",
      "state": {
       "layout": "IPY_MODEL_e54b6ae51da742ea8b95293aedffdd6d",
       "style": "IPY_MODEL_d5ecaf450d354ba8bd36286f65c7659d",
       "value": "tokenizer.json: 100%"
      }
     },
     "12d703b83cba4e3a9c1bd375ea00479d": {
      "model_module": "@jupyter-widgets/controls",
      "model_module_version": "2.0.0",
      "model_name": "HTMLStyleModel",
      "state": {
       "description_width": "",
       "font_size": null,
       "text_color": null
      }
     },
     "15acff6779a54ee891843fbf400e3353": {
      "model_module": "@jupyter-widgets/controls",
      "model_module_version": "2.0.0",
      "model_name": "FloatProgressModel",
      "state": {
       "bar_style": "success",
       "layout": "IPY_MODEL_edc8ffc9763447f2b043a6df94fad291",
       "max": 286,
       "style": "IPY_MODEL_88931e2344b04b27ac8ef3771b579080",
       "value": 286
      }
     },
     "171a5b2487f449428200895a2b856581": {
      "model_module": "@jupyter-widgets/controls",
      "model_module_version": "2.0.0",
      "model_name": "HTMLModel",
      "state": {
       "layout": "IPY_MODEL_4942bd35c5e04b4fb5a7d70819b22f0c",
       "style": "IPY_MODEL_478fc295a0f3493fb99ea0b0447a1545",
       "value": "vocab.txt: 100%"
      }
     },
     "1734d52932944865ac216348afe279cd": {
      "model_module": "@jupyter-widgets/base",
      "model_module_version": "2.0.0",
      "model_name": "LayoutModel",
      "state": {}
     },
     "17813fbebf3140f3a7263de85982ec7b": {
      "model_module": "@jupyter-widgets/controls",
      "model_module_version": "2.0.0",
      "model_name": "ProgressStyleModel",
      "state": {
       "description_width": ""
      }
     },
     "19dd2de6e75d40829519daf0b11a7b7d": {
      "model_module": "@jupyter-widgets/base",
      "model_module_version": "2.0.0",
      "model_name": "LayoutModel",
      "state": {}
     },
     "1b68e0844c8848718766856e0b07093c": {
      "model_module": "@jupyter-widgets/base",
      "model_module_version": "2.0.0",
      "model_name": "LayoutModel",
      "state": {}
     },
     "1ce1e02e4a3f4817ae3ba1f2b99b9822": {
      "model_module": "@jupyter-widgets/base",
      "model_module_version": "2.0.0",
      "model_name": "LayoutModel",
      "state": {}
     },
     "1fdebc2bd45d4e9c9de16c3489f5a4dc": {
      "model_module": "@jupyter-widgets/base",
      "model_module_version": "2.0.0",
      "model_name": "LayoutModel",
      "state": {}
     },
     "20f25d7d87ca4c55b422ac25866494e1": {
      "model_module": "@jupyter-widgets/controls",
      "model_module_version": "2.0.0",
      "model_name": "HTMLModel",
      "state": {
       "layout": "IPY_MODEL_6c20a15419af4e73bf1a0e1d67b5a1bf",
       "style": "IPY_MODEL_fb411a5df5b944078aba5d0835d10f30",
       "value": " 1.07k/1.07k [00:00&lt;00:00, 150kB/s]"
      }
     },
     "22e4b56fc0b345299bc07c691890f322": {
      "model_module": "@jupyter-widgets/controls",
      "model_module_version": "2.0.0",
      "model_name": "HTMLModel",
      "state": {
       "layout": "IPY_MODEL_ad8da5988de94060bdfdad010e740806",
       "style": "IPY_MODEL_f67ab976b49346c68b6d3d23695c67dc",
       "value": "config.json: 100%"
      }
     },
     "2354567d14d0438a941178119e421913": {
      "model_module": "@jupyter-widgets/base",
      "model_module_version": "2.0.0",
      "model_name": "LayoutModel",
      "state": {}
     },
     "23e2ca1fb4b54d59a69fd913f3b39ae4": {
      "model_module": "@jupyter-widgets/controls",
      "model_module_version": "2.0.0",
      "model_name": "ProgressStyleModel",
      "state": {
       "description_width": ""
      }
     },
     "241478ec18894e1cb6bc4b8c3493474a": {
      "model_module": "@jupyter-widgets/controls",
      "model_module_version": "2.0.0",
      "model_name": "HTMLModel",
      "state": {
       "layout": "IPY_MODEL_9233abaa2ddb4995a0dfa0a2a79f429a",
       "style": "IPY_MODEL_59ebb8cd485f4587a61da49b3efd34c9",
       "value": " 112/112 [00:00&lt;00:00, 24.3kB/s]"
      }
     },
     "24e2a275670d419b975e8a14b5a91cdc": {
      "model_module": "@jupyter-widgets/controls",
      "model_module_version": "2.0.0",
      "model_name": "HTMLStyleModel",
      "state": {
       "description_width": "",
       "font_size": null,
       "text_color": null
      }
     },
     "256d38c01ad7420c9b48111f97ea2615": {
      "model_module": "@jupyter-widgets/controls",
      "model_module_version": "2.0.0",
      "model_name": "HTMLModel",
      "state": {
       "layout": "IPY_MODEL_e30cd2d6dfb944849d4d08a5dc0da129",
       "style": "IPY_MODEL_f605438c0a184e07ad5a8ec43034571a",
       "value": "pytorch_model.bin: 100%"
      }
     },
     "267340c6f0ba4dca86ddb5d536e80661": {
      "model_module": "@jupyter-widgets/controls",
      "model_module_version": "2.0.0",
      "model_name": "FloatProgressModel",
      "state": {
       "bar_style": "success",
       "layout": "IPY_MODEL_f5292eaa49544f279a2ffb1d049696d3",
       "max": 4305025,
       "style": "IPY_MODEL_9794016349d843dea646e08c91bf4bd8",
       "value": 4305025
      }
     },
     "26c31c29a44842ebaff29494f8d447bf": {
      "model_module": "@jupyter-widgets/controls",
      "model_module_version": "2.0.0",
      "model_name": "HTMLStyleModel",
      "state": {
       "description_width": "",
       "font_size": null,
       "text_color": null
      }
     },
     "288a4e45f3a84f0fbb28fc5ea251b5e8": {
      "model_module": "@jupyter-widgets/controls",
      "model_module_version": "2.0.0",
      "model_name": "HBoxModel",
      "state": {
       "children": [
        "IPY_MODEL_118d8accf5d1491c987b6cc28e85d111",
        "IPY_MODEL_8ef93c99357f40e68c1d86230b7e8391",
        "IPY_MODEL_9e3e5f51cd2a4bf0b00f6a2e36fe1b9a"
       ],
       "layout": "IPY_MODEL_f221d7164e684592a1e930d4b4377714"
      }
     },
     "2a97081c8a2d4ce68ba29590f9fc5bd7": {
      "model_module": "@jupyter-widgets/controls",
      "model_module_version": "2.0.0",
      "model_name": "ProgressStyleModel",
      "state": {
       "description_width": ""
      }
     },
     "2d640a9616ac44daa580b8ca53c66492": {
      "model_module": "@jupyter-widgets/controls",
      "model_module_version": "2.0.0",
      "model_name": "HTMLModel",
      "state": {
       "layout": "IPY_MODEL_dc22dd41b9d04204b8fb546dc9c31c44",
       "style": "IPY_MODEL_7a96308cb1f1448aa7749d2487d4c444",
       "value": " 46.8M/46.8M [00:04&lt;00:00, 11.7MB/s]"
      }
     },
     "2e72ceecb20941ef97ca11284e906995": {
      "model_module": "@jupyter-widgets/controls",
      "model_module_version": "2.0.0",
      "model_name": "HTMLStyleModel",
      "state": {
       "description_width": "",
       "font_size": null,
       "text_color": null
      }
     },
     "2fd9c5a89ea147b99b0246e611e5c860": {
      "model_module": "@jupyter-widgets/controls",
      "model_module_version": "2.0.0",
      "model_name": "HTMLModel",
      "state": {
       "layout": "IPY_MODEL_5a54c7513ed24518b5db2f17ab3e961a",
       "style": "IPY_MODEL_bdd5953084784147b56e7af2c5f620d2",
       "value": "special_tokens_map.json: 100%"
      }
     },
     "2ff900e9550048a083f196e190f59ffa": {
      "model_module": "@jupyter-widgets/controls",
      "model_module_version": "2.0.0",
      "model_name": "HTMLModel",
      "state": {
       "layout": "IPY_MODEL_af0d0e43cb604b988480bb3771d24500",
       "style": "IPY_MODEL_a27fc4cc8402468ba6d170729e71c83c",
       "value": "model.safetensors: 100%"
      }
     },
     "30e3257f19e24633835b413d651995e8": {
      "model_module": "@jupyter-widgets/controls",
      "model_module_version": "2.0.0",
      "model_name": "ProgressStyleModel",
      "state": {
       "description_width": ""
      }
     },
     "30e651c8526040cab94d69d649dd096e": {
      "model_module": "@jupyter-widgets/controls",
      "model_module_version": "2.0.0",
      "model_name": "HBoxModel",
      "state": {
       "children": [
        "IPY_MODEL_ab77eee5617a4cac95d8d95dbff665b4",
        "IPY_MODEL_267340c6f0ba4dca86ddb5d536e80661",
        "IPY_MODEL_cb987bc61cd544858bca5cc8854b88dd"
       ],
       "layout": "IPY_MODEL_38d451e84adc45d7bcc3842960a5cc28"
      }
     },
     "3320d2cb30fc43b2807c4722e8e21ae1": {
      "model_module": "@jupyter-widgets/controls",
      "model_module_version": "2.0.0",
      "model_name": "HTMLStyleModel",
      "state": {
       "description_width": "",
       "font_size": null,
       "text_color": null
      }
     },
     "35f07baa7903492caaa1ddd07ccf8374": {
      "model_module": "@jupyter-widgets/base",
      "model_module_version": "2.0.0",
      "model_name": "LayoutModel",
      "state": {}
     },
     "38d451e84adc45d7bcc3842960a5cc28": {
      "model_module": "@jupyter-widgets/base",
      "model_module_version": "2.0.0",
      "model_name": "LayoutModel",
      "state": {}
     },
     "3a8ffda4a97946f9a25288aa83e89c6c": {
      "model_module": "@jupyter-widgets/controls",
      "model_module_version": "2.0.0",
      "model_name": "HTMLModel",
      "state": {
       "layout": "IPY_MODEL_d7e760dfd2e44885b1f54023aa96c51f",
       "style": "IPY_MODEL_da573562c76c4c0ebf095a6403c3da13",
       "value": "special_tokens_map.json: 100%"
      }
     },
     "3ae66c3030bb41718220b4ae01a5feee": {
      "model_module": "@jupyter-widgets/base",
      "model_module_version": "2.0.0",
      "model_name": "LayoutModel",
      "state": {}
     },
     "3e29973db0aa4b8db18711ef259056a9": {
      "model_module": "@jupyter-widgets/base",
      "model_module_version": "2.0.0",
      "model_name": "LayoutModel",
      "state": {}
     },
     "3e6b9383f7b74ce8bc43f6575373aaaa": {
      "model_module": "@jupyter-widgets/controls",
      "model_module_version": "2.0.0",
      "model_name": "HTMLModel",
      "state": {
       "layout": "IPY_MODEL_595389e9b17b422c8a9f14bfba1b0a34",
       "style": "IPY_MODEL_cd99910c543d4ed7afbf1dd9d6ea99a7",
       "value": "tokenizer_config.json: 100%"
      }
     },
     "3fa1586c1ca44e988961757f4c2d448a": {
      "model_module": "@jupyter-widgets/controls",
      "model_module_version": "2.0.0",
      "model_name": "FloatProgressModel",
      "state": {
       "bar_style": "success",
       "layout": "IPY_MODEL_bd179b45b36d4aa4971e70162faad3bb",
       "max": 2235456956,
       "style": "IPY_MODEL_58208de080654cf58a64f08050611e80",
       "value": 2235456956
      }
     },
     "408d499c83bb4f46b114f13ea11a5241": {
      "model_module": "@jupyter-widgets/base",
      "model_module_version": "2.0.0",
      "model_name": "LayoutModel",
      "state": {}
     },
     "438479a9b39740dfba561710795f882a": {
      "model_module": "@jupyter-widgets/controls",
      "model_module_version": "2.0.0",
      "model_name": "HTMLModel",
      "state": {
       "layout": "IPY_MODEL_7d1848b8ac7247fa988469e58c324fd9",
       "style": "IPY_MODEL_102172a6b23849d0a161aabee7d0f9af",
       "value": " 241k/241k [00:00&lt;00:00, 3.91MB/s]"
      }
     },
     "438c23f63c22450faa2d86ad4c4e9731": {
      "model_module": "@jupyter-widgets/controls",
      "model_module_version": "2.0.0",
      "model_name": "HBoxModel",
      "state": {
       "children": [
        "IPY_MODEL_03e2cb5c930a4eaeade9e7e5d3f38960",
        "IPY_MODEL_db3ed1c622eb4b83aae60cb6e4c21aee",
        "IPY_MODEL_738c99946a424de0b0249fb4f91c98a2"
       ],
       "layout": "IPY_MODEL_5af73562d3e94ea7a49a86a5445b3763"
      }
     },
     "45ed4b9bf76a4978a388515f640a7e22": {
      "model_module": "@jupyter-widgets/base",
      "model_module_version": "2.0.0",
      "model_name": "LayoutModel",
      "state": {}
     },
     "467724a9250549a3acac596f2d720819": {
      "model_module": "@jupyter-widgets/controls",
      "model_module_version": "2.0.0",
      "model_name": "ProgressStyleModel",
      "state": {
       "description_width": ""
      }
     },
     "46bb644b4fe04dfc81aa31b66b5d5c74": {
      "model_module": "@jupyter-widgets/controls",
      "model_module_version": "2.0.0",
      "model_name": "HTMLModel",
      "state": {
       "layout": "IPY_MODEL_9c8b4c09108c4ee286631d9ceab1e2be",
       "style": "IPY_MODEL_e407136d11ec43c4961a257f999f1bfc",
       "value": "special_tokens_map.json: 100%"
      }
     },
     "46cb77a5cc5243d784e1e04eedcf93a7": {
      "model_module": "@jupyter-widgets/controls",
      "model_module_version": "2.0.0",
      "model_name": "FloatProgressModel",
      "state": {
       "bar_style": "success",
       "layout": "IPY_MODEL_2354567d14d0438a941178119e421913",
       "max": 1139,
       "style": "IPY_MODEL_de8191a4b48f4719865c0b56632aec0a",
       "value": 1139
      }
     },
     "478fc295a0f3493fb99ea0b0447a1545": {
      "model_module": "@jupyter-widgets/controls",
      "model_module_version": "2.0.0",
      "model_name": "HTMLStyleModel",
      "state": {
       "description_width": "",
       "font_size": null,
       "text_color": null
      }
     },
     "47c8e4a5bfba4fbc9f970e883af5eead": {
      "model_module": "@jupyter-widgets/base",
      "model_module_version": "2.0.0",
      "model_name": "LayoutModel",
      "state": {}
     },
     "48ce73adfdf244449c813ccbb6ccfa33": {
      "model_module": "@jupyter-widgets/controls",
      "model_module_version": "2.0.0",
      "model_name": "HTMLStyleModel",
      "state": {
       "description_width": "",
       "font_size": null,
       "text_color": null
      }
     },
     "4942bd35c5e04b4fb5a7d70819b22f0c": {
      "model_module": "@jupyter-widgets/base",
      "model_module_version": "2.0.0",
      "model_name": "LayoutModel",
      "state": {}
     },
     "4a6d28e86e3342469e47d7905af9efcd": {
      "model_module": "@jupyter-widgets/controls",
      "model_module_version": "2.0.0",
      "model_name": "ProgressStyleModel",
      "state": {
       "description_width": ""
      }
     },
     "4bf22a0b4ee640d692f79bc6ac745ac5": {
      "model_module": "@jupyter-widgets/controls",
      "model_module_version": "2.0.0",
      "model_name": "HTMLModel",
      "state": {
       "layout": "IPY_MODEL_d92afa58a1b641e9b5e65a0f70760e57",
       "style": "IPY_MODEL_8f0024d6ed674ea7a93ac71325159870",
       "value": " 855/855 [00:00&lt;00:00, 115kB/s]"
      }
     },
     "4d9293c2ec7745b9b518aa42bc16b22c": {
      "model_module": "@jupyter-widgets/controls",
      "model_module_version": "2.0.0",
      "model_name": "HTMLStyleModel",
      "state": {
       "description_width": "",
       "font_size": null,
       "text_color": null
      }
     },
     "4dd9bf6b3a1e4db8aca5072fc8ca7fcc": {
      "model_module": "@jupyter-widgets/controls",
      "model_module_version": "2.0.0",
      "model_name": "HTMLModel",
      "state": {
       "layout": "IPY_MODEL_ecda9083e7c9437d95bb3ed0bead7afa",
       "style": "IPY_MODEL_77e8e2bb6a924f51b8f8a49177e759a3",
       "value": "tokenizer_config.json: 100%"
      }
     },
     "521e4c5913a147068f8f9de7e264aaa4": {
      "model_module": "@jupyter-widgets/controls",
      "model_module_version": "2.0.0",
      "model_name": "HTMLModel",
      "state": {
       "layout": "IPY_MODEL_84c5adf6e4d04de7b653bd1d7c0f8bd0",
       "style": "IPY_MODEL_6747d4852f4a4ed0855243091f2c0053",
       "value": " 5.07M/5.07M [00:00&lt;00:00, 11.7MB/s]"
      }
     },
     "52512ca2fd6a442d87bd6de076143b33": {
      "model_module": "@jupyter-widgets/controls",
      "model_module_version": "2.0.0",
      "model_name": "HTMLModel",
      "state": {
       "layout": "IPY_MODEL_ed4f79f13ec246c2b05626baa6b20781",
       "style": "IPY_MODEL_a6c70a2358d34cd5acdf929bc39ee3fd",
       "value": " 23.0/23.0 [00:00&lt;00:00, 3.46kB/s]"
      }
     },
     "53e70ce6d86544a890564c9cec714158": {
      "model_module": "@jupyter-widgets/base",
      "model_module_version": "2.0.0",
      "model_name": "LayoutModel",
      "state": {}
     },
     "54e255b5ee004439b6d191aada819943": {
      "model_module": "@jupyter-widgets/controls",
      "model_module_version": "2.0.0",
      "model_name": "HTMLModel",
      "state": {
       "layout": "IPY_MODEL_9d725ab99f104798b56bed820df3ad74",
       "style": "IPY_MODEL_48ce73adfdf244449c813ccbb6ccfa33",
       "value": " 1.14k/1.14k [00:00&lt;00:00, 113kB/s]"
      }
     },
     "58208de080654cf58a64f08050611e80": {
      "model_module": "@jupyter-widgets/controls",
      "model_module_version": "2.0.0",
      "model_name": "ProgressStyleModel",
      "state": {
       "description_width": ""
      }
     },
     "595389e9b17b422c8a9f14bfba1b0a34": {
      "model_module": "@jupyter-widgets/base",
      "model_module_version": "2.0.0",
      "model_name": "LayoutModel",
      "state": {}
     },
     "595de58781ed4bedbbc55199afd189d8": {
      "model_module": "@jupyter-widgets/controls",
      "model_module_version": "2.0.0",
      "model_name": "HTMLStyleModel",
      "state": {
       "description_width": "",
       "font_size": null,
       "text_color": null
      }
     },
     "59ebb8cd485f4587a61da49b3efd34c9": {
      "model_module": "@jupyter-widgets/controls",
      "model_module_version": "2.0.0",
      "model_name": "HTMLStyleModel",
      "state": {
       "description_width": "",
       "font_size": null,
       "text_color": null
      }
     },
     "5a54c7513ed24518b5db2f17ab3e961a": {
      "model_module": "@jupyter-widgets/base",
      "model_module_version": "2.0.0",
      "model_name": "LayoutModel",
      "state": {}
     },
     "5af73562d3e94ea7a49a86a5445b3763": {
      "model_module": "@jupyter-widgets/base",
      "model_module_version": "2.0.0",
      "model_name": "LayoutModel",
      "state": {}
     },
     "5d6e01f66979442bac40d87a7f1c5bf6": {
      "model_module": "@jupyter-widgets/controls",
      "model_module_version": "2.0.0",
      "model_name": "HBoxModel",
      "state": {
       "children": [
        "IPY_MODEL_6cba1493c95b4a34a0fefdec87db5fac",
        "IPY_MODEL_46cb77a5cc5243d784e1e04eedcf93a7",
        "IPY_MODEL_54e255b5ee004439b6d191aada819943"
       ],
       "layout": "IPY_MODEL_7249ee9d53314baa8c1471f465b7c224"
      }
     },
     "647b9bb536ed4d22ad8211fec5be2d32": {
      "model_module": "@jupyter-widgets/base",
      "model_module_version": "2.0.0",
      "model_name": "LayoutModel",
      "state": {}
     },
     "650ca56d3deb4860955dbd881b10ddd9": {
      "model_module": "@jupyter-widgets/base",
      "model_module_version": "2.0.0",
      "model_name": "LayoutModel",
      "state": {}
     },
     "65b335376b6a4bf4b9baabd8b8fc7c32": {
      "model_module": "@jupyter-widgets/controls",
      "model_module_version": "2.0.0",
      "model_name": "ProgressStyleModel",
      "state": {
       "description_width": ""
      }
     },
     "6747d4852f4a4ed0855243091f2c0053": {
      "model_module": "@jupyter-widgets/controls",
      "model_module_version": "2.0.0",
      "model_name": "HTMLStyleModel",
      "state": {
       "description_width": "",
       "font_size": null,
       "text_color": null
      }
     },
     "6795eacae16f42a989692a7be7d3d50f": {
      "model_module": "@jupyter-widgets/controls",
      "model_module_version": "2.0.0",
      "model_name": "HBoxModel",
      "state": {
       "children": [
        "IPY_MODEL_77f65c05287349e4aa64c3b7a3f5abf4",
        "IPY_MODEL_ebddf3490f104b06830ea3f3facc6d19",
        "IPY_MODEL_52512ca2fd6a442d87bd6de076143b33"
       ],
       "layout": "IPY_MODEL_c8d82d09947743749b5e0a1b1ac56829"
      }
     },
     "67f27f6ac862470189a086a8be2b8ae3": {
      "model_module": "@jupyter-widgets/controls",
      "model_module_version": "2.0.0",
      "model_name": "HTMLModel",
      "state": {
       "layout": "IPY_MODEL_0d030116f4dc46b784d1e744e5d25fdf",
       "style": "IPY_MODEL_b09584da32ca48d286d0a4e9d4e6df4e",
       "value": "sentencepiece.bpe.model: 100%"
      }
     },
     "697e16bd086f433d9e2d47dcb71de2eb": {
      "model_module": "@jupyter-widgets/base",
      "model_module_version": "2.0.0",
      "model_name": "LayoutModel",
      "state": {}
     },
     "6a2d0c9d6ac14b768439026143ff48dd": {
      "model_module": "@jupyter-widgets/base",
      "model_module_version": "2.0.0",
      "model_name": "LayoutModel",
      "state": {}
     },
     "6b1eac5f18cf4e5bb3fab7eb1ad542d8": {
      "model_module": "@jupyter-widgets/controls",
      "model_module_version": "2.0.0",
      "model_name": "ProgressStyleModel",
      "state": {
       "description_width": ""
      }
     },
     "6c20a15419af4e73bf1a0e1d67b5a1bf": {
      "model_module": "@jupyter-widgets/base",
      "model_module_version": "2.0.0",
      "model_name": "LayoutModel",
      "state": {}
     },
     "6c718aa683b540d0a1af06962392265d": {
      "model_module": "@jupyter-widgets/base",
      "model_module_version": "2.0.0",
      "model_name": "LayoutModel",
      "state": {}
     },
     "6cba1493c95b4a34a0fefdec87db5fac": {
      "model_module": "@jupyter-widgets/controls",
      "model_module_version": "2.0.0",
      "model_name": "HTMLModel",
      "state": {
       "layout": "IPY_MODEL_83e4692bafaa44f5b0220f0cfef0a7f9",
       "style": "IPY_MODEL_fd7d478de5264bd8b1567ba1dd17bb31",
       "value": "config.json: 100%"
      }
     },
     "6ccd80d0e9324deeaa423a2021e972ad": {
      "model_module": "@jupyter-widgets/controls",
      "model_module_version": "2.0.0",
      "model_name": "FloatProgressModel",
      "state": {
       "bar_style": "success",
       "layout": "IPY_MODEL_9fea7faa1fa942fa80e13b9b1077e053",
       "max": 25,
       "style": "IPY_MODEL_d4a81d7c2fb34564bd7b0f84580ab44e",
       "value": 25
      }
     },
     "6d8c53eded5843259c55b62d7ee0ecce": {
      "model_module": "@jupyter-widgets/controls",
      "model_module_version": "2.0.0",
      "model_name": "HTMLModel",
      "state": {
       "layout": "IPY_MODEL_a1425bad7a4240b0a855720357c434ae",
       "style": "IPY_MODEL_9726b4fadd754f06b5ab9e9b3698c562",
       "value": " 377/377 [00:00&lt;00:00, 73.9kB/s]"
      }
     },
     "70272abd08e34cbba9601b6aeed97b17": {
      "model_module": "@jupyter-widgets/base",
      "model_module_version": "2.0.0",
      "model_name": "LayoutModel",
      "state": {}
     },
     "7249ee9d53314baa8c1471f465b7c224": {
      "model_module": "@jupyter-widgets/base",
      "model_module_version": "2.0.0",
      "model_name": "LayoutModel",
      "state": {}
     },
     "738c99946a424de0b0249fb4f91c98a2": {
      "model_module": "@jupyter-widgets/controls",
      "model_module_version": "2.0.0",
      "model_name": "HTMLModel",
      "state": {
       "layout": "IPY_MODEL_af268820e1b6477cada3e85edf138dbd",
       "style": "IPY_MODEL_9b0f13d94c724649982cfe0c9336b803",
       "value": " 16.3M/16.3M [00:01&lt;00:00, 11.6MB/s]"
      }
     },
     "75901404d08e447690247c1bfc2703f5": {
      "model_module": "@jupyter-widgets/controls",
      "model_module_version": "2.0.0",
      "model_name": "HTMLModel",
      "state": {
       "layout": "IPY_MODEL_8a46804e49004b5a958a026b5044c116",
       "style": "IPY_MODEL_12d703b83cba4e3a9c1bd375ea00479d",
       "value": "model.safetensors: 100%"
      }
     },
     "77e8e2bb6a924f51b8f8a49177e759a3": {
      "model_module": "@jupyter-widgets/controls",
      "model_module_version": "2.0.0",
      "model_name": "HTMLStyleModel",
      "state": {
       "description_width": "",
       "font_size": null,
       "text_color": null
      }
     },
     "77f65c05287349e4aa64c3b7a3f5abf4": {
      "model_module": "@jupyter-widgets/controls",
      "model_module_version": "2.0.0",
      "model_name": "HTMLModel",
      "state": {
       "layout": "IPY_MODEL_b1409c31ad3e4d6aa12bcd81d999513d",
       "style": "IPY_MODEL_b941fc931b314822b87bcfd57a525a70",
       "value": "added_tokens.json: 100%"
      }
     },
     "79658a95522342e185de5b7640088e87": {
      "model_module": "@jupyter-widgets/base",
      "model_module_version": "2.0.0",
      "model_name": "LayoutModel",
      "state": {}
     },
     "7a6aa8017ab949ff92b8d4c87ec4fe0b": {
      "model_module": "@jupyter-widgets/controls",
      "model_module_version": "2.0.0",
      "model_name": "FloatProgressModel",
      "state": {
       "bar_style": "success",
       "layout": "IPY_MODEL_bbcd72acb4084cf69af7d0c2297aef0f",
       "max": 855,
       "style": "IPY_MODEL_23e2ca1fb4b54d59a69fd913f3b39ae4",
       "value": 855
      }
     },
     "7a96308cb1f1448aa7749d2487d4c444": {
      "model_module": "@jupyter-widgets/controls",
      "model_module_version": "2.0.0",
      "model_name": "HTMLStyleModel",
      "state": {
       "description_width": "",
       "font_size": null,
       "text_color": null
      }
     },
     "7af28cd424754584a0cb4ae20229033c": {
      "model_module": "@jupyter-widgets/controls",
      "model_module_version": "2.0.0",
      "model_name": "ProgressStyleModel",
      "state": {
       "description_width": ""
      }
     },
     "7d1848b8ac7247fa988469e58c324fd9": {
      "model_module": "@jupyter-widgets/base",
      "model_module_version": "2.0.0",
      "model_name": "LayoutModel",
      "state": {}
     },
     "7e6d1bc345f4439ead640a6bfae26f3d": {
      "model_module": "@jupyter-widgets/base",
      "model_module_version": "2.0.0",
      "model_name": "LayoutModel",
      "state": {}
     },
     "804dea75dbfe416dbac58474f3dd9a20": {
      "model_module": "@jupyter-widgets/controls",
      "model_module_version": "2.0.0",
      "model_name": "HBoxModel",
      "state": {
       "children": [
        "IPY_MODEL_67f27f6ac862470189a086a8be2b8ae3",
        "IPY_MODEL_a4b6b687148247329cba14eb95820a5b",
        "IPY_MODEL_521e4c5913a147068f8f9de7e264aaa4"
       ],
       "layout": "IPY_MODEL_93d444a0ef7140d0aca855e09623a966"
      }
     },
     "82abe7e8d10949e897f87fccaf33da86": {
      "model_module": "@jupyter-widgets/controls",
      "model_module_version": "2.0.0",
      "model_name": "HTMLModel",
      "state": {
       "layout": "IPY_MODEL_408d499c83bb4f46b114f13ea11a5241",
       "style": "IPY_MODEL_11533324ce0049a1bc8219d5cd17de48",
       "value": " 286/286 [00:00&lt;00:00, 75.1kB/s]"
      }
     },
     "83e4692bafaa44f5b0220f0cfef0a7f9": {
      "model_module": "@jupyter-widgets/base",
      "model_module_version": "2.0.0",
      "model_name": "LayoutModel",
      "state": {}
     },
     "84c5adf6e4d04de7b653bd1d7c0f8bd0": {
      "model_module": "@jupyter-widgets/base",
      "model_module_version": "2.0.0",
      "model_name": "LayoutModel",
      "state": {}
     },
     "854c03db618b40ccb6fa0690e66b0635": {
      "model_module": "@jupyter-widgets/controls",
      "model_module_version": "2.0.0",
      "model_name": "HTMLModel",
      "state": {
       "layout": "IPY_MODEL_dd69f430fe2344589e949079eecfbba3",
       "style": "IPY_MODEL_8da312d93bea40c5967bbd4eec1358d0",
       "value": " 9.10M/9.10M [00:01&lt;00:00, 7.79MB/s]"
      }
     },
     "88931e2344b04b27ac8ef3771b579080": {
      "model_module": "@jupyter-widgets/controls",
      "model_module_version": "2.0.0",
      "model_name": "ProgressStyleModel",
      "state": {
       "description_width": ""
      }
     },
     "89ba190b68534a3da4945428eec7009f": {
      "model_module": "@jupyter-widgets/controls",
      "model_module_version": "2.0.0",
      "model_name": "HBoxModel",
      "state": {
       "children": [
        "IPY_MODEL_171a5b2487f449428200895a2b856581",
        "IPY_MODEL_0e5621c7ed874400b9de83082fae637c",
        "IPY_MODEL_438479a9b39740dfba561710795f882a"
       ],
       "layout": "IPY_MODEL_3ae66c3030bb41718220b4ae01a5feee"
      }
     },
     "8a46804e49004b5a958a026b5044c116": {
      "model_module": "@jupyter-widgets/base",
      "model_module_version": "2.0.0",
      "model_name": "LayoutModel",
      "state": {}
     },
     "8b66e8e1a016424d88562118084aa16f": {
      "model_module": "@jupyter-widgets/base",
      "model_module_version": "2.0.0",
      "model_name": "LayoutModel",
      "state": {}
     },
     "8da312d93bea40c5967bbd4eec1358d0": {
      "model_module": "@jupyter-widgets/controls",
      "model_module_version": "2.0.0",
      "model_name": "HTMLStyleModel",
      "state": {
       "description_width": "",
       "font_size": null,
       "text_color": null
      }
     },
     "8ef93c99357f40e68c1d86230b7e8391": {
      "model_module": "@jupyter-widgets/controls",
      "model_module_version": "2.0.0",
      "model_name": "FloatProgressModel",
      "state": {
       "bar_style": "success",
       "layout": "IPY_MODEL_bdd7424800814eefa778e5adc3824317",
       "max": 705882,
       "style": "IPY_MODEL_30e3257f19e24633835b413d651995e8",
       "value": 705882
      }
     },
     "8f0024d6ed674ea7a93ac71325159870": {
      "model_module": "@jupyter-widgets/controls",
      "model_module_version": "2.0.0",
      "model_name": "HTMLStyleModel",
      "state": {
       "description_width": "",
       "font_size": null,
       "text_color": null
      }
     },
     "9233abaa2ddb4995a0dfa0a2a79f429a": {
      "model_module": "@jupyter-widgets/base",
      "model_module_version": "2.0.0",
      "model_name": "LayoutModel",
      "state": {}
     },
     "926109dae38e4aeabd8734bcc8db6397": {
      "model_module": "@jupyter-widgets/controls",
      "model_module_version": "2.0.0",
      "model_name": "FloatProgressModel",
      "state": {
       "bar_style": "success",
       "layout": "IPY_MODEL_d869f3692652470cba808d10d8c239e2",
       "max": 46775997,
       "style": "IPY_MODEL_9ba925ad91634208bf2123174a69be85",
       "value": 46775997
      }
     },
     "92a81dd920084dcf86be9fc4b561197a": {
      "model_module": "@jupyter-widgets/controls",
      "model_module_version": "2.0.0",
      "model_name": "HBoxModel",
      "state": {
       "children": [
        "IPY_MODEL_22e4b56fc0b345299bc07c691890f322",
        "IPY_MODEL_d1478e037def4cc49e6d2727148727da",
        "IPY_MODEL_20f25d7d87ca4c55b422ac25866494e1"
       ],
       "layout": "IPY_MODEL_47c8e4a5bfba4fbc9f970e883af5eead"
      }
     },
     "93d444a0ef7140d0aca855e09623a966": {
      "model_module": "@jupyter-widgets/base",
      "model_module_version": "2.0.0",
      "model_name": "LayoutModel",
      "state": {}
     },
     "9726b4fadd754f06b5ab9e9b3698c562": {
      "model_module": "@jupyter-widgets/controls",
      "model_module_version": "2.0.0",
      "model_name": "HTMLStyleModel",
      "state": {
       "description_width": "",
       "font_size": null,
       "text_color": null
      }
     },
     "9794016349d843dea646e08c91bf4bd8": {
      "model_module": "@jupyter-widgets/controls",
      "model_module_version": "2.0.0",
      "model_name": "ProgressStyleModel",
      "state": {
       "description_width": ""
      }
     },
     "99102e8297df4a5b8c09777a0f47c040": {
      "model_module": "@jupyter-widgets/controls",
      "model_module_version": "2.0.0",
      "model_name": "FloatProgressModel",
      "state": {
       "bar_style": "success",
       "layout": "IPY_MODEL_79658a95522342e185de5b7640088e87",
       "max": 280,
       "style": "IPY_MODEL_2a97081c8a2d4ce68ba29590f9fc5bd7",
       "value": 280
      }
     },
     "9b0f13d94c724649982cfe0c9336b803": {
      "model_module": "@jupyter-widgets/controls",
      "model_module_version": "2.0.0",
      "model_name": "HTMLStyleModel",
      "state": {
       "description_width": "",
       "font_size": null,
       "text_color": null
      }
     },
     "9ba925ad91634208bf2123174a69be85": {
      "model_module": "@jupyter-widgets/controls",
      "model_module_version": "2.0.0",
      "model_name": "ProgressStyleModel",
      "state": {
       "description_width": ""
      }
     },
     "9c8b4c09108c4ee286631d9ceab1e2be": {
      "model_module": "@jupyter-widgets/base",
      "model_module_version": "2.0.0",
      "model_name": "LayoutModel",
      "state": {}
     },
     "9d725ab99f104798b56bed820df3ad74": {
      "model_module": "@jupyter-widgets/base",
      "model_module_version": "2.0.0",
      "model_name": "LayoutModel",
      "state": {}
     },
     "9ddddda8ec964681b54a0b6886012377": {
      "model_module": "@jupyter-widgets/controls",
      "model_module_version": "2.0.0",
      "model_name": "FloatProgressModel",
      "state": {
       "bar_style": "success",
       "layout": "IPY_MODEL_e28bdb1475c9405a9a75fd5cd78b01c9",
       "max": 46761504,
       "style": "IPY_MODEL_f0569f089d66425b9114dd1afefb348f",
       "value": 46761504
      }
     },
     "9e3e5f51cd2a4bf0b00f6a2e36fe1b9a": {
      "model_module": "@jupyter-widgets/controls",
      "model_module_version": "2.0.0",
      "model_name": "HTMLModel",
      "state": {
       "layout": "IPY_MODEL_fb4546af76224f88bc00de081c1f2890",
       "style": "IPY_MODEL_dbd0c29d9ec94939bafaa3ac1cec5403",
       "value": " 706k/706k [00:00&lt;00:00, 1.99MB/s]"
      }
     },
     "9fce95b79d274903bffdfb375760f1c6": {
      "model_module": "@jupyter-widgets/controls",
      "model_module_version": "2.0.0",
      "model_name": "HTMLStyleModel",
      "state": {
       "description_width": "",
       "font_size": null,
       "text_color": null
      }
     },
     "9fea7faa1fa942fa80e13b9b1077e053": {
      "model_module": "@jupyter-widgets/base",
      "model_module_version": "2.0.0",
      "model_name": "LayoutModel",
      "state": {}
     },
     "a1425bad7a4240b0a855720357c434ae": {
      "model_module": "@jupyter-widgets/base",
      "model_module_version": "2.0.0",
      "model_name": "LayoutModel",
      "state": {}
     },
     "a27fc4cc8402468ba6d170729e71c83c": {
      "model_module": "@jupyter-widgets/controls",
      "model_module_version": "2.0.0",
      "model_name": "HTMLStyleModel",
      "state": {
       "description_width": "",
       "font_size": null,
       "text_color": null
      }
     },
     "a35deafcce644e46a5b3a3c16c7f7954": {
      "model_module": "@jupyter-widgets/base",
      "model_module_version": "2.0.0",
      "model_name": "LayoutModel",
      "state": {}
     },
     "a4b6b687148247329cba14eb95820a5b": {
      "model_module": "@jupyter-widgets/controls",
      "model_module_version": "2.0.0",
      "model_name": "FloatProgressModel",
      "state": {
       "bar_style": "success",
       "layout": "IPY_MODEL_0e5de58cc8934775bdcdc9fad4ee66f4",
       "max": 5069051,
       "style": "IPY_MODEL_4a6d28e86e3342469e47d7905af9efcd",
       "value": 5069051
      }
     },
     "a4f77aebf5154223901a0ff1fc3dc20a": {
      "model_module": "@jupyter-widgets/controls",
      "model_module_version": "2.0.0",
      "model_name": "HTMLModel",
      "state": {
       "layout": "IPY_MODEL_b3638ba61df9489ba44d9ef713d7d2c4",
       "style": "IPY_MODEL_24e2a275670d419b975e8a14b5a91cdc",
       "value": "tokenizer_config.json: 100%"
      }
     },
     "a565641aa1f34e119feecc68ad678a84": {
      "model_module": "@jupyter-widgets/controls",
      "model_module_version": "2.0.0",
      "model_name": "HTMLModel",
      "state": {
       "layout": "IPY_MODEL_b129f1268b8b40198315a4c6b76b2261",
       "style": "IPY_MODEL_26c31c29a44842ebaff29494f8d447bf",
       "value": " 280/280 [00:00&lt;00:00, 72.1kB/s]"
      }
     },
     "a6c70a2358d34cd5acdf929bc39ee3fd": {
      "model_module": "@jupyter-widgets/controls",
      "model_module_version": "2.0.0",
      "model_name": "HTMLStyleModel",
      "state": {
       "description_width": "",
       "font_size": null,
       "text_color": null
      }
     },
     "a7561950f37d49e58a7f6f63a8a49b05": {
      "model_module": "@jupyter-widgets/controls",
      "model_module_version": "2.0.0",
      "model_name": "HTMLModel",
      "state": {
       "layout": "IPY_MODEL_6a2d0c9d6ac14b768439026143ff48dd",
       "style": "IPY_MODEL_eca3c869e833401cba224c9d452f937b",
       "value": " 46.8M/46.8M [00:04&lt;00:00, 11.7MB/s]"
      }
     },
     "a7a77539507345bfae7a650df452f703": {
      "model_module": "@jupyter-widgets/controls",
      "model_module_version": "2.0.0",
      "model_name": "HTMLModel",
      "state": {
       "layout": "IPY_MODEL_a35deafcce644e46a5b3a3c16c7f7954",
       "style": "IPY_MODEL_aae10745307e409a85fede3e49073b24",
       "value": " 2.24G/2.24G [03:15&lt;00:00, 11.6MB/s]"
      }
     },
     "aae10745307e409a85fede3e49073b24": {
      "model_module": "@jupyter-widgets/controls",
      "model_module_version": "2.0.0",
      "model_name": "HTMLStyleModel",
      "state": {
       "description_width": "",
       "font_size": null,
       "text_color": null
      }
     },
     "ab2425c7dfe042499ead9e846033c81b": {
      "model_module": "@jupyter-widgets/controls",
      "model_module_version": "2.0.0",
      "model_name": "HBoxModel",
      "state": {
       "children": [
        "IPY_MODEL_3e6b9383f7b74ce8bc43f6575373aaaa",
        "IPY_MODEL_07810a0c68ed4fed9456e5d47fbcfe11",
        "IPY_MODEL_d4b2038595d445c78319b7a9c15cd999"
       ],
       "layout": "IPY_MODEL_53e70ce6d86544a890564c9cec714158"
      }
     },
     "ab3a5ddcb6ae47239a9601edbe28ed39": {
      "model_module": "@jupyter-widgets/controls",
      "model_module_version": "2.0.0",
      "model_name": "HBoxModel",
      "state": {
       "children": [
        "IPY_MODEL_4dd9bf6b3a1e4db8aca5072fc8ca7fcc",
        "IPY_MODEL_6ccd80d0e9324deeaa423a2021e972ad",
        "IPY_MODEL_b091eb397eb2465f96e8a35ba658a28f"
       ],
       "layout": "IPY_MODEL_e56451e7f7bc419d852fea210a10fb84"
      }
     },
     "ab77eee5617a4cac95d8d95dbff665b4": {
      "model_module": "@jupyter-widgets/controls",
      "model_module_version": "2.0.0",
      "model_name": "HTMLModel",
      "state": {
       "layout": "IPY_MODEL_1ce1e02e4a3f4817ae3ba1f2b99b9822",
       "style": "IPY_MODEL_2e72ceecb20941ef97ca11284e906995",
       "value": "spm.model: 100%"
      }
     },
     "ac14c406ce4c488fa1afcd948b898c37": {
      "model_module": "@jupyter-widgets/controls",
      "model_module_version": "2.0.0",
      "model_name": "HTMLModel",
      "state": {
       "layout": "IPY_MODEL_1fdebc2bd45d4e9c9de16c3489f5a4dc",
       "style": "IPY_MODEL_9fce95b79d274903bffdfb375760f1c6",
       "value": "model.safetensors: 100%"
      }
     },
     "ad224200bae54c6dae11291723e39feb": {
      "model_module": "@jupyter-widgets/controls",
      "model_module_version": "2.0.0",
      "model_name": "ProgressStyleModel",
      "state": {
       "description_width": ""
      }
     },
     "ad8da5988de94060bdfdad010e740806": {
      "model_module": "@jupyter-widgets/base",
      "model_module_version": "2.0.0",
      "model_name": "LayoutModel",
      "state": {}
     },
     "af0d0e43cb604b988480bb3771d24500": {
      "model_module": "@jupyter-widgets/base",
      "model_module_version": "2.0.0",
      "model_name": "LayoutModel",
      "state": {}
     },
     "af268820e1b6477cada3e85edf138dbd": {
      "model_module": "@jupyter-widgets/base",
      "model_module_version": "2.0.0",
      "model_name": "LayoutModel",
      "state": {}
     },
     "b091eb397eb2465f96e8a35ba658a28f": {
      "model_module": "@jupyter-widgets/controls",
      "model_module_version": "2.0.0",
      "model_name": "HTMLModel",
      "state": {
       "layout": "IPY_MODEL_1b68e0844c8848718766856e0b07093c",
       "style": "IPY_MODEL_4d9293c2ec7745b9b518aa42bc16b22c",
       "value": " 25.0/25.0 [00:00&lt;00:00, 6.69kB/s]"
      }
     },
     "b09584da32ca48d286d0a4e9d4e6df4e": {
      "model_module": "@jupyter-widgets/controls",
      "model_module_version": "2.0.0",
      "model_name": "HTMLStyleModel",
      "state": {
       "description_width": "",
       "font_size": null,
       "text_color": null
      }
     },
     "b09f8a4d36ba4c9f907284cb7dfe1c78": {
      "model_module": "@jupyter-widgets/controls",
      "model_module_version": "2.0.0",
      "model_name": "HTMLStyleModel",
      "state": {
       "description_width": "",
       "font_size": null,
       "text_color": null
      }
     },
     "b129f1268b8b40198315a4c6b76b2261": {
      "model_module": "@jupyter-widgets/base",
      "model_module_version": "2.0.0",
      "model_name": "LayoutModel",
      "state": {}
     },
     "b1409c31ad3e4d6aa12bcd81d999513d": {
      "model_module": "@jupyter-widgets/base",
      "model_module_version": "2.0.0",
      "model_name": "LayoutModel",
      "state": {}
     },
     "b35b9194f7ec4b37801104aa07cee6f8": {
      "model_module": "@jupyter-widgets/base",
      "model_module_version": "2.0.0",
      "model_name": "LayoutModel",
      "state": {}
     },
     "b3638ba61df9489ba44d9ef713d7d2c4": {
      "model_module": "@jupyter-widgets/base",
      "model_module_version": "2.0.0",
      "model_name": "LayoutModel",
      "state": {}
     },
     "b5ec19abf81c430b8724529568ef97f0": {
      "model_module": "@jupyter-widgets/controls",
      "model_module_version": "2.0.0",
      "model_name": "FloatProgressModel",
      "state": {
       "bar_style": "success",
       "layout": "IPY_MODEL_6c718aa683b540d0a1af06962392265d",
       "max": 377,
       "style": "IPY_MODEL_7af28cd424754584a0cb4ae20229033c",
       "value": 377
      }
     },
     "b5fdd31832f34096bd6510722164eb1d": {
      "model_module": "@jupyter-widgets/base",
      "model_module_version": "2.0.0",
      "model_name": "LayoutModel",
      "state": {}
     },
     "b941fc931b314822b87bcfd57a525a70": {
      "model_module": "@jupyter-widgets/controls",
      "model_module_version": "2.0.0",
      "model_name": "HTMLStyleModel",
      "state": {
       "description_width": "",
       "font_size": null,
       "text_color": null
      }
     },
     "ba00dd4220424ef98db9cdbabfaf5fd6": {
      "model_module": "@jupyter-widgets/base",
      "model_module_version": "2.0.0",
      "model_name": "LayoutModel",
      "state": {}
     },
     "bbcd72acb4084cf69af7d0c2297aef0f": {
      "model_module": "@jupyter-widgets/base",
      "model_module_version": "2.0.0",
      "model_name": "LayoutModel",
      "state": {}
     },
     "bd179b45b36d4aa4971e70162faad3bb": {
      "model_module": "@jupyter-widgets/base",
      "model_module_version": "2.0.0",
      "model_name": "LayoutModel",
      "state": {}
     },
     "bd6f4e61398e4873826caae295499936": {
      "model_module": "@jupyter-widgets/controls",
      "model_module_version": "2.0.0",
      "model_name": "HTMLStyleModel",
      "state": {
       "description_width": "",
       "font_size": null,
       "text_color": null
      }
     },
     "bdd5953084784147b56e7af2c5f620d2": {
      "model_module": "@jupyter-widgets/controls",
      "model_module_version": "2.0.0",
      "model_name": "HTMLStyleModel",
      "state": {
       "description_width": "",
       "font_size": null,
       "text_color": null
      }
     },
     "bdd7424800814eefa778e5adc3824317": {
      "model_module": "@jupyter-widgets/base",
      "model_module_version": "2.0.0",
      "model_name": "LayoutModel",
      "state": {}
     },
     "be8f287b1a614870bc7464fa0af824cb": {
      "model_module": "@jupyter-widgets/controls",
      "model_module_version": "2.0.0",
      "model_name": "HBoxModel",
      "state": {
       "children": [
        "IPY_MODEL_c4696cb8816d4ba0a1dea4fbc878dd63",
        "IPY_MODEL_7a6aa8017ab949ff92b8d4c87ec4fe0b",
        "IPY_MODEL_4bf22a0b4ee640d692f79bc6ac745ac5"
       ],
       "layout": "IPY_MODEL_3e29973db0aa4b8db18711ef259056a9"
      }
     },
     "c01a7dd956ee423f8c2692cf6b7b12ea": {
      "model_module": "@jupyter-widgets/controls",
      "model_module_version": "2.0.0",
      "model_name": "ProgressStyleModel",
      "state": {
       "description_width": ""
      }
     },
     "c1b0401bd0fd4ae7a397bb4f1ae76a57": {
      "model_module": "@jupyter-widgets/controls",
      "model_module_version": "2.0.0",
      "model_name": "FloatProgressModel",
      "state": {
       "bar_style": "success",
       "layout": "IPY_MODEL_e075affca3bd4cea8b9892fb9ced22c8",
       "max": 9096718,
       "style": "IPY_MODEL_cd634e863eb84207b01200dd64a9c458",
       "value": 9096718
      }
     },
     "c4696cb8816d4ba0a1dea4fbc878dd63": {
      "model_module": "@jupyter-widgets/controls",
      "model_module_version": "2.0.0",
      "model_name": "HTMLModel",
      "state": {
       "layout": "IPY_MODEL_19dd2de6e75d40829519daf0b11a7b7d",
       "style": "IPY_MODEL_ef5d602c161e4328a4f130c20cbf627a",
       "value": "config.json: 100%"
      }
     },
     "c69483f641074cc1ae0e15f848e48de8": {
      "model_module": "@jupyter-widgets/base",
      "model_module_version": "2.0.0",
      "model_name": "LayoutModel",
      "state": {}
     },
     "c8d82d09947743749b5e0a1b1ac56829": {
      "model_module": "@jupyter-widgets/base",
      "model_module_version": "2.0.0",
      "model_name": "LayoutModel",
      "state": {}
     },
     "cb987bc61cd544858bca5cc8854b88dd": {
      "model_module": "@jupyter-widgets/controls",
      "model_module_version": "2.0.0",
      "model_name": "HTMLModel",
      "state": {
       "layout": "IPY_MODEL_ba00dd4220424ef98db9cdbabfaf5fd6",
       "style": "IPY_MODEL_f871a7023fbc4a1ba2b523f9807c5873",
       "value": " 4.31M/4.31M [00:00&lt;00:00, 11.6MB/s]"
      }
     },
     "cd634e863eb84207b01200dd64a9c458": {
      "model_module": "@jupyter-widgets/controls",
      "model_module_version": "2.0.0",
      "model_name": "ProgressStyleModel",
      "state": {
       "description_width": ""
      }
     },
     "cd99910c543d4ed7afbf1dd9d6ea99a7": {
      "model_module": "@jupyter-widgets/controls",
      "model_module_version": "2.0.0",
      "model_name": "HTMLStyleModel",
      "state": {
       "description_width": "",
       "font_size": null,
       "text_color": null
      }
     },
     "d1478e037def4cc49e6d2727148727da": {
      "model_module": "@jupyter-widgets/controls",
      "model_module_version": "2.0.0",
      "model_name": "FloatProgressModel",
      "state": {
       "bar_style": "success",
       "layout": "IPY_MODEL_06be2c2ae72c49fb8cdd8bbe11626af4",
       "max": 1066,
       "style": "IPY_MODEL_c01a7dd956ee423f8c2692cf6b7b12ea",
       "value": 1066
      }
     },
     "d19514838bc2448c99f907b73b510a8e": {
      "model_module": "@jupyter-widgets/controls",
      "model_module_version": "2.0.0",
      "model_name": "HTMLModel",
      "state": {
       "layout": "IPY_MODEL_647b9bb536ed4d22ad8211fec5be2d32",
       "style": "IPY_MODEL_bd6f4e61398e4873826caae295499936",
       "value": "tokenizer.json: 100%"
      }
     },
     "d4a81d7c2fb34564bd7b0f84580ab44e": {
      "model_module": "@jupyter-widgets/controls",
      "model_module_version": "2.0.0",
      "model_name": "ProgressStyleModel",
      "state": {
       "description_width": ""
      }
     },
     "d4b2038595d445c78319b7a9c15cd999": {
      "model_module": "@jupyter-widgets/controls",
      "model_module_version": "2.0.0",
      "model_name": "HTMLModel",
      "state": {
       "layout": "IPY_MODEL_45ed4b9bf76a4978a388515f640a7e22",
       "style": "IPY_MODEL_b09f8a4d36ba4c9f907284cb7dfe1c78",
       "value": " 1.26k/1.26k [00:00&lt;00:00, 240kB/s]"
      }
     },
     "d5ecaf450d354ba8bd36286f65c7659d": {
      "model_module": "@jupyter-widgets/controls",
      "model_module_version": "2.0.0",
      "model_name": "HTMLStyleModel",
      "state": {
       "description_width": "",
       "font_size": null,
       "text_color": null
      }
     },
     "d773dfac7777451ab0408ec1f9e93e9d": {
      "model_module": "@jupyter-widgets/controls",
      "model_module_version": "2.0.0",
      "model_name": "HBoxModel",
      "state": {
       "children": [
        "IPY_MODEL_2fd9c5a89ea147b99b0246e611e5c860",
        "IPY_MODEL_99102e8297df4a5b8c09777a0f47c040",
        "IPY_MODEL_a565641aa1f34e119feecc68ad678a84"
       ],
       "layout": "IPY_MODEL_ea182e5a2faf4df3a9419ec89a0326ac"
      }
     },
     "d7e760dfd2e44885b1f54023aa96c51f": {
      "model_module": "@jupyter-widgets/base",
      "model_module_version": "2.0.0",
      "model_name": "LayoutModel",
      "state": {}
     },
     "d869f3692652470cba808d10d8c239e2": {
      "model_module": "@jupyter-widgets/base",
      "model_module_version": "2.0.0",
      "model_name": "LayoutModel",
      "state": {}
     },
     "d8703a723ab949ceb8900bd1a94b66a2": {
      "model_module": "@jupyter-widgets/base",
      "model_module_version": "2.0.0",
      "model_name": "LayoutModel",
      "state": {}
     },
     "d92afa58a1b641e9b5e65a0f70760e57": {
      "model_module": "@jupyter-widgets/base",
      "model_module_version": "2.0.0",
      "model_name": "LayoutModel",
      "state": {}
     },
     "da573562c76c4c0ebf095a6403c3da13": {
      "model_module": "@jupyter-widgets/controls",
      "model_module_version": "2.0.0",
      "model_name": "HTMLStyleModel",
      "state": {
       "description_width": "",
       "font_size": null,
       "text_color": null
      }
     },
     "db3ed1c622eb4b83aae60cb6e4c21aee": {
      "model_module": "@jupyter-widgets/controls",
      "model_module_version": "2.0.0",
      "model_name": "FloatProgressModel",
      "state": {
       "bar_style": "success",
       "layout": "IPY_MODEL_697e16bd086f433d9e2d47dcb71de2eb",
       "max": 16331396,
       "style": "IPY_MODEL_17813fbebf3140f3a7263de85982ec7b",
       "value": 16331396
      }
     },
     "dbd0c29d9ec94939bafaa3ac1cec5403": {
      "model_module": "@jupyter-widgets/controls",
      "model_module_version": "2.0.0",
      "model_name": "HTMLStyleModel",
      "state": {
       "description_width": "",
       "font_size": null,
       "text_color": null
      }
     },
     "dc22dd41b9d04204b8fb546dc9c31c44": {
      "model_module": "@jupyter-widgets/base",
      "model_module_version": "2.0.0",
      "model_name": "LayoutModel",
      "state": {}
     },
     "dd69f430fe2344589e949079eecfbba3": {
      "model_module": "@jupyter-widgets/base",
      "model_module_version": "2.0.0",
      "model_name": "LayoutModel",
      "state": {}
     },
     "dda2fd7feeb346cca464ad0e8e8175c9": {
      "model_module": "@jupyter-widgets/controls",
      "model_module_version": "2.0.0",
      "model_name": "FloatProgressModel",
      "state": {
       "bar_style": "success",
       "layout": "IPY_MODEL_b35b9194f7ec4b37801104aa07cee6f8",
       "max": 557652046,
       "style": "IPY_MODEL_65b335376b6a4bf4b9baabd8b8fc7c32",
       "value": 557652046
      }
     },
     "de048d274499475990ceec3032a60b07": {
      "model_module": "@jupyter-widgets/controls",
      "model_module_version": "2.0.0",
      "model_name": "HTMLModel",
      "state": {
       "layout": "IPY_MODEL_ec82f95130fc4d59b34ceaa730ec1b54",
       "style": "IPY_MODEL_3320d2cb30fc43b2807c4722e8e21ae1",
       "value": " 558M/558M [00:48&lt;00:00, 11.2MB/s]"
      }
     },
     "de8191a4b48f4719865c0b56632aec0a": {
      "model_module": "@jupyter-widgets/controls",
      "model_module_version": "2.0.0",
      "model_name": "ProgressStyleModel",
      "state": {
       "description_width": ""
      }
     },
     "df087df6435f4cf7afc278d8f41f52e3": {
      "model_module": "@jupyter-widgets/controls",
      "model_module_version": "2.0.0",
      "model_name": "HBoxModel",
      "state": {
       "children": [
        "IPY_MODEL_a4f77aebf5154223901a0ff1fc3dc20a",
        "IPY_MODEL_b5ec19abf81c430b8724529568ef97f0",
        "IPY_MODEL_6d8c53eded5843259c55b62d7ee0ecce"
       ],
       "layout": "IPY_MODEL_b5fdd31832f34096bd6510722164eb1d"
      }
     },
     "e075affca3bd4cea8b9892fb9ced22c8": {
      "model_module": "@jupyter-widgets/base",
      "model_module_version": "2.0.0",
      "model_name": "LayoutModel",
      "state": {}
     },
     "e24aa8929cdc4df6b739f6f462812e7f": {
      "model_module": "@jupyter-widgets/controls",
      "model_module_version": "2.0.0",
      "model_name": "FloatProgressModel",
      "state": {
       "bar_style": "success",
       "layout": "IPY_MODEL_7e6d1bc345f4439ead640a6bfae26f3d",
       "max": 112,
       "style": "IPY_MODEL_6b1eac5f18cf4e5bb3fab7eb1ad542d8",
       "value": 112
      }
     },
     "e28bdb1475c9405a9a75fd5cd78b01c9": {
      "model_module": "@jupyter-widgets/base",
      "model_module_version": "2.0.0",
      "model_name": "LayoutModel",
      "state": {}
     },
     "e30cd2d6dfb944849d4d08a5dc0da129": {
      "model_module": "@jupyter-widgets/base",
      "model_module_version": "2.0.0",
      "model_name": "LayoutModel",
      "state": {}
     },
     "e407136d11ec43c4961a257f999f1bfc": {
      "model_module": "@jupyter-widgets/controls",
      "model_module_version": "2.0.0",
      "model_name": "HTMLStyleModel",
      "state": {
       "description_width": "",
       "font_size": null,
       "text_color": null
      }
     },
     "e54b6ae51da742ea8b95293aedffdd6d": {
      "model_module": "@jupyter-widgets/base",
      "model_module_version": "2.0.0",
      "model_name": "LayoutModel",
      "state": {}
     },
     "e56451e7f7bc419d852fea210a10fb84": {
      "model_module": "@jupyter-widgets/base",
      "model_module_version": "2.0.0",
      "model_name": "LayoutModel",
      "state": {}
     },
     "e765b7be62ac4aa09ceeb4d4729b4747": {
      "model_module": "@jupyter-widgets/controls",
      "model_module_version": "2.0.0",
      "model_name": "HBoxModel",
      "state": {
       "children": [
        "IPY_MODEL_2ff900e9550048a083f196e190f59ffa",
        "IPY_MODEL_9ddddda8ec964681b54a0b6886012377",
        "IPY_MODEL_a7561950f37d49e58a7f6f63a8a49b05"
       ],
       "layout": "IPY_MODEL_650ca56d3deb4860955dbd881b10ddd9"
      }
     },
     "ea182e5a2faf4df3a9419ec89a0326ac": {
      "model_module": "@jupyter-widgets/base",
      "model_module_version": "2.0.0",
      "model_name": "LayoutModel",
      "state": {}
     },
     "ebddf3490f104b06830ea3f3facc6d19": {
      "model_module": "@jupyter-widgets/controls",
      "model_module_version": "2.0.0",
      "model_name": "FloatProgressModel",
      "state": {
       "bar_style": "success",
       "layout": "IPY_MODEL_f4a9ed9be798471a8f156ee2b0d57279",
       "max": 23,
       "style": "IPY_MODEL_467724a9250549a3acac596f2d720819",
       "value": 23
      }
     },
     "ec82f95130fc4d59b34ceaa730ec1b54": {
      "model_module": "@jupyter-widgets/base",
      "model_module_version": "2.0.0",
      "model_name": "LayoutModel",
      "state": {}
     },
     "eca3c869e833401cba224c9d452f937b": {
      "model_module": "@jupyter-widgets/controls",
      "model_module_version": "2.0.0",
      "model_name": "HTMLStyleModel",
      "state": {
       "description_width": "",
       "font_size": null,
       "text_color": null
      }
     },
     "ecda9083e7c9437d95bb3ed0bead7afa": {
      "model_module": "@jupyter-widgets/base",
      "model_module_version": "2.0.0",
      "model_name": "LayoutModel",
      "state": {}
     },
     "ed4f79f13ec246c2b05626baa6b20781": {
      "model_module": "@jupyter-widgets/base",
      "model_module_version": "2.0.0",
      "model_name": "LayoutModel",
      "state": {}
     },
     "ed6ce5597b4a4516a186aa0838ae9e8e": {
      "model_module": "@jupyter-widgets/controls",
      "model_module_version": "2.0.0",
      "model_name": "HBoxModel",
      "state": {
       "children": [
        "IPY_MODEL_46bb644b4fe04dfc81aa31b66b5d5c74",
        "IPY_MODEL_e24aa8929cdc4df6b739f6f462812e7f",
        "IPY_MODEL_241478ec18894e1cb6bc4b8c3493474a"
       ],
       "layout": "IPY_MODEL_1734d52932944865ac216348afe279cd"
      }
     },
     "edc8ffc9763447f2b043a6df94fad291": {
      "model_module": "@jupyter-widgets/base",
      "model_module_version": "2.0.0",
      "model_name": "LayoutModel",
      "state": {}
     },
     "ef2d29cecae44c4ab4f68396fa3ce08a": {
      "model_module": "@jupyter-widgets/controls",
      "model_module_version": "2.0.0",
      "model_name": "HBoxModel",
      "state": {
       "children": [
        "IPY_MODEL_75901404d08e447690247c1bfc2703f5",
        "IPY_MODEL_dda2fd7feeb346cca464ad0e8e8175c9",
        "IPY_MODEL_de048d274499475990ceec3032a60b07"
       ],
       "layout": "IPY_MODEL_086e15a54a5b48d0b0331a43a9c51f35"
      }
     },
     "ef5d602c161e4328a4f130c20cbf627a": {
      "model_module": "@jupyter-widgets/controls",
      "model_module_version": "2.0.0",
      "model_name": "HTMLStyleModel",
      "state": {
       "description_width": "",
       "font_size": null,
       "text_color": null
      }
     },
     "f0569f089d66425b9114dd1afefb348f": {
      "model_module": "@jupyter-widgets/controls",
      "model_module_version": "2.0.0",
      "model_name": "ProgressStyleModel",
      "state": {
       "description_width": ""
      }
     },
     "f221d7164e684592a1e930d4b4377714": {
      "model_module": "@jupyter-widgets/base",
      "model_module_version": "2.0.0",
      "model_name": "LayoutModel",
      "state": {}
     },
     "f27297dbd63e4686b57acc5337b73f6f": {
      "model_module": "@jupyter-widgets/base",
      "model_module_version": "2.0.0",
      "model_name": "LayoutModel",
      "state": {}
     },
     "f29f96ccb1934fd0a7043e12b38e0676": {
      "model_module": "@jupyter-widgets/controls",
      "model_module_version": "2.0.0",
      "model_name": "HBoxModel",
      "state": {
       "children": [
        "IPY_MODEL_3a8ffda4a97946f9a25288aa83e89c6c",
        "IPY_MODEL_15acff6779a54ee891843fbf400e3353",
        "IPY_MODEL_82abe7e8d10949e897f87fccaf33da86"
       ],
       "layout": "IPY_MODEL_70272abd08e34cbba9601b6aeed97b17"
      }
     },
     "f4a9ed9be798471a8f156ee2b0d57279": {
      "model_module": "@jupyter-widgets/base",
      "model_module_version": "2.0.0",
      "model_name": "LayoutModel",
      "state": {}
     },
     "f5292eaa49544f279a2ffb1d049696d3": {
      "model_module": "@jupyter-widgets/base",
      "model_module_version": "2.0.0",
      "model_name": "LayoutModel",
      "state": {}
     },
     "f605438c0a184e07ad5a8ec43034571a": {
      "model_module": "@jupyter-widgets/controls",
      "model_module_version": "2.0.0",
      "model_name": "HTMLStyleModel",
      "state": {
       "description_width": "",
       "font_size": null,
       "text_color": null
      }
     },
     "f67ab976b49346c68b6d3d23695c67dc": {
      "model_module": "@jupyter-widgets/controls",
      "model_module_version": "2.0.0",
      "model_name": "HTMLStyleModel",
      "state": {
       "description_width": "",
       "font_size": null,
       "text_color": null
      }
     },
     "f871a7023fbc4a1ba2b523f9807c5873": {
      "model_module": "@jupyter-widgets/controls",
      "model_module_version": "2.0.0",
      "model_name": "HTMLStyleModel",
      "state": {
       "description_width": "",
       "font_size": null,
       "text_color": null
      }
     },
     "fa8f66f8841c425496b10ad4466930c0": {
      "model_module": "@jupyter-widgets/controls",
      "model_module_version": "2.0.0",
      "model_name": "ProgressStyleModel",
      "state": {
       "description_width": ""
      }
     },
     "fb411a5df5b944078aba5d0835d10f30": {
      "model_module": "@jupyter-widgets/controls",
      "model_module_version": "2.0.0",
      "model_name": "HTMLStyleModel",
      "state": {
       "description_width": "",
       "font_size": null,
       "text_color": null
      }
     },
     "fb4546af76224f88bc00de081c1f2890": {
      "model_module": "@jupyter-widgets/base",
      "model_module_version": "2.0.0",
      "model_name": "LayoutModel",
      "state": {}
     },
     "fd4e9b83a61144dcb24af13c62aadf3f": {
      "model_module": "@jupyter-widgets/base",
      "model_module_version": "2.0.0",
      "model_name": "LayoutModel",
      "state": {}
     },
     "fd7d478de5264bd8b1567ba1dd17bb31": {
      "model_module": "@jupyter-widgets/controls",
      "model_module_version": "2.0.0",
      "model_name": "HTMLStyleModel",
      "state": {
       "description_width": "",
       "font_size": null,
       "text_color": null
      }
     }
    },
    "version_major": 2,
    "version_minor": 0
   }
  }
 },
 "nbformat": 4,
 "nbformat_minor": 5
}
